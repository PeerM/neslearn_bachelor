{
 "cells": [
  {
   "cell_type": "code",
   "execution_count": 1,
   "metadata": {
    "collapsed": true
   },
   "outputs": [],
   "source": [
    "import sys\n",
    "sys.path.append( \"/home/peer/PycharmProjects/neslearng\")"
   ]
  },
  {
   "cell_type": "code",
   "execution_count": null,
   "metadata": {
    "collapsed": false
   },
   "outputs": [],
   "source": [
    "!pwd"
   ]
  },
  {
   "cell_type": "code",
   "execution_count": 2,
   "metadata": {
    "collapsed": false
   },
   "outputs": [],
   "source": [
    "import pandas\n",
    "from hsa.ba.analyse_ram import ram_from_movie\n",
    "# from hsa.ba.rewards import time_left, make_delta_potential\n",
    "import hsa.ba.rewards as rewards\n",
    "import importlib"
   ]
  },
  {
   "cell_type": "code",
   "execution_count": 37,
   "metadata": {
    "collapsed": false
   },
   "outputs": [
    {
     "data": {
      "text/plain": [
       "<module 'hsa.ba.rewards' from '/home/peer/PycharmProjects/neslearng/hsa/ba/rewards.py'>"
      ]
     },
     "execution_count": 37,
     "metadata": {},
     "output_type": "execute_result"
    }
   ],
   "source": [
    "importlib.reload(rewards)"
   ]
  },
  {
   "cell_type": "code",
   "execution_count": 3,
   "metadata": {
    "collapsed": true
   },
   "outputs": [],
   "source": [
    "%matplotlib notebook"
   ]
  },
  {
   "cell_type": "code",
   "execution_count": 4,
   "metadata": {
    "collapsed": false
   },
   "outputs": [],
   "source": [
    "without_shortcut = pandas.DataFrame.from_records(ram_from_movie(\"../../movies/5_1-1_without-shortcut.fm2\"))"
   ]
  },
  {
   "cell_type": "code",
   "execution_count": 5,
   "metadata": {
    "collapsed": false
   },
   "outputs": [],
   "source": [
    "with_shortcut = pandas.DataFrame.from_records(ram_from_movie(\"../../movies/6_1-1_with_shortcut.fm2\"))"
   ]
  },
  {
   "cell_type": "code",
   "execution_count": null,
   "metadata": {
    "collapsed": false
   },
   "outputs": [],
   "source": [
    "without_shortcut[0x071A].plot()"
   ]
  },
  {
   "cell_type": "code",
   "execution_count": null,
   "metadata": {
    "collapsed": false
   },
   "outputs": [],
   "source": [
    "with_shortcut[0x071A].plot()"
   ]
  },
  {
   "cell_type": "code",
   "execution_count": null,
   "metadata": {
    "collapsed": true
   },
   "outputs": [],
   "source": [
    "def dedup(arraylike):\n",
    "    last = None\n",
    "    for current in arraylike:\n",
    "        if last != current:\n",
    "            yield current\n",
    "        last = current"
   ]
  },
  {
   "cell_type": "code",
   "execution_count": null,
   "metadata": {
    "collapsed": false
   },
   "outputs": [],
   "source": [
    "list(dedup(with_shortcut[0x071B]))"
   ]
  },
  {
   "cell_type": "code",
   "execution_count": null,
   "metadata": {
    "collapsed": false
   },
   "outputs": [],
   "source": [
    "list(zip(dedup(with_shortcut[0x071A]),dedup(with_shortcut[0x071B])))"
   ]
  },
  {
   "cell_type": "code",
   "execution_count": null,
   "metadata": {
    "collapsed": false
   },
   "outputs": [],
   "source": [
    "list(dedup(without_shortcut[0x071A]))"
   ]
  },
  {
   "cell_type": "code",
   "execution_count": null,
   "metadata": {
    "collapsed": false
   },
   "outputs": [],
   "source": [
    "list(zip(dedup(without_shortcut[0x071A]),dedup(without_shortcut[0x071B])))"
   ]
  },
  {
   "cell_type": "code",
   "execution_count": null,
   "metadata": {
    "collapsed": true
   },
   "outputs": [],
   "source": [
    ""
   ]
  },
  {
   "cell_type": "markdown",
   "metadata": {},
   "source": [
    "0x03AD \tPlayer x pos within current screen offset"
   ]
  },
  {
   "cell_type": "code",
   "execution_count": null,
   "metadata": {
    "collapsed": false
   },
   "outputs": [],
   "source": [
    "without_shortcut[0x03AD].plot()\n",
    "with_shortcut[0x03AD].plot()"
   ]
  },
  {
   "cell_type": "markdown",
   "metadata": {},
   "source": [
    "0x006D \tPlayer horizontal position in level"
   ]
  },
  {
   "cell_type": "code",
   "execution_count": null,
   "metadata": {
    "collapsed": false,
    "scrolled": true
   },
   "outputs": [],
   "source": [
    "without_shortcut[0x006D].plot()\n",
    "with_shortcut[0x006D].plot()"
   ]
  },
  {
   "cell_type": "markdown",
   "metadata": {},
   "source": [
    "0x0750 \tArea loaded"
   ]
  },
  {
   "cell_type": "code",
   "execution_count": null,
   "metadata": {
    "collapsed": false,
    "scrolled": true
   },
   "outputs": [],
   "source": [
    "without_shortcut[0x0750].plot()\n",
    "with_shortcut[0x0750].plot()"
   ]
  },
  {
   "cell_type": "code",
   "execution_count": null,
   "metadata": {
    "collapsed": false,
    "scrolled": true
   },
   "outputs": [],
   "source": [
    "without_shortcut[0x0750].plot()\n",
    "without_shortcut[0x071A].plot()"
   ]
  },
  {
   "cell_type": "code",
   "execution_count": null,
   "metadata": {
    "collapsed": false,
    "scrolled": true
   },
   "outputs": [],
   "source": [
    "with_shortcut[0x0750].plot()\n",
    "with_shortcut[0x071A].plot()"
   ]
  },
  {
   "cell_type": "code",
   "execution_count": null,
   "metadata": {
    "collapsed": true
   },
   "outputs": [],
   "source": [
    "with_shortcut.apply(time_left)"
   ]
  },
  {
   "cell_type": "code",
   "execution_count": null,
   "metadata": {
    "collapsed": false,
    "scrolled": true
   },
   "outputs": [],
   "source": [
    "with_shortcut[0x07F8].plot()\n",
    "with_shortcut[0x07F9].plot()\n",
    "with_shortcut[0x07FA].plot()"
   ]
  },
  {
   "cell_type": "markdown",
   "metadata": {},
   "source": [
    "0713 - Used during flag contact"
   ]
  },
  {
   "cell_type": "code",
   "execution_count": null,
   "metadata": {
    "collapsed": false,
    "scrolled": true
   },
   "outputs": [],
   "source": [
    "with_shortcut[0x0713].plot()"
   ]
  },
  {
   "cell_type": "code",
   "execution_count": null,
   "metadata": {
    "collapsed": false
   },
   "outputs": [],
   "source": [
    "with_shortcut[0x0713].nlargest(10)"
   ]
  },
  {
   "cell_type": "markdown",
   "metadata": {},
   "source": [
    "06A0 - Screen Memory Offset"
   ]
  },
  {
   "cell_type": "code",
   "execution_count": null,
   "metadata": {
    "collapsed": true
   },
   "outputs": [],
   "source": [
    "without_shortcut[0x06A0].plot()\n",
    "with_shortcut[0x06A0].plot()"
   ]
  },
  {
   "cell_type": "markdown",
   "metadata": {},
   "source": [
    "0x0773 \tLevel palette "
   ]
  },
  {
   "cell_type": "code",
   "execution_count": null,
   "metadata": {
    "collapsed": false
   },
   "outputs": [],
   "source": [
    "with_shortcut[0x0773].plot()"
   ]
  },
  {
   "cell_type": "markdown",
   "metadata": {},
   "source": [
    "0x000E \tPlayer's state \n",
    "- 0x00 - Leftmost of screen\n",
    "- 0x01 - Climbing vine\n",
    "- 0x02 - Entering reversed-L pipe\n",
    "- 0x03 - Going down a pipe\n",
    "- 0x04 - Autowalk\n",
    "- 0x05 - Autowalk\n",
    "- 0x06 - Player dies\n",
    "- 0x07 - Entering area\n",
    "- 0x08 - Normal\n",
    "- 0x09 - Cannot move\n",
    "- 0x0B - Dying\n",
    "- 0x0C - Palette cycling, can't move"
   ]
  },
  {
   "cell_type": "code",
   "execution_count": null,
   "metadata": {
    "collapsed": false
   },
   "outputs": [],
   "source": [
    "with_shortcut[0x071A].plot()\n",
    "with_shortcut[0x000E].plot()"
   ]
  },
  {
   "cell_type": "markdown",
   "metadata": {},
   "source": [
    "### using player state current screen "
   ]
  },
  {
   "cell_type": "code",
   "execution_count": null,
   "metadata": {
    "collapsed": false
   },
   "outputs": [],
   "source": [
    "delta_potential = rewards.make_delta_potential()\n",
    "without_potential_deltas= [delta_potential(row[1]) for row in without_shortcut.iterrows()]\n",
    "pandas.Series(without_potential_deltas).plot()"
   ]
  },
  {
   "cell_type": "code",
   "execution_count": null,
   "metadata": {
    "collapsed": false
   },
   "outputs": [],
   "source": [
    "sum(without_potential_deltas)"
   ]
  },
  {
   "cell_type": "code",
   "execution_count": 15,
   "metadata": {
    "collapsed": false
   },
   "outputs": [],
   "source": [
    "delta_potential = rewards.make_delta_potential()\n",
    "with_potential_deltas= [delta_potential(row[1]) for row in with_shortcut.iterrows()]"
   ]
  },
  {
   "cell_type": "code",
   "execution_count": 8,
   "metadata": {
    "collapsed": false
   },
   "outputs": [
    {
     "data": {
      "text/plain": [
       "<IPython.core.display.Javascript object>"
      ]
     },
     "metadata": {},
     "output_type": "display_data"
    },
    {
     "data": {
      "text/html": [
       "<img src=\"data:image/png;base64,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\">"
      ],
      "text/plain": [
       "<IPython.core.display.HTML object>"
      ]
     },
     "metadata": {},
     "output_type": "execute_result"
    },
    {
     "data": {
      "text/plain": [
       "<matplotlib.axes._subplots.AxesSubplot at 0x7fdff0ef4be0>"
      ]
     },
     "execution_count": 8,
     "metadata": {},
     "output_type": "execute_result"
    }
   ],
   "source": [
    "pandas.Series(with_potential_deltas).plot()"
   ]
  },
  {
   "cell_type": "code",
   "execution_count": 9,
   "metadata": {
    "collapsed": true
   },
   "outputs": [
    {
     "data": {
      "text/plain": [
       "<IPython.core.display.Javascript object>"
      ]
     },
     "metadata": {},
     "output_type": "display_data"
    },
    {
     "data": {
      "text/html": [
       "<img src=\"data:image/png;base64,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\">"
      ],
      "text/plain": [
       "<IPython.core.display.HTML object>"
      ]
     },
     "metadata": {},
     "output_type": "execute_result"
    },
    {
     "data": {
      "text/plain": [
       "<matplotlib.axes._subplots.AxesSubplot at 0x7fdff3170780>"
      ]
     },
     "execution_count": 9,
     "metadata": {},
     "output_type": "execute_result"
    }
   ],
   "source": [
    "pandas.Series(with_potential_deltas).plot(color = \"blue\")\n",
    "# screen green\n",
    "with_shortcut[0x071A].plot(color=\"green\")\n",
    "# state red\n",
    "with_shortcut[0x000E].plot(color=\"red\")"
   ]
  },
  {
   "cell_type": "code",
   "execution_count": 7,
   "metadata": {
    "collapsed": false
   },
   "outputs": [
    {
     "data": {
      "text/plain": [
       "12"
      ]
     },
     "execution_count": 7,
     "metadata": {},
     "output_type": "execute_result"
    }
   ],
   "source": [
    "sum(with_potential_deltas)"
   ]
  },
  {
   "cell_type": "code",
   "execution_count": 38,
   "metadata": {
    "collapsed": false
   },
   "outputs": [],
   "source": [
    "def calc_potential(df):\n",
    "    with_potential = []\n",
    "    residual=\"inital\"\n",
    "    for row in df.iterrows():\n",
    "        value, residual = rewards.potential(row[1],residual)\n",
    "        with_potential.append(value)\n",
    "    return with_potential\n",
    "with_potential = calc_potential(with_shortcut)"
   ]
  },
  {
   "cell_type": "code",
   "execution_count": 32,
   "metadata": {
    "collapsed": false
   },
   "outputs": [
    {
     "data": {
      "text/plain": [
       "[0, 0, 0, 0, 0]"
      ]
     },
     "execution_count": 32,
     "metadata": {},
     "output_type": "execute_result"
    }
   ],
   "source": [
    "with_potential[:5]"
   ]
  },
  {
   "cell_type": "code",
   "execution_count": 39,
   "metadata": {
    "collapsed": false
   },
   "outputs": [
    {
     "data": {
      "text/plain": [
       "<IPython.core.display.Javascript object>"
      ]
     },
     "metadata": {},
     "output_type": "display_data"
    },
    {
     "data": {
      "text/html": [
       "<img src=\"data:image/png;base64,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\">"
      ],
      "text/plain": [
       "<IPython.core.display.HTML object>"
      ]
     },
     "metadata": {},
     "output_type": "execute_result"
    },
    {
     "data": {
      "text/plain": [
       "<matplotlib.axes._subplots.AxesSubplot at 0x7fdff1ce6400>"
      ]
     },
     "execution_count": 39,
     "metadata": {},
     "output_type": "execute_result"
    }
   ],
   "source": [
    "pandas.Series(with_potential).plot()"
   ]
  },
  {
   "cell_type": "code",
   "execution_count": 36,
   "metadata": {
    "collapsed": false
   },
   "outputs": [
    {
     "data": {
      "text/plain": [
       "<IPython.core.display.Javascript object>"
      ]
     },
     "metadata": {},
     "output_type": "display_data"
    },
    {
     "data": {
      "text/html": [
       "<img src=\"data:image/png;base64,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\">"
      ],
      "text/plain": [
       "<IPython.core.display.HTML object>"
      ]
     },
     "metadata": {},
     "output_type": "execute_result"
    },
    {
     "data": {
      "text/plain": [
       "<matplotlib.axes._subplots.AxesSubplot at 0x7fdff1d73588>"
      ]
     },
     "execution_count": 36,
     "metadata": {},
     "output_type": "execute_result"
    }
   ],
   "source": [
    "pandas.Series(with_potential).plot()\n",
    "# screen green\n",
    "with_shortcut[0x071A].plot(color=\"green\")\n",
    "# state red\n",
    "with_shortcut[0x000E].plot(color=\"red\")"
   ]
  },
  {
   "cell_type": "code",
   "execution_count": null,
   "metadata": {
    "collapsed": true
   },
   "outputs": [],
   "source": [
    ""
   ]
  }
 ],
 "metadata": {
  "kernelspec": {
   "display_name": "Python 3",
   "language": "python",
   "name": "python3"
  },
  "language_info": {
   "codemirror_mode": {
    "name": "ipython",
    "version": 3.0
   },
   "file_extension": ".py",
   "mimetype": "text/x-python",
   "name": "python",
   "nbconvert_exporter": "python",
   "pygments_lexer": "ipython3",
   "version": "3.5.2"
  }
 },
 "nbformat": 4,
 "nbformat_minor": 0
}