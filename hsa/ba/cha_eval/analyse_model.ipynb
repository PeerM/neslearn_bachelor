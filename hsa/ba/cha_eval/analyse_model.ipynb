{
 "cells": [
  {
   "cell_type": "code",
   "execution_count": 6,
   "metadata": {
    "collapsed": true
   },
   "outputs": [],
   "source": [
    "import sys\n",
    "sys.path.append( \"/home/peer/PycharmProjects/neslearng\")\n",
    "sys.path.append( \"/home/peer/PycharmProjects/neslearng/extern/nes-async-rl/\")"
   ]
  },
  {
   "cell_type": "code",
   "execution_count": 50,
   "metadata": {
    "collapsed": false
   },
   "outputs": [],
   "source": [
    "import pandas\n",
    "import hsa.ba.rewards as rewards\n",
    "import itertools\n",
    "from extern.fceux_learningenv.nes_python_interface.nes_python_interface import NESInterface\n",
    "import hsa.machine_constants\n",
    "from hsa.nes_python_input import py_to_nes_wrapper\n",
    "\n",
    "import numpy as np\n",
    "import matplotlib.pyplot as plt\n",
    "import itertools\n",
    "import os.path"
   ]
  },
  {
   "cell_type": "code",
   "execution_count": 14,
   "metadata": {
    "collapsed": true
   },
   "outputs": [],
   "source": [
    "from dqn_phi import dqn_phi\n",
    "import nes \n",
    "from a3c_nes import A3CLSTM\n",
    "import chainer\n",
    "from chainer import serializers"
   ]
  },
  {
   "cell_type": "code",
   "execution_count": 83,
   "metadata": {
    "collapsed": false
   },
   "outputs": [],
   "source": [
    "example_model_path = \"/home/peer/studium/bachelor/checkpoints/scaled_fine_main_reward_1/16000000_finish.h5\" \n",
    "rom_path = hsa.machine_constants.mario_rom_location\n",
    "nr_of_attempts = 50"
   ]
  },
  {
   "cell_type": "code",
   "execution_count": 81,
   "metadata": {
    "collapsed": false
   },
   "outputs": [],
   "source": [
    "base_paht = \"/home/peer/studium/bachelor/checkpoints/{}/{}\"\n",
    "model_names = [\n",
    "    \"scaled_fine_main_reward_1\"\n",
    "    ,\"ehrenbrav_1 a3c_4\"\n",
    "    ,\"nes_a3c_scaled_finer_main_reward_1\"\n",
    "    ,\"scaled_finer_main_reward_with_points_1\"\n",
    "]\n",
    "model_chepoint_combos = [(model_name,\"16000000_finish.h5\")for model_name in model_names]\n",
    "model_chepoint_combos.append((\"ehrenbrav_1 a3c_4\",\"9000000.h5\"))\n",
    "model_chepoint_combos.append((\"scaled_fine_main_reward_1\",\"9400000.h5\"))\n",
    "model_chepoint_combos.append((\"nes_a3c_scaled_finer_main_reward_1\",\"9200000.h5\"))\n",
    "#model_chepoint_combos = itertools.product(model_names, chepoint_filenames) \n",
    "model_snapshots = {(directory,checkpoint):base_paht.format(directory,checkpoint) \n",
    "                   for (directory,checkpoint) \n",
    "                   in model_chepoint_combos}\n",
    "# make sure every file exists\n",
    "for path in model_snapshots.values():\n",
    "    if not os.path.isfile(path):\n",
    "        print(path)"
   ]
  },
  {
   "cell_type": "code",
   "execution_count": 82,
   "metadata": {
    "collapsed": true
   },
   "outputs": [
    {
     "data": {
      "text/plain": [
       "{('ehrenbrav_1 a3c_4',\n",
       "  '16000000_finish.h5'): '/home/peer/studium/bachelor/checkpoints/ehrenbrav_1 a3c_4/16000000_finish.h5',\n",
       " ('ehrenbrav_1 a3c_4',\n",
       "  '9000000.h5'): '/home/peer/studium/bachelor/checkpoints/ehrenbrav_1 a3c_4/9000000.h5',\n",
       " ('nes_a3c_scaled_finer_main_reward_1',\n",
       "  '16000000_finish.h5'): '/home/peer/studium/bachelor/checkpoints/nes_a3c_scaled_finer_main_reward_1/16000000_finish.h5',\n",
       " ('nes_a3c_scaled_finer_main_reward_1',\n",
       "  '9200000.h5'): '/home/peer/studium/bachelor/checkpoints/nes_a3c_scaled_finer_main_reward_1/9200000.h5',\n",
       " ('scaled_fine_main_reward_1',\n",
       "  '16000000_finish.h5'): '/home/peer/studium/bachelor/checkpoints/scaled_fine_main_reward_1/16000000_finish.h5',\n",
       " ('scaled_fine_main_reward_1',\n",
       "  '9400000.h5'): '/home/peer/studium/bachelor/checkpoints/scaled_fine_main_reward_1/9400000.h5',\n",
       " ('scaled_finer_main_reward_with_points_1',\n",
       "  '16000000_finish.h5'): '/home/peer/studium/bachelor/checkpoints/scaled_finer_main_reward_with_points_1/16000000_finish.h5'}"
      ]
     },
     "execution_count": 82,
     "metadata": {},
     "output_type": "execute_result"
    }
   ],
   "source": [
    "model_snapshots"
   ]
  },
  {
   "cell_type": "code",
   "execution_count": 37,
   "metadata": {
    "collapsed": false
   },
   "outputs": [],
   "source": [
    "#n_actions = nes.NES(hsa.machine_constants.mario_rom_location).number_of_actions\n",
    "\n",
    "def load_model(weights_path):\n",
    "    n_actions = nes.n_actions\n",
    "    model = A3CLSTM(n_actions)\n",
    "    serializers.load_hdf5(weights_path, model)\n",
    "    return model\n",
    "example_model = load_model(example_model_path)"
   ]
  },
  {
   "cell_type": "code",
   "execution_count": 22,
   "metadata": {
    "collapsed": true
   },
   "outputs": [],
   "source": [
    "def make_eval_functions():\n",
    "    return {\n",
    "        \"main_reward\": rewards.make_finer_main_reward(),\n",
    "        \"points\": rewards.make_delta_points(),\n",
    "        \"time_left\": rewards.reward_for_time_left\n",
    "    }"
   ]
  },
  {
   "cell_type": "code",
   "execution_count": 32,
   "metadata": {
    "collapsed": true
   },
   "outputs": [],
   "source": [
    "def eval_performance(rom, model, deterministic=False,\n",
    "                     record_screen_path=None):\n",
    "    nesApi = NESInterface(rom)\n",
    "    env = nes.NES(rom,outside_nes_interface=nesApi,record_screen_path=record_screen_path)\n",
    "    model.reset_state()\n",
    "    ehrenbrav_sum = 0\n",
    "    other_rewards = make_eval_functions()\n",
    "    sums = {name:0 for name in other_rewards.keys()}\n",
    "    while not env.is_terminal:\n",
    "        s = chainer.Variable(np.expand_dims(dqn_phi(env.state), 0))\n",
    "        pout = model.pi_and_v(s)[0]\n",
    "        model.unchain_backward()\n",
    "        if deterministic:\n",
    "            a = pout.most_probable_actions[0]\n",
    "        else:\n",
    "            a = pout.action_indices[0]\n",
    "        ehrenbrav_sum += env.receive_action(a)\n",
    "        \n",
    "        # TODO Sum of Ehrenbrav, Sum of Main Reward, sum of time left, did it beat the level?, how many deaths\n",
    "        ram = nesApi.getRAM()\n",
    "        for name, reward_function in other_rewards.items():\n",
    "            sums[name] += reward_function(ram)\n",
    "    \n",
    "    sums[\"ehrenbrav\"] = ehrenbrav_sum\n",
    "    return sums"
   ]
  },
  {
   "cell_type": "code",
   "execution_count": 38,
   "metadata": {
    "collapsed": false
   },
   "outputs": [
    {
     "data": {
      "text/plain": [
       "{'ehrenbrav': 14405, 'main_reward': 7.890625, 'points': 40.0, 'time_left': 0}"
      ]
     },
     "execution_count": 38,
     "metadata": {},
     "output_type": "execute_result"
    }
   ],
   "source": [
    "eval_performance(hsa.machine_constants.mario_rom_location,example_model,deterministic=False)"
   ]
  },
  {
   "cell_type": "code",
   "execution_count": 54,
   "metadata": {
    "collapsed": false
   },
   "outputs": [],
   "source": [
    "eval_results = {}\n",
    "for (experiment_name,model_name), weights in model_snapshots.items():\n",
    "    model = load_model(weights)\n",
    "    for attempt_nr in range(nr_of_attempts):\n",
    "        eval_results[(experiment_name,model_name,attempt_nr)] = eval_performance(rom_path,model,deterministic=False)"
   ]
  },
  {
   "cell_type": "code",
   "execution_count": 57,
   "metadata": {
    "collapsed": false
   },
   "outputs": [
    {
     "data": {
      "text/html": [
       "<div>\n",
       "<table border=\"1\" class=\"dataframe\">\n",
       "  <thead>\n",
       "    <tr style=\"text-align: right;\">\n",
       "      <th></th>\n",
       "      <th></th>\n",
       "      <th></th>\n",
       "      <th>main_reward</th>\n",
       "      <th>ehrenbrav</th>\n",
       "      <th>points</th>\n",
       "      <th>time_left</th>\n",
       "    </tr>\n",
       "  </thead>\n",
       "  <tbody>\n",
       "    <tr>\n",
       "      <th rowspan=\"2\" valign=\"top\">ehrenbrav_1 a3c_4</th>\n",
       "      <th rowspan=\"2\" valign=\"top\">16000000_finish.h5</th>\n",
       "      <th>0</th>\n",
       "      <td>6.093750</td>\n",
       "      <td>9810</td>\n",
       "      <td>20.0</td>\n",
       "      <td>0</td>\n",
       "    </tr>\n",
       "    <tr>\n",
       "      <th>1</th>\n",
       "      <td>6.097656</td>\n",
       "      <td>10295</td>\n",
       "      <td>50.0</td>\n",
       "      <td>0</td>\n",
       "    </tr>\n",
       "    <tr>\n",
       "      <th rowspan=\"2\" valign=\"top\">scaled_fine_main_reward_1</th>\n",
       "      <th rowspan=\"2\" valign=\"top\">16000000_finish.h5</th>\n",
       "      <th>0</th>\n",
       "      <td>6.050781</td>\n",
       "      <td>13520</td>\n",
       "      <td>40.0</td>\n",
       "      <td>0</td>\n",
       "    </tr>\n",
       "    <tr>\n",
       "      <th>1</th>\n",
       "      <td>7.898438</td>\n",
       "      <td>15970</td>\n",
       "      <td>60.0</td>\n",
       "      <td>0</td>\n",
       "    </tr>\n",
       "  </tbody>\n",
       "</table>\n",
       "</div>"
      ],
      "text/plain": [
       "                                                main_reward  ehrenbrav  \\\n",
       "ehrenbrav_1 a3c_4         16000000_finish.h5 0     6.093750       9810   \n",
       "                                             1     6.097656      10295   \n",
       "scaled_fine_main_reward_1 16000000_finish.h5 0     6.050781      13520   \n",
       "                                             1     7.898438      15970   \n",
       "\n",
       "                                                points  time_left  \n",
       "ehrenbrav_1 a3c_4         16000000_finish.h5 0    20.0          0  \n",
       "                                             1    50.0          0  \n",
       "scaled_fine_main_reward_1 16000000_finish.h5 0    40.0          0  \n",
       "                                             1    60.0          0  "
      ]
     },
     "execution_count": 57,
     "metadata": {},
     "output_type": "execute_result"
    }
   ],
   "source": [
    "pandas.DataFrame.from_dict(eval_results,orient=\"index\")"
   ]
  },
  {
   "cell_type": "code",
   "execution_count": 56,
   "metadata": {
    "collapsed": true
   },
   "outputs": [],
   "source": [
    "pandas.DataFrame.from_dict?"
   ]
  },
  {
   "cell_type": "code",
   "execution_count": null,
   "metadata": {
    "collapsed": true
   },
   "outputs": [],
   "source": []
  }
 ],
 "metadata": {
  "kernelspec": {
   "display_name": "Python 3",
   "language": "python",
   "name": "python3"
  },
  "language_info": {
   "codemirror_mode": {
    "name": "ipython",
    "version": 3
   },
   "file_extension": ".py",
   "mimetype": "text/x-python",
   "name": "python",
   "nbconvert_exporter": "python",
   "pygments_lexer": "ipython3",
   "version": "3.5.2"
  }
 },
 "nbformat": 4,
 "nbformat_minor": 0
}
