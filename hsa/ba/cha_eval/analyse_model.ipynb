{
 "cells": [
  {
   "cell_type": "code",
   "execution_count": 2,
   "metadata": {
    "collapsed": true
   },
   "outputs": [],
   "source": [
    "import sys\n",
    "sys.path.append( \"/home/mathia/PycharmProjects/neslearn-git\")\n",
    "sys.path.append( \"/home/mathia/PycharmProjects/neslearn-git/extern/nes-async-rl/\")"
   ]
  },
  {
   "cell_type": "code",
   "execution_count": 3,
   "metadata": {
    "collapsed": false
   },
   "outputs": [],
   "source": [
    "import pandas\n",
    "import hsa.ba.rewards as rewards\n",
    "import itertools\n",
    "from extern.fceux_learningenv.nes_python_interface.nes_python_interface import NESInterface\n",
    "import hsa.machine_constants\n",
    "from hsa.nes_python_input import py_to_nes_wrapper\n",
    "\n",
    "import numpy as np\n",
    "import matplotlib.pyplot as plt\n",
    "import itertools\n",
    "import os.path"
   ]
  },
  {
   "cell_type": "code",
   "execution_count": 4,
   "metadata": {
    "collapsed": true
   },
   "outputs": [],
   "source": [
    "from dqn_phi import dqn_phi\n",
    "import nes \n",
    "from a3c_nes import A3CLSTM\n",
    "import chainer\n",
    "from chainer import serializers"
   ]
  },
  {
   "cell_type": "code",
   "execution_count": 5,
   "metadata": {
    "collapsed": false
   },
   "outputs": [],
   "source": [
    "example_model_path = \"/home/mathia/checkpoints/scaled_fine_main_reward_1/16000000_finish.h5\" \n",
    "rom_path = \"/home/mathia/mario.nes\"\n",
    "nr_of_attempts = 30"
   ]
  },
  {
   "cell_type": "code",
   "execution_count": 22,
   "metadata": {
    "collapsed": false
   },
   "outputs": [],
   "source": [
    "base_paht = \"/home/mathia/checkpoints/{}/{}\"\n",
    "model_names = [\n",
    "    \"scaled_fine_main_reward_1\"\n",
    "    ,\"nes_a3c_4\"\n",
    "    ,\"nes_a3c_scaled_finer_main_reward_1\"\n",
    "    ,\"scaled_finer_main_reward_with_points_1\"\n",
    "]\n",
    "#model_names = [\"nes_a3c_scaled_finer_main_reward_1\"]\n",
    "model_chepoint_combos = [(model_name,\"16000000_finish.h5\")for model_name in model_names]\n",
    "# model_chepoint_combos.append((\"nes_a3c_4\",\"9000000.h5\"))\n",
    "# model_chepoint_combos.append((\"scaled_fine_main_reward_1\",\"9400000.h5\"))\n",
    "# model_chepoint_combos.append((\"nes_a3c_scaled_finer_main_reward_1\",\"9200000.h5\"))\n",
    "#model_chepoint_combos = itertools.product(model_names, chepoint_filenames) \n",
    "model_snapshots = {(directory,checkpoint):base_paht.format(directory,checkpoint) \n",
    "                   for (directory,checkpoint) \n",
    "                   in model_chepoint_combos}\n",
    "# make sure every file exists\n",
    "for path in model_snapshots.values():\n",
    "    if not os.path.isfile(path):\n",
    "        print(path)"
   ]
  },
  {
   "cell_type": "code",
   "execution_count": 6,
   "metadata": {
    "collapsed": true
   },
   "outputs": [
    {
     "data": {
      "text/plain": [
       "{('nes_a3c_4',\n  '16000000_finish.h5'): '/home/mathia/checkpoints/nes_a3c_4/16000000_finish.h5',\n ('nes_a3c_scaled_finer_main_reward_1',\n  '16000000_finish.h5'): '/home/mathia/checkpoints/nes_a3c_scaled_finer_main_reward_1/16000000_finish.h5',\n ('scaled_fine_main_reward_1',\n  '16000000_finish.h5'): '/home/mathia/checkpoints/scaled_fine_main_reward_1/16000000_finish.h5',\n ('scaled_finer_main_reward_with_points_1',\n  '16000000_finish.h5'): '/home/mathia/checkpoints/scaled_finer_main_reward_with_points_1/16000000_finish.h5'}"
      ]
     },
     "execution_count": 6,
     "metadata": {},
     "output_type": "execute_result"
    }
   ],
   "source": [
    "model_snapshots"
   ]
  },
  {
   "cell_type": "code",
   "execution_count": 12,
   "metadata": {
    "collapsed": false
   },
   "outputs": [],
   "source": [
    "#n_actions = nes.NES(hsa.machine_constants.mario_rom_location).number_of_actions\n",
    "\n",
    "def load_model(weights_path):\n",
    "    n_actions = nes.n_actions\n",
    "    model = A3CLSTM(n_actions)\n",
    "    serializers.load_hdf5(weights_path, model)\n",
    "    return model\n",
    "example_model = load_model(example_model_path)"
   ]
  },
  {
   "cell_type": "code",
   "execution_count": 17,
   "metadata": {
    "collapsed": true
   },
   "outputs": [],
   "source": [
    "def make_eval_functions():\n",
    "    return {\n",
    "        \"main_reward\": rewards.make_finer_main_reward(),\n",
    "        \"points\": rewards.make_delta_points(),\n",
    "        \"time_left\": make_time_left()\n",
    "    }"
   ]
  },
  {
   "cell_type": "code",
   "execution_count": 18,
   "metadata": {
    "collapsed": true
   },
   "outputs": [],
   "source": [
    "def eval_performance(model, nesApi, env, deterministic=False):\n",
    "    model.reset_state()\n",
    "    ehrenbrav_sum = 0\n",
    "    other_rewards = make_eval_functions()\n",
    "    sums = {name:0 for name in other_rewards.keys()}\n",
    "    while not env.is_terminal:\n",
    "        s = chainer.Variable(np.expand_dims(dqn_phi(env.state), 0))\n",
    "        pout = model.pi_and_v(s)[0]\n",
    "        model.unchain_backward()\n",
    "        if deterministic:\n",
    "            a = pout.most_probable_actions[0]\n",
    "        else:\n",
    "            a = pout.action_indices[0]\n",
    "        ehrenbrav_sum += env.receive_action(a)\n",
    "        \n",
    "        # TODO Sum of Ehrenbrav, Sum of Main Reward, sum of time left, did it beat the level?, how many deaths\n",
    "        ram = nesApi.getRAM()\n",
    "        for name, reward_function in other_rewards.items():\n",
    "            sums[name] += reward_function(ram)\n",
    "    \n",
    "    sums[\"ehrenbrav\"] = ehrenbrav_sum\n",
    "    return sums"
   ]
  },
  {
   "cell_type": "code",
   "execution_count": 38,
   "metadata": {
    "collapsed": false
   },
   "outputs": [
    {
     "data": {
      "text/plain": [
       "{'ehrenbrav': 14405, 'main_reward': 7.890625, 'points': 40.0, 'time_left': 0}"
      ]
     },
     "execution_count": 38,
     "metadata": {},
     "output_type": "execute_result"
    }
   ],
   "source": [
    "eval_performance(hsa.machine_constants.mario_rom_location,example_model,deterministic=False)"
   ]
  },
  {
   "cell_type": "code",
   "execution_count": 23,
   "metadata": {
    "collapsed": false
   },
   "outputs": [
    {
     "name": "stdout",
     "output_type": "stream",
     "text": [
      "('scaled_fine_main_reward_1', '16000000_finish.h5', 0) {'ehrenbrav': 9950, 'main_reward': 6.046875, 'time_left': 0, 'points': 10.0}\n"
     ]
    },
    {
     "name": "stdout",
     "output_type": "stream",
     "text": [
      "('scaled_fine_main_reward_1', '16000000_finish.h5', 1) {'ehrenbrav': 12215, 'main_reward': 5.96484375, 'time_left': 0, 'points': 30.0}\n"
     ]
    },
    {
     "name": "stdout",
     "output_type": "stream",
     "text": [
      "('scaled_fine_main_reward_1', '16000000_finish.h5', 2) {'ehrenbrav': 11090, 'main_reward': 6.99609375, 'time_left': 0, 'points': 30.0}\n"
     ]
    },
    {
     "name": "stdout",
     "output_type": "stream",
     "text": [
      "('scaled_fine_main_reward_1', '16000000_finish.h5', 3) {'ehrenbrav': 12550, 'main_reward': 7.89453125, 'time_left': 0, 'points': 60.0}\n"
     ]
    },
    {
     "name": "stdout",
     "output_type": "stream",
     "text": [
      "('scaled_fine_main_reward_1', '16000000_finish.h5', 4) {'ehrenbrav': 9660, 'main_reward': 6.078125, 'time_left': 0, 'points': 10.0}\n"
     ]
    },
    {
     "name": "stdout",
     "output_type": "stream",
     "text": [
      "('scaled_fine_main_reward_1', '16000000_finish.h5', 5) {'ehrenbrav': 14160, 'main_reward': 8.671875, 'time_left': 0, 'points': 60.0}\n"
     ]
    },
    {
     "name": "stdout",
     "output_type": "stream",
     "text": [
      "('scaled_fine_main_reward_1', '16000000_finish.h5', 6) {'ehrenbrav': 13430, 'main_reward': 4.84765625, 'time_left': 0, 'points': 10.0}\n"
     ]
    },
    {
     "name": "stdout",
     "output_type": "stream",
     "text": [
      "('scaled_fine_main_reward_1', '16000000_finish.h5', 7) {'ehrenbrav': 13410, 'main_reward': 6.046875, 'time_left': 0, 'points': 40.0}\n"
     ]
    },
    {
     "name": "stdout",
     "output_type": "stream",
     "text": [
      "('scaled_fine_main_reward_1', '16000000_finish.h5', 8) {'ehrenbrav': 12355, 'main_reward': 6.10546875, 'time_left': 0, 'points': 0.0}\n"
     ]
    },
    {
     "name": "stdout",
     "output_type": "stream",
     "text": [
      "('scaled_fine_main_reward_1', '16000000_finish.h5', 9) {'ehrenbrav': 14040, 'main_reward': 6.1015625, 'time_left': 0, 'points': 70.0}\n"
     ]
    },
    {
     "name": "stdout",
     "output_type": "stream",
     "text": [
      "('scaled_fine_main_reward_1', '16000000_finish.h5', 10) {'ehrenbrav': 10660, 'main_reward': 2.6796875, 'time_left': 0, 'points': 10.0}\n"
     ]
    },
    {
     "name": "stdout",
     "output_type": "stream",
     "text": [
      "('scaled_fine_main_reward_1', '16000000_finish.h5', 11) {'ehrenbrav': 14665, 'main_reward': 7.6328125, 'time_left': 0, 'points': 60.0}\n"
     ]
    },
    {
     "name": "stdout",
     "output_type": "stream",
     "text": [
      "('scaled_fine_main_reward_1', '16000000_finish.h5', 12) {'ehrenbrav': 14855, 'main_reward': 7.890625, 'time_left': 0, 'points': 70.0}\n"
     ]
    },
    {
     "name": "stdout",
     "output_type": "stream",
     "text": [
      "('scaled_fine_main_reward_1', '16000000_finish.h5', 13) {'ehrenbrav': 9760, 'main_reward': 6.09765625, 'time_left': 0, 'points': 10.0}\n"
     ]
    },
    {
     "name": "stdout",
     "output_type": "stream",
     "text": [
      "('scaled_fine_main_reward_1', '16000000_finish.h5', 14) {'ehrenbrav': 14550, 'main_reward': 6.06640625, 'time_left': 0, 'points': 40.0}\n"
     ]
    },
    {
     "name": "stdout",
     "output_type": "stream",
     "text": [
      "('scaled_fine_main_reward_1', '16000000_finish.h5', 15) {'ehrenbrav': 9935, 'main_reward': 6.03515625, 'time_left': 0, 'points': 10.0}\n"
     ]
    },
    {
     "name": "stdout",
     "output_type": "stream",
     "text": [
      "('scaled_fine_main_reward_1', '16000000_finish.h5', 16) {'ehrenbrav': 11740, 'main_reward': 6.05859375, 'time_left': 0, 'points': 0.0}\n"
     ]
    },
    {
     "name": "stdout",
     "output_type": "stream",
     "text": [
      "('scaled_fine_main_reward_1', '16000000_finish.h5', 17) {'ehrenbrav': 9800, 'main_reward': 6.10546875, 'time_left': 0, 'points': 0.0}\n"
     ]
    },
    {
     "name": "stdout",
     "output_type": "stream",
     "text": [
      "('scaled_fine_main_reward_1', '16000000_finish.h5', 18) {'ehrenbrav': 9820, 'main_reward': 6.0546875, 'time_left': 0, 'points': 20.0}\n"
     ]
    },
    {
     "name": "stdout",
     "output_type": "stream",
     "text": [
      "('scaled_fine_main_reward_1', '16000000_finish.h5', 19) {'ehrenbrav': 20875, 'main_reward': 10.140625, 'time_left': 0, 'points': 120.0}\n"
     ]
    },
    {
     "name": "stdout",
     "output_type": "stream",
     "text": [
      "('scaled_fine_main_reward_1', '16000000_finish.h5', 20) {'ehrenbrav': 11030, 'main_reward': 6.0234375, 'time_left': 0, 'points': 20.0}\n"
     ]
    },
    {
     "name": "stdout",
     "output_type": "stream",
     "text": [
      "('scaled_fine_main_reward_1', '16000000_finish.h5', 21) {'ehrenbrav': 10785, 'main_reward': 6.0546875, 'time_left': 0, 'points': 0.0}\n"
     ]
    },
    {
     "name": "stdout",
     "output_type": "stream",
     "text": [
      "('scaled_fine_main_reward_1', '16000000_finish.h5', 22) {'ehrenbrav': 12605, 'main_reward': 6.0390625, 'time_left': 0, 'points': 60.0}\n"
     ]
    },
    {
     "name": "stdout",
     "output_type": "stream",
     "text": [
      "('scaled_fine_main_reward_1', '16000000_finish.h5', 23) {'ehrenbrav': 12085, 'main_reward': 6.07421875, 'time_left': 0, 'points': 20.0}\n"
     ]
    },
    {
     "name": "stdout",
     "output_type": "stream",
     "text": [
      "('scaled_fine_main_reward_1', '16000000_finish.h5', 24) {'ehrenbrav': 21705, 'main_reward': 10.10546875, 'time_left': 0, 'points': 50.0}\n"
     ]
    },
    {
     "name": "stdout",
     "output_type": "stream",
     "text": [
      "('scaled_fine_main_reward_1', '16000000_finish.h5', 25) {'ehrenbrav': 9755, 'main_reward': 6.015625, 'time_left': 0, 'points': 20.0}\n"
     ]
    },
    {
     "name": "stdout",
     "output_type": "stream",
     "text": [
      "('scaled_fine_main_reward_1', '16000000_finish.h5', 26) {'ehrenbrav': 37565, 'main_reward': 12.7578125, 'time_left': 330, 'points': 1840.0}\n"
     ]
    },
    {
     "name": "stdout",
     "output_type": "stream",
     "text": [
      "('scaled_fine_main_reward_1', '16000000_finish.h5', 27) {'ehrenbrav': 12105, 'main_reward': 6.046875, 'time_left': 0, 'points': 40.0}\n"
     ]
    },
    {
     "name": "stdout",
     "output_type": "stream",
     "text": [
      "('scaled_fine_main_reward_1', '16000000_finish.h5', 28) {'ehrenbrav': 9855, 'main_reward': 6.0546875, 'time_left': 0, 'points': 10.0}\n"
     ]
    },
    {
     "name": "stdout",
     "output_type": "stream",
     "text": [
      "('scaled_fine_main_reward_1', '16000000_finish.h5', 29) {'ehrenbrav': 9710, 'main_reward': 6.05078125, 'time_left': 0, 'points': 10.0}\n"
     ]
    },
    {
     "name": "stdout",
     "output_type": "stream",
     "text": [
      "('nes_a3c_scaled_finer_main_reward_1', '16000000_finish.h5', 0) {'ehrenbrav': 38520, 'main_reward': 43.7578125, 'time_left': 310, 'points': 1800.0}\n"
     ]
    },
    {
     "name": "stdout",
     "output_type": "stream",
     "text": [
      "('nes_a3c_scaled_finer_main_reward_1', '16000000_finish.h5', 1) {'ehrenbrav': 33850, 'main_reward': 12.7578125, 'time_left': 337, 'points': 1745.0}\n"
     ]
    },
    {
     "name": "stdout",
     "output_type": "stream",
     "text": [
      "('nes_a3c_scaled_finer_main_reward_1', '16000000_finish.h5', 2) {'ehrenbrav': 34195, 'main_reward': 12.7578125, 'time_left': 338, 'points': 1770.0}\n"
     ]
    },
    {
     "name": "stdout",
     "output_type": "stream",
     "text": [
      "('nes_a3c_scaled_finer_main_reward_1', '16000000_finish.h5', 3) {'ehrenbrav': 39410, 'main_reward': 12.7578125, 'time_left': 327, 'points': 2135.0}\n"
     ]
    },
    {
     "name": "stdout",
     "output_type": "stream",
     "text": [
      "('nes_a3c_scaled_finer_main_reward_1', '16000000_finish.h5', 4) {'ehrenbrav': 38800, 'main_reward': 12.7578125, 'time_left': 326, 'points': 2160.0}\n"
     ]
    },
    {
     "name": "stdout",
     "output_type": "stream",
     "text": [
      "('nes_a3c_scaled_finer_main_reward_1', '16000000_finish.h5', 5) {'ehrenbrav': 34205, 'main_reward': 46.2578125, 'time_left': 335, 'points': 1785.0}\n"
     ]
    },
    {
     "name": "stdout",
     "output_type": "stream",
     "text": [
      "('nes_a3c_scaled_finer_main_reward_1', '16000000_finish.h5', 6) {'ehrenbrav': 38540, 'main_reward': 12.7578125, 'time_left': 359, 'points': 1935.0}\n"
     ]
    },
    {
     "name": "stdout",
     "output_type": "stream",
     "text": [
      "('nes_a3c_scaled_finer_main_reward_1', '16000000_finish.h5', 7) {'ehrenbrav': 41740, 'main_reward': 12.7578125, 'time_left': 352, 'points': 1880.0}\n"
     ]
    },
    {
     "name": "stdout",
     "output_type": "stream",
     "text": [
      "('nes_a3c_scaled_finer_main_reward_1', '16000000_finish.h5', 8) {'ehrenbrav': 45280, 'main_reward': 12.7578125, 'time_left': 360, 'points': 1910.0}\n"
     ]
    },
    {
     "name": "stdout",
     "output_type": "stream",
     "text": [
      "('nes_a3c_scaled_finer_main_reward_1', '16000000_finish.h5', 9) {'ehrenbrav': 39720, 'main_reward': 12.7578125, 'time_left': 336, 'points': 2250.0}\n"
     ]
    },
    {
     "name": "stdout",
     "output_type": "stream",
     "text": [
      "('nes_a3c_scaled_finer_main_reward_1', '16000000_finish.h5', 10) {'ehrenbrav': 35700, 'main_reward': 46.2578125, 'time_left': 335, 'points': 1845.0}\n"
     ]
    },
    {
     "name": "stdout",
     "output_type": "stream",
     "text": [
      "('nes_a3c_scaled_finer_main_reward_1', '16000000_finish.h5', 11) {'ehrenbrav': 38635, 'main_reward': 47.2578125, 'time_left': 345, 'points': 2125.0}\n"
     ]
    },
    {
     "name": "stdout",
     "output_type": "stream",
     "text": [
      "('nes_a3c_scaled_finer_main_reward_1', '16000000_finish.h5', 12) {'ehrenbrav': 37175, 'main_reward': 12.7578125, 'time_left': 362, 'points': 1850.0}\n"
     ]
    },
    {
     "name": "stdout",
     "output_type": "stream",
     "text": [
      "('nes_a3c_scaled_finer_main_reward_1', '16000000_finish.h5', 13) {'ehrenbrav': 35595, 'main_reward': 12.7578125, 'time_left': 337, 'points': 1875.0}\n"
     ]
    },
    {
     "name": "stdout",
     "output_type": "stream",
     "text": [
      "('nes_a3c_scaled_finer_main_reward_1', '16000000_finish.h5', 14) {'ehrenbrav': 38570, 'main_reward': 12.7578125, 'time_left': 355, 'points': 1855.0}\n"
     ]
    },
    {
     "name": "stdout",
     "output_type": "stream",
     "text": [
      "('nes_a3c_scaled_finer_main_reward_1', '16000000_finish.h5', 15) {'ehrenbrav': 20365, 'main_reward': 7.89453125, 'time_left': 0, 'points': 80.0}\n"
     ]
    },
    {
     "name": "stdout",
     "output_type": "stream",
     "text": [
      "('nes_a3c_scaled_finer_main_reward_1', '16000000_finish.h5', 16) {'ehrenbrav': 39125, 'main_reward': 12.7578125, 'time_left': 364, 'points': 1900.0}\n"
     ]
    },
    {
     "name": "stdout",
     "output_type": "stream",
     "text": [
      "('nes_a3c_scaled_finer_main_reward_1', '16000000_finish.h5', 17) {'ehrenbrav': 39465, 'main_reward': 12.7578125, 'time_left': 330, 'points': 2000.0}\n"
     ]
    },
    {
     "name": "stdout",
     "output_type": "stream",
     "text": [
      "('nes_a3c_scaled_finer_main_reward_1', '16000000_finish.h5', 18) {'ehrenbrav': 36445, 'main_reward': 12.7578125, 'time_left': 338, 'points': 1970.0}\n"
     ]
    },
    {
     "name": "stdout",
     "output_type": "stream",
     "text": [
      "('nes_a3c_scaled_finer_main_reward_1', '16000000_finish.h5', 19) {'ehrenbrav': 41165, 'main_reward': 49.057812500000004, 'time_left': 363, 'points': 2165.0}\n"
     ]
    },
    {
     "name": "stdout",
     "output_type": "stream",
     "text": [
      "('nes_a3c_scaled_finer_main_reward_1', '16000000_finish.h5', 20) {'ehrenbrav': 33365, 'main_reward': 12.7578125, 'time_left': 338, 'points': 1730.0}\n"
     ]
    },
    {
     "name": "stdout",
     "output_type": "stream",
     "text": [
      "('nes_a3c_scaled_finer_main_reward_1', '16000000_finish.h5', 21) {'ehrenbrav': 19260, 'main_reward': 10.84375, 'time_left': 0, 'points': 80.0}\n"
     ]
    },
    {
     "name": "stdout",
     "output_type": "stream",
     "text": [
      "('nes_a3c_scaled_finer_main_reward_1', '16000000_finish.h5', 22) {'ehrenbrav': 40080, 'main_reward': 12.7578125, 'time_left': 328, 'points': 2120.0}\n"
     ]
    },
    {
     "name": "stdout",
     "output_type": "stream",
     "text": [
      "('nes_a3c_scaled_finer_main_reward_1', '16000000_finish.h5', 23) {'ehrenbrav': 39110, 'main_reward': 12.7578125, 'time_left': 336, 'points': 2150.0}\n"
     ]
    },
    {
     "name": "stdout",
     "output_type": "stream",
     "text": [
      "('nes_a3c_scaled_finer_main_reward_1', '16000000_finish.h5', 24) {'ehrenbrav': 36345, 'main_reward': 46.557812500000004, 'time_left': 338, 'points': 1930.0}\n"
     ]
    },
    {
     "name": "stdout",
     "output_type": "stream",
     "text": [
      "('nes_a3c_scaled_finer_main_reward_1', '16000000_finish.h5', 25) {'ehrenbrav': 9510, 'main_reward': 2.64453125, 'time_left': 0, 'points': 0.0}\n"
     ]
    },
    {
     "name": "stdout",
     "output_type": "stream",
     "text": [
      "('nes_a3c_scaled_finer_main_reward_1', '16000000_finish.h5', 26) {'ehrenbrav': 42440, 'main_reward': 48.157812499999999, 'time_left': 354, 'points': 1860.0}\n"
     ]
    },
    {
     "name": "stdout",
     "output_type": "stream",
     "text": [
      "('nes_a3c_scaled_finer_main_reward_1', '16000000_finish.h5', 27) {'ehrenbrav': 38385, 'main_reward': 12.7578125, 'time_left': 350, 'points': 1970.0}\n"
     ]
    },
    {
     "name": "stdout",
     "output_type": "stream",
     "text": [
      "('nes_a3c_scaled_finer_main_reward_1', '16000000_finish.h5', 28) {'ehrenbrav': 38205, 'main_reward': 12.7578125, 'time_left': 343, 'points': 2055.0}\n"
     ]
    },
    {
     "name": "stdout",
     "output_type": "stream",
     "text": [
      "('nes_a3c_scaled_finer_main_reward_1', '16000000_finish.h5', 29) {'ehrenbrav': 43020, 'main_reward': 12.7578125, 'time_left': 355, 'points': 1925.0}\n"
     ]
    },
    {
     "name": "stdout",
     "output_type": "stream",
     "text": [
      "('scaled_finer_main_reward_with_points_1', '16000000_finish.h5', 0) {'ehrenbrav': 12520, 'main_reward': 6.05078125, 'time_left': 0, 'points': 80.0}\n"
     ]
    },
    {
     "name": "stdout",
     "output_type": "stream",
     "text": [
      "('scaled_finer_main_reward_with_points_1', '16000000_finish.h5', 1) {'ehrenbrav': 15955, 'main_reward': 6.09375, 'time_left': 0, 'points': 130.0}\n"
     ]
    },
    {
     "name": "stdout",
     "output_type": "stream",
     "text": [
      "('scaled_finer_main_reward_with_points_1', '16000000_finish.h5', 2) {'ehrenbrav': 21510, 'main_reward': 6.12109375, 'time_left': 0, 'points': 190.0}\n"
     ]
    },
    {
     "name": "stdout",
     "output_type": "stream",
     "text": [
      "('scaled_finer_main_reward_with_points_1', '16000000_finish.h5', 3) {'ehrenbrav': 10370, 'main_reward': 6.08984375, 'time_left': 0, 'points': 70.0}\n"
     ]
    },
    {
     "name": "stdout",
     "output_type": "stream",
     "text": [
      "('scaled_finer_main_reward_with_points_1', '16000000_finish.h5', 4) {'ehrenbrav': 12645, 'main_reward': 6.08203125, 'time_left': 0, 'points': 80.0}\n"
     ]
    },
    {
     "name": "stdout",
     "output_type": "stream",
     "text": [
      "('scaled_finer_main_reward_with_points_1', '16000000_finish.h5', 5) {'ehrenbrav': 12345, 'main_reward': 7.3828125, 'time_left': 0, 'points': 120.0}\n"
     ]
    },
    {
     "name": "stdout",
     "output_type": "stream",
     "text": [
      "('scaled_finer_main_reward_with_points_1', '16000000_finish.h5', 6) {'ehrenbrav': 15665, 'main_reward': 6.09375, 'time_left': 0, 'points': 90.0}\n"
     ]
    },
    {
     "name": "stdout",
     "output_type": "stream",
     "text": [
      "('scaled_finer_main_reward_with_points_1', '16000000_finish.h5', 7) {'ehrenbrav': 10145, 'main_reward': 6.06640625, 'time_left': 0, 'points': 50.0}\n"
     ]
    },
    {
     "name": "stdout",
     "output_type": "stream",
     "text": [
      "('scaled_finer_main_reward_with_points_1', '16000000_finish.h5', 8) {'ehrenbrav': 10325, 'main_reward': 6.0546875, 'time_left': 0, 'points': 70.0}\n"
     ]
    },
    {
     "name": "stdout",
     "output_type": "stream",
     "text": [
      "('scaled_finer_main_reward_with_points_1', '16000000_finish.h5', 9) {'ehrenbrav': 13495, 'main_reward': 2.64453125, 'time_left': 0, 'points': 120.0}\n"
     ]
    },
    {
     "name": "stdout",
     "output_type": "stream",
     "text": [
      "('scaled_finer_main_reward_with_points_1', '16000000_finish.h5', 10) {'ehrenbrav': 10195, 'main_reward': 6.05078125, 'time_left': 0, 'points': 70.0}\n"
     ]
    },
    {
     "name": "stdout",
     "output_type": "stream",
     "text": [
      "('scaled_finer_main_reward_with_points_1', '16000000_finish.h5', 11) {'ehrenbrav': 12915, 'main_reward': 7.62890625, 'time_left': 0, 'points': 130.0}\n"
     ]
    },
    {
     "name": "stdout",
     "output_type": "stream",
     "text": [
      "('scaled_finer_main_reward_with_points_1', '16000000_finish.h5', 12) {'ehrenbrav': 15495, 'main_reward': 6.05859375, 'time_left': 0, 'points': 90.0}\n"
     ]
    },
    {
     "name": "stdout",
     "output_type": "stream",
     "text": [
      "('scaled_finer_main_reward_with_points_1', '16000000_finish.h5', 13) {'ehrenbrav': 17755, 'main_reward': 10.12890625, 'time_left': 0, 'points': 160.0}\n"
     ]
    },
    {
     "name": "stdout",
     "output_type": "stream",
     "text": [
      "('scaled_finer_main_reward_with_points_1', '16000000_finish.h5', 14) {'ehrenbrav': 15580, 'main_reward': 7.89453125, 'time_left': 0, 'points': 140.0}\n"
     ]
    },
    {
     "name": "stdout",
     "output_type": "stream",
     "text": [
      "('scaled_finer_main_reward_with_points_1', '16000000_finish.h5', 15) {'ehrenbrav': 10240, 'main_reward': 6.05859375, 'time_left': 0, 'points': 50.0}\n"
     ]
    },
    {
     "name": "stdout",
     "output_type": "stream",
     "text": [
      "('scaled_finer_main_reward_with_points_1', '16000000_finish.h5', 16) {'ehrenbrav': 10355, 'main_reward': 6.0703125, 'time_left': 0, 'points': 70.0}\n"
     ]
    },
    {
     "name": "stdout",
     "output_type": "stream",
     "text": [
      "('scaled_finer_main_reward_with_points_1', '16000000_finish.h5', 17) {'ehrenbrav': 18250, 'main_reward': 6.0625, 'time_left': 0, 'points': 280.0}\n"
     ]
    },
    {
     "name": "stdout",
     "output_type": "stream",
     "text": [
      "('scaled_finer_main_reward_with_points_1', '16000000_finish.h5', 18) {'ehrenbrav': 16035, 'main_reward': 6.0859375, 'time_left': 0, 'points': 150.0}\n"
     ]
    },
    {
     "name": "stdout",
     "output_type": "stream",
     "text": [
      "('scaled_finer_main_reward_with_points_1', '16000000_finish.h5', 19) {'ehrenbrav': 10430, 'main_reward': 6.04296875, 'time_left': 0, 'points': 70.0}\n"
     ]
    },
    {
     "name": "stdout",
     "output_type": "stream",
     "text": [
      "('scaled_finer_main_reward_with_points_1', '16000000_finish.h5', 20) {'ehrenbrav': 10325, 'main_reward': 6.05859375, 'time_left': 0, 'points': 70.0}\n"
     ]
    },
    {
     "name": "stdout",
     "output_type": "stream",
     "text": [
      "('scaled_finer_main_reward_with_points_1', '16000000_finish.h5', 21) {'ehrenbrav': 17930, 'main_reward': 6.08984375, 'time_left': 0, 'points': 120.0}\n"
     ]
    },
    {
     "name": "stdout",
     "output_type": "stream",
     "text": [
      "('scaled_finer_main_reward_with_points_1', '16000000_finish.h5', 22) {'ehrenbrav': 15660, 'main_reward': 6.046875, 'time_left': 0, 'points': 110.0}\n"
     ]
    },
    {
     "name": "stdout",
     "output_type": "stream",
     "text": [
      "('scaled_finer_main_reward_with_points_1', '16000000_finish.h5', 23) {'ehrenbrav': 12935, 'main_reward': 7.87890625, 'time_left': 0, 'points': 100.0}\n"
     ]
    },
    {
     "name": "stdout",
     "output_type": "stream",
     "text": [
      "('scaled_finer_main_reward_with_points_1', '16000000_finish.h5', 24) {'ehrenbrav': 16955, 'main_reward': 2.64453125, 'time_left': 0, 'points': 160.0}\n"
     ]
    },
    {
     "name": "stdout",
     "output_type": "stream",
     "text": [
      "('scaled_finer_main_reward_with_points_1', '16000000_finish.h5', 25) {'ehrenbrav': 15495, 'main_reward': 6.06640625, 'time_left': 0, 'points': 80.0}\n"
     ]
    },
    {
     "name": "stdout",
     "output_type": "stream",
     "text": [
      "('scaled_finer_main_reward_with_points_1', '16000000_finish.h5', 26) {'ehrenbrav': 21170, 'main_reward': 6.08203125, 'time_left': 0, 'points': 170.0}\n"
     ]
    },
    {
     "name": "stdout",
     "output_type": "stream",
     "text": [
      "('scaled_finer_main_reward_with_points_1', '16000000_finish.h5', 27) {'ehrenbrav': 10310, 'main_reward': 6.046875, 'time_left': 0, 'points': 70.0}\n"
     ]
    },
    {
     "name": "stdout",
     "output_type": "stream",
     "text": [
      "('scaled_finer_main_reward_with_points_1', '16000000_finish.h5', 28) {'ehrenbrav': 17935, 'main_reward': 6.07421875, 'time_left': 0, 'points': 130.0}\n"
     ]
    },
    {
     "name": "stdout",
     "output_type": "stream",
     "text": [
      "('scaled_finer_main_reward_with_points_1', '16000000_finish.h5', 29) {'ehrenbrav': 10465, 'main_reward': 6.0703125, 'time_left': 0, 'points': 70.0}\n"
     ]
    },
    {
     "name": "stdout",
     "output_type": "stream",
     "text": [
      "('nes_a3c_4', '16000000_finish.h5', 0) {'ehrenbrav': 15235, 'main_reward': 10.1171875, 'time_left': 0, 'points': 40.0}\n"
     ]
    },
    {
     "name": "stdout",
     "output_type": "stream",
     "text": [
      "('nes_a3c_4', '16000000_finish.h5', 1) {'ehrenbrav': 12190, 'main_reward': 3.5078125, 'time_left': 0, 'points': 60.0}\n"
     ]
    },
    {
     "name": "stdout",
     "output_type": "stream",
     "text": [
      "('nes_a3c_4', '16000000_finish.h5', 2) {'ehrenbrav': 10605, 'main_reward': 6.0625, 'time_left': 0, 'points': 30.0}\n"
     ]
    },
    {
     "name": "stdout",
     "output_type": "stream",
     "text": [
      "('nes_a3c_4', '16000000_finish.h5', 3) {'ehrenbrav': 11885, 'main_reward': 6.0625, 'time_left': 0, 'points': 20.0}\n"
     ]
    },
    {
     "name": "stdout",
     "output_type": "stream",
     "text": [
      "('nes_a3c_4', '16000000_finish.h5', 4) {'ehrenbrav': 12945, 'main_reward': 4.8828125, 'time_left': 0, 'points': 50.0}\n"
     ]
    },
    {
     "name": "stdout",
     "output_type": "stream",
     "text": [
      "('nes_a3c_4', '16000000_finish.h5', 5) {'ehrenbrav': 9250, 'main_reward': 2.62890625, 'time_left': 0, 'points': 50.0}\n"
     ]
    },
    {
     "name": "stdout",
     "output_type": "stream",
     "text": [
      "('nes_a3c_4', '16000000_finish.h5', 6) {'ehrenbrav': 12030, 'main_reward': 6.09765625, 'time_left': 0, 'points': 30.0}\n"
     ]
    },
    {
     "name": "stdout",
     "output_type": "stream",
     "text": [
      "('nes_a3c_4', '16000000_finish.h5', 7) {'ehrenbrav': 15535, 'main_reward': 6.01953125, 'time_left': 0, 'points': 70.0}\n"
     ]
    },
    {
     "name": "stdout",
     "output_type": "stream",
     "text": [
      "('nes_a3c_4', '16000000_finish.h5', 8) {'ehrenbrav': 8485, 'main_reward': 3.07421875, 'time_left': 0, 'points': 30.0}\n"
     ]
    },
    {
     "name": "stdout",
     "output_type": "stream",
     "text": [
      "('nes_a3c_4', '16000000_finish.h5', 9) {'ehrenbrav': 13005, 'main_reward': 6.09765625, 'time_left': 0, 'points': 80.0}\n"
     ]
    },
    {
     "name": "stdout",
     "output_type": "stream",
     "text": [
      "('nes_a3c_4', '16000000_finish.h5', 10) {'ehrenbrav': 12690, 'main_reward': 4.87890625, 'time_left': 0, 'points': 40.0}\n"
     ]
    },
    {
     "name": "stdout",
     "output_type": "stream",
     "text": [
      "('nes_a3c_4', '16000000_finish.h5', 11) {'ehrenbrav': 22575, 'main_reward': 6.0625, 'time_left': 0, 'points': 190.0}\n"
     ]
    },
    {
     "name": "stdout",
     "output_type": "stream",
     "text": [
      "('nes_a3c_4', '16000000_finish.h5', 12) {'ehrenbrav': 15690, 'main_reward': 6.07421875, 'time_left': 0, 'points': 90.0}\n"
     ]
    },
    {
     "name": "stdout",
     "output_type": "stream",
     "text": [
      "('nes_a3c_4', '16000000_finish.h5', 13) {'ehrenbrav': 10270, 'main_reward': 6.1015625, 'time_left': 0, 'points': 60.0}\n"
     ]
    },
    {
     "name": "stdout",
     "output_type": "stream",
     "text": [
      "('nes_a3c_4', '16000000_finish.h5', 14) {'ehrenbrav': 15400, 'main_reward': 6.0625, 'time_left': 0, 'points': 70.0}\n"
     ]
    },
    {
     "name": "stdout",
     "output_type": "stream",
     "text": [
      "('nes_a3c_4', '16000000_finish.h5', 15) {'ehrenbrav': 17920, 'main_reward': 5.953125, 'time_left': 0, 'points': 70.0}\n"
     ]
    },
    {
     "name": "stdout",
     "output_type": "stream",
     "text": [
      "('nes_a3c_4', '16000000_finish.h5', 16) {'ehrenbrav': 11540, 'main_reward': 6.97265625, 'time_left': 0, 'points': 80.0}\n"
     ]
    },
    {
     "name": "stdout",
     "output_type": "stream",
     "text": [
      "('nes_a3c_4', '16000000_finish.h5', 17) {'ehrenbrav': 8775, 'main_reward': 3.21484375, 'time_left': 0, 'points': 40.0}\n"
     ]
    },
    {
     "name": "stdout",
     "output_type": "stream",
     "text": [
      "('nes_a3c_4', '16000000_finish.h5', 18) {'ehrenbrav': 9955, 'main_reward': 6.0625, 'time_left': 0, 'points': 20.0}\n"
     ]
    },
    {
     "name": "stdout",
     "output_type": "stream",
     "text": [
      "('nes_a3c_4', '16000000_finish.h5', 19) {'ehrenbrav': 12235, 'main_reward': 6.10546875, 'time_left': 0, 'points': 20.0}\n"
     ]
    },
    {
     "name": "stdout",
     "output_type": "stream",
     "text": [
      "('nes_a3c_4', '16000000_finish.h5', 20) {'ehrenbrav': 9720, 'main_reward': 2.6328125, 'time_left': 0, 'points': 30.0}\n"
     ]
    },
    {
     "name": "stdout",
     "output_type": "stream",
     "text": [
      "('nes_a3c_4', '16000000_finish.h5', 21) {'ehrenbrav': 12895, 'main_reward': 4.88671875, 'time_left': 0, 'points': 60.0}\n"
     ]
    },
    {
     "name": "stdout",
     "output_type": "stream",
     "text": [
      "('nes_a3c_4', '16000000_finish.h5', 22) {'ehrenbrav': 9985, 'main_reward': 6.109375, 'time_left': 0, 'points': 20.0}\n"
     ]
    },
    {
     "name": "stdout",
     "output_type": "stream",
     "text": [
      "('nes_a3c_4', '16000000_finish.h5', 23) {'ehrenbrav': 14130, 'main_reward': 5.94921875, 'time_left': 0, 'points': 50.0}\n"
     ]
    },
    {
     "name": "stdout",
     "output_type": "stream",
     "text": [
      "('nes_a3c_4', '16000000_finish.h5', 24) {'ehrenbrav': 9985, 'main_reward': 6.0625, 'time_left': 0, 'points': 40.0}\n"
     ]
    },
    {
     "name": "stdout",
     "output_type": "stream",
     "text": [
      "('nes_a3c_4', '16000000_finish.h5', 25) {'ehrenbrav': 11070, 'main_reward': 2.63671875, 'time_left': 0, 'points': 50.0}\n"
     ]
    },
    {
     "name": "stdout",
     "output_type": "stream",
     "text": [
      "('nes_a3c_4', '16000000_finish.h5', 26) {'ehrenbrav': 13865, 'main_reward': 4.8671875, 'time_left': 0, 'points': 50.0}\n"
     ]
    },
    {
     "name": "stdout",
     "output_type": "stream",
     "text": [
      "('nes_a3c_4', '16000000_finish.h5', 27) {'ehrenbrav': 14730, 'main_reward': 6.046875, 'time_left': 0, 'points': 100.0}\n"
     ]
    },
    {
     "name": "stdout",
     "output_type": "stream",
     "text": [
      "('nes_a3c_4', '16000000_finish.h5', 28) {'ehrenbrav': 9675, 'main_reward': 5.92578125, 'time_left': 0, 'points': 10.0}\n"
     ]
    },
    {
     "name": "stdout",
     "output_type": "stream",
     "text": [
      "('nes_a3c_4', '16000000_finish.h5', 29) {'ehrenbrav': 20220, 'main_reward': 5.99609375, 'time_left': 0, 'points': 80.0}\n"
     ]
    }
   ],
   "source": [
    "eval_results_d = {}\n",
    "nesApi = NESInterface(rom_path,auto_render_period=2)\n",
    "nesApi.render()\n",
    "for (experiment_name,model_name), weights in model_snapshots.items():\n",
    "    model = load_model(weights)\n",
    "    for attempt_nr in range(nr_of_attempts):\n",
    "        nesApi.reset_game()\n",
    "        env = nes.NES(rom_path,outside_nes_interface=nesApi)\n",
    "        performance = eval_performance(model,nesApi,env,deterministic=False)\n",
    "        print((experiment_name,model_name,attempt_nr), performance)\n",
    "        eval_results_d[(experiment_name,model_name,attempt_nr)] = performance"
   ]
  },
  {
   "cell_type": "code",
   "execution_count": 24,
   "metadata": {
    "collapsed": false
   },
   "outputs": [],
   "source": [
    "result_d_df = pandas.DataFrame.from_dict(eval_results_d,orient=\"index\")"
   ]
  },
  {
   "cell_type": "code",
   "execution_count": 25,
   "metadata": {
    "collapsed": true
   },
   "outputs": [],
   "source": [
    "result_d_df.to_csv(\"eval_results_deterministisch.csv\")"
   ]
  },
  {
   "cell_type": "code",
   "execution_count": 26,
   "metadata": {
    "collapsed": true
   },
   "outputs": [],
   "source": [
    "result_d_df.to_pickle(\"eval_results_deterministisch.pickle\")"
   ]
  },
  {
   "cell_type": "code",
   "execution_count": 19,
   "metadata": {},
   "outputs": [],
   "source": [
    "result_df.groupby?"
   ]
  },
  {
   "cell_type": "markdown",
   "metadata": {},
   "source": [
    "# ladida just rewiting time left"
   ]
  },
  {
   "cell_type": "code",
   "execution_count": 16,
   "metadata": {},
   "outputs": [],
   "source": [
    "def make_time_left():\n",
    "    counted_once = False\n",
    "    def time_left(ram):\n",
    "        nonlocal counted_once\n",
    "        if counted_once:\n",
    "            return 0\n",
    "        if ram[0x001D] == 3:\n",
    "            counted_once = True\n",
    "            return rewards.time_left(ram) \n",
    "        return 0\n",
    "    return  time_left"
   ]
  },
  {
   "cell_type": "markdown",
   "metadata": {},
   "source": [
    "## Forgot the small main reward "
   ]
  },
  {
   "cell_type": "code",
   "execution_count": null,
   "metadata": {},
   "outputs": [],
   "source": [
    ""
   ]
  }
 ],
 "metadata": {
  "kernelspec": {
   "display_name": "Python 3",
   "language": "python",
   "name": "python3"
  },
  "language_info": {
   "codemirror_mode": {
    "name": "ipython",
    "version": 3.0
   },
   "file_extension": ".py",
   "mimetype": "text/x-python",
   "name": "python",
   "nbconvert_exporter": "python",
   "pygments_lexer": "ipython3",
   "version": "3.5.2"
  }
 },
 "nbformat": 4,
 "nbformat_minor": 0
}