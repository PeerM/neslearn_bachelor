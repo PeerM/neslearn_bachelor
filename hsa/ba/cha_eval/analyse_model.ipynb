{
 "cells": [
  {
   "cell_type": "code",
   "execution_count": 1,
   "metadata": {
    "collapsed": true
   },
   "outputs": [],
   "source": [
    "import sys\n",
    "sys.path.append( \"/home/mathia/PycharmProjects/neslearn-git\")\n",
    "sys.path.append( \"/home/mathia/PycharmProjects/neslearn-git/extern/nes-async-rl/\")"
   ]
  },
  {
   "cell_type": "code",
   "execution_count": 2,
   "metadata": {
    "collapsed": false
   },
   "outputs": [],
   "source": [
    "import pandas\n",
    "import hsa.ba.rewards as rewards\n",
    "import itertools\n",
    "from extern.fceux_learningenv.nes_python_interface.nes_python_interface import NESInterface\n",
    "import hsa.machine_constants\n",
    "from hsa.nes_python_input import py_to_nes_wrapper\n",
    "\n",
    "import numpy as np\n",
    "import matplotlib.pyplot as plt\n",
    "import itertools\n",
    "import os.path"
   ]
  },
  {
   "cell_type": "code",
   "execution_count": 3,
   "metadata": {
    "collapsed": true
   },
   "outputs": [],
   "source": [
    "from dqn_phi import dqn_phi\n",
    "import nes \n",
    "from a3c_nes import A3CLSTM\n",
    "import chainer\n",
    "from chainer import serializers"
   ]
  },
  {
   "cell_type": "code",
   "execution_count": 7,
   "metadata": {
    "collapsed": false
   },
   "outputs": [],
   "source": [
    "example_model_path = \"/home/mathia/checkpoints/scaled_fine_main_reward_1/16000000_finish.h5\" \n",
    "rom_path = \"/home/mathia/mario.nes\"\n",
    "nr_of_attempts = 30"
   ]
  },
  {
   "cell_type": "code",
   "execution_count": 5,
   "metadata": {
    "collapsed": false
   },
   "outputs": [],
   "source": [
    "base_paht = \"/home/mathia/checkpoints/{}/{}\"\n",
    "model_names = [\n",
    "    \"scaled_fine_main_reward_1\"\n",
    "    ,\"nes_a3c_4\"\n",
    "    ,\"nes_a3c_scaled_finer_main_reward_1\"\n",
    "    ,\"scaled_finer_main_reward_with_points_1\"\n",
    "]\n",
    "model_chepoint_combos = [(model_name,\"16000000_finish.h5\")for model_name in model_names]\n",
    "# model_chepoint_combos.append((\"nes_a3c_4\",\"9000000.h5\"))\n",
    "# model_chepoint_combos.append((\"scaled_fine_main_reward_1\",\"9400000.h5\"))\n",
    "# model_chepoint_combos.append((\"nes_a3c_scaled_finer_main_reward_1\",\"9200000.h5\"))\n",
    "#model_chepoint_combos = itertools.product(model_names, chepoint_filenames) \n",
    "model_snapshots = {(directory,checkpoint):base_paht.format(directory,checkpoint) \n",
    "                   for (directory,checkpoint) \n",
    "                   in model_chepoint_combos}\n",
    "# make sure every file exists\n",
    "for path in model_snapshots.values():\n",
    "    if not os.path.isfile(path):\n",
    "        print(path)"
   ]
  },
  {
   "cell_type": "code",
   "execution_count": 6,
   "metadata": {
    "collapsed": true
   },
   "outputs": [
    {
     "data": {
      "text/plain": [
       "{('nes_a3c_4',\n  '16000000_finish.h5'): '/home/mathia/checkpoints/nes_a3c_4/16000000_finish.h5',\n ('nes_a3c_scaled_finer_main_reward_1',\n  '16000000_finish.h5'): '/home/mathia/checkpoints/nes_a3c_scaled_finer_main_reward_1/16000000_finish.h5',\n ('scaled_fine_main_reward_1',\n  '16000000_finish.h5'): '/home/mathia/checkpoints/scaled_fine_main_reward_1/16000000_finish.h5',\n ('scaled_finer_main_reward_with_points_1',\n  '16000000_finish.h5'): '/home/mathia/checkpoints/scaled_finer_main_reward_with_points_1/16000000_finish.h5'}"
      ]
     },
     "execution_count": 6,
     "metadata": {},
     "output_type": "execute_result"
    }
   ],
   "source": [
    "model_snapshots"
   ]
  },
  {
   "cell_type": "code",
   "execution_count": 8,
   "metadata": {
    "collapsed": false
   },
   "outputs": [],
   "source": [
    "#n_actions = nes.NES(hsa.machine_constants.mario_rom_location).number_of_actions\n",
    "\n",
    "def load_model(weights_path):\n",
    "    n_actions = nes.n_actions\n",
    "    model = A3CLSTM(n_actions)\n",
    "    serializers.load_hdf5(weights_path, model)\n",
    "    return model\n",
    "example_model = load_model(example_model_path)"
   ]
  },
  {
   "cell_type": "code",
   "execution_count": 9,
   "metadata": {
    "collapsed": true
   },
   "outputs": [],
   "source": [
    "def make_eval_functions():\n",
    "    return {\n",
    "        \"main_reward\": rewards.make_finer_main_reward(),\n",
    "        \"points\": rewards.make_delta_points(),\n",
    "        \"time_left\": rewards.reward_for_time_left\n",
    "    }"
   ]
  },
  {
   "cell_type": "code",
   "execution_count": 10,
   "metadata": {
    "collapsed": true
   },
   "outputs": [],
   "source": [
    "def eval_performance(rom, model, deterministic=False,\n",
    "                     record_screen_path=None):\n",
    "    nesApi = NESInterface(rom)\n",
    "    env = nes.NES(rom,outside_nes_interface=nesApi,record_screen_path=record_screen_path)\n",
    "    model.reset_state()\n",
    "    ehrenbrav_sum = 0\n",
    "    other_rewards = make_eval_functions()\n",
    "    sums = {name:0 for name in other_rewards.keys()}\n",
    "    while not env.is_terminal:\n",
    "        s = chainer.Variable(np.expand_dims(dqn_phi(env.state), 0))\n",
    "        pout = model.pi_and_v(s)[0]\n",
    "        model.unchain_backward()\n",
    "        if deterministic:\n",
    "            a = pout.most_probable_actions[0]\n",
    "        else:\n",
    "            a = pout.action_indices[0]\n",
    "        ehrenbrav_sum += env.receive_action(a)\n",
    "        \n",
    "        # TODO Sum of Ehrenbrav, Sum of Main Reward, sum of time left, did it beat the level?, how many deaths\n",
    "        ram = nesApi.getRAM()\n",
    "        for name, reward_function in other_rewards.items():\n",
    "            sums[name] += reward_function(ram)\n",
    "    \n",
    "    sums[\"ehrenbrav\"] = ehrenbrav_sum\n",
    "    return sums"
   ]
  },
  {
   "cell_type": "code",
   "execution_count": 38,
   "metadata": {
    "collapsed": false
   },
   "outputs": [
    {
     "data": {
      "text/plain": [
       "{'ehrenbrav': 14405, 'main_reward': 7.890625, 'points': 40.0, 'time_left': 0}"
      ]
     },
     "execution_count": 38,
     "metadata": {},
     "output_type": "execute_result"
    }
   ],
   "source": [
    "eval_performance(hsa.machine_constants.mario_rom_location,example_model,deterministic=False)"
   ]
  },
  {
   "cell_type": "code",
   "execution_count": 11,
   "metadata": {
    "collapsed": false
   },
   "outputs": [
    {
     "name": "stdout",
     "output_type": "stream",
     "text": [
      "('nes_a3c_4', '16000000_finish.h5', 0) {'ehrenbrav': 15565, 'points': 50.0, 'main_reward': 4.859375, 'time_left': 0}\n"
     ]
    },
    {
     "name": "stdout",
     "output_type": "stream",
     "text": [
      "('nes_a3c_4', '16000000_finish.h5', 1) {'ehrenbrav': 12140, 'points': 50.0, 'main_reward': 2.6328125, 'time_left': 0}\n"
     ]
    },
    {
     "name": "stdout",
     "output_type": "stream",
     "text": [
      "('nes_a3c_4', '16000000_finish.h5', 2) {'ehrenbrav': 15565, 'points': 50.0, 'main_reward': 4.859375, 'time_left': 0}\n"
     ]
    },
    {
     "name": "stdout",
     "output_type": "stream",
     "text": [
      "('nes_a3c_4', '16000000_finish.h5', 3) {'ehrenbrav': 15565, 'points': 50.0, 'main_reward': 4.859375, 'time_left': 0}\n"
     ]
    },
    {
     "name": "stdout",
     "output_type": "stream",
     "text": [
      "('nes_a3c_4', '16000000_finish.h5', 4) {'ehrenbrav': 12135, 'points': 50.0, 'main_reward': 2.6328125, 'time_left': 0}\n"
     ]
    },
    {
     "name": "stdout",
     "output_type": "stream",
     "text": [
      "('nes_a3c_4', '16000000_finish.h5', 5) {'ehrenbrav': 12140, 'points': 50.0, 'main_reward': 2.6328125, 'time_left': 0}\n"
     ]
    },
    {
     "name": "stdout",
     "output_type": "stream",
     "text": [
      "('nes_a3c_4', '16000000_finish.h5', 6) {'ehrenbrav': 12140, 'points': 50.0, 'main_reward': 2.6328125, 'time_left': 0}\n"
     ]
    },
    {
     "name": "stdout",
     "output_type": "stream",
     "text": [
      "('nes_a3c_4', '16000000_finish.h5', 7) {'ehrenbrav': 12140, 'points': 50.0, 'main_reward': 2.6328125, 'time_left': 0}\n"
     ]
    },
    {
     "name": "stdout",
     "output_type": "stream",
     "text": [
      "('nes_a3c_4', '16000000_finish.h5', 8) {'ehrenbrav': 12140, 'points': 50.0, 'main_reward': 2.6328125, 'time_left': 0}\n"
     ]
    },
    {
     "name": "stdout",
     "output_type": "stream",
     "text": [
      "('nes_a3c_4', '16000000_finish.h5', 9) {'ehrenbrav': 12140, 'points': 50.0, 'main_reward': 2.6328125, 'time_left': 0}\n"
     ]
    },
    {
     "name": "stdout",
     "output_type": "stream",
     "text": [
      "('nes_a3c_4', '16000000_finish.h5', 10) {'ehrenbrav': 12140, 'points': 50.0, 'main_reward': 2.6328125, 'time_left': 0}\n"
     ]
    },
    {
     "name": "stdout",
     "output_type": "stream",
     "text": [
      "('nes_a3c_4', '16000000_finish.h5', 11) {'ehrenbrav': 12135, 'points': 50.0, 'main_reward': 2.6328125, 'time_left': 0}\n"
     ]
    },
    {
     "name": "stdout",
     "output_type": "stream",
     "text": [
      "('nes_a3c_4', '16000000_finish.h5', 12) {'ehrenbrav': 12140, 'points': 50.0, 'main_reward': 2.6328125, 'time_left': 0}\n"
     ]
    },
    {
     "name": "stdout",
     "output_type": "stream",
     "text": [
      "('nes_a3c_4', '16000000_finish.h5', 13) {'ehrenbrav': 12140, 'points': 50.0, 'main_reward': 2.6328125, 'time_left': 0}\n"
     ]
    },
    {
     "name": "stdout",
     "output_type": "stream",
     "text": [
      "('nes_a3c_4', '16000000_finish.h5', 14) {'ehrenbrav': 12140, 'points': 50.0, 'main_reward': 2.6328125, 'time_left': 0}\n"
     ]
    },
    {
     "name": "stdout",
     "output_type": "stream",
     "text": [
      "('nes_a3c_4', '16000000_finish.h5', 15) {'ehrenbrav': 15565, 'points': 50.0, 'main_reward': 4.859375, 'time_left': 0}\n"
     ]
    },
    {
     "name": "stdout",
     "output_type": "stream",
     "text": [
      "('nes_a3c_4', '16000000_finish.h5', 16) {'ehrenbrav': 12135, 'points': 50.0, 'main_reward': 2.6328125, 'time_left': 0}\n"
     ]
    },
    {
     "name": "stdout",
     "output_type": "stream",
     "text": [
      "('nes_a3c_4', '16000000_finish.h5', 17) {'ehrenbrav': 15565, 'points': 50.0, 'main_reward': 4.859375, 'time_left': 0}\n"
     ]
    },
    {
     "name": "stdout",
     "output_type": "stream",
     "text": [
      "('nes_a3c_4', '16000000_finish.h5', 18) {'ehrenbrav': 12140, 'points': 50.0, 'main_reward': 2.6328125, 'time_left': 0}\n"
     ]
    },
    {
     "name": "stdout",
     "output_type": "stream",
     "text": [
      "('nes_a3c_4', '16000000_finish.h5', 19) {'ehrenbrav': 12140, 'points': 50.0, 'main_reward': 2.6328125, 'time_left': 0}\n"
     ]
    },
    {
     "name": "stdout",
     "output_type": "stream",
     "text": [
      "('nes_a3c_4', '16000000_finish.h5', 20) {'ehrenbrav': 12140, 'points': 50.0, 'main_reward': 2.6328125, 'time_left': 0}\n"
     ]
    },
    {
     "name": "stdout",
     "output_type": "stream",
     "text": [
      "('nes_a3c_4', '16000000_finish.h5', 21) {'ehrenbrav': 15565, 'points': 50.0, 'main_reward': 4.859375, 'time_left': 0}\n"
     ]
    },
    {
     "name": "stdout",
     "output_type": "stream",
     "text": [
      "('nes_a3c_4', '16000000_finish.h5', 22) {'ehrenbrav': 12140, 'points': 50.0, 'main_reward': 2.6328125, 'time_left': 0}\n"
     ]
    },
    {
     "name": "stdout",
     "output_type": "stream",
     "text": [
      "('nes_a3c_4', '16000000_finish.h5', 23) {'ehrenbrav': 15565, 'points': 50.0, 'main_reward': 4.859375, 'time_left': 0}\n"
     ]
    },
    {
     "name": "stdout",
     "output_type": "stream",
     "text": [
      "('nes_a3c_4', '16000000_finish.h5', 24) {'ehrenbrav': 12140, 'points': 50.0, 'main_reward': 2.6328125, 'time_left': 0}\n"
     ]
    },
    {
     "name": "stdout",
     "output_type": "stream",
     "text": [
      "('nes_a3c_4', '16000000_finish.h5', 25) {'ehrenbrav': 15565, 'points': 50.0, 'main_reward': 4.859375, 'time_left': 0}\n"
     ]
    },
    {
     "name": "stdout",
     "output_type": "stream",
     "text": [
      "('nes_a3c_4', '16000000_finish.h5', 26) {'ehrenbrav': 15565, 'points': 50.0, 'main_reward': 4.859375, 'time_left': 0}\n"
     ]
    },
    {
     "name": "stdout",
     "output_type": "stream",
     "text": [
      "('nes_a3c_4', '16000000_finish.h5', 27) {'ehrenbrav': 12140, 'points': 50.0, 'main_reward': 2.6328125, 'time_left': 0}\n"
     ]
    },
    {
     "name": "stdout",
     "output_type": "stream",
     "text": [
      "('nes_a3c_4', '16000000_finish.h5', 28) {'ehrenbrav': 12140, 'points': 50.0, 'main_reward': 2.6328125, 'time_left': 0}\n"
     ]
    },
    {
     "name": "stdout",
     "output_type": "stream",
     "text": [
      "('nes_a3c_4', '16000000_finish.h5', 29) {'ehrenbrav': 12140, 'points': 50.0, 'main_reward': 2.6328125, 'time_left': 0}\n"
     ]
    },
    {
     "name": "stdout",
     "output_type": "stream",
     "text": [
      "('scaled_finer_main_reward_with_points_1', '16000000_finish.h5', 0) {'ehrenbrav': 10450, 'points': 70.0, 'main_reward': 6.0625, 'time_left': 0}\n"
     ]
    },
    {
     "name": "stdout",
     "output_type": "stream",
     "text": [
      "('scaled_finer_main_reward_with_points_1', '16000000_finish.h5', 1) {'ehrenbrav': 10450, 'points': 70.0, 'main_reward': 6.0625, 'time_left': 0}\n"
     ]
    },
    {
     "name": "stdout",
     "output_type": "stream",
     "text": [
      "('scaled_finer_main_reward_with_points_1', '16000000_finish.h5', 2) {'ehrenbrav': 10450, 'points': 70.0, 'main_reward': 6.0625, 'time_left': 0}\n"
     ]
    },
    {
     "name": "stdout",
     "output_type": "stream",
     "text": [
      "('scaled_finer_main_reward_with_points_1', '16000000_finish.h5', 3) {'ehrenbrav': 10450, 'points': 70.0, 'main_reward': 6.0625, 'time_left': 0}\n"
     ]
    },
    {
     "name": "stdout",
     "output_type": "stream",
     "text": [
      "('scaled_finer_main_reward_with_points_1', '16000000_finish.h5', 4) {'ehrenbrav': 10450, 'points': 70.0, 'main_reward': 6.0625, 'time_left': 0}\n"
     ]
    },
    {
     "name": "stdout",
     "output_type": "stream",
     "text": [
      "('scaled_finer_main_reward_with_points_1', '16000000_finish.h5', 5) {'ehrenbrav': 10450, 'points': 70.0, 'main_reward': 6.0625, 'time_left': 0}\n"
     ]
    },
    {
     "name": "stdout",
     "output_type": "stream",
     "text": [
      "('scaled_finer_main_reward_with_points_1', '16000000_finish.h5', 6) {'ehrenbrav': 10450, 'points': 70.0, 'main_reward': 6.0625, 'time_left': 0}\n"
     ]
    },
    {
     "name": "stdout",
     "output_type": "stream",
     "text": [
      "('scaled_finer_main_reward_with_points_1', '16000000_finish.h5', 7) {'ehrenbrav': 10450, 'points': 70.0, 'main_reward': 6.0625, 'time_left': 0}\n"
     ]
    },
    {
     "name": "stdout",
     "output_type": "stream",
     "text": [
      "('scaled_finer_main_reward_with_points_1', '16000000_finish.h5', 8) {'ehrenbrav': 10450, 'points': 70.0, 'main_reward': 6.0625, 'time_left': 0}\n"
     ]
    },
    {
     "name": "stdout",
     "output_type": "stream",
     "text": [
      "('scaled_finer_main_reward_with_points_1', '16000000_finish.h5', 9) {'ehrenbrav': 10450, 'points': 70.0, 'main_reward': 6.0625, 'time_left': 0}\n"
     ]
    },
    {
     "name": "stdout",
     "output_type": "stream",
     "text": [
      "('scaled_finer_main_reward_with_points_1', '16000000_finish.h5', 10) {'ehrenbrav': 10450, 'points': 70.0, 'main_reward': 6.0625, 'time_left': 0}\n"
     ]
    },
    {
     "name": "stdout",
     "output_type": "stream",
     "text": [
      "('scaled_finer_main_reward_with_points_1', '16000000_finish.h5', 11) {'ehrenbrav': 10450, 'points': 70.0, 'main_reward': 6.0625, 'time_left': 0}\n"
     ]
    },
    {
     "name": "stdout",
     "output_type": "stream",
     "text": [
      "('scaled_finer_main_reward_with_points_1', '16000000_finish.h5', 12) {'ehrenbrav': 10450, 'points': 70.0, 'main_reward': 6.0625, 'time_left': 0}\n"
     ]
    },
    {
     "name": "stdout",
     "output_type": "stream",
     "text": [
      "('scaled_finer_main_reward_with_points_1', '16000000_finish.h5', 13) {'ehrenbrav': 10450, 'points': 70.0, 'main_reward': 6.0625, 'time_left': 0}\n"
     ]
    },
    {
     "name": "stdout",
     "output_type": "stream",
     "text": [
      "('scaled_finer_main_reward_with_points_1', '16000000_finish.h5', 14) {'ehrenbrav': 10450, 'points': 70.0, 'main_reward': 6.0625, 'time_left': 0}\n"
     ]
    },
    {
     "name": "stdout",
     "output_type": "stream",
     "text": [
      "('scaled_finer_main_reward_with_points_1', '16000000_finish.h5', 15) {'ehrenbrav': 10450, 'points': 70.0, 'main_reward': 6.0625, 'time_left': 0}\n"
     ]
    },
    {
     "name": "stdout",
     "output_type": "stream",
     "text": [
      "('scaled_finer_main_reward_with_points_1', '16000000_finish.h5', 16) {'ehrenbrav': 10450, 'points': 70.0, 'main_reward': 6.0625, 'time_left': 0}\n"
     ]
    },
    {
     "name": "stdout",
     "output_type": "stream",
     "text": [
      "('scaled_finer_main_reward_with_points_1', '16000000_finish.h5', 17) {'ehrenbrav': 10450, 'points': 70.0, 'main_reward': 6.0625, 'time_left': 0}\n"
     ]
    },
    {
     "name": "stdout",
     "output_type": "stream",
     "text": [
      "('scaled_finer_main_reward_with_points_1', '16000000_finish.h5', 18) {'ehrenbrav': 10450, 'points': 70.0, 'main_reward': 6.0625, 'time_left': 0}\n"
     ]
    },
    {
     "name": "stdout",
     "output_type": "stream",
     "text": [
      "('scaled_finer_main_reward_with_points_1', '16000000_finish.h5', 19) {'ehrenbrav': 10450, 'points': 70.0, 'main_reward': 6.0625, 'time_left': 0}\n"
     ]
    },
    {
     "name": "stdout",
     "output_type": "stream",
     "text": [
      "('scaled_finer_main_reward_with_points_1', '16000000_finish.h5', 20) {'ehrenbrav': 10450, 'points': 70.0, 'main_reward': 6.0625, 'time_left': 0}\n"
     ]
    },
    {
     "name": "stdout",
     "output_type": "stream",
     "text": [
      "('scaled_finer_main_reward_with_points_1', '16000000_finish.h5', 21) {'ehrenbrav': 10450, 'points': 70.0, 'main_reward': 6.0625, 'time_left': 0}\n"
     ]
    },
    {
     "name": "stdout",
     "output_type": "stream",
     "text": [
      "('scaled_finer_main_reward_with_points_1', '16000000_finish.h5', 22) {'ehrenbrav': 10450, 'points': 70.0, 'main_reward': 6.0625, 'time_left': 0}\n"
     ]
    },
    {
     "name": "stdout",
     "output_type": "stream",
     "text": [
      "('scaled_finer_main_reward_with_points_1', '16000000_finish.h5', 23) {'ehrenbrav': 10450, 'points': 70.0, 'main_reward': 6.0625, 'time_left': 0}\n"
     ]
    },
    {
     "name": "stdout",
     "output_type": "stream",
     "text": [
      "('scaled_finer_main_reward_with_points_1', '16000000_finish.h5', 24) {'ehrenbrav': 10450, 'points': 70.0, 'main_reward': 6.0625, 'time_left': 0}\n"
     ]
    },
    {
     "name": "stdout",
     "output_type": "stream",
     "text": [
      "('scaled_finer_main_reward_with_points_1', '16000000_finish.h5', 25) {'ehrenbrav': 10450, 'points': 70.0, 'main_reward': 6.0625, 'time_left': 0}\n"
     ]
    },
    {
     "name": "stdout",
     "output_type": "stream",
     "text": [
      "('scaled_finer_main_reward_with_points_1', '16000000_finish.h5', 26) {'ehrenbrav': 10450, 'points': 70.0, 'main_reward': 6.0625, 'time_left': 0}\n"
     ]
    },
    {
     "name": "stdout",
     "output_type": "stream",
     "text": [
      "('scaled_finer_main_reward_with_points_1', '16000000_finish.h5', 27) {'ehrenbrav': 10450, 'points': 70.0, 'main_reward': 6.0625, 'time_left': 0}\n"
     ]
    },
    {
     "name": "stdout",
     "output_type": "stream",
     "text": [
      "('scaled_finer_main_reward_with_points_1', '16000000_finish.h5', 28) {'ehrenbrav': 10450, 'points': 70.0, 'main_reward': 6.0625, 'time_left': 0}\n"
     ]
    },
    {
     "name": "stdout",
     "output_type": "stream",
     "text": [
      "('scaled_finer_main_reward_with_points_1', '16000000_finish.h5', 29) {'ehrenbrav': 10450, 'points': 70.0, 'main_reward': 6.0625, 'time_left': 0}\n"
     ]
    },
    {
     "name": "stdout",
     "output_type": "stream",
     "text": [
      "('scaled_fine_main_reward_1', '16000000_finish.h5', 0) {'ehrenbrav': 16870, 'points': 50.0, 'main_reward': 6.0625, 'time_left': 0}\n"
     ]
    },
    {
     "name": "stdout",
     "output_type": "stream",
     "text": [
      "('scaled_fine_main_reward_1', '16000000_finish.h5', 1) {'ehrenbrav': 16870, 'points': 50.0, 'main_reward': 6.0625, 'time_left': 0}\n"
     ]
    },
    {
     "name": "stdout",
     "output_type": "stream",
     "text": [
      "('scaled_fine_main_reward_1', '16000000_finish.h5', 2) {'ehrenbrav': 16870, 'points': 50.0, 'main_reward': 6.0625, 'time_left': 0}\n"
     ]
    },
    {
     "name": "stdout",
     "output_type": "stream",
     "text": [
      "('scaled_fine_main_reward_1', '16000000_finish.h5', 3) {'ehrenbrav': 16870, 'points': 50.0, 'main_reward': 6.0625, 'time_left': 0}\n"
     ]
    },
    {
     "name": "stdout",
     "output_type": "stream",
     "text": [
      "('scaled_fine_main_reward_1', '16000000_finish.h5', 4) {'ehrenbrav': 16870, 'points': 50.0, 'main_reward': 6.0625, 'time_left': 0}\n"
     ]
    },
    {
     "name": "stdout",
     "output_type": "stream",
     "text": [
      "('scaled_fine_main_reward_1', '16000000_finish.h5', 5) {'ehrenbrav': 16870, 'points': 50.0, 'main_reward': 6.0625, 'time_left': 0}\n"
     ]
    },
    {
     "name": "stdout",
     "output_type": "stream",
     "text": [
      "('scaled_fine_main_reward_1', '16000000_finish.h5', 6) {'ehrenbrav': 16870, 'points': 50.0, 'main_reward': 6.0625, 'time_left': 0}\n"
     ]
    },
    {
     "name": "stdout",
     "output_type": "stream",
     "text": [
      "('scaled_fine_main_reward_1', '16000000_finish.h5', 7) {'ehrenbrav': 16870, 'points': 50.0, 'main_reward': 6.0625, 'time_left': 0}\n"
     ]
    },
    {
     "name": "stdout",
     "output_type": "stream",
     "text": [
      "('scaled_fine_main_reward_1', '16000000_finish.h5', 8) {'ehrenbrav': 16870, 'points': 50.0, 'main_reward': 6.0625, 'time_left': 0}\n"
     ]
    },
    {
     "name": "stdout",
     "output_type": "stream",
     "text": [
      "('scaled_fine_main_reward_1', '16000000_finish.h5', 9) {'ehrenbrav': 16870, 'points': 50.0, 'main_reward': 6.0625, 'time_left': 0}\n"
     ]
    },
    {
     "name": "stdout",
     "output_type": "stream",
     "text": [
      "('scaled_fine_main_reward_1', '16000000_finish.h5', 10) {'ehrenbrav': 16870, 'points': 50.0, 'main_reward': 6.0625, 'time_left': 0}\n"
     ]
    },
    {
     "name": "stdout",
     "output_type": "stream",
     "text": [
      "('scaled_fine_main_reward_1', '16000000_finish.h5', 11) {'ehrenbrav': 16870, 'points': 50.0, 'main_reward': 6.0625, 'time_left': 0}\n"
     ]
    },
    {
     "name": "stdout",
     "output_type": "stream",
     "text": [
      "('scaled_fine_main_reward_1', '16000000_finish.h5', 12) {'ehrenbrav': 16870, 'points': 50.0, 'main_reward': 6.0625, 'time_left': 0}\n"
     ]
    },
    {
     "name": "stdout",
     "output_type": "stream",
     "text": [
      "('scaled_fine_main_reward_1', '16000000_finish.h5', 13) {'ehrenbrav': 16870, 'points': 50.0, 'main_reward': 6.0625, 'time_left': 0}\n"
     ]
    },
    {
     "name": "stdout",
     "output_type": "stream",
     "text": [
      "('scaled_fine_main_reward_1', '16000000_finish.h5', 14) {'ehrenbrav': 16870, 'points': 50.0, 'main_reward': 6.0625, 'time_left': 0}\n"
     ]
    },
    {
     "name": "stdout",
     "output_type": "stream",
     "text": [
      "('scaled_fine_main_reward_1', '16000000_finish.h5', 15) {'ehrenbrav': 16870, 'points': 50.0, 'main_reward': 6.0625, 'time_left': 0}\n"
     ]
    },
    {
     "name": "stdout",
     "output_type": "stream",
     "text": [
      "('scaled_fine_main_reward_1', '16000000_finish.h5', 16) {'ehrenbrav': 16870, 'points': 50.0, 'main_reward': 6.0625, 'time_left': 0}\n"
     ]
    },
    {
     "name": "stdout",
     "output_type": "stream",
     "text": [
      "('scaled_fine_main_reward_1', '16000000_finish.h5', 17) {'ehrenbrav': 16870, 'points': 50.0, 'main_reward': 6.0625, 'time_left': 0}\n"
     ]
    },
    {
     "name": "stdout",
     "output_type": "stream",
     "text": [
      "('scaled_fine_main_reward_1', '16000000_finish.h5', 18) {'ehrenbrav': 16870, 'points': 50.0, 'main_reward': 6.0625, 'time_left': 0}\n"
     ]
    },
    {
     "name": "stdout",
     "output_type": "stream",
     "text": [
      "('scaled_fine_main_reward_1', '16000000_finish.h5', 19) {'ehrenbrav': 16870, 'points': 50.0, 'main_reward': 6.0625, 'time_left': 0}\n"
     ]
    },
    {
     "name": "stdout",
     "output_type": "stream",
     "text": [
      "('scaled_fine_main_reward_1', '16000000_finish.h5', 20) {'ehrenbrav': 16870, 'points': 50.0, 'main_reward': 6.0625, 'time_left': 0}\n"
     ]
    },
    {
     "name": "stdout",
     "output_type": "stream",
     "text": [
      "('scaled_fine_main_reward_1', '16000000_finish.h5', 21) {'ehrenbrav': 16870, 'points': 50.0, 'main_reward': 6.0625, 'time_left': 0}\n"
     ]
    },
    {
     "name": "stdout",
     "output_type": "stream",
     "text": [
      "('scaled_fine_main_reward_1', '16000000_finish.h5', 22) {'ehrenbrav': 16870, 'points': 50.0, 'main_reward': 6.0625, 'time_left': 0}\n"
     ]
    },
    {
     "name": "stdout",
     "output_type": "stream",
     "text": [
      "('scaled_fine_main_reward_1', '16000000_finish.h5', 23) {'ehrenbrav': 16870, 'points': 50.0, 'main_reward': 6.0625, 'time_left': 0}\n"
     ]
    },
    {
     "name": "stdout",
     "output_type": "stream",
     "text": [
      "('scaled_fine_main_reward_1', '16000000_finish.h5', 24) {'ehrenbrav': 16870, 'points': 50.0, 'main_reward': 6.0625, 'time_left': 0}\n"
     ]
    },
    {
     "name": "stdout",
     "output_type": "stream",
     "text": [
      "('scaled_fine_main_reward_1', '16000000_finish.h5', 25) {'ehrenbrav': 16870, 'points': 50.0, 'main_reward': 6.0625, 'time_left': 0}\n"
     ]
    },
    {
     "name": "stdout",
     "output_type": "stream",
     "text": [
      "('scaled_fine_main_reward_1', '16000000_finish.h5', 26) {'ehrenbrav': 16870, 'points': 50.0, 'main_reward': 6.0625, 'time_left': 0}\n"
     ]
    },
    {
     "name": "stdout",
     "output_type": "stream",
     "text": [
      "('scaled_fine_main_reward_1', '16000000_finish.h5', 27) {'ehrenbrav': 16870, 'points': 50.0, 'main_reward': 6.0625, 'time_left': 0}\n"
     ]
    },
    {
     "name": "stdout",
     "output_type": "stream",
     "text": [
      "('scaled_fine_main_reward_1', '16000000_finish.h5', 28) {'ehrenbrav': 16870, 'points': 50.0, 'main_reward': 6.0625, 'time_left': 0}\n"
     ]
    },
    {
     "name": "stdout",
     "output_type": "stream",
     "text": [
      "('scaled_fine_main_reward_1', '16000000_finish.h5', 29) {'ehrenbrav': 16870, 'points': 50.0, 'main_reward': 6.0625, 'time_left': 0}\n"
     ]
    },
    {
     "name": "stdout",
     "output_type": "stream",
     "text": [
      "('nes_a3c_scaled_finer_main_reward_1', '16000000_finish.h5', 0) {'ehrenbrav': 30540, 'points': 70.0, 'main_reward': 11.4453125, 'time_left': 0}\n"
     ]
    },
    {
     "name": "stdout",
     "output_type": "stream",
     "text": [
      "('nes_a3c_scaled_finer_main_reward_1', '16000000_finish.h5', 1) {'ehrenbrav': 30540, 'points': 70.0, 'main_reward': 11.4453125, 'time_left': 0}\n"
     ]
    }
   ],
   "source": [
    "eval_results_d = {}\n",
    "for (experiment_name,model_name), weights in model_snapshots.items():\n",
    "    model = load_model(weights)\n",
    "    for attempt_nr in range(nr_of_attempts):\n",
    "        performance = eval_performance(rom_path,model,deterministic=True)\n",
    "        print((experiment_name,model_name,attempt_nr), performance)\n",
    "        eval_results_d[(experiment_name,model_name,attempt_nr)] = performance"
   ]
  },
  {
   "cell_type": "code",
   "execution_count": null,
   "metadata": {
    "collapsed": false
   },
   "outputs": [],
   "source": [
    "result_d_df_partial = pandas.DataFrame.from_dict(eval_results_d,orient=\"index\")"
   ]
  },
  {
   "cell_type": "code",
   "execution_count": 15,
   "metadata": {
    "collapsed": true
   },
   "outputs": [],
   "source": [
    "result_df.to_csv(\"eval_results_stocastisch.csv\")"
   ]
  },
  {
   "cell_type": "code",
   "execution_count": 16,
   "metadata": {
    "collapsed": true
   },
   "outputs": [],
   "source": [
    "result_df.to_pickle(\"eval_results_stocastisch.pickle\")"
   ]
  },
  {
   "cell_type": "code",
   "execution_count": 19,
   "metadata": {},
   "outputs": [],
   "source": [
    "result_df.groupby?"
   ]
  },
  {
   "cell_type": "code",
   "execution_count": null,
   "metadata": {},
   "outputs": [],
   "source": [
    ""
   ]
  }
 ],
 "metadata": {
  "kernelspec": {
   "display_name": "Python 3",
   "language": "python",
   "name": "python3"
  },
  "language_info": {
   "codemirror_mode": {
    "name": "ipython",
    "version": 3.0
   },
   "file_extension": ".py",
   "mimetype": "text/x-python",
   "name": "python",
   "nbconvert_exporter": "python",
   "pygments_lexer": "ipython3",
   "version": "3.5.2"
  }
 },
 "nbformat": 4,
 "nbformat_minor": 0
}