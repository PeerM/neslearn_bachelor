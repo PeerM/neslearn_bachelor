{
 "cells": [
  {
   "cell_type": "code",
   "execution_count": 4,
   "metadata": {
    "collapsed": true
   },
   "outputs": [],
   "source": [
    "import sys\n",
    "sys.path.append( \"/home/mathia/PycharmProjects/neslearn-git\")\n",
    "sys.path.append( \"/home/mathia/PycharmProjects/neslearn-git/extern/nes-async-rl/\")"
   ]
  },
  {
   "cell_type": "code",
   "execution_count": 5,
   "metadata": {
    "collapsed": false
   },
   "outputs": [],
   "source": [
    "import pandas\n",
    "import hsa.ba.rewards as rewards\n",
    "import itertools\n",
    "from extern.fceux_learningenv.nes_python_interface.nes_python_interface import NESInterface\n",
    "import hsa.machine_constants\n",
    "from hsa.nes_python_input import py_to_nes_wrapper\n",
    "\n",
    "import numpy as np\n",
    "import matplotlib.pyplot as plt\n",
    "import itertools\n",
    "import os.path"
   ]
  },
  {
   "cell_type": "code",
   "execution_count": 6,
   "metadata": {
    "collapsed": true
   },
   "outputs": [],
   "source": [
    "from dqn_phi import dqn_phi\n",
    "import nes \n",
    "from a3c_nes import A3CLSTM\n",
    "import chainer\n",
    "from chainer import serializers"
   ]
  },
  {
   "cell_type": "code",
   "execution_count": 7,
   "metadata": {
    "collapsed": false
   },
   "outputs": [],
   "source": [
    "example_model_path = \"/home/mathia/checkpoints/scaled_fine_main_reward_1/16000000_finish.h5\" \n",
    "rom_path = \"/home/mathia/mario.nes\"\n",
    "nr_of_attempts = 30"
   ]
  },
  {
   "cell_type": "code",
   "execution_count": 8,
   "metadata": {
    "collapsed": false
   },
   "outputs": [],
   "source": [
    "base_paht = \"/home/mathia/checkpoints/{}/{}\"\n",
    "model_names = [\n",
    "    \"scaled_fine_main_reward_1\" # coars\n",
    "    ,\"nes_a3c_4\" # ehrenbrav\n",
    "    ,\"nes_a3c_scaled_finer_main_reward_1\", # main\n",
    "     \"nes_a3c_finer_main_reward_1\" # small\n",
    "    ,\"scaled_finer_main_reward_with_points_1\" #with points\n",
    "]\n",
    "\n",
    "model_chepoint_combos = [(model_name,\"16000000_finish.h5\")for model_name in model_names]\n",
    "# model_chepoint_combos.append((\"nes_a3c_4\",\"9000000.h5\"))\n",
    "# model_chepoint_combos.append((\"scaled_fine_main_reward_1\",\"9400000.h5\"))\n",
    "# model_chepoint_combos.append((\"nes_a3c_scaled_finer_main_reward_1\",\"9200000.h5\"))\n",
    "#model_chepoint_combos = itertools.product(model_names, chepoint_filenames) \n",
    "model_snapshots = {(directory,checkpoint):base_paht.format(directory,checkpoint) \n",
    "                   for (directory,checkpoint) \n",
    "                   in model_chepoint_combos}\n",
    "# make sure every file exists\n",
    "for path in model_snapshots.values():\n",
    "    if not os.path.isfile(path):\n",
    "        print(path)"
   ]
  },
  {
   "cell_type": "code",
   "execution_count": 9,
   "metadata": {
    "collapsed": true
   },
   "outputs": [
    {
     "data": {
      "text/plain": [
       "{('nes_a3c_4',\n  '16000000_finish.h5'): '/home/mathia/checkpoints/nes_a3c_4/16000000_finish.h5',\n ('nes_a3c_finer_main_reward_1',\n  '16000000_finish.h5'): '/home/mathia/checkpoints/nes_a3c_finer_main_reward_1/16000000_finish.h5',\n ('nes_a3c_scaled_finer_main_reward_1',\n  '16000000_finish.h5'): '/home/mathia/checkpoints/nes_a3c_scaled_finer_main_reward_1/16000000_finish.h5',\n ('scaled_fine_main_reward_1',\n  '16000000_finish.h5'): '/home/mathia/checkpoints/scaled_fine_main_reward_1/16000000_finish.h5',\n ('scaled_finer_main_reward_with_points_1',\n  '16000000_finish.h5'): '/home/mathia/checkpoints/scaled_finer_main_reward_with_points_1/16000000_finish.h5'}"
      ]
     },
     "execution_count": 9,
     "metadata": {},
     "output_type": "execute_result"
    }
   ],
   "source": [
    "model_snapshots"
   ]
  },
  {
   "cell_type": "code",
   "execution_count": 11,
   "metadata": {
    "collapsed": false
   },
   "outputs": [],
   "source": [
    "#n_actions = nes.NES(hsa.machine_constants.mario_rom_location).number_of_actions\n",
    "\n",
    "def load_model(weights_path):\n",
    "    n_actions = nes.n_actions\n",
    "    model = A3CLSTM(n_actions)\n",
    "    serializers.load_hdf5(weights_path, model)\n",
    "    return model\n",
    "example_model = load_model(example_model_path)"
   ]
  },
  {
   "cell_type": "code",
   "execution_count": 15,
   "metadata": {
    "collapsed": true
   },
   "outputs": [],
   "source": [
    "def make_eval_functions():\n",
    "    return {\n",
    "        \"main_reward\": rewards.make_finer_main_reward(),\n",
    "        \"points\": rewards.make_delta_points(),\n",
    "        \"time_left\": rewards.reward_for_time_left\n",
    "    }"
   ]
  },
  {
   "cell_type": "code",
   "execution_count": 16,
   "metadata": {
    "collapsed": true
   },
   "outputs": [],
   "source": [
    "def eval_performance(model, nesApi, env, deterministic=False):\n",
    "    model.reset_state()\n",
    "    ehrenbrav_sum = 0\n",
    "    other_rewards = make_eval_functions()\n",
    "    sums = {name:0 for name in other_rewards.keys()}\n",
    "    while not env.is_terminal:\n",
    "        s = chainer.Variable(np.expand_dims(dqn_phi(env.state), 0))\n",
    "        pout = model.pi_and_v(s)[0]\n",
    "        model.unchain_backward()\n",
    "        # repeat action 4 times\n",
    "        if deterministic:\n",
    "            a = pout.most_probable_actions[0]\n",
    "        else:\n",
    "            a = pout.action_indices[0]\n",
    "        for i in range(4):\n",
    "            ehrenbrav_sum += env.receive_action(a)\n",
    "        \n",
    "            # TODO Sum of Ehrenbrav, Sum of Main Reward, sum of time left, did it beat the level?, how many deaths\n",
    "            ram = nesApi.getRAM()\n",
    "            for name, reward_function in other_rewards.items():\n",
    "                sums[name] += reward_function(ram)\n",
    "            if env.is_terminal:\n",
    "                break\n",
    "    \n",
    "    sums[\"ehrenbrav\"] = ehrenbrav_sum\n",
    "    return sums"
   ]
  },
  {
   "cell_type": "code",
   "execution_count": 38,
   "metadata": {
    "collapsed": false
   },
   "outputs": [
    {
     "data": {
      "text/plain": [
       "{'ehrenbrav': 14405, 'main_reward': 7.890625, 'points': 40.0, 'time_left': 0}"
      ]
     },
     "execution_count": 38,
     "metadata": {},
     "output_type": "execute_result"
    }
   ],
   "source": [
    "eval_performance(hsa.machine_constants.mario_rom_location,example_model,deterministic=False)"
   ]
  },
  {
   "cell_type": "code",
   "execution_count": 17,
   "metadata": {
    "collapsed": true
   },
   "outputs": [
    {
     "name": "stdout",
     "output_type": "stream",
     "text": [
      "('nes_a3c_finer_main_reward_1', '16000000_finish.h5', 0) {'points': 210.0, 'main_reward': 4.98046875, 'time_left': 0, 'ehrenbrav': 15220}\n"
     ]
    },
    {
     "name": "stdout",
     "output_type": "stream",
     "text": [
      "('nes_a3c_finer_main_reward_1', '16000000_finish.h5', 1) {'points': 60.0, 'main_reward': 3.5078125, 'time_left': 0, 'ehrenbrav': 10345}\n"
     ]
    },
    {
     "name": "stdout",
     "output_type": "stream",
     "text": [
      "('nes_a3c_finer_main_reward_1', '16000000_finish.h5', 2) {'points': 20.0, 'main_reward': 0.9375, 'time_left': 0, 'ehrenbrav': 6030}\n"
     ]
    },
    {
     "name": "stdout",
     "output_type": "stream",
     "text": [
      "('nes_a3c_finer_main_reward_1', '16000000_finish.h5', 3) {'points': 170.0, 'main_reward': 0.72265625, 'time_left': 0, 'ehrenbrav': 12830}\n"
     ]
    },
    {
     "name": "stdout",
     "output_type": "stream",
     "text": [
      "('nes_a3c_finer_main_reward_1', '16000000_finish.h5', 4) {'points': 20.0, 'main_reward': 3.11328125, 'time_left': 0, 'ehrenbrav': 6090}\n"
     ]
    },
    {
     "name": "stdout",
     "output_type": "stream",
     "text": [
      "('nes_a3c_finer_main_reward_1', '16000000_finish.h5', 5) {'points': 30.0, 'main_reward': 3.5078125, 'time_left': 0, 'ehrenbrav': 7205}\n"
     ]
    },
    {
     "name": "stdout",
     "output_type": "stream",
     "text": [
      "('nes_a3c_finer_main_reward_1', '16000000_finish.h5', 6) {'points': 0.0, 'main_reward': 3.08984375, 'time_left': 0, 'ehrenbrav': 10140}\n"
     ]
    },
    {
     "name": "stdout",
     "output_type": "stream",
     "text": [
      "('nes_a3c_finer_main_reward_1', '16000000_finish.h5', 7) {'points': 50.0, 'main_reward': 1.18359375, 'time_left': 0, 'ehrenbrav': 7195}\n"
     ]
    },
    {
     "name": "stdout",
     "output_type": "stream",
     "text": [
      "('nes_a3c_finer_main_reward_1', '16000000_finish.h5', 8) {'points': 100.0, 'main_reward': 6.0703125, 'time_left': 0, 'ehrenbrav': 10695}\n"
     ]
    },
    {
     "name": "stdout",
     "output_type": "stream",
     "text": [
      "('nes_a3c_finer_main_reward_1', '16000000_finish.h5', 9) {'points': 0.0, 'main_reward': 0.3359375, 'time_left': 0, 'ehrenbrav': 2210}\n"
     ]
    },
    {
     "name": "stdout",
     "output_type": "stream",
     "text": [
      "('nes_a3c_finer_main_reward_1', '16000000_finish.h5', 10) {'points': 20.0, 'main_reward': 2.765625, 'time_left': 0, 'ehrenbrav': 5500}\n"
     ]
    },
    {
     "name": "stdout",
     "output_type": "stream",
     "text": [
      "('nes_a3c_finer_main_reward_1', '16000000_finish.h5', 11) {'points': 40.0, 'main_reward': 0.9921875, 'time_left': 0, 'ehrenbrav': 7815}\n"
     ]
    },
    {
     "name": "stdout",
     "output_type": "stream",
     "text": [
      "('nes_a3c_finer_main_reward_1', '16000000_finish.h5', 12) {'points': 0.0, 'main_reward': 1.15234375, 'time_left': 0, 'ehrenbrav': 3775}\n"
     ]
    },
    {
     "name": "stdout",
     "output_type": "stream",
     "text": [
      "('nes_a3c_finer_main_reward_1', '16000000_finish.h5', 13) {'points': 20.0, 'main_reward': 3.4296875, 'time_left': 0, 'ehrenbrav': 10740}\n"
     ]
    },
    {
     "name": "stdout",
     "output_type": "stream",
     "text": [
      "('nes_a3c_finer_main_reward_1', '16000000_finish.h5', 14) {'points': 80.0, 'main_reward': 0.6796875, 'time_left': 0, 'ehrenbrav': 11230}\n"
     ]
    },
    {
     "name": "stdout",
     "output_type": "stream",
     "text": [
      "('nes_a3c_finer_main_reward_1', '16000000_finish.h5', 15) {'points': 0.0, 'main_reward': 0.84375, 'time_left': 0, 'ehrenbrav': 3215}\n"
     ]
    },
    {
     "name": "stdout",
     "output_type": "stream",
     "text": [
      "('nes_a3c_finer_main_reward_1', '16000000_finish.h5', 16) {'points': 70.0, 'main_reward': 1.12109375, 'time_left': 0, 'ehrenbrav': 10230}\n"
     ]
    },
    {
     "name": "stdout",
     "output_type": "stream",
     "text": [
      "('nes_a3c_finer_main_reward_1', '16000000_finish.h5', 17) {'points': 20.0, 'main_reward': 1.05078125, 'time_left': 0, 'ehrenbrav': 3485}\n"
     ]
    },
    {
     "name": "stdout",
     "output_type": "stream",
     "text": [
      "('nes_a3c_finer_main_reward_1', '16000000_finish.h5', 18) {'points': 190.0, 'main_reward': 1.109375, 'time_left': 0, 'ehrenbrav': 12385}\n"
     ]
    },
    {
     "name": "stdout",
     "output_type": "stream",
     "text": [
      "('nes_a3c_finer_main_reward_1', '16000000_finish.h5', 19) {'points': 70.0, 'main_reward': 3.21484375, 'time_left': 0, 'ehrenbrav': 9780}\n"
     ]
    },
    {
     "name": "stdout",
     "output_type": "stream",
     "text": [
      "('nes_a3c_finer_main_reward_1', '16000000_finish.h5', 20) {'points': 50.0, 'main_reward': 3.2734375, 'time_left': 0, 'ehrenbrav': 9005}\n"
     ]
    },
    {
     "name": "stdout",
     "output_type": "stream",
     "text": [
      "('nes_a3c_finer_main_reward_1', '16000000_finish.h5', 21) {'points': 0.0, 'main_reward': 1.0703125, 'time_left': 0, 'ehrenbrav': 3440}\n"
     ]
    },
    {
     "name": "stdout",
     "output_type": "stream",
     "text": [
      "('nes_a3c_finer_main_reward_1', '16000000_finish.h5', 22) {'points': 60.0, 'main_reward': 0.99609375, 'time_left': 0, 'ehrenbrav': 10060}\n"
     ]
    },
    {
     "name": "stdout",
     "output_type": "stream",
     "text": [
      "('nes_a3c_finer_main_reward_1', '16000000_finish.h5', 23) {'points': 510.0, 'main_reward': 11.5703125, 'time_left': 0, 'ehrenbrav': 16435}\n"
     ]
    },
    {
     "name": "stdout",
     "output_type": "stream",
     "text": [
      "('nes_a3c_finer_main_reward_1', '16000000_finish.h5', 24) {'points': 350.0, 'main_reward': 5.8203125, 'time_left': 0, 'ehrenbrav': 12205}\n"
     ]
    },
    {
     "name": "stdout",
     "output_type": "stream",
     "text": [
      "('nes_a3c_finer_main_reward_1', '16000000_finish.h5', 25) {'points': 200.0, 'main_reward': 4.65625, 'time_left': 0, 'ehrenbrav': 13220}\n"
     ]
    },
    {
     "name": "stdout",
     "output_type": "stream",
     "text": [
      "('nes_a3c_finer_main_reward_1', '16000000_finish.h5', 26) {'points': 20.0, 'main_reward': 2.734375, 'time_left': 0, 'ehrenbrav': 5310}\n"
     ]
    },
    {
     "name": "stdout",
     "output_type": "stream",
     "text": [
      "('nes_a3c_finer_main_reward_1', '16000000_finish.h5', 27) {'points': 180.0, 'main_reward': 4.91015625, 'time_left': 0, 'ehrenbrav': 15210}\n"
     ]
    },
    {
     "name": "stdout",
     "output_type": "stream",
     "text": [
      "('nes_a3c_finer_main_reward_1', '16000000_finish.h5', 28) {'points': 20.0, 'main_reward': 1.109375, 'time_left': 0, 'ehrenbrav': 3450}\n"
     ]
    },
    {
     "name": "stdout",
     "output_type": "stream",
     "text": [
      "('nes_a3c_finer_main_reward_1', '16000000_finish.h5', 29) {'points': 30.0, 'main_reward': 0.8671875, 'time_left': 0, 'ehrenbrav': 8345}\n"
     ]
    },
    {
     "name": "stdout",
     "output_type": "stream",
     "text": [
      "('nes_a3c_scaled_finer_main_reward_1', '16000000_finish.h5', 0) {'points': 20.0, 'main_reward': 5.92578125, 'time_left': 0, 'ehrenbrav': 9575}\n"
     ]
    },
    {
     "name": "stdout",
     "output_type": "stream",
     "text": [
      "('nes_a3c_scaled_finer_main_reward_1', '16000000_finish.h5', 1) {'points': 10.0, 'main_reward': 5.9453125, 'time_left': 0, 'ehrenbrav': 10090}\n"
     ]
    },
    {
     "name": "stdout",
     "output_type": "stream",
     "text": [
      "('nes_a3c_scaled_finer_main_reward_1', '16000000_finish.h5', 2) {'points': 20.0, 'main_reward': 5.92578125, 'time_left': 0, 'ehrenbrav': 9880}\n"
     ]
    },
    {
     "name": "stdout",
     "output_type": "stream",
     "text": [
      "('nes_a3c_scaled_finer_main_reward_1', '16000000_finish.h5', 3) {'points': 0.0, 'main_reward': 1.22265625, 'time_left': 0, 'ehrenbrav': 4075}\n"
     ]
    },
    {
     "name": "stdout",
     "output_type": "stream",
     "text": [
      "('nes_a3c_scaled_finer_main_reward_1', '16000000_finish.h5', 4) {'points': 0.0, 'main_reward': 1.21875, 'time_left': 0, 'ehrenbrav': 4050}\n"
     ]
    },
    {
     "name": "stdout",
     "output_type": "stream",
     "text": [
      "('nes_a3c_scaled_finer_main_reward_1', '16000000_finish.h5', 5) {'points': 20.0, 'main_reward': 5.92578125, 'time_left': 0, 'ehrenbrav': 9605}\n"
     ]
    },
    {
     "name": "stdout",
     "output_type": "stream",
     "text": [
      "('nes_a3c_scaled_finer_main_reward_1', '16000000_finish.h5', 6) {'points': 0.0, 'main_reward': 1.21875, 'time_left': 0, 'ehrenbrav': 5940}\n"
     ]
    },
    {
     "name": "stdout",
     "output_type": "stream",
     "text": [
      "('nes_a3c_scaled_finer_main_reward_1', '16000000_finish.h5', 7) {'points': 20.0, 'main_reward': 5.92578125, 'time_left': 0, 'ehrenbrav': 12560}\n"
     ]
    },
    {
     "name": "stdout",
     "output_type": "stream",
     "text": [
      "('nes_a3c_scaled_finer_main_reward_1', '16000000_finish.h5', 8) {'points': 0.0, 'main_reward': 1.21875, 'time_left': 0, 'ehrenbrav': 4070}\n"
     ]
    },
    {
     "name": "stdout",
     "output_type": "stream",
     "text": [
      "('nes_a3c_scaled_finer_main_reward_1', '16000000_finish.h5', 9) {'points': 10.0, 'main_reward': 1.21875, 'time_left': 0, 'ehrenbrav': 8800}\n"
     ]
    },
    {
     "name": "stdout",
     "output_type": "stream",
     "text": [
      "('nes_a3c_scaled_finer_main_reward_1', '16000000_finish.h5', 10) {'points': 20.0, 'main_reward': 4.890625, 'time_left': 0, 'ehrenbrav': 15460}\n"
     ]
    },
    {
     "name": "stdout",
     "output_type": "stream",
     "text": [
      "('nes_a3c_scaled_finer_main_reward_1', '16000000_finish.h5', 11) {'points': 10.0, 'main_reward': 1.2265625, 'time_left': 0, 'ehrenbrav': 6100}\n"
     ]
    },
    {
     "name": "stdout",
     "output_type": "stream",
     "text": [
      "('nes_a3c_scaled_finer_main_reward_1', '16000000_finish.h5', 12) {'points': 10.0, 'main_reward': 4.890625, 'time_left': 0, 'ehrenbrav': 10705}\n"
     ]
    },
    {
     "name": "stdout",
     "output_type": "stream",
     "text": [
      "('nes_a3c_scaled_finer_main_reward_1', '16000000_finish.h5', 13) {'points': 0.0, 'main_reward': 1.21875, 'time_left': 0, 'ehrenbrav': 4055}\n"
     ]
    },
    {
     "name": "stdout",
     "output_type": "stream",
     "text": [
      "('nes_a3c_scaled_finer_main_reward_1', '16000000_finish.h5', 14) {'points': 0.0, 'main_reward': 2.71875, 'time_left': 0, 'ehrenbrav': 5960}\n"
     ]
    },
    {
     "name": "stdout",
     "output_type": "stream",
     "text": [
      "('nes_a3c_scaled_finer_main_reward_1', '16000000_finish.h5', 15) {'points': 0.0, 'main_reward': 6.05078125, 'time_left': 0, 'ehrenbrav': 9565}\n"
     ]
    },
    {
     "name": "stdout",
     "output_type": "stream",
     "text": [
      "('nes_a3c_scaled_finer_main_reward_1', '16000000_finish.h5', 16) {'points': 20.0, 'main_reward': 5.94140625, 'time_left': 0, 'ehrenbrav': 14895}\n"
     ]
    },
    {
     "name": "stdout",
     "output_type": "stream",
     "text": [
      "('nes_a3c_scaled_finer_main_reward_1', '16000000_finish.h5', 17) {'points': 10.0, 'main_reward': 1.22265625, 'time_left': 0, 'ehrenbrav': 8835}\n"
     ]
    },
    {
     "name": "stdout",
     "output_type": "stream",
     "text": [
      "('nes_a3c_scaled_finer_main_reward_1', '16000000_finish.h5', 18) {'points': 20.0, 'main_reward': 7.64453125, 'time_left': 0, 'ehrenbrav': 14275}\n"
     ]
    },
    {
     "name": "stdout",
     "output_type": "stream",
     "text": [
      "('nes_a3c_scaled_finer_main_reward_1', '16000000_finish.h5', 19) {'points': 70.0, 'main_reward': 5.93359375, 'time_left': 0, 'ehrenbrav': 15335}\n"
     ]
    },
    {
     "name": "stdout",
     "output_type": "stream",
     "text": [
      "('nes_a3c_scaled_finer_main_reward_1', '16000000_finish.h5', 20) {'points': 0.0, 'main_reward': 2.73046875, 'time_left': 0, 'ehrenbrav': 5985}\n"
     ]
    },
    {
     "name": "stdout",
     "output_type": "stream",
     "text": [
      "('nes_a3c_scaled_finer_main_reward_1', '16000000_finish.h5', 21) {'points': 10.0, 'main_reward': 4.88671875, 'time_left': 0, 'ehrenbrav': 10730}\n"
     ]
    },
    {
     "name": "stdout",
     "output_type": "stream",
     "text": [
      "('nes_a3c_scaled_finer_main_reward_1', '16000000_finish.h5', 22) {'points': 20.0, 'main_reward': 5.9453125, 'time_left': 0, 'ehrenbrav': 9910}\n"
     ]
    },
    {
     "name": "stdout",
     "output_type": "stream",
     "text": [
      "('nes_a3c_scaled_finer_main_reward_1', '16000000_finish.h5', 23) {'points': 20.0, 'main_reward': 5.93359375, 'time_left': 0, 'ehrenbrav': 19835}\n"
     ]
    },
    {
     "name": "stdout",
     "output_type": "stream",
     "text": [
      "('nes_a3c_scaled_finer_main_reward_1', '16000000_finish.h5', 24) {'points': 20.0, 'main_reward': 6.0546875, 'time_left': 0, 'ehrenbrav': 13820}\n"
     ]
    },
    {
     "name": "stdout",
     "output_type": "stream",
     "text": [
      "('nes_a3c_scaled_finer_main_reward_1', '16000000_finish.h5', 25) {'points': 20.0, 'main_reward': 1.2265625, 'time_left': 0, 'ehrenbrav': 11475}\n"
     ]
    },
    {
     "name": "stdout",
     "output_type": "stream",
     "text": [
      "('nes_a3c_scaled_finer_main_reward_1', '16000000_finish.h5', 26) {'points': 50.0, 'main_reward': 4.8984375, 'time_left': 0, 'ehrenbrav': 11070}\n"
     ]
    },
    {
     "name": "stdout",
     "output_type": "stream",
     "text": [
      "('nes_a3c_scaled_finer_main_reward_1', '16000000_finish.h5', 27) {'points': 10.0, 'main_reward': 5.92578125, 'time_left': 0, 'ehrenbrav': 9490}\n"
     ]
    },
    {
     "name": "stdout",
     "output_type": "stream",
     "text": [
      "('nes_a3c_scaled_finer_main_reward_1', '16000000_finish.h5', 28) {'points': 50.0, 'main_reward': 10.109375, 'time_left': 0, 'ehrenbrav': 20485}\n"
     ]
    },
    {
     "name": "stdout",
     "output_type": "stream",
     "text": [
      "('nes_a3c_scaled_finer_main_reward_1', '16000000_finish.h5', 29) {'points': 0.0, 'main_reward': 1.21875, 'time_left': 0, 'ehrenbrav': 4050}\n"
     ]
    },
    {
     "name": "stdout",
     "output_type": "stream",
     "text": [
      "('scaled_fine_main_reward_1', '16000000_finish.h5', 0) {'points': 0.0, 'main_reward': 1.234375, 'time_left': 0, 'ehrenbrav': 5895}\n"
     ]
    },
    {
     "name": "stdout",
     "output_type": "stream",
     "text": [
      "('scaled_fine_main_reward_1', '16000000_finish.h5', 1) {'points': 0.0, 'main_reward': 1.203125, 'time_left': 0, 'ehrenbrav': 4025}\n"
     ]
    },
    {
     "name": "stdout",
     "output_type": "stream",
     "text": [
      "('scaled_fine_main_reward_1', '16000000_finish.h5', 2) {'points': 0.0, 'main_reward': 1.18359375, 'time_left': 0, 'ehrenbrav': 4015}\n"
     ]
    },
    {
     "name": "stdout",
     "output_type": "stream",
     "text": [
      "('scaled_fine_main_reward_1', '16000000_finish.h5', 3) {'points': 10.0, 'main_reward': 3.1640625, 'time_left': 0, 'ehrenbrav': 6570}\n"
     ]
    },
    {
     "name": "stdout",
     "output_type": "stream",
     "text": [
      "('scaled_fine_main_reward_1', '16000000_finish.h5', 4) {'points': 50.0, 'main_reward': 5.96484375, 'time_left': 0, 'ehrenbrav': 10425}\n"
     ]
    },
    {
     "name": "stdout",
     "output_type": "stream",
     "text": [
      "('scaled_fine_main_reward_1', '16000000_finish.h5', 5) {'points': 0.0, 'main_reward': 1.21875, 'time_left': 0, 'ehrenbrav': 4015}\n"
     ]
    },
    {
     "name": "stdout",
     "output_type": "stream",
     "text": [
      "('scaled_fine_main_reward_1', '16000000_finish.h5', 6) {'points': 10.0, 'main_reward': 1.234375, 'time_left': 0, 'ehrenbrav': 6610}\n"
     ]
    },
    {
     "name": "stdout",
     "output_type": "stream",
     "text": [
      "('scaled_fine_main_reward_1', '16000000_finish.h5', 7) {'points': 0.0, 'main_reward': 1.234375, 'time_left': 0, 'ehrenbrav': 3960}\n"
     ]
    },
    {
     "name": "stdout",
     "output_type": "stream",
     "text": [
      "('scaled_fine_main_reward_1', '16000000_finish.h5', 8) {'points': 0.0, 'main_reward': 1.234375, 'time_left': 0, 'ehrenbrav': 5920}\n"
     ]
    },
    {
     "name": "stdout",
     "output_type": "stream",
     "text": [
      "('scaled_fine_main_reward_1', '16000000_finish.h5', 9) {'points': 0.0, 'main_reward': 2.703125, 'time_left': 0, 'ehrenbrav': 5860}\n"
     ]
    },
    {
     "name": "stdout",
     "output_type": "stream",
     "text": [
      "('scaled_fine_main_reward_1', '16000000_finish.h5', 10) {'points': 10.0, 'main_reward': 1.22265625, 'time_left': 0, 'ehrenbrav': 7045}\n"
     ]
    },
    {
     "name": "stdout",
     "output_type": "stream",
     "text": [
      "('scaled_fine_main_reward_1', '16000000_finish.h5', 11) {'points': 10.0, 'main_reward': 5.98828125, 'time_left': 0, 'ehrenbrav': 9875}\n"
     ]
    },
    {
     "name": "stdout",
     "output_type": "stream",
     "text": [
      "('scaled_fine_main_reward_1', '16000000_finish.h5', 12) {'points': 0.0, 'main_reward': 1.23046875, 'time_left': 0, 'ehrenbrav': 4035}\n"
     ]
    },
    {
     "name": "stdout",
     "output_type": "stream",
     "text": [
      "('scaled_fine_main_reward_1', '16000000_finish.h5', 13) {'points': 0.0, 'main_reward': 1.19140625, 'time_left': 0, 'ehrenbrav': 5895}\n"
     ]
    },
    {
     "name": "stdout",
     "output_type": "stream",
     "text": [
      "('scaled_fine_main_reward_1', '16000000_finish.h5', 14) {'points': 0.0, 'main_reward': 1.234375, 'time_left': 0, 'ehrenbrav': 5990}\n"
     ]
    },
    {
     "name": "stdout",
     "output_type": "stream",
     "text": [
      "('scaled_fine_main_reward_1', '16000000_finish.h5', 15) {'points': 0.0, 'main_reward': 1.19140625, 'time_left': 0, 'ehrenbrav': 4000}\n"
     ]
    },
    {
     "name": "stdout",
     "output_type": "stream",
     "text": [
      "('scaled_fine_main_reward_1', '16000000_finish.h5', 16) {'points': 0.0, 'main_reward': 2.75, 'time_left': 0, 'ehrenbrav': 5970}\n"
     ]
    },
    {
     "name": "stdout",
     "output_type": "stream",
     "text": [
      "('scaled_fine_main_reward_1', '16000000_finish.h5', 17) {'points': 0.0, 'main_reward': 1.234375, 'time_left': 0, 'ehrenbrav': 4060}\n"
     ]
    },
    {
     "name": "stdout",
     "output_type": "stream",
     "text": [
      "('scaled_fine_main_reward_1', '16000000_finish.h5', 18) {'points': 0.0, 'main_reward': 1.2109375, 'time_left': 0, 'ehrenbrav': 4020}\n"
     ]
    },
    {
     "name": "stdout",
     "output_type": "stream",
     "text": [
      "('scaled_fine_main_reward_1', '16000000_finish.h5', 19) {'points': 20.0, 'main_reward': 4.87109375, 'time_left': 0, 'ehrenbrav': 8830}\n"
     ]
    },
    {
     "name": "stdout",
     "output_type": "stream",
     "text": [
      "('scaled_fine_main_reward_1', '16000000_finish.h5', 20) {'points': 0.0, 'main_reward': 1.21875, 'time_left': 0, 'ehrenbrav': 4050}\n"
     ]
    },
    {
     "name": "stdout",
     "output_type": "stream",
     "text": [
      "('scaled_fine_main_reward_1', '16000000_finish.h5', 21) {'points': 20.0, 'main_reward': 5.9921875, 'time_left': 0, 'ehrenbrav': 12195}\n"
     ]
    },
    {
     "name": "stdout",
     "output_type": "stream",
     "text": [
      "('scaled_fine_main_reward_1', '16000000_finish.h5', 22) {'points': 0.0, 'main_reward': 1.234375, 'time_left': 0, 'ehrenbrav': 3995}\n"
     ]
    },
    {
     "name": "stdout",
     "output_type": "stream",
     "text": [
      "('scaled_fine_main_reward_1', '16000000_finish.h5', 23) {'points': 0.0, 'main_reward': 1.1875, 'time_left': 0, 'ehrenbrav': 3985}\n"
     ]
    },
    {
     "name": "stdout",
     "output_type": "stream",
     "text": [
      "('scaled_fine_main_reward_1', '16000000_finish.h5', 24) {'points': 10.0, 'main_reward': 1.22265625, 'time_left': 0, 'ehrenbrav': 7935}\n"
     ]
    },
    {
     "name": "stdout",
     "output_type": "stream",
     "text": [
      "('scaled_fine_main_reward_1', '16000000_finish.h5', 25) {'points': 40.0, 'main_reward': 1.21484375, 'time_left': 0, 'ehrenbrav': 11020}\n"
     ]
    },
    {
     "name": "stdout",
     "output_type": "stream",
     "text": [
      "('scaled_fine_main_reward_1', '16000000_finish.h5', 26) {'points': 0.0, 'main_reward': 2.69921875, 'time_left': 0, 'ehrenbrav': 5890}\n"
     ]
    },
    {
     "name": "stdout",
     "output_type": "stream",
     "text": [
      "('scaled_fine_main_reward_1', '16000000_finish.h5', 27) {'points': 10.0, 'main_reward': 1.23046875, 'time_left': 0, 'ehrenbrav': 5990}\n"
     ]
    },
    {
     "name": "stdout",
     "output_type": "stream",
     "text": [
      "('scaled_fine_main_reward_1', '16000000_finish.h5', 28) {'points': 0.0, 'main_reward': 1.21484375, 'time_left': 0, 'ehrenbrav': 5910}\n"
     ]
    },
    {
     "name": "stdout",
     "output_type": "stream",
     "text": [
      "('scaled_fine_main_reward_1', '16000000_finish.h5', 29) {'points': 0.0, 'main_reward': 1.22265625, 'time_left': 0, 'ehrenbrav': 5955}\n"
     ]
    },
    {
     "name": "stdout",
     "output_type": "stream",
     "text": [
      "('nes_a3c_4', '16000000_finish.h5', 0) {'points': 0.0, 'main_reward': 2.76171875, 'time_left': 0, 'ehrenbrav': 7960}\n"
     ]
    },
    {
     "name": "stdout",
     "output_type": "stream",
     "text": [
      "('nes_a3c_4', '16000000_finish.h5', 1) {'points': 0.0, 'main_reward': 1.2265625, 'time_left': 0, 'ehrenbrav': 4055}\n"
     ]
    },
    {
     "name": "stdout",
     "output_type": "stream",
     "text": [
      "('nes_a3c_4', '16000000_finish.h5', 2) {'points': 0.0, 'main_reward': 2.7109375, 'time_left': 0, 'ehrenbrav': 10585}\n"
     ]
    },
    {
     "name": "stdout",
     "output_type": "stream",
     "text": [
      "('nes_a3c_4', '16000000_finish.h5', 3) {'points': 10.0, 'main_reward': 4.85546875, 'time_left': 0, 'ehrenbrav': 8760}\n"
     ]
    },
    {
     "name": "stdout",
     "output_type": "stream",
     "text": [
      "('nes_a3c_4', '16000000_finish.h5', 4) {'points': 10.0, 'main_reward': 5.93359375, 'time_left': 0, 'ehrenbrav': 9620}\n"
     ]
    },
    {
     "name": "stdout",
     "output_type": "stream",
     "text": [
      "('nes_a3c_4', '16000000_finish.h5', 5) {'points': 0.0, 'main_reward': 2.703125, 'time_left': 0, 'ehrenbrav': 7805}\n"
     ]
    },
    {
     "name": "stdout",
     "output_type": "stream",
     "text": [
      "('nes_a3c_4', '16000000_finish.h5', 6) {'points': 20.0, 'main_reward': 5.92578125, 'time_left': 0, 'ehrenbrav': 9610}\n"
     ]
    },
    {
     "name": "stdout",
     "output_type": "stream",
     "text": [
      "('nes_a3c_4', '16000000_finish.h5', 7) {'points': 0.0, 'main_reward': 1.2265625, 'time_left': 0, 'ehrenbrav': 4055}\n"
     ]
    },
    {
     "name": "stdout",
     "output_type": "stream",
     "text": [
      "('nes_a3c_4', '16000000_finish.h5', 8) {'points': 30.0, 'main_reward': 1.21875, 'time_left': 0, 'ehrenbrav': 13640}\n"
     ]
    },
    {
     "name": "stdout",
     "output_type": "stream",
     "text": [
      "('nes_a3c_4', '16000000_finish.h5', 9) {'points': 0.0, 'main_reward': 1.2265625, 'time_left': 0, 'ehrenbrav': 5975}\n"
     ]
    },
    {
     "name": "stdout",
     "output_type": "stream",
     "text": [
      "('nes_a3c_4', '16000000_finish.h5', 10) {'points': 40.0, 'main_reward': 6.08203125, 'time_left': 0, 'ehrenbrav': 10305}\n"
     ]
    },
    {
     "name": "stdout",
     "output_type": "stream",
     "text": [
      "('nes_a3c_4', '16000000_finish.h5', 11) {'points': 0.0, 'main_reward': 2.75390625, 'time_left': 0, 'ehrenbrav': 6000}\n"
     ]
    },
    {
     "name": "stdout",
     "output_type": "stream",
     "text": [
      "('nes_a3c_4', '16000000_finish.h5', 12) {'points': 10.0, 'main_reward': 1.21875, 'time_left': 0, 'ehrenbrav': 8765}\n"
     ]
    },
    {
     "name": "stdout",
     "output_type": "stream",
     "text": [
      "('nes_a3c_4', '16000000_finish.h5', 13) {'points': 0.0, 'main_reward': 1.2265625, 'time_left': 0, 'ehrenbrav': 4055}\n"
     ]
    },
    {
     "name": "stdout",
     "output_type": "stream",
     "text": [
      "('nes_a3c_4', '16000000_finish.h5', 14) {'points': 0.0, 'main_reward': 2.75, 'time_left': 0, 'ehrenbrav': 7815}\n"
     ]
    },
    {
     "name": "stdout",
     "output_type": "stream",
     "text": [
      "('nes_a3c_4', '16000000_finish.h5', 15) {'points': 0.0, 'main_reward': 1.2265625, 'time_left': 0, 'ehrenbrav': 4055}\n"
     ]
    },
    {
     "name": "stdout",
     "output_type": "stream",
     "text": [
      "('nes_a3c_4', '16000000_finish.h5', 16) {'points': 20.0, 'main_reward': 4.87890625, 'time_left': 0, 'ehrenbrav': 10830}\n"
     ]
    },
    {
     "name": "stdout",
     "output_type": "stream",
     "text": [
      "('nes_a3c_4', '16000000_finish.h5', 17) {'points': 0.0, 'main_reward': 1.2265625, 'time_left': 0, 'ehrenbrav': 5970}\n"
     ]
    },
    {
     "name": "stdout",
     "output_type": "stream",
     "text": [
      "('nes_a3c_4', '16000000_finish.h5', 18) {'points': 20.0, 'main_reward': 1.21875, 'time_left': 0, 'ehrenbrav': 10810}\n"
     ]
    },
    {
     "name": "stdout",
     "output_type": "stream",
     "text": [
      "('nes_a3c_4', '16000000_finish.h5', 19) {'points': 10.0, 'main_reward': 6.0625, 'time_left': 0, 'ehrenbrav': 9665}\n"
     ]
    },
    {
     "name": "stdout",
     "output_type": "stream",
     "text": [
      "('nes_a3c_4', '16000000_finish.h5', 20) {'points': 10.0, 'main_reward': 1.234375, 'time_left': 0, 'ehrenbrav': 6870}\n"
     ]
    },
    {
     "name": "stdout",
     "output_type": "stream",
     "text": [
      "('nes_a3c_4', '16000000_finish.h5', 21) {'points': 0.0, 'main_reward': 1.22265625, 'time_left': 0, 'ehrenbrav': 4050}\n"
     ]
    },
    {
     "name": "stdout",
     "output_type": "stream",
     "text": [
      "('nes_a3c_4', '16000000_finish.h5', 22) {'points': 10.0, 'main_reward': 1.21875, 'time_left': 0, 'ehrenbrav': 6775}\n"
     ]
    },
    {
     "name": "stdout",
     "output_type": "stream",
     "text": [
      "('nes_a3c_4', '16000000_finish.h5', 23) {'points': 0.0, 'main_reward': 1.21875, 'time_left': 0, 'ehrenbrav': 6020}\n"
     ]
    },
    {
     "name": "stdout",
     "output_type": "stream",
     "text": [
      "('nes_a3c_4', '16000000_finish.h5', 24) {'points': 0.0, 'main_reward': 1.2265625, 'time_left': 0, 'ehrenbrav': 4055}\n"
     ]
    },
    {
     "name": "stdout",
     "output_type": "stream",
     "text": [
      "('nes_a3c_4', '16000000_finish.h5', 25) {'points': 0.0, 'main_reward': 1.21875, 'time_left': 0, 'ehrenbrav': 7965}\n"
     ]
    },
    {
     "name": "stdout",
     "output_type": "stream",
     "text": [
      "('nes_a3c_4', '16000000_finish.h5', 26) {'points': 0.0, 'main_reward': 1.2265625, 'time_left': 0, 'ehrenbrav': 6025}\n"
     ]
    },
    {
     "name": "stdout",
     "output_type": "stream",
     "text": [
      "('nes_a3c_4', '16000000_finish.h5', 27) {'points': 0.0, 'main_reward': 2.70703125, 'time_left': 0, 'ehrenbrav': 5935}\n"
     ]
    },
    {
     "name": "stdout",
     "output_type": "stream",
     "text": [
      "('nes_a3c_4', '16000000_finish.h5', 28) {'points': 10.0, 'main_reward': 3.1953125, 'time_left': 0, 'ehrenbrav': 6650}\n"
     ]
    },
    {
     "name": "stdout",
     "output_type": "stream",
     "text": [
      "('nes_a3c_4', '16000000_finish.h5', 29) {'points': 10.0, 'main_reward': 1.234375, 'time_left': 0, 'ehrenbrav': 8805}\n"
     ]
    },
    {
     "name": "stdout",
     "output_type": "stream",
     "text": [
      "('scaled_finer_main_reward_with_points_1', '16000000_finish.h5', 0) {'points': 30.0, 'main_reward': 1.21875, 'time_left': 0, 'ehrenbrav': 7020}\n"
     ]
    },
    {
     "name": "stdout",
     "output_type": "stream",
     "text": [
      "('scaled_finer_main_reward_with_points_1', '16000000_finish.h5', 1) {'points': 50.0, 'main_reward': 6.05078125, 'time_left': 0, 'ehrenbrav': 14215}\n"
     ]
    },
    {
     "name": "stdout",
     "output_type": "stream",
     "text": [
      "('scaled_finer_main_reward_with_points_1', '16000000_finish.h5', 2) {'points': 60.0, 'main_reward': 7.91015625, 'time_left': 0, 'ehrenbrav': 13135}\n"
     ]
    },
    {
     "name": "stdout",
     "output_type": "stream",
     "text": [
      "('scaled_finer_main_reward_with_points_1', '16000000_finish.h5', 3) {'points': 40.0, 'main_reward': 6.0625, 'time_left': 0, 'ehrenbrav': 10340}\n"
     ]
    },
    {
     "name": "stdout",
     "output_type": "stream",
     "text": [
      "('scaled_finer_main_reward_with_points_1', '16000000_finish.h5', 4) {'points': 40.0, 'main_reward': 1.2265625, 'time_left': 0, 'ehrenbrav': 6295}\n"
     ]
    },
    {
     "name": "stdout",
     "output_type": "stream",
     "text": [
      "('scaled_finer_main_reward_with_points_1', '16000000_finish.h5', 5) {'points': 10.0, 'main_reward': 2.65234375, 'time_left': 0, 'ehrenbrav': 10325}\n"
     ]
    },
    {
     "name": "stdout",
     "output_type": "stream",
     "text": [
      "('scaled_finer_main_reward_with_points_1', '16000000_finish.h5', 6) {'points': 40.0, 'main_reward': 1.234375, 'time_left': 0, 'ehrenbrav': 6270}\n"
     ]
    },
    {
     "name": "stdout",
     "output_type": "stream",
     "text": [
      "('scaled_finer_main_reward_with_points_1', '16000000_finish.h5', 7) {'points': 40.0, 'main_reward': 6.046875, 'time_left': 0, 'ehrenbrav': 10080}\n"
     ]
    },
    {
     "name": "stdout",
     "output_type": "stream",
     "text": [
      "('scaled_finer_main_reward_with_points_1', '16000000_finish.h5', 8) {'points': 30.0, 'main_reward': 6.06640625, 'time_left': 0, 'ehrenbrav': 10220}\n"
     ]
    },
    {
     "name": "stdout",
     "output_type": "stream",
     "text": [
      "('scaled_finer_main_reward_with_points_1', '16000000_finish.h5', 9) {'points': 10.0, 'main_reward': 6.0625, 'time_left': 0, 'ehrenbrav': 9830}\n"
     ]
    },
    {
     "name": "stdout",
     "output_type": "stream",
     "text": [
      "('scaled_finer_main_reward_with_points_1', '16000000_finish.h5', 10) {'points': 20.0, 'main_reward': 6.0625, 'time_left': 0, 'ehrenbrav': 9550}\n"
     ]
    },
    {
     "name": "stdout",
     "output_type": "stream",
     "text": [
      "('scaled_finer_main_reward_with_points_1', '16000000_finish.h5', 11) {'points': 30.0, 'main_reward': 6.0234375, 'time_left': 0, 'ehrenbrav': 10795}\n"
     ]
    },
    {
     "name": "stdout",
     "output_type": "stream",
     "text": [
      "('scaled_finer_main_reward_with_points_1', '16000000_finish.h5', 12) {'points': 20.0, 'main_reward': 6.0625, 'time_left': 0, 'ehrenbrav': 14660}\n"
     ]
    },
    {
     "name": "stdout",
     "output_type": "stream",
     "text": [
      "('scaled_finer_main_reward_with_points_1', '16000000_finish.h5', 13) {'points': 0.0, 'main_reward': 2.6328125, 'time_left': 0, 'ehrenbrav': 9475}\n"
     ]
    },
    {
     "name": "stdout",
     "output_type": "stream",
     "text": [
      "('scaled_finer_main_reward_with_points_1', '16000000_finish.h5', 14) {'points': 10.0, 'main_reward': 6.0546875, 'time_left': 0, 'ehrenbrav': 9655}\n"
     ]
    },
    {
     "name": "stdout",
     "output_type": "stream",
     "text": [
      "('scaled_finer_main_reward_with_points_1', '16000000_finish.h5', 15) {'points': 40.0, 'main_reward': 1.21875, 'time_left': 0, 'ehrenbrav': 6250}\n"
     ]
    },
    {
     "name": "stdout",
     "output_type": "stream",
     "text": [
      "('scaled_finer_main_reward_with_points_1', '16000000_finish.h5', 16) {'points': 70.0, 'main_reward': 6.09375, 'time_left': 0, 'ehrenbrav': 15545}\n"
     ]
    },
    {
     "name": "stdout",
     "output_type": "stream",
     "text": [
      "('scaled_finer_main_reward_with_points_1', '16000000_finish.h5', 17) {'points': 60.0, 'main_reward': 1.20703125, 'time_left': 0, 'ehrenbrav': 6420}\n"
     ]
    },
    {
     "name": "stdout",
     "output_type": "stream",
     "text": [
      "('scaled_finer_main_reward_with_points_1', '16000000_finish.h5', 18) {'points': 30.0, 'main_reward': 3.2421875, 'time_left': 0, 'ehrenbrav': 11620}\n"
     ]
    },
    {
     "name": "stdout",
     "output_type": "stream",
     "text": [
      "('scaled_finer_main_reward_with_points_1', '16000000_finish.h5', 19) {'points': 40.0, 'main_reward': 6.046875, 'time_left': 0, 'ehrenbrav': 10395}\n"
     ]
    },
    {
     "name": "stdout",
     "output_type": "stream",
     "text": [
      "('scaled_finer_main_reward_with_points_1', '16000000_finish.h5', 20) {'points': 10.0, 'main_reward': 6.0625, 'time_left': 0, 'ehrenbrav': 9705}\n"
     ]
    },
    {
     "name": "stdout",
     "output_type": "stream",
     "text": [
      "('scaled_finer_main_reward_with_points_1', '16000000_finish.h5', 21) {'points': 50.0, 'main_reward': 1.20703125, 'time_left': 0, 'ehrenbrav': 9155}\n"
     ]
    },
    {
     "name": "stdout",
     "output_type": "stream",
     "text": [
      "('scaled_finer_main_reward_with_points_1', '16000000_finish.h5', 22) {'points': 60.0, 'main_reward': 1.2109375, 'time_left': 0, 'ehrenbrav': 4645}\n"
     ]
    },
    {
     "name": "stdout",
     "output_type": "stream",
     "text": [
      "('scaled_finer_main_reward_with_points_1', '16000000_finish.h5', 23) {'points': 70.0, 'main_reward': 1.21484375, 'time_left': 0, 'ehrenbrav': 12380}\n"
     ]
    },
    {
     "name": "stdout",
     "output_type": "stream",
     "text": [
      "('scaled_finer_main_reward_with_points_1', '16000000_finish.h5', 24) {'points': 50.0, 'main_reward': 5.984375, 'time_left': 0, 'ehrenbrav': 13145}\n"
     ]
    },
    {
     "name": "stdout",
     "output_type": "stream",
     "text": [
      "('scaled_finer_main_reward_with_points_1', '16000000_finish.h5', 25) {'points': 50.0, 'main_reward': 1.21484375, 'time_left': 0, 'ehrenbrav': 7295}\n"
     ]
    },
    {
     "name": "stdout",
     "output_type": "stream",
     "text": [
      "('scaled_finer_main_reward_with_points_1', '16000000_finish.h5', 26) {'points': 20.0, 'main_reward': 3.5078125, 'time_left': 0, 'ehrenbrav': 10935}\n"
     ]
    },
    {
     "name": "stdout",
     "output_type": "stream",
     "text": [
      "('scaled_finer_main_reward_with_points_1', '16000000_finish.h5', 27) {'points': 50.0, 'main_reward': 1.23046875, 'time_left': 0, 'ehrenbrav': 9295}\n"
     ]
    },
    {
     "name": "stdout",
     "output_type": "stream",
     "text": [
      "('scaled_finer_main_reward_with_points_1', '16000000_finish.h5', 28) {'points': 40.0, 'main_reward': 2.6328125, 'time_left': 0, 'ehrenbrav': 10865}\n"
     ]
    },
    {
     "name": "stdout",
     "output_type": "stream",
     "text": [
      "('scaled_finer_main_reward_with_points_1', '16000000_finish.h5', 29) {'points': 10.0, 'main_reward': 6.0703125, 'time_left': 0, 'ehrenbrav': 9860}\n"
     ]
    }
   ],
   "source": [
    "eval_results_d = {}\n",
    "nesApi = NESInterface(rom_path,auto_render_period=2)\n",
    "nesApi.render()\n",
    "for (experiment_name,model_name), weights in model_snapshots.items():\n",
    "    model = load_model(weights)\n",
    "    for attempt_nr in range(nr_of_attempts):\n",
    "        nesApi.reset_game()\n",
    "        env = nes.NES(rom_path,outside_nes_interface=nesApi,frame_skip=1)\n",
    "        performance = eval_performance(model,nesApi,env,deterministic=False)\n",
    "        print((experiment_name,model_name,attempt_nr), performance)\n",
    "        eval_results_d[(experiment_name,model_name,attempt_nr)] = performance"
   ]
  },
  {
   "cell_type": "code",
   "execution_count": 18,
   "metadata": {
    "collapsed": false
   },
   "outputs": [],
   "source": [
    "result_df = pandas.DataFrame.from_dict(eval_results_d,orient=\"index\")"
   ]
  },
  {
   "cell_type": "code",
   "execution_count": 13,
   "metadata": {
    "collapsed": true
   },
   "outputs": [],
   "source": [
    "result_d_df.to_csv(\"eval_results_smallmainreward.csv\")"
   ]
  },
  {
   "cell_type": "code",
   "execution_count": 20,
   "metadata": {
    "collapsed": true
   },
   "outputs": [],
   "source": [
    "result_df.to_pickle(\"eval_results_4.pickle\")"
   ]
  },
  {
   "cell_type": "code",
   "execution_count": 19,
   "metadata": {},
   "outputs": [],
   "source": [
    "result_df.groupby?"
   ]
  },
  {
   "cell_type": "markdown",
   "metadata": {},
   "source": [
    "# ladida just rewiting time left"
   ]
  },
  {
   "cell_type": "code",
   "execution_count": 10,
   "metadata": {},
   "outputs": [],
   "source": [
    "def make_time_left():\n",
    "    counted_once = False\n",
    "    def time_left(ram):\n",
    "        nonlocal counted_once\n",
    "        if counted_once:\n",
    "            return 0\n",
    "        if ram[0x001D] == 3:\n",
    "            counted_once = True\n",
    "            return rewards.time_left(ram) \n",
    "        return 0\n",
    "    return  time_left"
   ]
  },
  {
   "cell_type": "markdown",
   "metadata": {},
   "source": [
    "## Forgot the small main reward "
   ]
  },
  {
   "cell_type": "code",
   "execution_count": null,
   "metadata": {},
   "outputs": [],
   "source": [
    ""
   ]
  }
 ],
 "metadata": {
  "kernelspec": {
   "display_name": "Python 3",
   "language": "python",
   "name": "python3"
  },
  "language_info": {
   "codemirror_mode": {
    "name": "ipython",
    "version": 3.0
   },
   "file_extension": ".py",
   "mimetype": "text/x-python",
   "name": "python",
   "nbconvert_exporter": "python",
   "pygments_lexer": "ipython3",
   "version": "3.5.2"
  }
 },
 "nbformat": 4,
 "nbformat_minor": 0
}