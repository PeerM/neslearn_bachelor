{
 "cells": [
  {
   "cell_type": "code",
   "execution_count": 1,
   "metadata": {
    "collapsed": true
   },
   "outputs": [],
   "source": [
    "import sys\n",
    "sys.path.append( \"/home/mathia/PycharmProjects/neslearn-git\")\n",
    "sys.path.append( \"/home/mathia/PycharmProjects/neslearn-git/extern/nes-async-rl/\")"
   ]
  },
  {
   "cell_type": "code",
   "execution_count": 2,
   "metadata": {
    "collapsed": false
   },
   "outputs": [],
   "source": [
    "import pandas\n",
    "import hsa.ba.rewards as rewards\n",
    "import itertools\n",
    "from extern.fceux_learningenv.nes_python_interface.nes_python_interface import NESInterface\n",
    "import hsa.machine_constants\n",
    "from hsa.nes_python_input import py_to_nes_wrapper\n",
    "\n",
    "import numpy as np\n",
    "import matplotlib.pyplot as plt\n",
    "import itertools\n",
    "import os.path"
   ]
  },
  {
   "cell_type": "code",
   "execution_count": 3,
   "metadata": {},
   "outputs": [],
   "source": [
    "from demo_a3c_nes import eval_performance as org_eval_performance"
   ]
  },
  {
   "cell_type": "code",
   "execution_count": 4,
   "metadata": {
    "collapsed": true
   },
   "outputs": [],
   "source": [
    "from dqn_phi import dqn_phi\n",
    "import nes \n",
    "from a3c_nes import A3CLSTM\n",
    "import chainer\n",
    "from chainer import serializers"
   ]
  },
  {
   "cell_type": "code",
   "execution_count": 5,
   "metadata": {
    "collapsed": false
   },
   "outputs": [],
   "source": [
    "example_model_path = \"/home/mathia/checkpoints/nes_a3c_scaled_finer_main_reward_1/16000000_finish.h5\"\n",
    "rom_path = \"/home/mathia/mario.nes\"\n",
    "nr_of_attempts = 30"
   ]
  },
  {
   "cell_type": "code",
   "execution_count": 6,
   "metadata": {},
   "outputs": [],
   "source": [
    "nesApi = NESInterface(rom_path)\n",
    "nesApi.render()\n",
    "nesApi.reset_game()"
   ]
  },
  {
   "cell_type": "code",
   "execution_count": 7,
   "metadata": {
    "collapsed": false
   },
   "outputs": [],
   "source": [
    "base_paht = \"/home/mathia/checkpoints/{}/{}\"\n",
    "model_names = [\n",
    "    \"scaled_fine_main_reward_1\" # coars\n",
    "    ,\"nes_a3c_4\" # ehrenbrav\n",
    "    ,\"nes_a3c_scaled_finer_main_reward_1\", # main\n",
    "     \"nes_a3c_finer_main_reward_1\" # small\n",
    "    ,\"scaled_finer_main_reward_with_points_1\" #with points\n",
    "]\n",
    "\n",
    "model_chepoint_combos = [(model_name,\"16000000_finish.h5\")for model_name in model_names]\n",
    "# model_chepoint_combos.append((\"nes_a3c_4\",\"9000000.h5\"))\n",
    "# model_chepoint_combos.append((\"scaled_fine_main_reward_1\",\"9400000.h5\"))\n",
    "# model_chepoint_combos.append((\"nes_a3c_scaled_finer_main_reward_1\",\"9200000.h5\"))\n",
    "#model_chepoint_combos = itertools.product(model_names, chepoint_filenames) \n",
    "model_snapshots = {(directory,checkpoint):base_paht.format(directory,checkpoint) \n",
    "                   for (directory,checkpoint) \n",
    "                   in model_chepoint_combos}\n",
    "# make sure every file exists\n",
    "for path in model_snapshots.values():\n",
    "    if not os.path.isfile(path):\n",
    "        print(path)"
   ]
  },
  {
   "cell_type": "code",
   "execution_count": 8,
   "metadata": {
    "collapsed": true
   },
   "outputs": [
    {
     "data": {
      "text/plain": [
       "{('nes_a3c_4',\n  '16000000_finish.h5'): '/home/mathia/checkpoints/nes_a3c_4/16000000_finish.h5',\n ('nes_a3c_finer_main_reward_1',\n  '16000000_finish.h5'): '/home/mathia/checkpoints/nes_a3c_finer_main_reward_1/16000000_finish.h5',\n ('nes_a3c_scaled_finer_main_reward_1',\n  '16000000_finish.h5'): '/home/mathia/checkpoints/nes_a3c_scaled_finer_main_reward_1/16000000_finish.h5',\n ('scaled_fine_main_reward_1',\n  '16000000_finish.h5'): '/home/mathia/checkpoints/scaled_fine_main_reward_1/16000000_finish.h5',\n ('scaled_finer_main_reward_with_points_1',\n  '16000000_finish.h5'): '/home/mathia/checkpoints/scaled_finer_main_reward_with_points_1/16000000_finish.h5'}"
      ]
     },
     "execution_count": 8,
     "metadata": {},
     "output_type": "execute_result"
    }
   ],
   "source": [
    "model_snapshots"
   ]
  },
  {
   "cell_type": "code",
   "execution_count": 9,
   "metadata": {
    "collapsed": false
   },
   "outputs": [],
   "source": [
    "#n_actions = nes.NES(hsa.machine_constants.mario_rom_location).number_of_actions\n",
    "\n",
    "def load_model(weights_path):\n",
    "    n_actions = nes.n_actions\n",
    "    model = A3CLSTM(n_actions)\n",
    "    serializers.load_hdf5(weights_path, model)\n",
    "    return model\n",
    "example_model = load_model(example_model_path)"
   ]
  },
  {
   "cell_type": "code",
   "execution_count": 10,
   "metadata": {
    "collapsed": true
   },
   "outputs": [],
   "source": [
    "def make_eval_functions():\n",
    "    return {\n",
    "        \"main_reward\": rewards.make_scaled_finer_main_reward(),\n",
    "        \"points\": rewards.make_delta_points(),\n",
    "        \"time_left\": rewards.reward_for_time_left\n",
    "    }"
   ]
  },
  {
   "cell_type": "code",
   "execution_count": 18,
   "metadata": {},
   "outputs": [],
   "source": [
    "def close_eval_performance(env, model, deterministic=False,\n",
    "                     record_screen_path=None):\n",
    "    #env = nes.NES(rom,record_screen_path=record_screen_path)\n",
    "    model.reset_state()\n",
    "    test_r = 0\n",
    "    while not env.is_terminal:\n",
    "        s = chainer.Variable(np.expand_dims(dqn_phi(env.state), 0))\n",
    "        pout = model.pi_and_v(s)[0]\n",
    "        model.unchain_backward()\n",
    "        if deterministic:\n",
    "            a = pout.most_probable_actions[0]\n",
    "        else:\n",
    "            a = pout.action_indices[0]\n",
    "        test_r += env.receive_action(a)\n",
    "    return test_r\n",
    "\n",
    "def wrapped_eval_performance(model):\n",
    "    other_rewards = make_eval_functions()\n",
    "    sums = {name:0 for name in other_rewards.keys()}\n",
    "    def action_callback(frame_skip_i, ram):\n",
    "        nonlocal sums\n",
    "        for name, reward_function in other_rewards.items():\n",
    "            sums[name] += reward_function(ram)\n",
    "    eherenbrav_sum = close_eval_performance(\n",
    "        nes.NES(rom_path, outside_nes_interface=nesApi,\n",
    "                every_action_callback=action_callback)\n",
    "        , model)\n",
    "    sums[\"eherenbrav\"] = eherenbrav_sum\n",
    "    return sums"
   ]
  },
  {
   "cell_type": "code",
   "execution_count": 20,
   "metadata": {
    "collapsed": true
   },
   "outputs": [
    {
     "name": "stdout",
     "output_type": "stream",
     "text": [
      "('nes_a3c_4', '16000000_finish.h5', 0) {'eherenbrav': 11075, 'points': 40.0, 'time_left': 0, 'main_reward': 26.3671875}\n"
     ]
    },
    {
     "name": "stdout",
     "output_type": "stream",
     "text": [
      "('nes_a3c_4', '16000000_finish.h5', 1) {'eherenbrav': 10060, 'points': 30.0, 'time_left': 0, 'main_reward': 60.625}\n"
     ]
    },
    {
     "name": "stdout",
     "output_type": "stream",
     "text": [
      "('nes_a3c_4', '16000000_finish.h5', 2) {'eherenbrav': 13255, 'points': 40.0, 'time_left': 0, 'main_reward': 61.0546875}\n"
     ]
    },
    {
     "name": "stdout",
     "output_type": "stream",
     "text": [
      "('nes_a3c_4', '16000000_finish.h5', 3) {'eherenbrav': 13175, 'points': 60.0, 'time_left': 0, 'main_reward': 49.375}\n"
     ]
    },
    {
     "name": "stdout",
     "output_type": "stream",
     "text": [
      "('nes_a3c_4', '16000000_finish.h5', 4) {'eherenbrav': 14000, 'points': 60.0, 'time_left': 0, 'main_reward': 48.90625}\n"
     ]
    },
    {
     "name": "stdout",
     "output_type": "stream",
     "text": [
      "('nes_a3c_4', '16000000_finish.h5', 5) {'eherenbrav': 9710, 'points': 30.0, 'time_left': 0, 'main_reward': 26.2890625}\n"
     ]
    },
    {
     "name": "stdout",
     "output_type": "stream",
     "text": [
      "('nes_a3c_4', '16000000_finish.h5', 6) {'eherenbrav': 14385, 'points': 60.0, 'time_left': 0, 'main_reward': 60.2734375}\n"
     ]
    },
    {
     "name": "stdout",
     "output_type": "stream",
     "text": [
      "('nes_a3c_4', '16000000_finish.h5', 7) {'eherenbrav': 15095, 'points': 90.0, 'time_left': 0, 'main_reward': 60.625}\n"
     ]
    },
    {
     "name": "stdout",
     "output_type": "stream",
     "text": [
      "('nes_a3c_4', '16000000_finish.h5', 8) {'eherenbrav': 12220, 'points': 60.0, 'time_left': 0, 'main_reward': 60.546875}\n"
     ]
    },
    {
     "name": "stdout",
     "output_type": "stream",
     "text": [
      "('nes_a3c_4', '16000000_finish.h5', 9) {'eherenbrav': 13545, 'points': 60.0, 'time_left': 0, 'main_reward': 60.625}\n"
     ]
    },
    {
     "name": "stdout",
     "output_type": "stream",
     "text": [
      "('nes_a3c_4', '16000000_finish.h5', 10) {'eherenbrav': 14075, 'points': 70.0, 'time_left': 0, 'main_reward': 49.0625}\n"
     ]
    },
    {
     "name": "stdout",
     "output_type": "stream",
     "text": [
      "('nes_a3c_4', '16000000_finish.h5', 11) {'eherenbrav': 9925, 'points': 20.0, 'time_left': 0, 'main_reward': 60.9765625}\n"
     ]
    },
    {
     "name": "stdout",
     "output_type": "stream",
     "text": [
      "('nes_a3c_4', '16000000_finish.h5', 12) {'eherenbrav': 13135, 'points': 30.0, 'time_left': 0, 'main_reward': 60.859375}\n"
     ]
    },
    {
     "name": "stdout",
     "output_type": "stream",
     "text": [
      "('nes_a3c_4', '16000000_finish.h5', 13) {'eherenbrav': 13265, 'points': 60.0, 'time_left': 0, 'main_reward': 28.203125}\n"
     ]
    },
    {
     "name": "stdout",
     "output_type": "stream",
     "text": [
      "('nes_a3c_4', '16000000_finish.h5', 14) {'eherenbrav': 12115, 'points': 40.0, 'time_left': 0, 'main_reward': 60.5859375}\n"
     ]
    },
    {
     "name": "stdout",
     "output_type": "stream",
     "text": [
      "('nes_a3c_4', '16000000_finish.h5', 15) {'eherenbrav': 12190, 'points': 60.0, 'time_left': 0, 'main_reward': 76.6015625}\n"
     ]
    },
    {
     "name": "stdout",
     "output_type": "stream",
     "text": [
      "('nes_a3c_4', '16000000_finish.h5', 16) {'eherenbrav': 12880, 'points': 60.0, 'time_left': 0, 'main_reward': 48.8671875}\n"
     ]
    },
    {
     "name": "stdout",
     "output_type": "stream",
     "text": [
      "('nes_a3c_4', '16000000_finish.h5', 17) {'eherenbrav': 8065, 'points': 40.0, 'time_left': 0, 'main_reward': 12.2265625}\n"
     ]
    },
    {
     "name": "stdout",
     "output_type": "stream",
     "text": [
      "('nes_a3c_4', '16000000_finish.h5', 18) {'eherenbrav': 13580, 'points': 60.0, 'time_left': 0, 'main_reward': 31.8359375}\n"
     ]
    },
    {
     "name": "stdout",
     "output_type": "stream",
     "text": [
      "('nes_a3c_4', '16000000_finish.h5', 19) {'eherenbrav': 12280, 'points': 60.0, 'time_left': 0, 'main_reward': 60.5859375}\n"
     ]
    },
    {
     "name": "stdout",
     "output_type": "stream",
     "text": [
      "('nes_a3c_4', '16000000_finish.h5', 20) {'eherenbrav': 10100, 'points': 20.0, 'time_left': 0, 'main_reward': 61.0546875}\n"
     ]
    },
    {
     "name": "stdout",
     "output_type": "stream",
     "text": [
      "('nes_a3c_4', '16000000_finish.h5', 21) {'eherenbrav': 8665, 'points': 30.0, 'time_left': 0, 'main_reward': 26.40625}\n"
     ]
    },
    {
     "name": "stdout",
     "output_type": "stream",
     "text": [
      "('nes_a3c_4', '16000000_finish.h5', 22) {'eherenbrav': 10100, 'points': 20.0, 'time_left': 0, 'main_reward': 60.625}\n"
     ]
    },
    {
     "name": "stdout",
     "output_type": "stream",
     "text": [
      "('nes_a3c_4', '16000000_finish.h5', 23) {'eherenbrav': 9850, 'points': 20.0, 'time_left': 0, 'main_reward': 60.859375}\n"
     ]
    },
    {
     "name": "stdout",
     "output_type": "stream",
     "text": [
      "('nes_a3c_4', '16000000_finish.h5', 24) {'eherenbrav': 9285, 'points': 30.0, 'time_left': 0, 'main_reward': 28.203125}\n"
     ]
    },
    {
     "name": "stdout",
     "output_type": "stream",
     "text": [
      "('nes_a3c_4', '16000000_finish.h5', 25) {'eherenbrav': 10035, 'points': 30.0, 'time_left': 0, 'main_reward': 60.625}\n"
     ]
    },
    {
     "name": "stdout",
     "output_type": "stream",
     "text": [
      "('nes_a3c_4', '16000000_finish.h5', 26) {'eherenbrav': 20485, 'points': 110.0, 'time_left': 0, 'main_reward': 60.078125}\n"
     ]
    },
    {
     "name": "stdout",
     "output_type": "stream",
     "text": [
      "('nes_a3c_4', '16000000_finish.h5', 27) {'eherenbrav': 9785, 'points': 30.0, 'time_left': 0, 'main_reward': 60.5859375}\n"
     ]
    },
    {
     "name": "stdout",
     "output_type": "stream",
     "text": [
      "('nes_a3c_4', '16000000_finish.h5', 28) {'eherenbrav': 14270, 'points': 40.0, 'time_left': 0, 'main_reward': 59.4921875}\n"
     ]
    },
    {
     "name": "stdout",
     "output_type": "stream",
     "text": [
      "('nes_a3c_4', '16000000_finish.h5', 29) {'eherenbrav': 9815, 'points': 10.0, 'time_left': 0, 'main_reward': 60.546875}\n"
     ]
    },
    {
     "name": "stdout",
     "output_type": "stream",
     "text": [
      "('scaled_finer_main_reward_with_points_1', '16000000_finish.h5', 0) {'eherenbrav': 13465, 'points': 150.0, 'time_left': 0, 'main_reward': 61.0546875}\n"
     ]
    },
    {
     "name": "stdout",
     "output_type": "stream",
     "text": [
      "('scaled_finer_main_reward_with_points_1', '16000000_finish.h5', 1) {'eherenbrav': 12125, 'points': 110.0, 'time_left': 0, 'main_reward': 60.46875}\n"
     ]
    },
    {
     "name": "stdout",
     "output_type": "stream",
     "text": [
      "('scaled_finer_main_reward_with_points_1', '16000000_finish.h5', 2) {'eherenbrav': 16575, 'points': 140.0, 'time_left': 0, 'main_reward': 48.828125}\n"
     ]
    },
    {
     "name": "stdout",
     "output_type": "stream",
     "text": [
      "('scaled_finer_main_reward_with_points_1', '16000000_finish.h5', 3) {'eherenbrav': 13270, 'points': 120.0, 'time_left': 0, 'main_reward': 78.90625}\n"
     ]
    },
    {
     "name": "stdout",
     "output_type": "stream",
     "text": [
      "('scaled_finer_main_reward_with_points_1', '16000000_finish.h5', 4) {'eherenbrav': 15585, 'points': 150.0, 'time_left': 0, 'main_reward': 78.8671875}\n"
     ]
    },
    {
     "name": "stdout",
     "output_type": "stream",
     "text": [
      "('scaled_finer_main_reward_with_points_1', '16000000_finish.h5', 5) {'eherenbrav': 13760, 'points': 140.0, 'time_left': 0, 'main_reward': 26.4453125}\n"
     ]
    },
    {
     "name": "stdout",
     "output_type": "stream",
     "text": [
      "('scaled_finer_main_reward_with_points_1', '16000000_finish.h5', 6) {'eherenbrav': 14185, 'points': 120.0, 'time_left': 0, 'main_reward': 86.953125}\n"
     ]
    },
    {
     "name": "stdout",
     "output_type": "stream",
     "text": [
      "('scaled_finer_main_reward_with_points_1', '16000000_finish.h5', 7) {'eherenbrav': 13250, 'points': 130.0, 'time_left': 0, 'main_reward': 78.8671875}\n"
     ]
    },
    {
     "name": "stdout",
     "output_type": "stream",
     "text": [
      "('scaled_finer_main_reward_with_points_1', '16000000_finish.h5', 8) {'eherenbrav': 14530, 'points': 100.0, 'time_left': 0, 'main_reward': 49.6875}\n"
     ]
    },
    {
     "name": "stdout",
     "output_type": "stream",
     "text": [
      "('scaled_finer_main_reward_with_points_1', '16000000_finish.h5', 9) {'eherenbrav': 15455, 'points': 100.0, 'time_left': 0, 'main_reward': 60.4296875}\n"
     ]
    },
    {
     "name": "stdout",
     "output_type": "stream",
     "text": [
      "('scaled_finer_main_reward_with_points_1', '16000000_finish.h5', 10) {'eherenbrav': 13470, 'points': 140.0, 'time_left': 0, 'main_reward': 78.984375}\n"
     ]
    },
    {
     "name": "stdout",
     "output_type": "stream",
     "text": [
      "('scaled_finer_main_reward_with_points_1', '16000000_finish.h5', 11) {'eherenbrav': 19660, 'points': 150.0, 'time_left': 0, 'main_reward': 48.515625}\n"
     ]
    },
    {
     "name": "stdout",
     "output_type": "stream",
     "text": [
      "('scaled_finer_main_reward_with_points_1', '16000000_finish.h5', 12) {'eherenbrav': 16165, 'points': 130.0, 'time_left': 0, 'main_reward': 60.4296875}\n"
     ]
    },
    {
     "name": "stdout",
     "output_type": "stream",
     "text": [
      "('scaled_finer_main_reward_with_points_1', '16000000_finish.h5', 13) {'eherenbrav': 21055, 'points': 150.0, 'time_left': 0, 'main_reward': 60.0390625}\n"
     ]
    },
    {
     "name": "stdout",
     "output_type": "stream",
     "text": [
      "('scaled_finer_main_reward_with_points_1', '16000000_finish.h5', 14) {'eherenbrav': 21235, 'points': 170.0, 'time_left': 0, 'main_reward': 60.8203125}\n"
     ]
    },
    {
     "name": "stdout",
     "output_type": "stream",
     "text": [
      "('scaled_finer_main_reward_with_points_1', '16000000_finish.h5', 15) {'eherenbrav': 19145, 'points': 120.0, 'time_left': 0, 'main_reward': 48.3984375}\n"
     ]
    },
    {
     "name": "stdout",
     "output_type": "stream",
     "text": [
      "('scaled_finer_main_reward_with_points_1', '16000000_finish.h5', 16) {'eherenbrav': 10450, 'points': 90.0, 'time_left': 0, 'main_reward': 61.09375}\n"
     ]
    },
    {
     "name": "stdout",
     "output_type": "stream",
     "text": [
      "('scaled_finer_main_reward_with_points_1', '16000000_finish.h5', 17) {'eherenbrav': 12985, 'points': 130.0, 'time_left': 0, 'main_reward': 60.5078125}\n"
     ]
    },
    {
     "name": "stdout",
     "output_type": "stream",
     "text": [
      "('scaled_finer_main_reward_with_points_1', '16000000_finish.h5', 18) {'eherenbrav': 10310, 'points': 60.0, 'time_left': 0, 'main_reward': 60.46875}\n"
     ]
    },
    {
     "name": "stdout",
     "output_type": "stream",
     "text": [
      "('scaled_finer_main_reward_with_points_1', '16000000_finish.h5', 19) {'eherenbrav': 13135, 'points': 100.0, 'time_left': 0, 'main_reward': 60.5078125}\n"
     ]
    },
    {
     "name": "stdout",
     "output_type": "stream",
     "text": [
      "('scaled_finer_main_reward_with_points_1', '16000000_finish.h5', 20) {'eherenbrav': 16100, 'points': 130.0, 'time_left': 0, 'main_reward': 60.78125}\n"
     ]
    },
    {
     "name": "stdout",
     "output_type": "stream",
     "text": [
      "('scaled_finer_main_reward_with_points_1', '16000000_finish.h5', 21) {'eherenbrav': 10515, 'points': 100.0, 'time_left': 0, 'main_reward': 60.6640625}\n"
     ]
    },
    {
     "name": "stdout",
     "output_type": "stream",
     "text": [
      "('scaled_finer_main_reward_with_points_1', '16000000_finish.h5', 22) {'eherenbrav': 23080, 'points': 290.0, 'time_left': 0, 'main_reward': 60.78125}\n"
     ]
    },
    {
     "name": "stdout",
     "output_type": "stream",
     "text": [
      "('scaled_finer_main_reward_with_points_1', '16000000_finish.h5', 23) {'eherenbrav': 13850, 'points': 150.0, 'time_left': 0, 'main_reward': 26.4453125}\n"
     ]
    },
    {
     "name": "stdout",
     "output_type": "stream",
     "text": [
      "('scaled_finer_main_reward_with_points_1', '16000000_finish.h5', 24) {'eherenbrav': 12115, 'points': 120.0, 'time_left': 0, 'main_reward': 60.703125}\n"
     ]
    },
    {
     "name": "stdout",
     "output_type": "stream",
     "text": [
      "('scaled_finer_main_reward_with_points_1', '16000000_finish.h5', 25) {'eherenbrav': 12895, 'points': 130.0, 'time_left': 0, 'main_reward': 76.171875}\n"
     ]
    },
    {
     "name": "stdout",
     "output_type": "stream",
     "text": [
      "('scaled_finer_main_reward_with_points_1', '16000000_finish.h5', 26) {'eherenbrav': 13940, 'points': 160.0, 'time_left': 0, 'main_reward': 65.3515625}\n"
     ]
    },
    {
     "name": "stdout",
     "output_type": "stream",
     "text": [
      "('scaled_finer_main_reward_with_points_1', '16000000_finish.h5', 27) {'eherenbrav': 15790, 'points': 130.0, 'time_left': 0, 'main_reward': 60.4296875}\n"
     ]
    },
    {
     "name": "stdout",
     "output_type": "stream",
     "text": [
      "('scaled_finer_main_reward_with_points_1', '16000000_finish.h5', 28) {'eherenbrav': 15645, 'points': 170.0, 'time_left': 0, 'main_reward': 60.5859375}\n"
     ]
    },
    {
     "name": "stdout",
     "output_type": "stream",
     "text": [
      "('scaled_finer_main_reward_with_points_1', '16000000_finish.h5', 29) {'eherenbrav': 26465, 'points': 170.0, 'time_left': 0, 'main_reward': 101.3671875}\n"
     ]
    },
    {
     "name": "stdout",
     "output_type": "stream",
     "text": [
      "('scaled_fine_main_reward_1', '16000000_finish.h5', 0) {'eherenbrav': 15365, 'points': 50.0, 'time_left': 0, 'main_reward': 60.9375}\n"
     ]
    },
    {
     "name": "stdout",
     "output_type": "stream",
     "text": [
      "('scaled_fine_main_reward_1', '16000000_finish.h5', 1) {'eherenbrav': 9850, 'points': 30.0, 'time_left': 0, 'main_reward': 60.46875}\n"
     ]
    },
    {
     "name": "stdout",
     "output_type": "stream",
     "text": [
      "('scaled_fine_main_reward_1', '16000000_finish.h5', 2) {'eherenbrav': 15885, 'points': 60.0, 'time_left': 0, 'main_reward': 78.8671875}\n"
     ]
    },
    {
     "name": "stdout",
     "output_type": "stream",
     "text": [
      "('scaled_fine_main_reward_1', '16000000_finish.h5', 3) {'eherenbrav': 19065, 'points': 110.0, 'time_left': 0, 'main_reward': 60.0}\n"
     ]
    },
    {
     "name": "stdout",
     "output_type": "stream",
     "text": [
      "('scaled_fine_main_reward_1', '16000000_finish.h5', 4) {'eherenbrav': 12385, 'points': 30.0, 'time_left': 0, 'main_reward': 78.984375}\n"
     ]
    },
    {
     "name": "stdout",
     "output_type": "stream",
     "text": [
      "('scaled_fine_main_reward_1', '16000000_finish.h5', 5) {'eherenbrav': 13985, 'points': 60.0, 'time_left': 0, 'main_reward': 70.15625}\n"
     ]
    },
    {
     "name": "stdout",
     "output_type": "stream",
     "text": [
      "('scaled_fine_main_reward_1', '16000000_finish.h5', 6) {'eherenbrav': 13430, 'points': 40.0, 'time_left': 0, 'main_reward': 60.5078125}\n"
     ]
    },
    {
     "name": "stdout",
     "output_type": "stream",
     "text": [
      "('scaled_fine_main_reward_1', '16000000_finish.h5', 7) {'eherenbrav': 9695, 'points': 10.0, 'time_left': 0, 'main_reward': 60.390625}\n"
     ]
    },
    {
     "name": "stdout",
     "output_type": "stream",
     "text": [
      "('scaled_fine_main_reward_1', '16000000_finish.h5', 8) {'eherenbrav': 18135, 'points': 100.0, 'time_left': 0, 'main_reward': 101.09375}\n"
     ]
    },
    {
     "name": "stdout",
     "output_type": "stream",
     "text": [
      "('scaled_fine_main_reward_1', '16000000_finish.h5', 9) {'eherenbrav': 9720, 'points': 10.0, 'time_left': 0, 'main_reward': 60.546875}\n"
     ]
    },
    {
     "name": "stdout",
     "output_type": "stream",
     "text": [
      "('scaled_fine_main_reward_1', '16000000_finish.h5', 10) {'eherenbrav': 16845, 'points': 20.0, 'time_left': 0, 'main_reward': 60.5859375}\n"
     ]
    },
    {
     "name": "stdout",
     "output_type": "stream",
     "text": [
      "('scaled_fine_main_reward_1', '16000000_finish.h5', 11) {'eherenbrav': 9850, 'points': 10.0, 'time_left': 0, 'main_reward': 60.78125}\n"
     ]
    },
    {
     "name": "stdout",
     "output_type": "stream",
     "text": [
      "('scaled_fine_main_reward_1', '16000000_finish.h5', 12) {'eherenbrav': 9720, 'points': 10.0, 'time_left': 0, 'main_reward': 60.546875}\n"
     ]
    },
    {
     "name": "stdout",
     "output_type": "stream",
     "text": [
      "('scaled_fine_main_reward_1', '16000000_finish.h5', 13) {'eherenbrav': 13985, 'points': 10.0, 'time_left': 0, 'main_reward': 60.8984375}\n"
     ]
    },
    {
     "name": "stdout",
     "output_type": "stream",
     "text": [
      "('scaled_fine_main_reward_1', '16000000_finish.h5', 14) {'eherenbrav': 9745, 'points': 10.0, 'time_left': 0, 'main_reward': 60.859375}\n"
     ]
    },
    {
     "name": "stdout",
     "output_type": "stream",
     "text": [
      "('scaled_fine_main_reward_1', '16000000_finish.h5', 15) {'eherenbrav': 17525, 'points': 70.0, 'time_left': 0, 'main_reward': 101.3671875}\n"
     ]
    },
    {
     "name": "stdout",
     "output_type": "stream",
     "text": [
      "('scaled_fine_main_reward_1', '16000000_finish.h5', 16) {'eherenbrav': 9540, 'points': 10.0, 'time_left': 0, 'main_reward': 60.9375}\n"
     ]
    },
    {
     "name": "stdout",
     "output_type": "stream",
     "text": [
      "('scaled_fine_main_reward_1', '16000000_finish.h5', 17) {'eherenbrav': 15165, 'points': 30.0, 'time_left': 0, 'main_reward': 60.78125}\n"
     ]
    },
    {
     "name": "stdout",
     "output_type": "stream",
     "text": [
      "('scaled_fine_main_reward_1', '16000000_finish.h5', 18) {'eherenbrav': 12010, 'points': 10.0, 'time_left': 0, 'main_reward': 60.9765625}\n"
     ]
    },
    {
     "name": "stdout",
     "output_type": "stream",
     "text": [
      "('scaled_fine_main_reward_1', '16000000_finish.h5', 19) {'eherenbrav': 16875, 'points': 20.0, 'time_left': 0, 'main_reward': 59.4921875}\n"
     ]
    },
    {
     "name": "stdout",
     "output_type": "stream",
     "text": [
      "('scaled_fine_main_reward_1', '16000000_finish.h5', 20) {'eherenbrav': 15100, 'points': 10.0, 'time_left': 0, 'main_reward': 65.46875}\n"
     ]
    },
    {
     "name": "stdout",
     "output_type": "stream",
     "text": [
      "('scaled_fine_main_reward_1', '16000000_finish.h5', 21) {'eherenbrav': 15690, 'points': 80.0, 'time_left': 0, 'main_reward': 60.46875}\n"
     ]
    },
    {
     "name": "stdout",
     "output_type": "stream",
     "text": [
      "('scaled_fine_main_reward_1', '16000000_finish.h5', 22) {'eherenbrav': 10865, 'points': 10.0, 'time_left': 0, 'main_reward': 69.4921875}\n"
     ]
    },
    {
     "name": "stdout",
     "output_type": "stream",
     "text": [
      "('scaled_fine_main_reward_1', '16000000_finish.h5', 23) {'eherenbrav': 10725, 'points': 40.0, 'time_left': 0, 'main_reward': 60.78125}\n"
     ]
    },
    {
     "name": "stdout",
     "output_type": "stream",
     "text": [
      "('scaled_fine_main_reward_1', '16000000_finish.h5', 24) {'eherenbrav': 9855, 'points': 10.0, 'time_left': 0, 'main_reward': 60.703125}\n"
     ]
    },
    {
     "name": "stdout",
     "output_type": "stream",
     "text": [
      "('scaled_fine_main_reward_1', '16000000_finish.h5', 25) {'eherenbrav': 11135, 'points': 30.0, 'time_left': 0, 'main_reward': 71.0546875}\n"
     ]
    },
    {
     "name": "stdout",
     "output_type": "stream",
     "text": [
      "('scaled_fine_main_reward_1', '16000000_finish.h5', 26) {'eherenbrav': 9850, 'points': 10.0, 'time_left': 0, 'main_reward': 60.5859375}\n"
     ]
    },
    {
     "name": "stdout",
     "output_type": "stream",
     "text": [
      "('scaled_fine_main_reward_1', '16000000_finish.h5', 27) {'eherenbrav': 12110, 'points': 10.0, 'time_left': 0, 'main_reward': 60.546875}\n"
     ]
    },
    {
     "name": "stdout",
     "output_type": "stream",
     "text": [
      "('scaled_fine_main_reward_1', '16000000_finish.h5', 28) {'eherenbrav': 9570, 'points': 0.0, 'time_left': 0, 'main_reward': 60.546875}\n"
     ]
    },
    {
     "name": "stdout",
     "output_type": "stream",
     "text": [
      "('scaled_fine_main_reward_1', '16000000_finish.h5', 29) {'eherenbrav': 9785, 'points': 10.0, 'time_left': 0, 'main_reward': 60.3515625}\n"
     ]
    },
    {
     "name": "stdout",
     "output_type": "stream",
     "text": [
      "('nes_a3c_scaled_finer_main_reward_1', '16000000_finish.h5', 0) {'eherenbrav': 35260, 'points': 1885.0, 'time_left': 341, 'main_reward': 161.67812499999999}\n"
     ]
    },
    {
     "name": "stdout",
     "output_type": "stream",
     "text": [
      "('nes_a3c_scaled_finer_main_reward_1', '16000000_finish.h5', 1) {'eherenbrav': 38385, 'points': 1840.0, 'time_left': 334, 'main_reward': 160.97812500000001}\n"
     ]
    },
    {
     "name": "stdout",
     "output_type": "stream",
     "text": [
      "('nes_a3c_scaled_finer_main_reward_1', '16000000_finish.h5', 2) {'eherenbrav': 36715, 'points': 1935.0, 'time_left': 329, 'main_reward': 160.47812500000001}\n"
     ]
    },
    {
     "name": "stdout",
     "output_type": "stream",
     "text": [
      "('nes_a3c_scaled_finer_main_reward_1', '16000000_finish.h5', 3) {'eherenbrav': 45895, 'points': 1920.0, 'time_left': 350, 'main_reward': 162.578125}\n"
     ]
    },
    {
     "name": "stdout",
     "output_type": "stream",
     "text": [
      "('nes_a3c_scaled_finer_main_reward_1', '16000000_finish.h5', 4) {'eherenbrav': 36065, 'points': 1880.0, 'time_left': 338, 'main_reward': 161.37812500000001}\n"
     ]
    },
    {
     "name": "stdout",
     "output_type": "stream",
     "text": [
      "('nes_a3c_scaled_finer_main_reward_1', '16000000_finish.h5', 5) {'eherenbrav': 35085, 'points': 1805.0, 'time_left': 329, 'main_reward': 160.47812500000001}\n"
     ]
    },
    {
     "name": "stdout",
     "output_type": "stream",
     "text": [
      "('nes_a3c_scaled_finer_main_reward_1', '16000000_finish.h5', 6) {'eherenbrav': 43350, 'points': 2175.0, 'time_left': 353, 'main_reward': 162.87812500000001}\n"
     ]
    },
    {
     "name": "stdout",
     "output_type": "stream",
     "text": [
      "('nes_a3c_scaled_finer_main_reward_1', '16000000_finish.h5', 7) {'eherenbrav': 28425, 'points': 160.0, 'time_left': 0, 'main_reward': 107.5390625}\n"
     ]
    },
    {
     "name": "stdout",
     "output_type": "stream",
     "text": [
      "('nes_a3c_scaled_finer_main_reward_1', '16000000_finish.h5', 8) {'eherenbrav': 35980, 'points': 1805.0, 'time_left': 337, 'main_reward': 161.27812499999999}\n"
     ]
    },
    {
     "name": "stdout",
     "output_type": "stream",
     "text": [
      "('nes_a3c_scaled_finer_main_reward_1', '16000000_finish.h5', 9) {'eherenbrav': 47020, 'points': 1825.0, 'time_left': 339, 'main_reward': 161.47812500000001}\n"
     ]
    },
    {
     "name": "stdout",
     "output_type": "stream",
     "text": [
      "('nes_a3c_scaled_finer_main_reward_1', '16000000_finish.h5', 10) {'eherenbrav': 41055, 'points': 2040.0, 'time_left': 358, 'main_reward': 163.37812500000001}\n"
     ]
    },
    {
     "name": "stdout",
     "output_type": "stream",
     "text": [
      "('nes_a3c_scaled_finer_main_reward_1', '16000000_finish.h5', 11) {'eherenbrav': 35225, 'points': 1785.0, 'time_left': 331, 'main_reward': 160.67812499999999}\n"
     ]
    },
    {
     "name": "stdout",
     "output_type": "stream",
     "text": [
      "('nes_a3c_scaled_finer_main_reward_1', '16000000_finish.h5', 12) {'eherenbrav': 42265, 'points': 1845.0, 'time_left': 349, 'main_reward': 162.47812500000001}\n"
     ]
    },
    {
     "name": "stdout",
     "output_type": "stream",
     "text": [
      "('nes_a3c_scaled_finer_main_reward_1', '16000000_finish.h5', 13) {'eherenbrav': 35520, 'points': 1925.0, 'time_left': 343, 'main_reward': 161.87812500000001}\n"
     ]
    },
    {
     "name": "stdout",
     "output_type": "stream",
     "text": [
      "('nes_a3c_scaled_finer_main_reward_1', '16000000_finish.h5', 14) {'eherenbrav': 36645, 'points': 1910.0, 'time_left': 334, 'main_reward': 160.97812500000001}\n"
     ]
    },
    {
     "name": "stdout",
     "output_type": "stream",
     "text": [
      "('nes_a3c_scaled_finer_main_reward_1', '16000000_finish.h5', 15) {'eherenbrav': 40330, 'points': 1730.0, 'time_left': 334, 'main_reward': 160.97812500000001}\n"
     ]
    },
    {
     "name": "stdout",
     "output_type": "stream",
     "text": [
      "('nes_a3c_scaled_finer_main_reward_1', '16000000_finish.h5', 16) {'eherenbrav': 33315, 'points': 1695.0, 'time_left': 327, 'main_reward': 160.27812499999999}\n"
     ]
    },
    {
     "name": "stdout",
     "output_type": "stream",
     "text": [
      "('nes_a3c_scaled_finer_main_reward_1', '16000000_finish.h5', 17) {'eherenbrav': 40330, 'points': 2250.0, 'time_left': 336, 'main_reward': 161.17812499999999}\n"
     ]
    },
    {
     "name": "stdout",
     "output_type": "stream",
     "text": [
      "('nes_a3c_scaled_finer_main_reward_1', '16000000_finish.h5', 18) {'eherenbrav': 34490, 'points': 1825.0, 'time_left': 339, 'main_reward': 161.47812500000001}\n"
     ]
    },
    {
     "name": "stdout",
     "output_type": "stream",
     "text": [
      "('nes_a3c_scaled_finer_main_reward_1', '16000000_finish.h5', 19) {'eherenbrav': 38770, 'points': 1875.0, 'time_left': 327, 'main_reward': 160.27812499999999}\n"
     ]
    },
    {
     "name": "stdout",
     "output_type": "stream",
     "text": [
      "('nes_a3c_scaled_finer_main_reward_1', '16000000_finish.h5', 20) {'eherenbrav': 37125, 'points': 1905.0, 'time_left': 357, 'main_reward': 163.27812499999999}\n"
     ]
    },
    {
     "name": "stdout",
     "output_type": "stream",
     "text": [
      "('nes_a3c_scaled_finer_main_reward_1', '16000000_finish.h5', 21) {'eherenbrav': 33820, 'points': 1755.0, 'time_left': 331, 'main_reward': 160.67812499999999}\n"
     ]
    },
    {
     "name": "stdout",
     "output_type": "stream",
     "text": [
      "('nes_a3c_scaled_finer_main_reward_1', '16000000_finish.h5', 22) {'eherenbrav': 34645, 'points': 1775.0, 'time_left': 337, 'main_reward': 161.27812499999999}\n"
     ]
    },
    {
     "name": "stdout",
     "output_type": "stream",
     "text": [
      "('nes_a3c_scaled_finer_main_reward_1', '16000000_finish.h5', 23) {'eherenbrav': 40515, 'points': 1920.0, 'time_left': 338, 'main_reward': 161.37812500000001}\n"
     ]
    },
    {
     "name": "stdout",
     "output_type": "stream",
     "text": [
      "('nes_a3c_scaled_finer_main_reward_1', '16000000_finish.h5', 24) {'eherenbrav': 40190, 'points': 1985.0, 'time_left': 321, 'main_reward': 159.67812499999999}\n"
     ]
    },
    {
     "name": "stdout",
     "output_type": "stream",
     "text": [
      "('nes_a3c_scaled_finer_main_reward_1', '16000000_finish.h5', 25) {'eherenbrav': 40890, 'points': 2225.0, 'time_left': 339, 'main_reward': 161.47812500000001}\n"
     ]
    },
    {
     "name": "stdout",
     "output_type": "stream",
     "text": [
      "('nes_a3c_scaled_finer_main_reward_1', '16000000_finish.h5', 26) {'eherenbrav': 40240, 'points': 1965.0, 'time_left': 325, 'main_reward': 160.078125}\n"
     ]
    },
    {
     "name": "stdout",
     "output_type": "stream",
     "text": [
      "('nes_a3c_scaled_finer_main_reward_1', '16000000_finish.h5', 27) {'eherenbrav': 16080, 'points': 50.0, 'time_left': 0, 'main_reward': 60.5078125}\n"
     ]
    },
    {
     "name": "stdout",
     "output_type": "stream",
     "text": [
      "('nes_a3c_scaled_finer_main_reward_1', '16000000_finish.h5', 28) {'eherenbrav': 20415, 'points': 80.0, 'time_left': 0, 'main_reward': 79.0625}\n"
     ]
    },
    {
     "name": "stdout",
     "output_type": "stream",
     "text": [
      "('nes_a3c_scaled_finer_main_reward_1', '16000000_finish.h5', 29) {'eherenbrav': 18755, 'points': 70.0, 'time_left': 0, 'main_reward': 69.53125}\n"
     ]
    },
    {
     "name": "stdout",
     "output_type": "stream",
     "text": [
      "('nes_a3c_finer_main_reward_1', '16000000_finish.h5', 0) {'eherenbrav': 11525, 'points': 150.0, 'time_left': 0, 'main_reward': 27.65625}\n"
     ]
    },
    {
     "name": "stdout",
     "output_type": "stream",
     "text": [
      "('nes_a3c_finer_main_reward_1', '16000000_finish.h5', 1) {'eherenbrav': 5845, 'points': 20.0, 'time_left': 0, 'main_reward': 28.1640625}\n"
     ]
    },
    {
     "name": "stdout",
     "output_type": "stream",
     "text": [
      "('nes_a3c_finer_main_reward_1', '16000000_finish.h5', 2) {'eherenbrav': 8970, 'points': 140.0, 'time_left': 0, 'main_reward': 28.1640625}\n"
     ]
    },
    {
     "name": "stdout",
     "output_type": "stream",
     "text": [
      "('nes_a3c_finer_main_reward_1', '16000000_finish.h5', 3) {'eherenbrav': 8150, 'points': 30.0, 'time_left': 0, 'main_reward': 27.96875}\n"
     ]
    },
    {
     "name": "stdout",
     "output_type": "stream",
     "text": [
      "('nes_a3c_finer_main_reward_1', '16000000_finish.h5', 4) {'eherenbrav': 6145, 'points': 30.0, 'time_left': 0, 'main_reward': 11.015625}\n"
     ]
    },
    {
     "name": "stdout",
     "output_type": "stream",
     "text": [
      "('nes_a3c_finer_main_reward_1', '16000000_finish.h5', 5) {'eherenbrav': 7815, 'points': 20.0, 'time_left': 0, 'main_reward': 28.203125}\n"
     ]
    },
    {
     "name": "stdout",
     "output_type": "stream",
     "text": [
      "('nes_a3c_finer_main_reward_1', '16000000_finish.h5', 6) {'eherenbrav': 8255, 'points': 70.0, 'time_left': 0, 'main_reward': 28.203125}\n"
     ]
    },
    {
     "name": "stdout",
     "output_type": "stream",
     "text": [
      "('nes_a3c_finer_main_reward_1', '16000000_finish.h5', 7) {'eherenbrav': 8575, 'points': 60.0, 'time_left': 0, 'main_reward': 28.0078125}\n"
     ]
    },
    {
     "name": "stdout",
     "output_type": "stream",
     "text": [
      "('nes_a3c_finer_main_reward_1', '16000000_finish.h5', 8) {'eherenbrav': 9485, 'points': 160.0, 'time_left': 0, 'main_reward': 23.1640625}\n"
     ]
    },
    {
     "name": "stdout",
     "output_type": "stream",
     "text": [
      "('nes_a3c_finer_main_reward_1', '16000000_finish.h5', 9) {'eherenbrav': 8170, 'points': 50.0, 'time_left': 0, 'main_reward': 25.5859375}\n"
     ]
    },
    {
     "name": "stdout",
     "output_type": "stream",
     "text": [
      "('nes_a3c_finer_main_reward_1', '16000000_finish.h5', 10) {'eherenbrav': 9515, 'points': 150.0, 'time_left': 0, 'main_reward': 27.96875}\n"
     ]
    },
    {
     "name": "stdout",
     "output_type": "stream",
     "text": [
      "('nes_a3c_finer_main_reward_1', '16000000_finish.h5', 11) {'eherenbrav': 7110, 'points': 150.0, 'time_left': 0, 'main_reward': 27.890625}\n"
     ]
    },
    {
     "name": "stdout",
     "output_type": "stream",
     "text": [
      "('nes_a3c_finer_main_reward_1', '16000000_finish.h5', 12) {'eherenbrav': 5880, 'points': 20.0, 'time_left': 0, 'main_reward': 11.40625}\n"
     ]
    },
    {
     "name": "stdout",
     "output_type": "stream",
     "text": [
      "('nes_a3c_finer_main_reward_1', '16000000_finish.h5', 13) {'eherenbrav': 11350, 'points': 60.0, 'time_left': 0, 'main_reward': 27.0703125}\n"
     ]
    },
    {
     "name": "stdout",
     "output_type": "stream",
     "text": [
      "('nes_a3c_finer_main_reward_1', '16000000_finish.h5', 14) {'eherenbrav': 5720, 'points': 40.0, 'time_left': 0, 'main_reward': 27.1484375}\n"
     ]
    },
    {
     "name": "stdout",
     "output_type": "stream",
     "text": [
      "('nes_a3c_finer_main_reward_1', '16000000_finish.h5', 15) {'eherenbrav': 8610, 'points': 50.0, 'time_left': 0, 'main_reward': 8.203125}\n"
     ]
    },
    {
     "name": "stdout",
     "output_type": "stream",
     "text": [
      "('nes_a3c_finer_main_reward_1', '16000000_finish.h5', 16) {'eherenbrav': 8390, 'points': 40.0, 'time_left': 0, 'main_reward': 11.171875}\n"
     ]
    },
    {
     "name": "stdout",
     "output_type": "stream",
     "text": [
      "('nes_a3c_finer_main_reward_1', '16000000_finish.h5', 17) {'eherenbrav': 3280, 'points': 0.0, 'time_left': 0, 'main_reward': 10.625}\n"
     ]
    },
    {
     "name": "stdout",
     "output_type": "stream",
     "text": [
      "('nes_a3c_finer_main_reward_1', '16000000_finish.h5', 18) {'eherenbrav': 11780, 'points': 160.0, 'time_left': 0, 'main_reward': 28.203125}\n"
     ]
    },
    {
     "name": "stdout",
     "output_type": "stream",
     "text": [
      "('nes_a3c_finer_main_reward_1', '16000000_finish.h5', 19) {'eherenbrav': 11750, 'points': 70.0, 'time_left': 0, 'main_reward': 28.203125}\n"
     ]
    },
    {
     "name": "stdout",
     "output_type": "stream",
     "text": [
      "('nes_a3c_finer_main_reward_1', '16000000_finish.h5', 20) {'eherenbrav': 11130, 'points': 60.0, 'time_left': 0, 'main_reward': 27.6171875}\n"
     ]
    },
    {
     "name": "stdout",
     "output_type": "stream",
     "text": [
      "('nes_a3c_finer_main_reward_1', '16000000_finish.h5', 21) {'eherenbrav': 5250, 'points': 20.0, 'time_left': 0, 'main_reward': 28.125}\n"
     ]
    },
    {
     "name": "stdout",
     "output_type": "stream",
     "text": [
      "('nes_a3c_finer_main_reward_1', '16000000_finish.h5', 22) {'eherenbrav': 8265, 'points': 50.0, 'time_left': 0, 'main_reward': 28.046875}\n"
     ]
    },
    {
     "name": "stdout",
     "output_type": "stream",
     "text": [
      "('nes_a3c_finer_main_reward_1', '16000000_finish.h5', 23) {'eherenbrav': 10735, 'points': 70.0, 'time_left': 0, 'main_reward': 27.6171875}\n"
     ]
    },
    {
     "name": "stdout",
     "output_type": "stream",
     "text": [
      "('nes_a3c_finer_main_reward_1', '16000000_finish.h5', 24) {'eherenbrav': 8790, 'points': 90.0, 'time_left': 0, 'main_reward': 11.09375}\n"
     ]
    },
    {
     "name": "stdout",
     "output_type": "stream",
     "text": [
      "('nes_a3c_finer_main_reward_1', '16000000_finish.h5', 25) {'eherenbrav': 3490, 'points': 40.0, 'time_left': 0, 'main_reward': 11.3671875}\n"
     ]
    },
    {
     "name": "stdout",
     "output_type": "stream",
     "text": [
      "('nes_a3c_finer_main_reward_1', '16000000_finish.h5', 26) {'eherenbrav': 5810, 'points': 50.0, 'time_left': 0, 'main_reward': 11.0546875}\n"
     ]
    },
    {
     "name": "stdout",
     "output_type": "stream",
     "text": [
      "('nes_a3c_finer_main_reward_1', '16000000_finish.h5', 27) {'eherenbrav': 10140, 'points': 10.0, 'time_left': 0, 'main_reward': 27.8125}\n"
     ]
    },
    {
     "name": "stdout",
     "output_type": "stream",
     "text": [
      "('nes_a3c_finer_main_reward_1', '16000000_finish.h5', 28) {'eherenbrav': 10340, 'points': 30.0, 'time_left': 0, 'main_reward': 28.203125}\n"
     ]
    },
    {
     "name": "stdout",
     "output_type": "stream",
     "text": [
      "('nes_a3c_finer_main_reward_1', '16000000_finish.h5', 29) {'eherenbrav': 9365, 'points': 170.0, 'time_left': 0, 'main_reward': 8.7890625}\n"
     ]
    }
   ],
   "source": [
    "eval_results = {}\n",
    "for (experiment_name,model_name), weights in model_snapshots.items():\n",
    "    model = load_model(weights)\n",
    "    for attempt_nr in range(nr_of_attempts):\n",
    "        nesApi.reset_game()\n",
    "        env = nes.NES(rom_path,outside_nes_interface=nesApi,frame_skip=1)\n",
    "        performance = wrapped_eval_performance(model)\n",
    "        print((experiment_name,model_name,attempt_nr), performance)\n",
    "        eval_results[(experiment_name,model_name,attempt_nr)] = performance"
   ]
  },
  {
   "cell_type": "code",
   "execution_count": 21,
   "metadata": {
    "collapsed": false
   },
   "outputs": [],
   "source": [
    "result_df = pandas.DataFrame.from_dict(eval_results,orient=\"index\")"
   ]
  },
  {
   "cell_type": "code",
   "execution_count": 25,
   "metadata": {
    "collapsed": true
   },
   "outputs": [],
   "source": [
    "result_df.to_csv(\"eval_results_6.csv\")"
   ]
  },
  {
   "cell_type": "code",
   "execution_count": 26,
   "metadata": {
    "collapsed": true
   },
   "outputs": [],
   "source": [
    "result_df.to_pickle(\"eval_results_6.pickle\")"
   ]
  },
  {
   "cell_type": "code",
   "execution_count": 19,
   "metadata": {},
   "outputs": [],
   "source": [
    "result_df.groupby?"
   ]
  },
  {
   "cell_type": "markdown",
   "metadata": {},
   "source": [
    "# ladida just rewiting time left"
   ]
  },
  {
   "cell_type": "code",
   "execution_count": 10,
   "metadata": {},
   "outputs": [],
   "source": [
    "def make_time_left():\n",
    "    counted_once = False\n",
    "    def time_left(ram):\n",
    "        nonlocal counted_once\n",
    "        if counted_once:\n",
    "            return 0\n",
    "        if ram[0x001D] == 3:\n",
    "            counted_once = True\n",
    "            return rewards.time_left(ram) \n",
    "        return 0\n",
    "    return  time_left"
   ]
  },
  {
   "cell_type": "markdown",
   "metadata": {},
   "source": [
    "#### check close eval performance"
   ]
  },
  {
   "cell_type": "code",
   "execution_count": 11,
   "metadata": {
    "collapsed": true
   },
   "outputs": [
    {
     "data": {
      "text/plain": [
       "43775"
      ]
     },
     "execution_count": 11,
     "metadata": {},
     "output_type": "execute_result"
    }
   ],
   "source": [
    "#,frame_skip=1\n",
    "close_eval_performance(nes.NES(rom_path,outside_nes_interface=nesApi),example_model)"
   ]
  },
  {
   "cell_type": "markdown",
   "metadata": {},
   "source": [
    "### Trying it with a callback"
   ]
  },
  {
   "cell_type": "code",
   "execution_count": 16,
   "metadata": {},
   "outputs": [
    {
     "data": {
      "text/plain": [
       "{'eherenbrav': 41990,\n 'main_reward': 163.47812500000001,\n 'points': 2095.0,\n 'time_left': 359}"
      ]
     },
     "execution_count": 16,
     "metadata": {},
     "output_type": "execute_result"
    }
   ],
   "source": [
    "wrapped_eval_performance(example_model)"
   ]
  }
 ],
 "metadata": {
  "kernelspec": {
   "display_name": "Python 3",
   "language": "python",
   "name": "python3"
  },
  "language_info": {
   "codemirror_mode": {
    "name": "ipython",
    "version": 3.0
   },
   "file_extension": ".py",
   "mimetype": "text/x-python",
   "name": "python",
   "nbconvert_exporter": "python",
   "pygments_lexer": "ipython3",
   "version": "3.5.2"
  }
 },
 "nbformat": 4,
 "nbformat_minor": 0
}