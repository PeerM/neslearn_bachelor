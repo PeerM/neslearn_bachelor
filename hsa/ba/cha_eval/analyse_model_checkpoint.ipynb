{
 "cells": [
  {
   "cell_type": "code",
   "execution_count": 1,
   "metadata": {
    "collapsed": true
   },
   "outputs": [],
   "source": [
    "import sys\n",
    "sys.path.append( \"/home/mathia/PycharmProjects/neslearn-git\")\n",
    "sys.path.append( \"/home/mathia/PycharmProjects/neslearn-git/extern/nes-async-rl/\")"
   ]
  },
  {
   "cell_type": "code",
   "execution_count": 2,
   "metadata": {
    "collapsed": false
   },
   "outputs": [],
   "source": [
    "import pandas\n",
    "import hsa.ba.rewards as rewards\n",
    "import itertools\n",
    "from extern.fceux_learningenv.nes_python_interface.nes_python_interface import NESInterface\n",
    "import hsa.machine_constants\n",
    "from hsa.nes_python_input import py_to_nes_wrapper\n",
    "\n",
    "import numpy as np\n",
    "import matplotlib.pyplot as plt\n",
    "import itertools\n",
    "import os.path"
   ]
  },
  {
   "cell_type": "code",
   "execution_count": 3,
   "metadata": {},
   "outputs": [],
   "source": [
    "from demo_a3c_nes import eval_performance as org_eval_performance"
   ]
  },
  {
   "cell_type": "code",
   "execution_count": 4,
   "metadata": {
    "collapsed": true
   },
   "outputs": [],
   "source": [
    "from dqn_phi import dqn_phi\n",
    "import nes \n",
    "from a3c_nes import A3CLSTM\n",
    "import chainer\n",
    "from chainer import serializers"
   ]
  },
  {
   "cell_type": "code",
   "execution_count": 5,
   "metadata": {
    "collapsed": false
   },
   "outputs": [],
   "source": [
    "example_model_path = \"/home/mathia/checkpoints/nes_a3c_scaled_finer_main_reward_1/16000000_finish.h5\"\n",
    "rom_path = \"/home/mathia/mario.nes\"\n",
    "nr_of_attempts = 30"
   ]
  },
  {
   "cell_type": "code",
   "execution_count": 6,
   "metadata": {},
   "outputs": [],
   "source": [
    "nesApi = NESInterface(rom_path)\n",
    "nesApi.render()\n",
    "nesApi.reset_game()"
   ]
  },
  {
   "cell_type": "code",
   "execution_count": 7,
   "metadata": {
    "collapsed": false
   },
   "outputs": [],
   "source": [
    "base_paht = \"/home/mathia/checkpoints/{}/{}\"\n",
    "model_names = [\n",
    "    \"scaled_fine_main_reward_1\" # coars\n",
    "    ,\"nes_a3c_4\" # ehrenbrav\n",
    "    ,\"nes_a3c_scaled_finer_main_reward_1\", # main\n",
    "     \"nes_a3c_finer_main_reward_1\" # small\n",
    "    ,\"scaled_finer_main_reward_with_points_1\" #with points\n",
    "]\n",
    "\n",
    "model_chepoint_combos = [(model_name,\"16000000_finish.h5\")for model_name in model_names]\n",
    "# model_chepoint_combos.append((\"nes_a3c_4\",\"9000000.h5\"))\n",
    "# model_chepoint_combos.append((\"scaled_fine_main_reward_1\",\"9400000.h5\"))\n",
    "# model_chepoint_combos.append((\"nes_a3c_scaled_finer_main_reward_1\",\"9200000.h5\"))\n",
    "#model_chepoint_combos = itertools.product(model_names, chepoint_filenames) \n",
    "model_snapshots = {(directory,checkpoint):base_paht.format(directory,checkpoint) \n",
    "                   for (directory,checkpoint) \n",
    "                   in model_chepoint_combos}\n",
    "# make sure every file exists\n",
    "for path in model_snapshots.values():\n",
    "    if not os.path.isfile(path):\n",
    "        print(path)"
   ]
  },
  {
   "cell_type": "code",
   "execution_count": 8,
   "metadata": {
    "collapsed": true
   },
   "outputs": [
    {
     "data": {
      "text/plain": [
       "{('nes_a3c_4',\n  '16000000_finish.h5'): '/home/mathia/checkpoints/nes_a3c_4/16000000_finish.h5',\n ('nes_a3c_finer_main_reward_1',\n  '16000000_finish.h5'): '/home/mathia/checkpoints/nes_a3c_finer_main_reward_1/16000000_finish.h5',\n ('nes_a3c_scaled_finer_main_reward_1',\n  '16000000_finish.h5'): '/home/mathia/checkpoints/nes_a3c_scaled_finer_main_reward_1/16000000_finish.h5',\n ('scaled_fine_main_reward_1',\n  '16000000_finish.h5'): '/home/mathia/checkpoints/scaled_fine_main_reward_1/16000000_finish.h5',\n ('scaled_finer_main_reward_with_points_1',\n  '16000000_finish.h5'): '/home/mathia/checkpoints/scaled_finer_main_reward_with_points_1/16000000_finish.h5'}"
      ]
     },
     "execution_count": 8,
     "metadata": {},
     "output_type": "execute_result"
    }
   ],
   "source": [
    "model_snapshots"
   ]
  },
  {
   "cell_type": "code",
   "execution_count": 9,
   "metadata": {
    "collapsed": false
   },
   "outputs": [],
   "source": [
    "#n_actions = nes.NES(hsa.machine_constants.mario_rom_location).number_of_actions\n",
    "\n",
    "def load_model(weights_path):\n",
    "    n_actions = nes.n_actions\n",
    "    model = A3CLSTM(n_actions)\n",
    "    serializers.load_hdf5(weights_path, model)\n",
    "    return model\n",
    "example_model = load_model(example_model_path)"
   ]
  },
  {
   "cell_type": "code",
   "execution_count": 10,
   "metadata": {
    "collapsed": true
   },
   "outputs": [],
   "source": [
    "def make_eval_functions():\n",
    "    return {\n",
    "        \"main_reward\": rewards.make_scaled_finer_main_reward(),\n",
    "        \"points\": rewards.make_delta_points(),\n",
    "        \"time_left\": rewards.reward_for_time_left\n",
    "    }"
   ]
  },
  {
   "cell_type": "code",
   "execution_count": 14,
   "metadata": {
    "collapsed": true
   },
   "outputs": [],
   "source": [
    "def eval_performance(model, nesApi, env, deterministic=False):\n",
    "    model.reset_state()\n",
    "    ehrenbrav_sum = 0\n",
    "    other_rewards = make_eval_functions()\n",
    "    sums = {name:0 for name in other_rewards.keys()}\n",
    "    while not env.is_terminal:\n",
    "        s = chainer.Variable(np.expand_dims(dqn_phi(env.state), 0))\n",
    "        pout = model.pi_and_v(s)[0]\n",
    "        model.unchain_backward()\n",
    "        # repeat action 4 times\n",
    "        if deterministic:\n",
    "            a = pout.most_probable_actions[0]\n",
    "        else:\n",
    "            a = pout.action_indices[0]\n",
    "        for i in range(4):\n",
    "            ehrenbrav_sum += env.receive_action(a)\n",
    "        \n",
    "            # TODO Sum of Ehrenbrav, Sum of Main Reward, sum of time left, did it beat the level?, how many deaths\n",
    "            ram = nesApi.getRAM()\n",
    "            for name, reward_function in other_rewards.items():\n",
    "                sums[name] += reward_function(ram)\n",
    "            if env.is_terminal:\n",
    "                break\n",
    "    \n",
    "    sums[\"ehrenbrav\"] = ehrenbrav_sum\n",
    "    return sums"
   ]
  },
  {
   "cell_type": "code",
   "execution_count": 21,
   "metadata": {
    "collapsed": false
   },
   "outputs": [
    {
     "data": {
      "text/plain": [
       "{'ehrenbrav': 7815, 'main_reward': 27.1875, 'points': 0.0, 'time_left': 0}"
      ]
     },
     "execution_count": 21,
     "metadata": {},
     "output_type": "execute_result"
    }
   ],
   "source": [
    "eval_performance(example_model,nesApi,nes.NES(rom_path,outside_nes_interface=nesApi,frame_skip=1)\n",
    "                 ,deterministic=False)"
   ]
  },
  {
   "cell_type": "code",
   "execution_count": 20,
   "metadata": {},
   "outputs": [],
   "source": [
    ""
   ]
  },
  {
   "cell_type": "code",
   "execution_count": 10,
   "metadata": {
    "collapsed": true
   },
   "outputs": [
    {
     "name": "stdout",
     "output_type": "stream",
     "text": [
      "('scaled_finer_main_reward_with_points_1', '16000000_finish.h5', 0) {'main_reward': 60.546875, 'points': 20.0, 'ehrenbrav': 9710, 'time_left': 0}\n"
     ]
    },
    {
     "name": "stdout",
     "output_type": "stream",
     "text": [
      "('scaled_finer_main_reward_with_points_1', '16000000_finish.h5', 1) {'main_reward': 56.328125, 'points': 10.0, 'ehrenbrav': 11295, 'time_left': 0}\n"
     ]
    },
    {
     "name": "stdout",
     "output_type": "stream",
     "text": [
      "('scaled_finer_main_reward_with_points_1', '16000000_finish.h5', 2) {'main_reward': 26.5625, 'points': 20.0, 'ehrenbrav': 7880, 'time_left': 0}\n"
     ]
    },
    {
     "name": "stdout",
     "output_type": "stream",
     "text": [
      "('scaled_finer_main_reward_with_points_1', '16000000_finish.h5', 3) {'main_reward': 26.5234375, 'points': 40.0, 'ehrenbrav': 8110, 'time_left': 0}\n"
     ]
    },
    {
     "name": "stdout",
     "output_type": "stream",
     "text": [
      "('scaled_finer_main_reward_with_points_1', '16000000_finish.h5', 4) {'main_reward': 26.5625, 'points': 40.0, 'ehrenbrav': 6250, 'time_left': 0}\n"
     ]
    },
    {
     "name": "stdout",
     "output_type": "stream",
     "text": [
      "('scaled_finer_main_reward_with_points_1', '16000000_finish.h5', 5) {'main_reward': 26.9140625, 'points': 50.0, 'ehrenbrav': 6385, 'time_left': 0}\n"
     ]
    },
    {
     "name": "stdout",
     "output_type": "stream",
     "text": [
      "('scaled_finer_main_reward_with_points_1', '16000000_finish.h5', 6) {'main_reward': 26.2890625, 'points': 50.0, 'ehrenbrav': 12850, 'time_left': 0}\n"
     ]
    },
    {
     "name": "stdout",
     "output_type": "stream",
     "text": [
      "('scaled_finer_main_reward_with_points_1', '16000000_finish.h5', 7) {'main_reward': 12.109375, 'points': 60.0, 'ehrenbrav': 4635, 'time_left': 0}\n"
     ]
    },
    {
     "name": "stdout",
     "output_type": "stream",
     "text": [
      "('scaled_finer_main_reward_with_points_1', '16000000_finish.h5', 8) {'main_reward': 12.265625, 'points': 60.0, 'ehrenbrav': 6470, 'time_left': 0}\n"
     ]
    },
    {
     "name": "stdout",
     "output_type": "stream",
     "text": [
      "('scaled_finer_main_reward_with_points_1', '16000000_finish.h5', 9) {'main_reward': 12.1875, 'points': 20.0, 'ehrenbrav': 4265, 'time_left': 0}\n"
     ]
    },
    {
     "name": "stdout",
     "output_type": "stream",
     "text": [
      "('scaled_finer_main_reward_with_points_1', '16000000_finish.h5', 10) {'main_reward': 60.78125, 'points': 60.0, 'ehrenbrav': 12515, 'time_left': 0}\n"
     ]
    },
    {
     "name": "stdout",
     "output_type": "stream",
     "text": [
      "('scaled_finer_main_reward_with_points_1', '16000000_finish.h5', 11) {'main_reward': 12.1484375, 'points': 40.0, 'ehrenbrav': 6230, 'time_left': 0}\n"
     ]
    },
    {
     "name": "stdout",
     "output_type": "stream",
     "text": [
      "('scaled_finer_main_reward_with_points_1', '16000000_finish.h5', 12) {'main_reward': 12.03125, 'points': 40.0, 'ehrenbrav': 13700, 'time_left': 0}\n"
     ]
    },
    {
     "name": "stdout",
     "output_type": "stream",
     "text": [
      "('scaled_finer_main_reward_with_points_1', '16000000_finish.h5', 13) {'main_reward': 60.625, 'points': 20.0, 'ehrenbrav': 9760, 'time_left': 0}\n"
     ]
    },
    {
     "name": "stdout",
     "output_type": "stream",
     "text": [
      "('scaled_finer_main_reward_with_points_1', '16000000_finish.h5', 14) {'main_reward': 100.859375, 'points': 100.0, 'ehrenbrav': 16285, 'time_left': 0}\n"
     ]
    },
    {
     "name": "stdout",
     "output_type": "stream",
     "text": [
      "('scaled_finer_main_reward_with_points_1', '16000000_finish.h5', 15) {'main_reward': 60.625, 'points': 20.0, 'ehrenbrav': 9735, 'time_left': 0}\n"
     ]
    },
    {
     "name": "stdout",
     "output_type": "stream",
     "text": [
      "('scaled_finer_main_reward_with_points_1', '16000000_finish.h5', 16) {'main_reward': 60.9375, 'points': 30.0, 'ehrenbrav': 11995, 'time_left': 0}\n"
     ]
    },
    {
     "name": "stdout",
     "output_type": "stream",
     "text": [
      "('scaled_finer_main_reward_with_points_1', '16000000_finish.h5', 17) {'main_reward': 12.2265625, 'points': 60.0, 'ehrenbrav': 6475, 'time_left': 0}\n"
     ]
    },
    {
     "name": "stdout",
     "output_type": "stream",
     "text": [
      "('scaled_finer_main_reward_with_points_1', '16000000_finish.h5', 18) {'main_reward': 60.5078125, 'points': 20.0, 'ehrenbrav': 11905, 'time_left': 0}\n"
     ]
    },
    {
     "name": "stdout",
     "output_type": "stream",
     "text": [
      "('scaled_finer_main_reward_with_points_1', '16000000_finish.h5', 19) {'main_reward': 12.1875, 'points': 40.0, 'ehrenbrav': 10905, 'time_left': 0}\n"
     ]
    },
    {
     "name": "stdout",
     "output_type": "stream",
     "text": [
      "('scaled_finer_main_reward_with_points_1', '16000000_finish.h5', 20) {'main_reward': 12.109375, 'points': 60.0, 'ehrenbrav': 4645, 'time_left': 0}\n"
     ]
    },
    {
     "name": "stdout",
     "output_type": "stream",
     "text": [
      "('scaled_finer_main_reward_with_points_1', '16000000_finish.h5', 21) {'main_reward': 60.546875, 'points': 60.0, 'ehrenbrav': 12210, 'time_left': 0}\n"
     ]
    },
    {
     "name": "stdout",
     "output_type": "stream",
     "text": [
      "('scaled_finer_main_reward_with_points_1', '16000000_finish.h5', 22) {'main_reward': 12.109375, 'points': 60.0, 'ehrenbrav': 4620, 'time_left': 0}\n"
     ]
    },
    {
     "name": "stdout",
     "output_type": "stream",
     "text": [
      "('scaled_finer_main_reward_with_points_1', '16000000_finish.h5', 23) {'main_reward': 12.3046875, 'points': 60.0, 'ehrenbrav': 4635, 'time_left': 0}\n"
     ]
    },
    {
     "name": "stdout",
     "output_type": "stream",
     "text": [
      "('scaled_finer_main_reward_with_points_1', '16000000_finish.h5', 24) {'main_reward': 48.7890625, 'points': 10.0, 'ehrenbrav': 12410, 'time_left': 0}\n"
     ]
    },
    {
     "name": "stdout",
     "output_type": "stream",
     "text": [
      "('scaled_finer_main_reward_with_points_1', '16000000_finish.h5', 25) {'main_reward': 60.9765625, 'points': 60.0, 'ehrenbrav': 12615, 'time_left': 0}\n"
     ]
    },
    {
     "name": "stdout",
     "output_type": "stream",
     "text": [
      "('scaled_finer_main_reward_with_points_1', '16000000_finish.h5', 26) {'main_reward': 11.9140625, 'points': 50.0, 'ehrenbrav': 9145, 'time_left': 0}\n"
     ]
    },
    {
     "name": "stdout",
     "output_type": "stream",
     "text": [
      "('scaled_finer_main_reward_with_points_1', '16000000_finish.h5', 27) {'main_reward': 47.2265625, 'points': 50.0, 'ehrenbrav': 15435, 'time_left': 0}\n"
     ]
    },
    {
     "name": "stdout",
     "output_type": "stream",
     "text": [
      "('scaled_finer_main_reward_with_points_1', '16000000_finish.h5', 28) {'main_reward': 60.6640625, 'points': 10.0, 'ehrenbrav': 9710, 'time_left': 0}\n"
     ]
    },
    {
     "name": "stdout",
     "output_type": "stream",
     "text": [
      "('scaled_finer_main_reward_with_points_1', '16000000_finish.h5', 29) {'main_reward': 60.3515625, 'points': 20.0, 'ehrenbrav': 9800, 'time_left': 0}\n"
     ]
    },
    {
     "name": "stdout",
     "output_type": "stream",
     "text": [
      "('nes_a3c_4', '16000000_finish.h5', 0) {'main_reward': 12.1875, 'points': 0.0, 'ehrenbrav': 5930, 'time_left': 0}\n"
     ]
    },
    {
     "name": "stdout",
     "output_type": "stream",
     "text": [
      "('nes_a3c_4', '16000000_finish.h5', 1) {'main_reward': 12.265625, 'points': 0.0, 'ehrenbrav': 4055, 'time_left': 0}\n"
     ]
    },
    {
     "name": "stdout",
     "output_type": "stream",
     "text": [
      "('nes_a3c_4', '16000000_finish.h5', 2) {'main_reward': 12.265625, 'points': 0.0, 'ehrenbrav': 4055, 'time_left': 0}\n"
     ]
    },
    {
     "name": "stdout",
     "output_type": "stream",
     "text": [
      "('nes_a3c_4', '16000000_finish.h5', 3) {'main_reward': 26.6015625, 'points': 0.0, 'ehrenbrav': 5880, 'time_left': 0}\n"
     ]
    },
    {
     "name": "stdout",
     "output_type": "stream",
     "text": [
      "('nes_a3c_4', '16000000_finish.h5', 4) {'main_reward': 48.59375, 'points': 10.0, 'ehrenbrav': 13415, 'time_left': 0}\n"
     ]
    },
    {
     "name": "stdout",
     "output_type": "stream",
     "text": [
      "('nes_a3c_4', '16000000_finish.h5', 5) {'main_reward': 27.8515625, 'points': 10.0, 'ehrenbrav': 12590, 'time_left': 0}\n"
     ]
    },
    {
     "name": "stdout",
     "output_type": "stream",
     "text": [
      "('nes_a3c_4', '16000000_finish.h5', 6) {'main_reward': 60.6640625, 'points': 40.0, 'ehrenbrav': 17105, 'time_left': 0}\n"
     ]
    },
    {
     "name": "stdout",
     "output_type": "stream",
     "text": [
      "('nes_a3c_4', '16000000_finish.h5', 7) {'main_reward': 12.265625, 'points': 0.0, 'ehrenbrav': 6025, 'time_left': 0}\n"
     ]
    },
    {
     "name": "stdout",
     "output_type": "stream",
     "text": [
      "('nes_a3c_4', '16000000_finish.h5', 8) {'main_reward': 12.265625, 'points': 0.0, 'ehrenbrav': 4055, 'time_left': 0}\n"
     ]
    },
    {
     "name": "stdout",
     "output_type": "stream",
     "text": [
      "('nes_a3c_4', '16000000_finish.h5', 9) {'main_reward': 27.5, 'points': 0.0, 'ehrenbrav': 5990, 'time_left': 0}\n"
     ]
    },
    {
     "name": "stdout",
     "output_type": "stream",
     "text": [
      "('nes_a3c_4', '16000000_finish.h5', 10) {'main_reward': 27.1484375, 'points': 0.0, 'ehrenbrav': 5945, 'time_left': 0}\n"
     ]
    },
    {
     "name": "stdout",
     "output_type": "stream",
     "text": [
      "('nes_a3c_4', '16000000_finish.h5', 11) {'main_reward': 48.8671875, 'points': 0.0, 'ehrenbrav': 10635, 'time_left': 0}\n"
     ]
    },
    {
     "name": "stdout",
     "output_type": "stream",
     "text": [
      "('nes_a3c_4', '16000000_finish.h5', 12) {'main_reward': 60.625, 'points': 20.0, 'ehrenbrav': 10080, 'time_left': 0}\n"
     ]
    },
    {
     "name": "stdout",
     "output_type": "stream",
     "text": [
      "('nes_a3c_4', '16000000_finish.h5', 13) {'main_reward': 27.4609375, 'points': 10.0, 'ehrenbrav': 8045, 'time_left': 0}\n"
     ]
    },
    {
     "name": "stdout",
     "output_type": "stream",
     "text": [
      "('nes_a3c_4', '16000000_finish.h5', 14) {'main_reward': 12.1875, 'points': 0.0, 'ehrenbrav': 5995, 'time_left': 0}\n"
     ]
    },
    {
     "name": "stdout",
     "output_type": "stream",
     "text": [
      "('nes_a3c_4', '16000000_finish.h5', 15) {'main_reward': 12.265625, 'points': 0.0, 'ehrenbrav': 6010, 'time_left': 0}\n"
     ]
    },
    {
     "name": "stdout",
     "output_type": "stream",
     "text": [
      "('nes_a3c_4', '16000000_finish.h5', 16) {'main_reward': 12.265625, 'points': 0.0, 'ehrenbrav': 5900, 'time_left': 0}\n"
     ]
    },
    {
     "name": "stdout",
     "output_type": "stream",
     "text": [
      "('nes_a3c_4', '16000000_finish.h5', 17) {'main_reward': 61.0546875, 'points': 10.0, 'ehrenbrav': 16930, 'time_left': 0}\n"
     ]
    },
    {
     "name": "stdout",
     "output_type": "stream",
     "text": [
      "('nes_a3c_4', '16000000_finish.h5', 18) {'main_reward': 12.1875, 'points': 0.0, 'ehrenbrav': 5980, 'time_left': 0}\n"
     ]
    },
    {
     "name": "stdout",
     "output_type": "stream",
     "text": [
      "('nes_a3c_4', '16000000_finish.h5', 19) {'main_reward': 60.625, 'points': 20.0, 'ehrenbrav': 9775, 'time_left': 0}\n"
     ]
    },
    {
     "name": "stdout",
     "output_type": "stream",
     "text": [
      "('nes_a3c_4', '16000000_finish.h5', 20) {'main_reward': 27.34375, 'points': 10.0, 'ehrenbrav': 10640, 'time_left': 0}\n"
     ]
    },
    {
     "name": "stdout",
     "output_type": "stream",
     "text": [
      "('nes_a3c_4', '16000000_finish.h5', 21) {'main_reward': 27.734375, 'points': 10.0, 'ehrenbrav': 12615, 'time_left': 0}\n"
     ]
    },
    {
     "name": "stdout",
     "output_type": "stream",
     "text": [
      "('nes_a3c_4', '16000000_finish.h5', 22) {'main_reward': 48.90625, 'points': 10.0, 'ehrenbrav': 8805, 'time_left': 0}\n"
     ]
    },
    {
     "name": "stdout",
     "output_type": "stream",
     "text": [
      "('nes_a3c_4', '16000000_finish.h5', 23) {'main_reward': 12.265625, 'points': 0.0, 'ehrenbrav': 6010, 'time_left': 0}\n"
     ]
    },
    {
     "name": "stdout",
     "output_type": "stream",
     "text": [
      "('nes_a3c_4', '16000000_finish.h5', 24) {'main_reward': 12.265625, 'points': 0.0, 'ehrenbrav': 4065, 'time_left': 0}\n"
     ]
    },
    {
     "name": "stdout",
     "output_type": "stream",
     "text": [
      "('nes_a3c_4', '16000000_finish.h5', 25) {'main_reward': 27.7734375, 'points': 0.0, 'ehrenbrav': 6030, 'time_left': 0}\n"
     ]
    },
    {
     "name": "stdout",
     "output_type": "stream",
     "text": [
      "('nes_a3c_4', '16000000_finish.h5', 26) {'main_reward': 26.6015625, 'points': 0.0, 'ehrenbrav': 5880, 'time_left': 0}\n"
     ]
    },
    {
     "name": "stdout",
     "output_type": "stream",
     "text": [
      "('nes_a3c_4', '16000000_finish.h5', 27) {'main_reward': 60.9765625, 'points': 10.0, 'ehrenbrav': 12115, 'time_left': 0}\n"
     ]
    },
    {
     "name": "stdout",
     "output_type": "stream",
     "text": [
      "('nes_a3c_4', '16000000_finish.h5', 28) {'main_reward': 48.75, 'points': 20.0, 'ehrenbrav': 8900, 'time_left': 0}\n"
     ]
    },
    {
     "name": "stdout",
     "output_type": "stream",
     "text": [
      "('nes_a3c_4', '16000000_finish.h5', 29) {'main_reward': 60.625, 'points': 20.0, 'ehrenbrav': 9845, 'time_left': 0}\n"
     ]
    },
    {
     "name": "stdout",
     "output_type": "stream",
     "text": [
      "('scaled_fine_main_reward_1', '16000000_finish.h5', 0) {'main_reward': 12.1875, 'points': 40.0, 'ehrenbrav': 13735, 'time_left': 0}\n"
     ]
    },
    {
     "name": "stdout",
     "output_type": "stream",
     "text": [
      "('scaled_fine_main_reward_1', '16000000_finish.h5', 1) {'main_reward': 11.875, 'points': 0.0, 'ehrenbrav': 3960, 'time_left': 0}\n"
     ]
    },
    {
     "name": "stdout",
     "output_type": "stream",
     "text": [
      "('scaled_fine_main_reward_1', '16000000_finish.h5', 2) {'main_reward': 11.640625, 'points': 0.0, 'ehrenbrav': 3985, 'time_left': 0}\n"
     ]
    },
    {
     "name": "stdout",
     "output_type": "stream",
     "text": [
      "('scaled_fine_main_reward_1', '16000000_finish.h5', 3) {'main_reward': 12.1484375, 'points': 10.0, 'ehrenbrav': 8725, 'time_left': 0}\n"
     ]
    },
    {
     "name": "stdout",
     "output_type": "stream",
     "text": [
      "('scaled_fine_main_reward_1', '16000000_finish.h5', 4) {'main_reward': 28.203125, 'points': 0.0, 'ehrenbrav': 6035, 'time_left': 0}\n"
     ]
    },
    {
     "name": "stdout",
     "output_type": "stream",
     "text": [
      "('scaled_fine_main_reward_1', '16000000_finish.h5', 5) {'main_reward': 26.9140625, 'points': 0.0, 'ehrenbrav': 5860, 'time_left': 0}\n"
     ]
    },
    {
     "name": "stdout",
     "output_type": "stream",
     "text": [
      "('scaled_fine_main_reward_1', '16000000_finish.h5', 6) {'main_reward': 12.34375, 'points': 0.0, 'ehrenbrav': 4005, 'time_left': 0}\n"
     ]
    },
    {
     "name": "stdout",
     "output_type": "stream",
     "text": [
      "('scaled_fine_main_reward_1', '16000000_finish.h5', 7) {'main_reward': 11.953125, 'points': 0.0, 'ehrenbrav': 3990, 'time_left': 0}\n"
     ]
    },
    {
     "name": "stdout",
     "output_type": "stream",
     "text": [
      "('scaled_fine_main_reward_1', '16000000_finish.h5', 8) {'main_reward': 11.953125, 'points': 0.0, 'ehrenbrav': 4035, 'time_left': 0}\n"
     ]
    },
    {
     "name": "stdout",
     "output_type": "stream",
     "text": [
      "('scaled_fine_main_reward_1', '16000000_finish.h5', 9) {'main_reward': 12.265625, 'points': 0.0, 'ehrenbrav': 4060, 'time_left': 0}\n"
     ]
    },
    {
     "name": "stdout",
     "output_type": "stream",
     "text": [
      "('scaled_fine_main_reward_1', '16000000_finish.h5', 10) {'main_reward': 127.578125, 'points': 1775.0, 'ehrenbrav': 35905, 'time_left': 0}\n"
     ]
    },
    {
     "name": "stdout",
     "output_type": "stream",
     "text": [
      "('scaled_fine_main_reward_1', '16000000_finish.h5', 11) {'main_reward': 27.03125, 'points': 0.0, 'ehrenbrav': 5890, 'time_left': 0}\n"
     ]
    },
    {
     "name": "stdout",
     "output_type": "stream",
     "text": [
      "('scaled_fine_main_reward_1', '16000000_finish.h5', 12) {'main_reward': 49.0234375, 'points': 10.0, 'ehrenbrav': 13515, 'time_left': 0}\n"
     ]
    },
    {
     "name": "stdout",
     "output_type": "stream",
     "text": [
      "('scaled_fine_main_reward_1', '16000000_finish.h5', 13) {'main_reward': 12.265625, 'points': 0.0, 'ehrenbrav': 4035, 'time_left': 0}\n"
     ]
    },
    {
     "name": "stdout",
     "output_type": "stream",
     "text": [
      "('scaled_fine_main_reward_1', '16000000_finish.h5', 14) {'main_reward': 60.9765625, 'points': 0.0, 'ehrenbrav': 10030, 'time_left': 0}\n"
     ]
    },
    {
     "name": "stdout",
     "output_type": "stream",
     "text": [
      "('scaled_fine_main_reward_1', '16000000_finish.h5', 15) {'main_reward': 27.3828125, 'points': 10.0, 'ehrenbrav': 5965, 'time_left': 0}\n"
     ]
    },
    {
     "name": "stdout",
     "output_type": "stream",
     "text": [
      "('scaled_fine_main_reward_1', '16000000_finish.h5', 16) {'main_reward': 11.9140625, 'points': 0.0, 'ehrenbrav': 4050, 'time_left': 0}\n"
     ]
    },
    {
     "name": "stdout",
     "output_type": "stream",
     "text": [
      "('scaled_fine_main_reward_1', '16000000_finish.h5', 17) {'main_reward': 32.109375, 'points': 20.0, 'ehrenbrav': 6710, 'time_left': 0}\n"
     ]
    },
    {
     "name": "stdout",
     "output_type": "stream",
     "text": [
      "('scaled_fine_main_reward_1', '16000000_finish.h5', 18) {'main_reward': 11.9921875, 'points': 0.0, 'ehrenbrav': 3995, 'time_left': 0}\n"
     ]
    },
    {
     "name": "stdout",
     "output_type": "stream",
     "text": [
      "('scaled_fine_main_reward_1', '16000000_finish.h5', 19) {'main_reward': 12.03125, 'points': 0.0, 'ehrenbrav': 8510, 'time_left': 0}\n"
     ]
    },
    {
     "name": "stdout",
     "output_type": "stream",
     "text": [
      "('scaled_fine_main_reward_1', '16000000_finish.h5', 20) {'main_reward': 26.484375, 'points': 10.0, 'ehrenbrav': 5925, 'time_left': 0}\n"
     ]
    },
    {
     "name": "stdout",
     "output_type": "stream",
     "text": [
      "('scaled_fine_main_reward_1', '16000000_finish.h5', 21) {'main_reward': 12.2265625, 'points': 0.0, 'ehrenbrav': 4030, 'time_left': 0}\n"
     ]
    },
    {
     "name": "stdout",
     "output_type": "stream",
     "text": [
      "('scaled_fine_main_reward_1', '16000000_finish.h5', 22) {'main_reward': 11.71875, 'points': 0.0, 'ehrenbrav': 3925, 'time_left': 0}\n"
     ]
    },
    {
     "name": "stdout",
     "output_type": "stream",
     "text": [
      "('scaled_fine_main_reward_1', '16000000_finish.h5', 23) {'main_reward': 12.1875, 'points': 0.0, 'ehrenbrav': 3935, 'time_left': 0}\n"
     ]
    },
    {
     "name": "stdout",
     "output_type": "stream",
     "text": [
      "('scaled_fine_main_reward_1', '16000000_finish.h5', 24) {'main_reward': 12.2265625, 'points': 0.0, 'ehrenbrav': 4025, 'time_left': 0}\n"
     ]
    },
    {
     "name": "stdout",
     "output_type": "stream",
     "text": [
      "('scaled_fine_main_reward_1', '16000000_finish.h5', 25) {'main_reward': 12.34375, 'points': 0.0, 'ehrenbrav': 4045, 'time_left': 0}\n"
     ]
    },
    {
     "name": "stdout",
     "output_type": "stream",
     "text": [
      "('scaled_fine_main_reward_1', '16000000_finish.h5', 26) {'main_reward': 12.1875, 'points': 0.0, 'ehrenbrav': 4055, 'time_left': 0}\n"
     ]
    },
    {
     "name": "stdout",
     "output_type": "stream",
     "text": [
      "('scaled_fine_main_reward_1', '16000000_finish.h5', 27) {'main_reward': 48.5546875, 'points': 10.0, 'ehrenbrav': 8790, 'time_left': 0}\n"
     ]
    },
    {
     "name": "stdout",
     "output_type": "stream",
     "text": [
      "('scaled_fine_main_reward_1', '16000000_finish.h5', 28) {'main_reward': 26.796875, 'points': 10.0, 'ehrenbrav': 6020, 'time_left': 0}\n"
     ]
    },
    {
     "name": "stdout",
     "output_type": "stream",
     "text": [
      "('scaled_fine_main_reward_1', '16000000_finish.h5', 29) {'main_reward': 11.8359375, 'points': 0.0, 'ehrenbrav': 7990, 'time_left': 0}\n"
     ]
    },
    {
     "name": "stdout",
     "output_type": "stream",
     "text": [
      "('nes_a3c_scaled_finer_main_reward_1', '16000000_finish.h5', 0) {'main_reward': 12.1484375, 'points': 10.0, 'ehrenbrav': 8790, 'time_left': 0}\n"
     ]
    },
    {
     "name": "stdout",
     "output_type": "stream",
     "text": [
      "('nes_a3c_scaled_finer_main_reward_1', '16000000_finish.h5', 1) {'main_reward': 60.78125, 'points': 20.0, 'ehrenbrav': 10055, 'time_left': 0}\n"
     ]
    },
    {
     "name": "stdout",
     "output_type": "stream",
     "text": [
      "('nes_a3c_scaled_finer_main_reward_1', '16000000_finish.h5', 2) {'main_reward': 60.625, 'points': 20.0, 'ehrenbrav': 11085, 'time_left': 0}\n"
     ]
    },
    {
     "name": "stdout",
     "output_type": "stream",
     "text": [
      "('nes_a3c_scaled_finer_main_reward_1', '16000000_finish.h5', 3) {'main_reward': 60.1171875, 'points': 10.0, 'ehrenbrav': 10165, 'time_left': 0}\n"
     ]
    },
    {
     "name": "stdout",
     "output_type": "stream",
     "text": [
      "('nes_a3c_scaled_finer_main_reward_1', '16000000_finish.h5', 4) {'main_reward': 60.703125, 'points': 10.0, 'ehrenbrav': 12120, 'time_left': 0}\n"
     ]
    },
    {
     "name": "stdout",
     "output_type": "stream",
     "text": [
      "('nes_a3c_scaled_finer_main_reward_1', '16000000_finish.h5', 5) {'main_reward': 12.1875, 'points': 10.0, 'ehrenbrav': 6720, 'time_left': 0}\n"
     ]
    },
    {
     "name": "stdout",
     "output_type": "stream",
     "text": [
      "('nes_a3c_scaled_finer_main_reward_1', '16000000_finish.h5', 6) {'main_reward': 12.34375, 'points': 0.0, 'ehrenbrav': 4035, 'time_left': 0}\n"
     ]
    },
    {
     "name": "stdout",
     "output_type": "stream",
     "text": [
      "('nes_a3c_scaled_finer_main_reward_1', '16000000_finish.h5', 7) {'main_reward': 27.34375, 'points': 0.0, 'ehrenbrav': 7875, 'time_left': 0}\n"
     ]
    },
    {
     "name": "stdout",
     "output_type": "stream",
     "text": [
      "('nes_a3c_scaled_finer_main_reward_1', '16000000_finish.h5', 8) {'main_reward': 59.3359375, 'points': 10.0, 'ehrenbrav': 10535, 'time_left': 0}\n"
     ]
    },
    {
     "name": "stdout",
     "output_type": "stream",
     "text": [
      "('nes_a3c_scaled_finer_main_reward_1', '16000000_finish.h5', 9) {'main_reward': 60.78125, 'points': 20.0, 'ehrenbrav': 9945, 'time_left': 0}\n"
     ]
    },
    {
     "name": "stdout",
     "output_type": "stream",
     "text": [
      "('nes_a3c_scaled_finer_main_reward_1', '16000000_finish.h5', 10) {'main_reward': 59.375, 'points': 20.0, 'ehrenbrav': 12170, 'time_left': 0}\n"
     ]
    },
    {
     "name": "stdout",
     "output_type": "stream",
     "text": [
      "('nes_a3c_scaled_finer_main_reward_1', '16000000_finish.h5', 11) {'main_reward': 12.3046875, 'points': 0.0, 'ehrenbrav': 6030, 'time_left': 0}\n"
     ]
    },
    {
     "name": "stdout",
     "output_type": "stream",
     "text": [
      "('nes_a3c_scaled_finer_main_reward_1', '16000000_finish.h5', 12) {'main_reward': 12.109375, 'points': 50.0, 'ehrenbrav': 9205, 'time_left': 0}\n"
     ]
    },
    {
     "name": "stdout",
     "output_type": "stream",
     "text": [
      "('nes_a3c_scaled_finer_main_reward_1', '16000000_finish.h5', 13) {'main_reward': 12.265625, 'points': 10.0, 'ehrenbrav': 8790, 'time_left': 0}\n"
     ]
    },
    {
     "name": "stdout",
     "output_type": "stream",
     "text": [
      "('nes_a3c_scaled_finer_main_reward_1', '16000000_finish.h5', 14) {'main_reward': 60.546875, 'points': 30.0, 'ehrenbrav': 15970, 'time_left': 0}\n"
     ]
    },
    {
     "name": "stdout",
     "output_type": "stream",
     "text": [
      "('nes_a3c_scaled_finer_main_reward_1', '16000000_finish.h5', 15) {'main_reward': 60.859375, 'points': 20.0, 'ehrenbrav': 9800, 'time_left': 0}\n"
     ]
    },
    {
     "name": "stdout",
     "output_type": "stream",
     "text": [
      "('nes_a3c_scaled_finer_main_reward_1', '16000000_finish.h5', 16) {'main_reward': 12.1484375, 'points': 0.0, 'ehrenbrav': 5960, 'time_left': 0}\n"
     ]
    },
    {
     "name": "stdout",
     "output_type": "stream",
     "text": [
      "('nes_a3c_scaled_finer_main_reward_1', '16000000_finish.h5', 17) {'main_reward': 59.453125, 'points': 20.0, 'ehrenbrav': 9890, 'time_left': 0}\n"
     ]
    },
    {
     "name": "stdout",
     "output_type": "stream",
     "text": [
      "('nes_a3c_scaled_finer_main_reward_1', '16000000_finish.h5', 18) {'main_reward': 59.375, 'points': 20.0, 'ehrenbrav': 14925, 'time_left': 0}\n"
     ]
    },
    {
     "name": "stdout",
     "output_type": "stream",
     "text": [
      "('nes_a3c_scaled_finer_main_reward_1', '16000000_finish.h5', 19) {'main_reward': 12.265625, 'points': 0.0, 'ehrenbrav': 5950, 'time_left': 0}\n"
     ]
    },
    {
     "name": "stdout",
     "output_type": "stream",
     "text": [
      "('nes_a3c_scaled_finer_main_reward_1', '16000000_finish.h5', 20) {'main_reward': 59.4140625, 'points': 10.0, 'ehrenbrav': 14730, 'time_left': 0}\n"
     ]
    },
    {
     "name": "stdout",
     "output_type": "stream",
     "text": [
      "('nes_a3c_scaled_finer_main_reward_1', '16000000_finish.h5', 21) {'main_reward': 60.546875, 'points': 20.0, 'ehrenbrav': 10055, 'time_left': 0}\n"
     ]
    },
    {
     "name": "stdout",
     "output_type": "stream",
     "text": [
      "('nes_a3c_scaled_finer_main_reward_1', '16000000_finish.h5', 22) {'main_reward': 26.9140625, 'points': 0.0, 'ehrenbrav': 5890, 'time_left': 0}\n"
     ]
    },
    {
     "name": "stdout",
     "output_type": "stream",
     "text": [
      "('nes_a3c_scaled_finer_main_reward_1', '16000000_finish.h5', 23) {'main_reward': 26.40625, 'points': 10.0, 'ehrenbrav': 7850, 'time_left': 0}\n"
     ]
    },
    {
     "name": "stdout",
     "output_type": "stream",
     "text": [
      "('nes_a3c_scaled_finer_main_reward_1', '16000000_finish.h5', 24) {'main_reward': 60.546875, 'points': 30.0, 'ehrenbrav': 15450, 'time_left': 0}\n"
     ]
    },
    {
     "name": "stdout",
     "output_type": "stream",
     "text": [
      "('nes_a3c_scaled_finer_main_reward_1', '16000000_finish.h5', 25) {'main_reward': 60.8984375, 'points': 20.0, 'ehrenbrav': 15370, 'time_left': 0}\n"
     ]
    },
    {
     "name": "stdout",
     "output_type": "stream",
     "text": [
      "('nes_a3c_scaled_finer_main_reward_1', '16000000_finish.h5', 26) {'main_reward': 12.1875, 'points': 0.0, 'ehrenbrav': 4080, 'time_left': 0}\n"
     ]
    },
    {
     "name": "stdout",
     "output_type": "stream",
     "text": [
      "('nes_a3c_scaled_finer_main_reward_1', '16000000_finish.h5', 27) {'main_reward': 12.1875, 'points': 0.0, 'ehrenbrav': 4045, 'time_left': 0}\n"
     ]
    },
    {
     "name": "stdout",
     "output_type": "stream",
     "text": [
      "('nes_a3c_scaled_finer_main_reward_1', '16000000_finish.h5', 28) {'main_reward': 12.3046875, 'points': 0.0, 'ehrenbrav': 4060, 'time_left': 0}\n"
     ]
    },
    {
     "name": "stdout",
     "output_type": "stream",
     "text": [
      "('nes_a3c_scaled_finer_main_reward_1', '16000000_finish.h5', 29) {'main_reward': 59.375, 'points': 10.0, 'ehrenbrav': 10750, 'time_left': 0}\n"
     ]
    },
    {
     "name": "stdout",
     "output_type": "stream",
     "text": [
      "('nes_a3c_finer_main_reward_1', '16000000_finish.h5', 0) {'main_reward': 49.53125, 'points': 70.0, 'ehrenbrav': 11330, 'time_left': 0}\n"
     ]
    },
    {
     "name": "stdout",
     "output_type": "stream",
     "text": [
      "('nes_a3c_finer_main_reward_1', '16000000_finish.h5', 1) {'main_reward': 8.203125, 'points': 50.0, 'ehrenbrav': 11330, 'time_left': 0}\n"
     ]
    },
    {
     "name": "stdout",
     "output_type": "stream",
     "text": [
      "('nes_a3c_finer_main_reward_1', '16000000_finish.h5', 2) {'main_reward': 35.078125, 'points': 70.0, 'ehrenbrav': 9610, 'time_left': 0}\n"
     ]
    },
    {
     "name": "stdout",
     "output_type": "stream",
     "text": [
      "('nes_a3c_finer_main_reward_1', '16000000_finish.h5', 3) {'main_reward': 9.1796875, 'points': 80.0, 'ehrenbrav': 6990, 'time_left': 0}\n"
     ]
    },
    {
     "name": "stdout",
     "output_type": "stream",
     "text": [
      "('nes_a3c_finer_main_reward_1', '16000000_finish.h5', 4) {'main_reward': 48.5546875, 'points': 60.0, 'ehrenbrav': 11285, 'time_left': 0}\n"
     ]
    },
    {
     "name": "stdout",
     "output_type": "stream",
     "text": [
      "('nes_a3c_finer_main_reward_1', '16000000_finish.h5', 5) {'main_reward': 26.6796875, 'points': 50.0, 'ehrenbrav': 10165, 'time_left': 0}\n"
     ]
    },
    {
     "name": "stdout",
     "output_type": "stream",
     "text": [
      "('nes_a3c_finer_main_reward_1', '16000000_finish.h5', 6) {'main_reward': 56.9921875, 'points': 160.0, 'ehrenbrav': 10495, 'time_left': 0}\n"
     ]
    },
    {
     "name": "stdout",
     "output_type": "stream",
     "text": [
      "('nes_a3c_finer_main_reward_1', '16000000_finish.h5', 7) {'main_reward': 107.03125, 'points': 430.0, 'ehrenbrav': 16700, 'time_left': 0}\n"
     ]
    },
    {
     "name": "stdout",
     "output_type": "stream",
     "text": [
      "('nes_a3c_finer_main_reward_1', '16000000_finish.h5', 8) {'main_reward': 9.453125, 'points': 40.0, 'ehrenbrav': 9835, 'time_left': 0}\n"
     ]
    },
    {
     "name": "stdout",
     "output_type": "stream",
     "text": [
      "('nes_a3c_finer_main_reward_1', '16000000_finish.h5', 9) {'main_reward': 9.53125, 'points': 60.0, 'ehrenbrav': 8855, 'time_left': 0}\n"
     ]
    },
    {
     "name": "stdout",
     "output_type": "stream",
     "text": [
      "('nes_a3c_finer_main_reward_1', '16000000_finish.h5', 10) {'main_reward': 28.203125, 'points': 0.0, 'ehrenbrav': 5350, 'time_left': 0}\n"
     ]
    },
    {
     "name": "stdout",
     "output_type": "stream",
     "text": [
      "('nes_a3c_finer_main_reward_1', '16000000_finish.h5', 11) {'main_reward': 31.2890625, 'points': 60.0, 'ehrenbrav': 8915, 'time_left': 0}\n"
     ]
    },
    {
     "name": "stdout",
     "output_type": "stream",
     "text": [
      "('nes_a3c_finer_main_reward_1', '16000000_finish.h5', 12) {'main_reward': 11.015625, 'points': 0.0, 'ehrenbrav': 3415, 'time_left': 0}\n"
     ]
    },
    {
     "name": "stdout",
     "output_type": "stream",
     "text": [
      "('nes_a3c_finer_main_reward_1', '16000000_finish.h5', 13) {'main_reward': 26.9921875, 'points': 50.0, 'ehrenbrav': 5810, 'time_left': 0}\n"
     ]
    },
    {
     "name": "stdout",
     "output_type": "stream",
     "text": [
      "('nes_a3c_finer_main_reward_1', '16000000_finish.h5', 14) {'main_reward': 34.0234375, 'points': 40.0, 'ehrenbrav': 6810, 'time_left': 0}\n"
     ]
    },
    {
     "name": "stdout",
     "output_type": "stream",
     "text": [
      "('nes_a3c_finer_main_reward_1', '16000000_finish.h5', 15) {'main_reward': 30.5859375, 'points': 155.0, 'ehrenbrav': 10330, 'time_left': 0}\n"
     ]
    },
    {
     "name": "stdout",
     "output_type": "stream",
     "text": [
      "('nes_a3c_finer_main_reward_1', '16000000_finish.h5', 16) {'main_reward': 58.671875, 'points': 205.0, 'ehrenbrav': 10870, 'time_left': 0}\n"
     ]
    },
    {
     "name": "stdout",
     "output_type": "stream",
     "text": [
      "('nes_a3c_finer_main_reward_1', '16000000_finish.h5', 17) {'main_reward': 6.4453125, 'points': 20.0, 'ehrenbrav': 2865, 'time_left': 0}\n"
     ]
    },
    {
     "name": "stdout",
     "output_type": "stream",
     "text": [
      "('nes_a3c_finer_main_reward_1', '16000000_finish.h5', 18) {'main_reward': 51.328125, 'points': 230.0, 'ehrenbrav': 15555, 'time_left': 0}\n"
     ]
    },
    {
     "name": "stdout",
     "output_type": "stream",
     "text": [
      "('nes_a3c_finer_main_reward_1', '16000000_finish.h5', 19) {'main_reward': 9.375, 'points': 20.0, 'ehrenbrav': 2950, 'time_left': 0}\n"
     ]
    },
    {
     "name": "stdout",
     "output_type": "stream",
     "text": [
      "('nes_a3c_finer_main_reward_1', '16000000_finish.h5', 20) {'main_reward': 12.1484375, 'points': 20.0, 'ehrenbrav': 6175, 'time_left': 0}\n"
     ]
    },
    {
     "name": "stdout",
     "output_type": "stream",
     "text": [
      "('nes_a3c_finer_main_reward_1', '16000000_finish.h5', 21) {'main_reward': 6.40625, 'points': 80.0, 'ehrenbrav': 10630, 'time_left': 0}\n"
     ]
    },
    {
     "name": "stdout",
     "output_type": "stream",
     "text": [
      "('nes_a3c_finer_main_reward_1', '16000000_finish.h5', 22) {'main_reward': 11.171875, 'points': 20.0, 'ehrenbrav': 3875, 'time_left': 0}\n"
     ]
    },
    {
     "name": "stdout",
     "output_type": "stream",
     "text": [
      "('nes_a3c_finer_main_reward_1', '16000000_finish.h5', 23) {'main_reward': 10.234375, 'points': 0.0, 'ehrenbrav': 7450, 'time_left': 0}\n"
     ]
    },
    {
     "name": "stdout",
     "output_type": "stream",
     "text": [
      "('nes_a3c_finer_main_reward_1', '16000000_finish.h5', 24) {'main_reward': 9.375, 'points': 30.0, 'ehrenbrav': 8425, 'time_left': 0}\n"
     ]
    },
    {
     "name": "stdout",
     "output_type": "stream",
     "text": [
      "('nes_a3c_finer_main_reward_1', '16000000_finish.h5', 25) {'main_reward': 32.3046875, 'points': 40.0, 'ehrenbrav': 6785, 'time_left': 0}\n"
     ]
    },
    {
     "name": "stdout",
     "output_type": "stream",
     "text": [
      "('nes_a3c_finer_main_reward_1', '16000000_finish.h5', 26) {'main_reward': 6.328125, 'points': 40.0, 'ehrenbrav': 3515, 'time_left': 0}\n"
     ]
    },
    {
     "name": "stdout",
     "output_type": "stream",
     "text": [
      "('nes_a3c_finer_main_reward_1', '16000000_finish.h5', 27) {'main_reward': 9.7265625, 'points': 0.0, 'ehrenbrav': 2780, 'time_left': 0}\n"
     ]
    },
    {
     "name": "stdout",
     "output_type": "stream",
     "text": [
      "('nes_a3c_finer_main_reward_1', '16000000_finish.h5', 28) {'main_reward': 35.078125, 'points': 210.0, 'ehrenbrav': 11315, 'time_left': 0}\n"
     ]
    },
    {
     "name": "stdout",
     "output_type": "stream",
     "text": [
      "('nes_a3c_finer_main_reward_1', '16000000_finish.h5', 29) {'main_reward': 10.4296875, 'points': 10.0, 'ehrenbrav': 6155, 'time_left': 0}\n"
     ]
    }
   ],
   "source": [
    "eval_results = {}\n",
    "for (experiment_name,model_name), weights in model_snapshots.items():\n",
    "    model = load_model(weights)\n",
    "    for attempt_nr in range(nr_of_attempts):\n",
    "        nesApi.reset_game()\n",
    "        env = nes.NES(rom_path,outside_nes_interface=nesApi,frame_skip=1)\n",
    "        performance = eval_performance(model,nesApi,env,deterministic=False)\n",
    "        print((experiment_name,model_name,attempt_nr), performance)\n",
    "        eval_results[(experiment_name,model_name,attempt_nr)] = performance"
   ]
  },
  {
   "cell_type": "code",
   "execution_count": 11,
   "metadata": {
    "collapsed": false
   },
   "outputs": [],
   "source": [
    "result_df = pandas.DataFrame.from_dict(eval_results,orient=\"index\")"
   ]
  },
  {
   "cell_type": "code",
   "execution_count": 14,
   "metadata": {
    "collapsed": true
   },
   "outputs": [],
   "source": [
    "result_df.to_csv(\"eval_results_5.csv\")"
   ]
  },
  {
   "cell_type": "code",
   "execution_count": 15,
   "metadata": {
    "collapsed": true
   },
   "outputs": [],
   "source": [
    "result_df.to_pickle(\"eval_results_5.pickle\")"
   ]
  },
  {
   "cell_type": "code",
   "execution_count": 19,
   "metadata": {},
   "outputs": [],
   "source": [
    "result_df.groupby?"
   ]
  },
  {
   "cell_type": "markdown",
   "metadata": {},
   "source": [
    "# ladida just rewiting time left"
   ]
  },
  {
   "cell_type": "code",
   "execution_count": 10,
   "metadata": {},
   "outputs": [],
   "source": [
    "def make_time_left():\n",
    "    counted_once = False\n",
    "    def time_left(ram):\n",
    "        nonlocal counted_once\n",
    "        if counted_once:\n",
    "            return 0\n",
    "        if ram[0x001D] == 3:\n",
    "            counted_once = True\n",
    "            return rewards.time_left(ram) \n",
    "        return 0\n",
    "    return  time_left"
   ]
  },
  {
   "cell_type": "markdown",
   "metadata": {},
   "source": [
    "## Forgot the small main reward "
   ]
  },
  {
   "cell_type": "markdown",
   "metadata": {},
   "source": [
    "##org eval"
   ]
  },
  {
   "cell_type": "code",
   "execution_count": 22,
   "metadata": {},
   "outputs": [],
   "source": [
    "del nesApi"
   ]
  },
  {
   "cell_type": "code",
   "execution_count": 24,
   "metadata": {
    "collapsed": true
   },
   "outputs": [
    {
     "ename": "KeyboardInterrupt",
     "evalue": "",
     "traceback": [
      "\u001b[0;31m---------------------------------------------------------------------------\u001b[0m",
      "\u001b[0;31mKeyboardInterrupt\u001b[0m                         Traceback (most recent call last)",
      "\u001b[0;32m<ipython-input-24-4ae6fca6d15b>\u001b[0m in \u001b[0;36m<module>\u001b[0;34m()\u001b[0m\n\u001b[0;32m----> 1\u001b[0;31m \u001b[0morg_eval_performance\u001b[0m\u001b[0;34m(\u001b[0m\u001b[0mrom_path\u001b[0m\u001b[0;34m,\u001b[0m\u001b[0mexample_model\u001b[0m\u001b[0;34m)\u001b[0m\u001b[0;34m\u001b[0m\u001b[0m\n\u001b[0m",
      "\u001b[0;32m/home/mathia/PycharmProjects/neslearn-git/extern/nes-async-rl/demo_a3c_nes.py\u001b[0m in \u001b[0;36meval_performance\u001b[0;34m(rom, model, deterministic, record_screen_path)\u001b[0m\n\u001b[1;32m     25\u001b[0m         \u001b[0;32melse\u001b[0m\u001b[0;34m:\u001b[0m\u001b[0;34m\u001b[0m\u001b[0m\n\u001b[1;32m     26\u001b[0m             \u001b[0ma\u001b[0m \u001b[0;34m=\u001b[0m \u001b[0mpout\u001b[0m\u001b[0;34m.\u001b[0m\u001b[0maction_indices\u001b[0m\u001b[0;34m[\u001b[0m\u001b[0;36m0\u001b[0m\u001b[0;34m]\u001b[0m\u001b[0;34m\u001b[0m\u001b[0m\n\u001b[0;32m---> 27\u001b[0;31m         \u001b[0mtest_r\u001b[0m \u001b[0;34m+=\u001b[0m \u001b[0menv\u001b[0m\u001b[0;34m.\u001b[0m\u001b[0mreceive_action\u001b[0m\u001b[0;34m(\u001b[0m\u001b[0ma\u001b[0m\u001b[0;34m)\u001b[0m\u001b[0;34m\u001b[0m\u001b[0m\n\u001b[0m\u001b[1;32m     28\u001b[0m     \u001b[0;32mreturn\u001b[0m \u001b[0mtest_r\u001b[0m\u001b[0;34m\u001b[0m\u001b[0m\n\u001b[1;32m     29\u001b[0m \u001b[0;34m\u001b[0m\u001b[0m\n",
      "\u001b[0;32m/home/mathia/PycharmProjects/neslearn-git/extern/nes-async-rl/nes.py\u001b[0m in \u001b[0;36mreceive_action\u001b[0;34m(self, action)\u001b[0m\n\u001b[1;32m    100\u001b[0m                 \u001b[0mself\u001b[0m\u001b[0;34m.\u001b[0m\u001b[0mlast_raw_screen\u001b[0m \u001b[0;34m=\u001b[0m \u001b[0mself\u001b[0m\u001b[0;34m.\u001b[0m\u001b[0mnes\u001b[0m\u001b[0;34m.\u001b[0m\u001b[0mgetScreenRGB\u001b[0m\u001b[0;34m(\u001b[0m\u001b[0;34m)\u001b[0m\u001b[0;34m\u001b[0m\u001b[0m\n\u001b[1;32m    101\u001b[0m \u001b[0;34m\u001b[0m\u001b[0m\n\u001b[0;32m--> 102\u001b[0;31m             \u001b[0mrewards\u001b[0m\u001b[0;34m.\u001b[0m\u001b[0mappend\u001b[0m\u001b[0;34m(\u001b[0m\u001b[0mself\u001b[0m\u001b[0;34m.\u001b[0m\u001b[0mnes\u001b[0m\u001b[0;34m.\u001b[0m\u001b[0mact\u001b[0m\u001b[0;34m(\u001b[0m\u001b[0mself\u001b[0m\u001b[0;34m.\u001b[0m\u001b[0mlegal_actions\u001b[0m\u001b[0;34m[\u001b[0m\u001b[0maction\u001b[0m\u001b[0;34m]\u001b[0m\u001b[0;34m)\u001b[0m\u001b[0;34m)\u001b[0m\u001b[0;34m\u001b[0m\u001b[0m\n\u001b[0m\u001b[1;32m    103\u001b[0m             \u001b[0;31m# TODO append frame to video\u001b[0m\u001b[0;34m\u001b[0m\u001b[0;34m\u001b[0m\u001b[0m\n\u001b[1;32m    104\u001b[0m             \u001b[0;32mif\u001b[0m \u001b[0mself\u001b[0m\u001b[0;34m.\u001b[0m\u001b[0mmovie_writer\u001b[0m \u001b[0;32mis\u001b[0m \u001b[0;32mnot\u001b[0m \u001b[0;32mNone\u001b[0m\u001b[0;34m:\u001b[0m\u001b[0;34m\u001b[0m\u001b[0m\n",
      "\u001b[0;32m/home/mathia/bachelor-venv/lib/python3.4/site-packages/nes_python_interface/nes_python_interface.py\u001b[0m in \u001b[0;36mact\u001b[0;34m(self, action)\u001b[0m\n\u001b[1;32m     98\u001b[0m \u001b[0;34m\u001b[0m\u001b[0m\n\u001b[1;32m     99\u001b[0m     \u001b[0;32mdef\u001b[0m \u001b[0mact\u001b[0m\u001b[0;34m(\u001b[0m\u001b[0mself\u001b[0m\u001b[0;34m,\u001b[0m \u001b[0maction\u001b[0m\u001b[0;34m)\u001b[0m\u001b[0;34m:\u001b[0m\u001b[0;34m\u001b[0m\u001b[0m\n\u001b[0;32m--> 100\u001b[0;31m         \u001b[0mreward\u001b[0m \u001b[0;34m=\u001b[0m \u001b[0mnes_lib\u001b[0m\u001b[0;34m.\u001b[0m\u001b[0mact\u001b[0m\u001b[0;34m(\u001b[0m\u001b[0mself\u001b[0m\u001b[0;34m.\u001b[0m\u001b[0mobj\u001b[0m\u001b[0;34m,\u001b[0m \u001b[0mint\u001b[0m\u001b[0;34m(\u001b[0m\u001b[0maction\u001b[0m\u001b[0;34m)\u001b[0m\u001b[0;34m)\u001b[0m\u001b[0;34m\u001b[0m\u001b[0m\n\u001b[0m\u001b[1;32m    101\u001b[0m         \u001b[0;32mif\u001b[0m \u001b[0mself\u001b[0m\u001b[0;34m.\u001b[0m\u001b[0mshould_render\u001b[0m\u001b[0;34m:\u001b[0m\u001b[0;34m\u001b[0m\u001b[0m\n\u001b[1;32m    102\u001b[0m             \u001b[0;32mif\u001b[0m \u001b[0mself\u001b[0m\u001b[0;34m.\u001b[0m\u001b[0mrender_action_counter\u001b[0m \u001b[0;34m%\u001b[0m \u001b[0mself\u001b[0m\u001b[0;34m.\u001b[0m\u001b[0mauto_render_period\u001b[0m \u001b[0;34m==\u001b[0m \u001b[0;36m0\u001b[0m\u001b[0;34m:\u001b[0m\u001b[0;34m\u001b[0m\u001b[0m\n",
      "\u001b[0;31mKeyboardInterrupt\u001b[0m: "
     ],
     "output_type": "error"
    }
   ],
   "source": [
    "org_eval_performance(rom_path,example_model)"
   ]
  },
  {
   "cell_type": "code",
   "execution_count": 14,
   "metadata": {},
   "outputs": [],
   "source": [
    "def close_eval_performance(env, model, deterministic=False,\n",
    "                     record_screen_path=None):\n",
    "    #env = nes.NES(rom,record_screen_path=record_screen_path)\n",
    "    model.reset_state()\n",
    "    test_r = 0\n",
    "    while not env.is_terminal:\n",
    "        s = chainer.Variable(np.expand_dims(dqn_phi(env.state), 0))\n",
    "        pout = model.pi_and_v(s)[0]\n",
    "        model.unchain_backward()\n",
    "        if deterministic:\n",
    "            a = pout.most_probable_actions[0]\n",
    "        else:\n",
    "            a = pout.action_indices[0]\n",
    "        test_r += env.receive_action(a)\n",
    "    return test_r"
   ]
  },
  {
   "cell_type": "code",
   "execution_count": 11,
   "metadata": {
    "collapsed": true
   },
   "outputs": [
    {
     "data": {
      "text/plain": [
       "43775"
      ]
     },
     "execution_count": 11,
     "metadata": {},
     "output_type": "execute_result"
    }
   ],
   "source": [
    "#,frame_skip=1\n",
    "close_eval_performance(nes.NES(rom_path,outside_nes_interface=nesApi),example_model)"
   ]
  },
  {
   "cell_type": "markdown",
   "metadata": {},
   "source": [
    "### Trying it with a callback"
   ]
  },
  {
   "cell_type": "code",
   "execution_count": 15,
   "metadata": {
    "collapsed": true
   },
   "outputs": [],
   "source": [
    "#,frame_skip=1\n",
    "def wrapped_eval_performance(model):\n",
    "    other_rewards = make_eval_functions()\n",
    "    sums = {name:0 for name in other_rewards.keys()}\n",
    "    def action_callback(frame_skip_i, ram):\n",
    "        nonlocal sums\n",
    "        for name, reward_function in other_rewards.items():\n",
    "            sums[name] += reward_function(ram)\n",
    "    eherenbrav_sum = close_eval_performance(\n",
    "        nes.NES(rom_path, outside_nes_interface=nesApi,\n",
    "                every_action_callback=action_callback)\n",
    "        , model)\n",
    "    sums[\"eherenbrav\"] = eherenbrav_sum\n",
    "    return sums"
   ]
  },
  {
   "cell_type": "code",
   "execution_count": 16,
   "metadata": {},
   "outputs": [
    {
     "data": {
      "text/plain": [
       "{'eherenbrav': 41990,\n 'main_reward': 163.47812500000001,\n 'points': 2095.0,\n 'time_left': 359}"
      ]
     },
     "execution_count": 16,
     "metadata": {},
     "output_type": "execute_result"
    }
   ],
   "source": [
    "wrapped_eval_performance(example_model)"
   ]
  },
  {
   "cell_type": "code",
   "execution_count": 27,
   "metadata": {},
   "outputs": [],
   "source": [
    "def frameskip_eval_performance(env, model, deterministic=False,\n",
    "                     record_screen_path=None):\n",
    "    #env = nes.NES(rom,record_screen_path=record_screen_path)\n",
    "    model.reset_state()\n",
    "    ehrenbrav_sum = 0\n",
    "    while not env.is_terminal:\n",
    "        s = chainer.Variable(np.expand_dims(dqn_phi(env.state), 0))\n",
    "        pout = model.pi_and_v(s)[0]\n",
    "        model.unchain_backward()\n",
    "        if deterministic:\n",
    "            a = pout.most_probable_actions[0]\n",
    "        else:\n",
    "            a = pout.action_indices[0]\n",
    "        for i in range(4):\n",
    "            ehrenbrav_sum += env.receive_action(a)\n",
    "            ram = env.nes.getRAM()\n",
    "            if env.is_terminal:\n",
    "                break\n",
    "    return ehrenbrav_sum"
   ]
  },
  {
   "cell_type": "code",
   "execution_count": 28,
   "metadata": {
    "collapsed": true
   },
   "outputs": [
    {
     "data": {
      "text/plain": [
       "10855"
      ]
     },
     "execution_count": 28,
     "metadata": {},
     "output_type": "execute_result"
    }
   ],
   "source": [
    "#,frame_skip=1\n",
    "frameskip_eval_performance(nes.NES(rom_path,outside_nes_interface=nesApi),example_model)"
   ]
  },
  {
   "cell_type": "code",
   "execution_count": 25,
   "metadata": {},
   "outputs": [],
   "source": [
    "def frameskip_other_eval_performance(env, model, deterministic=False,\n",
    "                     record_screen_path=None):\n",
    "    #env = nes.NES(rom,record_screen_path=record_screen_path)\n",
    "    model.reset_state()\n",
    "    ehrenbrav_sum = 0\n",
    "    other_rewards = make_eval_functions()\n",
    "    sums = {name:0 for name in other_rewards.keys()}\n",
    "    while not env.is_terminal:\n",
    "        s = chainer.Variable(np.expand_dims(dqn_phi(env.state), 0))\n",
    "        pout = model.pi_and_v(s)[0]\n",
    "        model.unchain_backward()\n",
    "        if deterministic:\n",
    "            a = pout.most_probable_actions[0]\n",
    "        else:\n",
    "            a = pout.action_indices[0]\n",
    "        for i in range(4):\n",
    "            env.nes.render()\n",
    "            ehrenbrav_sum += env.receive_action(a)\n",
    "            ram = env.nes.getRAM()\n",
    "            for name, reward_function in other_rewards.items():\n",
    "                sums[name] += reward_function(ram)\n",
    "            if env.is_terminal:\n",
    "                break\n",
    "\n",
    "    sums[\"ehrenbrav\"] = ehrenbrav_sum\n",
    "    return sums"
   ]
  },
  {
   "cell_type": "code",
   "execution_count": 26,
   "metadata": {
    "collapsed": true
   },
   "outputs": [
    {
     "data": {
      "text/plain": [
       "{'ehrenbrav': 9845, 'main_reward': 61.09375, 'points': 10.0, 'time_left': 0}"
      ]
     },
     "execution_count": 26,
     "metadata": {},
     "output_type": "execute_result"
    }
   ],
   "source": [
    "#,frame_skip=1\n",
    "frameskip_eval_performance(nes.NES(rom_path,outside_nes_interface=nesApi,frame_skip=1),example_model)"
   ]
  },
  {
   "cell_type": "markdown",
   "metadata": {},
   "source": [
    "## vergleich"
   ]
  },
  {
   "cell_type": "code",
   "execution_count": null,
   "metadata": {},
   "outputs": [],
   "source": [
    "def eval_performance(model, nesApi, env, deterministic=False):\n",
    "    model.reset_state()\n",
    "    ehrenbrav_sum = 0\n",
    "    other_rewards = make_eval_functions()\n",
    "    sums = {name:0 for name in other_rewards.keys()}\n",
    "    while not env.is_terminal:\n",
    "        s = chainer.Variable(np.expand_dims(dqn_phi(env.state), 0))\n",
    "        pout = model.pi_and_v(s)[0]\n",
    "        model.unchain_backward()\n",
    "        # repeat action 4 times\n",
    "        if deterministic:\n",
    "            a = pout.most_probable_actions[0]\n",
    "        else:\n",
    "            a = pout.action_indices[0]\n",
    "        for i in range(4):\n",
    "            ehrenbrav_sum += env.receive_action(a)\n",
    "        \n",
    "            # TODO Sum of Ehrenbrav, Sum of Main Reward, sum of time left, did it beat the level?, how many deaths\n",
    "            ram = nesApi.getRAM()\n",
    "            for name, reward_function in other_rewards.items():\n",
    "                sums[name] += reward_function(ram)\n",
    "            if env.is_terminal:\n",
    "                break\n",
    "    \n",
    "    sums[\"ehrenbrav\"] = ehrenbrav_sum\n",
    "    return sums"
   ]
  }
 ],
 "metadata": {
  "kernelspec": {
   "display_name": "Python 3",
   "language": "python",
   "name": "python3"
  },
  "language_info": {
   "codemirror_mode": {
    "name": "ipython",
    "version": 3.0
   },
   "file_extension": ".py",
   "mimetype": "text/x-python",
   "name": "python",
   "nbconvert_exporter": "python",
   "pygments_lexer": "ipython3",
   "version": "3.5.2"
  }
 },
 "nbformat": 4,
 "nbformat_minor": 0
}