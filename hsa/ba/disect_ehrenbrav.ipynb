{
 "cells": [
  {
   "cell_type": "code",
   "execution_count": 1,
   "metadata": {
    "collapsed": true
   },
   "outputs": [],
   "source": [
    "import sys\n",
    "sys.path.append( \"/home/peer/PycharmProjects/neslearng\")"
   ]
  },
  {
   "cell_type": "code",
   "execution_count": 2,
   "metadata": {
    "collapsed": false
   },
   "outputs": [],
   "source": [
    "import pandas\n",
    "import hsa.ba.rewards as rewards\n",
    "import itertools\n",
    "from extern.fceux_learningenv.nes_python_interface.nes_python_interface import NESInterface\n",
    "import hsa.machine_constants\n",
    "from hsa.nes_python_input import py_to_nes_wrapper\n",
    "from hsa.visualization.parse_fm2 import parse_fm2\n",
    "import numpy as np\n",
    "import matplotlib.pyplot as plt"
   ]
  },
  {
   "cell_type": "code",
   "execution_count": 7,
   "metadata": {
    "collapsed": false
   },
   "outputs": [
    {
     "data": {
      "text/plain": [
       "<module 'hsa.ba.rewards' from '/home/peer/PycharmProjects/neslearng/hsa/ba/rewards.py'>"
      ]
     },
     "execution_count": 7,
     "metadata": {},
     "output_type": "execute_result"
    }
   ],
   "source": [
    "import importlib\n",
    "importlib.reload(rewards)"
   ]
  },
  {
   "cell_type": "code",
   "execution_count": 3,
   "metadata": {
    "collapsed": false
   },
   "outputs": [
    {
     "name": "stdout",
     "output_type": "stream",
     "text": [
      "Using matplotlib backend: TkAgg\n"
     ]
    }
   ],
   "source": [
    "%matplotlib "
   ]
  },
  {
   "cell_type": "code",
   "execution_count": 4,
   "metadata": {
    "collapsed": false
   },
   "outputs": [],
   "source": [
    "movie_paths = !ls ../../movies/*.*\n",
    "movie_names = !ls ../../movies/"
   ]
  },
  {
   "cell_type": "code",
   "execution_count": 5,
   "metadata": {
    "collapsed": false
   },
   "outputs": [
    {
     "data": {
      "text/plain": [
       "[('10_1-1_slow_with_powerup.fm2', '../../movies/10_1-1_slow_with_powerup.fm2'),\n",
       " ('11_1-1_small_walking.fm2', '../../movies/11_1-1_small_walking.fm2'),\n",
       " ('12_1-1_dieing_to_first_gumba.fm2',\n",
       "  '../../movies/12_1-1_dieing_to_first_gumba.fm2'),\n",
       " ('13_1-1_dieing_to_gumbas.fm2', '../../movies/13_1-1_dieing_to_gumbas.fm2'),\n",
       " ('5_1-1_without-shortcut.fm2', '../../movies/5_1-1_without-shortcut.fm2'),\n",
       " ('6_1-1_with_shortcut.fm2', '../../movies/6_1-1_with_shortcut.fm2'),\n",
       " ('7_1-1_death_and_checkpoint_no_shortcut.fm2',\n",
       "  '../../movies/7_1-1_death_and_checkpoint_no_shortcut.fm2'),\n",
       " ('8_1-1_death_and_shortcut.fm2', '../../movies/8_1-1_death_and_shortcut.fm2'),\n",
       " ('9_1-1_death_in_shortcut.fm2', '../../movies/9_1-1_death_in_shortcut.fm2')]"
      ]
     },
     "execution_count": 5,
     "metadata": {},
     "output_type": "execute_result"
    }
   ],
   "source": [
    "# just checking if the match up\n",
    "list(zip(movie_names, movie_paths))"
   ]
  },
  {
   "cell_type": "code",
   "execution_count": 18,
   "metadata": {
    "collapsed": false
   },
   "outputs": [],
   "source": [
    "reward_functions = {\n",
    "    \"fine_potential\":rewards.make_finer_potential,\n",
    "    \"delta_points\":rewards.make_delta_points,\n",
    "    \"time_left\":lambda:rewards.scaled_for_time_left,\n",
    "    \"finer_with_points\": rewards.make_finer_main_reward_with_points\n",
    "}"
   ]
  },
  {
   "cell_type": "code",
   "execution_count": 23,
   "metadata": {
    "collapsed": false
   },
   "outputs": [],
   "source": [
    "def reward_from_movie(movie_path):\n",
    "    reward_func_instances = {name: factory() for name, factory in reward_functions.items()}\n",
    "    nes = NESInterface(hsa.machine_constants.mario_rom_location, eb_compatible=False, auto_render_period=3, reward_type=\"ehrenbrav\")\n",
    "    with open(movie_path) as movie_file:\n",
    "        inputs_from_movie = list(parse_fm2(movie_file))\n",
    "    movie_length = len(inputs_from_movie)\n",
    "    \n",
    "    df = pandas.DataFrame(index=range(movie_length),\n",
    "                          columns=(list(reward_functions.keys())+[\"ehrenbrav\"]),\n",
    "                          dtype = np.float)\n",
    "    \n",
    "    for i, combi in enumerate(inputs_from_movie):\n",
    "        reward = nes.act(py_to_nes_wrapper(combi))\n",
    "        if i < 6:\n",
    "            continue # ignore the first few frames on the start menu, because the rewards are not valid there\n",
    "        df.at[i,\"ehrenbrav\"] = reward/100\n",
    "        ram = nes.getRAM()\n",
    "        for name, func in reward_func_instances.items():\n",
    "            df.at[i,name] = func(ram)        \n",
    "    del nes\n",
    "    return df\n"
   ]
  },
  {
   "cell_type": "code",
   "execution_count": 24,
   "metadata": {
    "collapsed": false
   },
   "outputs": [],
   "source": [
    "reward_frames = {}\n",
    "for movie_name, movie_path in zip(movie_names,movie_paths):\n",
    "    reward_frames[movie_name] = reward_from_movie(movie_path)"
   ]
  },
  {
   "cell_type": "code",
   "execution_count": 32,
   "metadata": {
    "collapsed": false
   },
   "outputs": [],
   "source": [
    "# scale down ehrenbrav\n",
    "for movie_name, frame in reward_frames.items():\n",
    "    frame[\"ehrenbrav\"] = frame[\"ehrenbrav\"].map(lambda x: x/5)"
   ]
  },
  {
   "cell_type": "code",
   "execution_count": 20,
   "metadata": {
    "collapsed": false
   },
   "outputs": [],
   "source": [
    "for movie_name, frame in reward_frames.items():\n",
    "    movie_name_no_ending = movie_name[:-4]\n",
    "    frame.plot(subplots=True,figsize=(10, 20))\n",
    "    plt.savefig(\"ehrenbrav-pics/{}-all.png\".format(movie_name_no_ending),format=\"png\")\n",
    "    plt.clf()"
   ]
  },
  {
   "cell_type": "code",
   "execution_count": 33,
   "metadata": {
    "collapsed": false
   },
   "outputs": [
    {
     "data": {
      "text/plain": [
       "<matplotlib.axes._subplots.AxesSubplot at 0x7f8a0c04b278>"
      ]
     },
     "execution_count": 33,
     "metadata": {},
     "output_type": "execute_result"
    }
   ],
   "source": [
    "reward_frames[\"5_1-1_without-shortcut.fm2\"].plot()"
   ]
  },
  {
   "cell_type": "code",
   "execution_count": 34,
   "metadata": {
    "collapsed": false
   },
   "outputs": [
    {
     "data": {
      "text/plain": [
       "<matplotlib.axes._subplots.AxesSubplot at 0x7f8a105fa9e8>"
      ]
     },
     "execution_count": 34,
     "metadata": {},
     "output_type": "execute_result"
    }
   ],
   "source": [
    "reward_frames[\"8_1-1_death_and_shortcut.fm2\"].plot()"
   ]
  },
  {
   "cell_type": "markdown",
   "metadata": {
    "collapsed": true
   },
   "source": [
    "### More reward evalutation"
   ]
  },
  {
   "cell_type": "code",
   "execution_count": null,
   "metadata": {
    "collapsed": false
   },
   "outputs": [],
   "source": [
    "reward_frames.keys()"
   ]
  },
  {
   "cell_type": "code",
   "execution_count": null,
   "metadata": {
    "collapsed": false
   },
   "outputs": [],
   "source": [
    "reward_frames[\"5_1-1_without-shortcut.fm2\"][\"time_left_coarse_fine_potential\"].plot()"
   ]
  },
  {
   "cell_type": "code",
   "execution_count": null,
   "metadata": {
    "collapsed": true
   },
   "outputs": [],
   "source": []
  }
 ],
 "metadata": {
  "kernelspec": {
   "display_name": "Python 3",
   "language": "python",
   "name": "python3"
  },
  "language_info": {
   "codemirror_mode": {
    "name": "ipython",
    "version": 3
   },
   "file_extension": ".py",
   "mimetype": "text/x-python",
   "name": "python",
   "nbconvert_exporter": "python",
   "pygments_lexer": "ipython3",
   "version": "3.5.2"
  }
 },
 "nbformat": 4,
 "nbformat_minor": 0
}
