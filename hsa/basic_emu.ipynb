{
 "cells": [
  {
   "cell_type": "code",
   "execution_count": null,
   "metadata": {
    "collapsed": false
   },
   "outputs": [],
   "source": [
    "import matplotlib.pyplot as plt\n",
    "from matplotlib import animation\n",
    "import numpy as np\n",
    "import IPython.display as display\n",
    "import socket\n",
    "from pandas import DataFrame"
   ]
  },
  {
   "cell_type": "code",
   "execution_count": null,
   "metadata": {
    "collapsed": true
   },
   "outputs": [],
   "source": [
    "%matplotlib notebook"
   ]
  },
  {
   "cell_type": "code",
   "execution_count": null,
   "metadata": {
    "collapsed": false
   },
   "outputs": [],
   "source": [
    "prim_soc = socket.create_connection((\"localhost\", 9090))\n",
    "prim_soc"
   ]
  },
  {
   "cell_type": "code",
   "execution_count": null,
   "metadata": {
    "collapsed": true
   },
   "outputs": [],
   "source": [
    "class Emu:\n",
    "    def __init__(self, soc=None):\n",
    "        self.soc = soc\n",
    "        if not soc:\n",
    "            self.soc = socket.create_connection((\"localhost\", 9090))\n",
    "        self.soc_file = soc.makefile()\n",
    "\n",
    "    def _send_command(self, command):\n",
    "        self.soc.send((command + \"\\n\").encode())\n",
    "\n",
    "    def _send_command_with_args(self, *args):\n",
    "        self.soc.send((\" \".join(args) + \"\\n\").encode())\n",
    "\n",
    "    def _recv_feedback(self):\n",
    "        return self.soc_file.readline()\n",
    "\n",
    "    def step(self):\n",
    "        self._send_command(\"step\")\n",
    "        return self._recv_feedback()\n",
    "\n",
    "    def close(self):\n",
    "        self._send_command(\"close\")\n",
    "        return self._recv_feedback()\n",
    "\n",
    "    def get_ram(self):\n",
    "        self._send_command(\"get_ram\")\n",
    "        return self.soc.recv(2048)\n",
    "\n",
    "    def play_beginning(self):\n",
    "        self._send_command(\"playbeginning\")\n",
    "        return self._recv_feedback()\n",
    "\n",
    "    # mode supports normal, turbo or maximum\n",
    "    def speed_mode(self, mode):\n",
    "        self._send_command_with_args(\"speedmode\", mode)\n",
    "        return self._recv_feedback()\n",
    "    \n",
    "    def play_movie(self):\n",
    "        self._send_command(\"play_movie\")\n",
    "        return self._recv_feedback().strip() == \"true\"\n",
    "    \n",
    "emu = Emu(prim_soc)"
   ]
  },
  {
   "cell_type": "code",
   "execution_count": null,
   "metadata": {
    "collapsed": false
   },
   "outputs": [],
   "source": [
    "emu.close()"
   ]
  },
  {
   "cell_type": "code",
   "execution_count": null,
   "metadata": {
    "collapsed": false
   },
   "outputs": [],
   "source": [
    "emu.step()"
   ]
  },
  {
   "cell_type": "code",
   "execution_count": null,
   "metadata": {
    "collapsed": true
   },
   "outputs": [],
   "source": [
    "basic_ram = emu.get_ram()"
   ]
  },
  {
   "cell_type": "code",
   "execution_count": null,
   "metadata": {
    "collapsed": false
   },
   "outputs": [],
   "source": [
    "emu.play_beginning()"
   ]
  },
  {
   "cell_type": "code",
   "execution_count": null,
   "metadata": {
    "collapsed": false
   },
   "outputs": [],
   "source": [
    "emu.speed_mode(\"maximum\")"
   ]
  },
  {
   "cell_type": "code",
   "execution_count": null,
   "metadata": {
    "collapsed": false
   },
   "outputs": [],
   "source": [
    "emu.play_movie()"
   ]
  },
  {
   "cell_type": "code",
   "execution_count": null,
   "metadata": {
    "collapsed": true
   },
   "outputs": [],
   "source": [
    "def visualize_ram(ram_bytes):\n",
    "    return plt.imshow(np.frombuffer(ram_bytes, dtype=np.dtype(np.uint8)).reshape((32,64))\n",
    "               ,vmin=0,vmax=255,interpolation=\"nearest\",cmap=plt.get_cmap('binary'))"
   ]
  },
  {
   "cell_type": "code",
   "execution_count": null,
   "metadata": {
    "collapsed": false
   },
   "outputs": [],
   "source": [
    "for _ in range(4):\n",
    "    for _ in range(60):\n",
    "        emu.step()\n",
    "    visualize_ram(emu.get_ram())\n",
    "    display.clear_output(wait=True)\n",
    "    display.display(plt.gcf())"
   ]
  },
  {
   "cell_type": "code",
   "execution_count": null,
   "metadata": {
    "collapsed": false
   },
   "outputs": [],
   "source": [
    "def ram_to_numpy(ram_bytes):\n",
    "    return np.frombuffer(ram_bytes, dtype=np.dtype(np.uint8)).reshape((32, 64))\n",
    "\n",
    "def next_nram():\n",
    "    for _ in range(60):\n",
    "        emu.step()\n",
    "    return ram_to_numpy(emu.get_ram())\n",
    "\n",
    "fig = plt.figure()\n",
    "plt.imshow(ram_to_numpy(emu.get_ram()), vmin=0, vmax=255, interpolation=\"nearest\", cmap=plt.get_cmap('binary'))\n",
    "ani = animation.FuncAnimation(fig, next_nram, interval=40, blit=True)"
   ]
  },
  {
   "cell_type": "code",
   "execution_count": null,
   "metadata": {
    "collapsed": false
   },
   "outputs": [],
   "source": [
    "plt.ion()\n",
    "for _ in range(4):\n",
    "    for _ in range(60):\n",
    "        emu.step()\n",
    "    \n",
    "    visualize_ram(emu.get_ram())\n",
    "    plt.draw()\n",
    "    # display.clear_output(wait=True)\n",
    "    # display.display(plt.gcf())"
   ]
  },
  {
   "cell_type": "code",
   "execution_count": null,
   "metadata": {
    "collapsed": true
   },
   "outputs": [],
   "source": [
    "for i in range(120):\n",
    "    emu.step()"
   ]
  },
  {
   "cell_type": "code",
   "execution_count": null,
   "metadata": {
    "collapsed": true
   },
   "outputs": [],
   "source": [
    "def play_movie(emu:Emu):\n",
    "    # sanity hack, to make schour nothing is left in the buffer\n",
    "    # prim_soc.recv(2**10)\n",
    "    emu.play_beginning()\n",
    "    emu.speed_mode(\"turbo\")\n",
    "    last_state = True\n",
    "    while last_state:\n",
    "        last_state = emu.play_movie()\n",
    "        yield emu.get_ram()\n",
    "        \n",
    "\n",
    "for i in play_movie(emu):\n",
    "    pass"
   ]
  },
  {
   "cell_type": "code",
   "execution_count": null,
   "metadata": {
    "collapsed": true
   },
   "outputs": [],
   "source": [
    "first_recording = DataFrame.from_records(play_movie(emu))"
   ]
  },
  {
   "cell_type": "code",
   "execution_count": null,
   "metadata": {
    "collapsed": false
   },
   "outputs": [],
   "source": [
    "first_recording"
   ]
  }
 ],
 "metadata": {
  "kernelspec": {
   "display_name": "Python 3",
   "language": "python",
   "name": "python3"
  },
  "language_info": {
   "codemirror_mode": {
    "name": "ipython",
    "version": 3
   },
   "file_extension": ".py",
   "mimetype": "text/x-python",
   "name": "python",
   "nbconvert_exporter": "python",
   "pygments_lexer": "ipython3",
   "version": "3.5.2"
  }
 },
 "nbformat": 4,
 "nbformat_minor": 0
}
