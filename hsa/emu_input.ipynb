{
 "cells": [
  {
   "cell_type": "code",
   "execution_count": 2,
   "metadata": {
    "collapsed": true
   },
   "outputs": [],
   "source": [
    "import re"
   ]
  },
  {
   "cell_type": "code",
   "execution_count": 16,
   "metadata": {},
   "outputs": [],
   "source": [
    "example_input \\\n",
    "    = \"{A=false, up=false, left=false, B=false, \" \\\n",
    "      \"select=false, right=false, down=false, start=false}\"\n",
    "example_2 = \"{A=true, up=false, left=false, B=true, select=false, right=true, down=false, start=false}\""
   ]
  },
  {
   "cell_type": "code",
   "execution_count": 7,
   "metadata": {},
   "outputs": [
    {
     "name": "stdout",
     "output_type": "stream",
     "text": [
      "None\n"
     ]
    }
   ],
   "source": [
    "print(re.match(r\"(\\w*)=(true|false)\", example_input, re.DOTALL))"
   ]
  },
  {
   "cell_type": "code",
   "execution_count": 18,
   "metadata": {},
   "outputs": [
    {
     "data": {
      "text/plain": [
       "{'A': 'true',\n 'B': 'true',\n 'down': 'false',\n 'left': 'false',\n 'right': 'true',\n 'select': 'false',\n 'start': 'false',\n 'up': 'false'}"
      ]
     },
     "execution_count": 18,
     "metadata": {},
     "output_type": "execute_result"
    }
   ],
   "source": [
    "dict(re.findall(r\"(\\w*)=(true|false)\", example_2))"
   ]
  },
  {
   "cell_type": "code",
   "execution_count": 20,
   "metadata": {},
   "outputs": [
    {
     "data": {
      "text/plain": [
       "{'A': True,\n 'B': True,\n 'down': False,\n 'left': False,\n 'right': True,\n 'select': False,\n 'start': False,\n 'up': False}"
      ]
     },
     "execution_count": 20,
     "metadata": {},
     "output_type": "execute_result"
    }
   ],
   "source": [
    "# Works fine\n",
    "py_side = {pair[0]: pair[1] == \"true\" for pair in re.findall(r\"(\\w*)=(true|false)\", example_2)}\n",
    "py_side"
   ]
  },
  {
   "cell_type": "code",
   "execution_count": 24,
   "metadata": {},
   "outputs": [
    {
     "data": {
      "text/plain": [
       "'{start=false, up=false, B=true, A=true, right=true, down=false, select=false, left=false}'"
      ]
     },
     "execution_count": 24,
     "metadata": {},
     "output_type": "execute_result"
    }
   ],
   "source": [
    "\"{\" + \", \".join([key + \"=\" + str(value).lower() for (key, value) in py_side.items()]) + \"}\""
   ]
  },
  {
   "cell_type": "code",
   "execution_count": null,
   "metadata": {},
   "outputs": [],
   "source": [
    ""
   ]
  }
 ],
 "metadata": {
  "kernelspec": {
   "display_name": "Python 2",
   "language": "python",
   "name": "python2"
  },
  "language_info": {
   "codemirror_mode": {
    "name": "ipython",
    "version": 2.0
   },
   "file_extension": ".py",
   "mimetype": "text/x-python",
   "name": "python",
   "nbconvert_exporter": "python",
   "pygments_lexer": "ipython2",
   "version": "2.7.6"
  }
 },
 "nbformat": 4,
 "nbformat_minor": 0
}