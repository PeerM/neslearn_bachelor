{
 "cells": [
  {
   "cell_type": "code",
   "execution_count": 9,
   "metadata": {
    "collapsed": true
   },
   "outputs": [],
   "source": [
    "import pandas\n",
    "import neon\n",
    "from neon.layers import Affine, BatchNorm\n",
    "from neon.transforms import Rectlin, Tanh\n",
    "from neon.initializers import Gaussian\n",
    "from neon.models import Model\n",
    "from neon.layers import GeneralizedCost\n",
    "from neon.transforms import SumSquared\n",
    "from neon.optimizers import GradientDescentMomentum\n",
    "from neon.data import ArrayIterator\n",
    "from neon.backends import gen_backend"
   ]
  },
  {
   "cell_type": "code",
   "execution_count": 6,
   "metadata": {},
   "outputs": [],
   "source": [
    "inputs = pandas.read_hdf(\"mario_1_1_first.hdf\", key=\"inputs\")\n",
    "rams = pandas.read_hdf(\"mario_1_1_first.hdf\", key=\"rams\")"
   ]
  },
  {
   "cell_type": "code",
   "execution_count": 13,
   "metadata": {},
   "outputs": [],
   "source": [
    "train = ArrayIterator(rams,inputs,make_onehot=False)"
   ]
  },
  {
   "cell_type": "code",
   "execution_count": 10,
   "metadata": {},
   "outputs": [
    {
     "data": {
      "text/plain": [
       "<neon.backends.nervanacpu.NervanaCPU at 0x7f6e8a905e80>"
      ]
     },
     "execution_count": 10,
     "metadata": {},
     "output_type": "execute_result"
    }
   ],
   "source": [
    "gen_backend(backend='cpu', batch_size=128)"
   ]
  },
  {
   "cell_type": "code",
   "execution_count": 14,
   "metadata": {},
   "outputs": [],
   "source": [
    "init_norm = Gaussian(loc=0.0, scale=0.01)\n",
    "layers = []\n",
    "layers.append(Affine(nout=100, init=init_norm, activation=Rectlin()))\n",
    "layers.append(BatchNorm(rho=0.9, eps=1e-3))\n",
    "layers.append(Affine(nout=10, init=init_norm, activation=Tanh()))\n",
    "\n",
    "mlp = Model(layers=layers)"
   ]
  },
  {
   "cell_type": "code",
   "execution_count": 15,
   "metadata": {},
   "outputs": [],
   "source": [
    "optimizer = GradientDescentMomentum(0.1, momentum_coef=0.9)\n",
    "cost = GeneralizedCost(costfunc=SumSquared())"
   ]
  },
  {
   "cell_type": "code",
   "execution_count": null,
   "metadata": {},
   "outputs": [],
   "source": [
    "mlp.fit(train, optimizer=optimizer, num_epochs=2000, cost=cost)"
   ]
  },
  {
   "cell_type": "code",
   "execution_count": null,
   "metadata": {},
   "outputs": [],
   "source": [
    ""
   ]
  }
 ],
 "metadata": {
  "kernelspec": {
   "display_name": "Python 2",
   "language": "python",
   "name": "python2"
  },
  "language_info": {
   "codemirror_mode": {
    "name": "ipython",
    "version": 2.0
   },
   "file_extension": ".py",
   "mimetype": "text/x-python",
   "name": "python",
   "nbconvert_exporter": "python",
   "pygments_lexer": "ipython2",
   "version": "2.7.6"
  }
 },
 "nbformat": 4,
 "nbformat_minor": 0
}