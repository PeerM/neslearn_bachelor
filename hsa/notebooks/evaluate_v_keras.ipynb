{
 "cells": [
  {
   "cell_type": "code",
   "execution_count": 1,
   "metadata": {
    "collapsed": true
   },
   "outputs": [],
   "source": [
    "import pandas\n",
    "import matplotlib.pyplot as plt\n",
    "import statsmodels.api as sm"
   ]
  },
  {
   "cell_type": "code",
   "execution_count": 2,
   "metadata": {
    "collapsed": true
   },
   "outputs": [],
   "source": [
    "%matplotlib inline"
   ]
  },
  {
   "cell_type": "code",
   "execution_count": 3,
   "metadata": {
    "collapsed": true
   },
   "outputs": [],
   "source": [
    "from_beginning = pandas.DataFrame.from_csv(r\"D:\\owncloud\\bachelor\\2d2e0a9e-9097-11e6-93d4-901b0e5162b8.csv\")"
   ]
  },
  {
   "cell_type": "code",
   "execution_count": 4,
   "metadata": {
    "collapsed": false
   },
   "outputs": [
    {
     "data": {
      "text/html": [
       "<div>\n",
       "<table border=\"1\" class=\"dataframe\">\n",
       "  <thead>\n",
       "    <tr style=\"text-align: right;\">\n",
       "      <th></th>\n",
       "      <th>avg_loss</th>\n",
       "      <th>epoch</th>\n",
       "      <th>epsilon</th>\n",
       "      <th>fps</th>\n",
       "      <th>frames_played</th>\n",
       "      <th>nr_training_sessions</th>\n",
       "      <th>reward</th>\n",
       "    </tr>\n",
       "  </thead>\n",
       "  <tbody>\n",
       "    <tr>\n",
       "      <th>0</th>\n",
       "      <td>2120.745280</td>\n",
       "      <td>1</td>\n",
       "      <td>0.500000</td>\n",
       "      <td>42.352941</td>\n",
       "      <td>720</td>\n",
       "      <td>9</td>\n",
       "      <td>16.7</td>\n",
       "    </tr>\n",
       "    <tr>\n",
       "      <th>1</th>\n",
       "      <td>2117.487891</td>\n",
       "      <td>2</td>\n",
       "      <td>0.499437</td>\n",
       "      <td>57.142857</td>\n",
       "      <td>400</td>\n",
       "      <td>5</td>\n",
       "      <td>14.2</td>\n",
       "    </tr>\n",
       "    <tr>\n",
       "      <th>2</th>\n",
       "      <td>2109.851501</td>\n",
       "      <td>3</td>\n",
       "      <td>0.498875</td>\n",
       "      <td>101.538462</td>\n",
       "      <td>7920</td>\n",
       "      <td>99</td>\n",
       "      <td>58.3</td>\n",
       "    </tr>\n",
       "    <tr>\n",
       "      <th>3</th>\n",
       "      <td>2100.572215</td>\n",
       "      <td>4</td>\n",
       "      <td>0.498312</td>\n",
       "      <td>49.230769</td>\n",
       "      <td>1920</td>\n",
       "      <td>24</td>\n",
       "      <td>14.1</td>\n",
       "    </tr>\n",
       "    <tr>\n",
       "      <th>4</th>\n",
       "      <td>2093.240414</td>\n",
       "      <td>5</td>\n",
       "      <td>0.497750</td>\n",
       "      <td>50.126582</td>\n",
       "      <td>7920</td>\n",
       "      <td>99</td>\n",
       "      <td>36.7</td>\n",
       "    </tr>\n",
       "  </tbody>\n",
       "</table>\n",
       "</div>"
      ],
      "text/plain": [
       "      avg_loss  epoch   epsilon         fps  frames_played  \\\n",
       "0  2120.745280      1  0.500000   42.352941            720   \n",
       "1  2117.487891      2  0.499437   57.142857            400   \n",
       "2  2109.851501      3  0.498875  101.538462           7920   \n",
       "3  2100.572215      4  0.498312   49.230769           1920   \n",
       "4  2093.240414      5  0.497750   50.126582           7920   \n",
       "\n",
       "   nr_training_sessions  reward  \n",
       "0                     9    16.7  \n",
       "1                     5    14.2  \n",
       "2                    99    58.3  \n",
       "3                    24    14.1  \n",
       "4                    99    36.7  "
      ]
     },
     "execution_count": 4,
     "metadata": {},
     "output_type": "execute_result"
    }
   ],
   "source": [
    "# First 5\n",
    "from_beginning.iloc[:5]"
   ]
  },
  {
   "cell_type": "code",
   "execution_count": 5,
   "metadata": {
    "collapsed": false
   },
   "outputs": [
    {
     "data": {
      "text/html": [
       "<div>\n",
       "<table border=\"1\" class=\"dataframe\">\n",
       "  <thead>\n",
       "    <tr style=\"text-align: right;\">\n",
       "      <th></th>\n",
       "      <th>avg_loss</th>\n",
       "      <th>epoch</th>\n",
       "      <th>epsilon</th>\n",
       "      <th>fps</th>\n",
       "      <th>frames_played</th>\n",
       "      <th>nr_training_sessions</th>\n",
       "      <th>reward</th>\n",
       "    </tr>\n",
       "  </thead>\n",
       "  <tbody>\n",
       "    <tr>\n",
       "      <th>7646</th>\n",
       "      <td>1510.824554</td>\n",
       "      <td>7647</td>\n",
       "      <td>0.05</td>\n",
       "      <td>53.333333</td>\n",
       "      <td>320</td>\n",
       "      <td>4</td>\n",
       "      <td>16.7</td>\n",
       "    </tr>\n",
       "    <tr>\n",
       "      <th>7647</th>\n",
       "      <td>1510.821899</td>\n",
       "      <td>7648</td>\n",
       "      <td>0.05</td>\n",
       "      <td>57.142857</td>\n",
       "      <td>400</td>\n",
       "      <td>5</td>\n",
       "      <td>16.2</td>\n",
       "    </tr>\n",
       "    <tr>\n",
       "      <th>7648</th>\n",
       "      <td>1510.818530</td>\n",
       "      <td>7649</td>\n",
       "      <td>0.05</td>\n",
       "      <td>66.666667</td>\n",
       "      <td>400</td>\n",
       "      <td>5</td>\n",
       "      <td>16.1</td>\n",
       "    </tr>\n",
       "    <tr>\n",
       "      <th>7649</th>\n",
       "      <td>1510.815405</td>\n",
       "      <td>7650</td>\n",
       "      <td>0.05</td>\n",
       "      <td>66.666667</td>\n",
       "      <td>400</td>\n",
       "      <td>5</td>\n",
       "      <td>16.5</td>\n",
       "    </tr>\n",
       "    <tr>\n",
       "      <th>7650</th>\n",
       "      <td>1510.789179</td>\n",
       "      <td>7651</td>\n",
       "      <td>0.05</td>\n",
       "      <td>47.552448</td>\n",
       "      <td>6800</td>\n",
       "      <td>85</td>\n",
       "      <td>104.6</td>\n",
       "    </tr>\n",
       "  </tbody>\n",
       "</table>\n",
       "</div>"
      ],
      "text/plain": [
       "         avg_loss  epoch  epsilon        fps  frames_played  \\\n",
       "7646  1510.824554   7647     0.05  53.333333            320   \n",
       "7647  1510.821899   7648     0.05  57.142857            400   \n",
       "7648  1510.818530   7649     0.05  66.666667            400   \n",
       "7649  1510.815405   7650     0.05  66.666667            400   \n",
       "7650  1510.789179   7651     0.05  47.552448           6800   \n",
       "\n",
       "      nr_training_sessions  reward  \n",
       "7646                     4    16.7  \n",
       "7647                     5    16.2  \n",
       "7648                     5    16.1  \n",
       "7649                     5    16.5  \n",
       "7650                    85   104.6  "
      ]
     },
     "execution_count": 5,
     "metadata": {},
     "output_type": "execute_result"
    }
   ],
   "source": [
    "# Last 5\n",
    "from_beginning.iloc[-5:]"
   ]
  },
  {
   "cell_type": "code",
   "execution_count": 6,
   "metadata": {
    "collapsed": false
   },
   "outputs": [
    {
     "data": {
      "text/plain": [
       "<matplotlib.axes._subplots.AxesSubplot at 0xbecea90>"
      ]
     },
     "execution_count": 6,
     "metadata": {},
     "output_type": "execute_result"
    },
    {
     "data": {
      "image/png": "[encoded data removed]",
      "text/plain": [
       "<matplotlib.figure.Figure at 0xbece048>"
      ]
     },
     "metadata": {},
     "output_type": "display_data"
    }
   ],
   "source": [
    "from_beginning.boxplot(column=\"reward\",by=[lambda line:int(line/1000)])"
   ]
  },
  {
   "cell_type": "code",
   "execution_count": 7,
   "metadata": {
    "collapsed": false
   },
   "outputs": [
    {
     "data": {
      "text/plain": [
       "array([[<matplotlib.axes._subplots.AxesSubplot object at 0x000000000B9FD7F0>,\n",
       "        <matplotlib.axes._subplots.AxesSubplot object at 0x000000000BA84B00>,\n",
       "        <matplotlib.axes._subplots.AxesSubplot object at 0x000000000BAD0A58>],\n",
       "       [<matplotlib.axes._subplots.AxesSubplot object at 0x000000000BB0D198>,\n",
       "        <matplotlib.axes._subplots.AxesSubplot object at 0x000000000BB58128>,\n",
       "        <matplotlib.axes._subplots.AxesSubplot object at 0x000000000BB8EBE0>],\n",
       "       [<matplotlib.axes._subplots.AxesSubplot object at 0x000000000BBD76A0>,\n",
       "        <matplotlib.axes._subplots.AxesSubplot object at 0x000000000BBE7978>,\n",
       "        <matplotlib.axes._subplots.AxesSubplot object at 0x000000000BC5ECC0>]], dtype=object)"
      ]
     },
     "execution_count": 7,
     "metadata": {},
     "output_type": "execute_result"
    },
    {
     "data": {
      "image/png": "[encoded data removed]",
      "text/plain": [
       "<matplotlib.figure.Figure at 0xb9f3b00>"
      ]
     },
     "metadata": {},
     "output_type": "display_data"
    }
   ],
   "source": [
    "from_beginning.hist(column=\"reward\",by=[lambda line:int(line/1000)],sharex =True,sharey=True, bins= 20)"
   ]
  },
  {
   "cell_type": "code",
   "execution_count": 8,
   "metadata": {
    "collapsed": true
   },
   "outputs": [],
   "source": [
    "df = pandas.DataFrame.from_csv(r\"D:\\owncloud\\bachelor\\0b50defe-985f-11e6-bf89-901b0e5162b8_final.csv\")"
   ]
  },
  {
   "cell_type": "code",
   "execution_count": 9,
   "metadata": {
    "collapsed": false,
    "scrolled": true
   },
   "outputs": [
    {
     "data": {
      "text/html": [
       "<div>\n",
       "<table border=\"1\" class=\"dataframe\">\n",
       "  <thead>\n",
       "    <tr style=\"text-align: right;\">\n",
       "      <th></th>\n",
       "      <th>avg_loss</th>\n",
       "      <th>epoch</th>\n",
       "      <th>epsilon</th>\n",
       "      <th>fps</th>\n",
       "      <th>frames_played</th>\n",
       "      <th>nr_training_sessions</th>\n",
       "      <th>reward</th>\n",
       "    </tr>\n",
       "  </thead>\n",
       "  <tbody>\n",
       "    <tr>\n",
       "      <th>0</th>\n",
       "      <td>1107.893457</td>\n",
       "      <td>1</td>\n",
       "      <td>0.05</td>\n",
       "      <td>200.000000</td>\n",
       "      <td>800</td>\n",
       "      <td>10</td>\n",
       "      <td>54.3</td>\n",
       "    </tr>\n",
       "    <tr>\n",
       "      <th>1</th>\n",
       "      <td>1107.443830</td>\n",
       "      <td>2</td>\n",
       "      <td>0.05</td>\n",
       "      <td>630.031817</td>\n",
       "      <td>560</td>\n",
       "      <td>7</td>\n",
       "      <td>21.8</td>\n",
       "    </tr>\n",
       "    <tr>\n",
       "      <th>2</th>\n",
       "      <td>1106.639814</td>\n",
       "      <td>3</td>\n",
       "      <td>0.05</td>\n",
       "      <td>1120.000000</td>\n",
       "      <td>1120</td>\n",
       "      <td>14</td>\n",
       "      <td>70.4</td>\n",
       "    </tr>\n",
       "    <tr>\n",
       "      <th>3</th>\n",
       "      <td>1104.676697</td>\n",
       "      <td>4</td>\n",
       "      <td>0.05</td>\n",
       "      <td>640.000000</td>\n",
       "      <td>2560</td>\n",
       "      <td>32</td>\n",
       "      <td>81.3</td>\n",
       "    </tr>\n",
       "    <tr>\n",
       "      <th>4</th>\n",
       "      <td>1102.696368</td>\n",
       "      <td>5</td>\n",
       "      <td>0.05</td>\n",
       "      <td>1120.000000</td>\n",
       "      <td>1120</td>\n",
       "      <td>14</td>\n",
       "      <td>99.5</td>\n",
       "    </tr>\n",
       "    <tr>\n",
       "      <th>5</th>\n",
       "      <td>1101.804339</td>\n",
       "      <td>6</td>\n",
       "      <td>0.05</td>\n",
       "      <td>618.024463</td>\n",
       "      <td>560</td>\n",
       "      <td>7</td>\n",
       "      <td>22.3</td>\n",
       "    </tr>\n",
       "    <tr>\n",
       "      <th>6</th>\n",
       "      <td>1101.214216</td>\n",
       "      <td>7</td>\n",
       "      <td>0.05</td>\n",
       "      <td>582.807592</td>\n",
       "      <td>560</td>\n",
       "      <td>7</td>\n",
       "      <td>22.0</td>\n",
       "    </tr>\n",
       "    <tr>\n",
       "      <th>7</th>\n",
       "      <td>1100.628174</td>\n",
       "      <td>8</td>\n",
       "      <td>0.05</td>\n",
       "      <td>560.000000</td>\n",
       "      <td>560</td>\n",
       "      <td>7</td>\n",
       "      <td>22.4</td>\n",
       "    </tr>\n",
       "    <tr>\n",
       "      <th>8</th>\n",
       "      <td>1099.922827</td>\n",
       "      <td>9</td>\n",
       "      <td>0.05</td>\n",
       "      <td>800.000000</td>\n",
       "      <td>800</td>\n",
       "      <td>10</td>\n",
       "      <td>52.2</td>\n",
       "    </tr>\n",
       "    <tr>\n",
       "      <th>9</th>\n",
       "      <td>1099.141412</td>\n",
       "      <td>10</td>\n",
       "      <td>0.05</td>\n",
       "      <td>720.000000</td>\n",
       "      <td>720</td>\n",
       "      <td>9</td>\n",
       "      <td>51.3</td>\n",
       "    </tr>\n",
       "  </tbody>\n",
       "</table>\n",
       "</div>"
      ],
      "text/plain": [
       "      avg_loss  epoch  epsilon          fps  frames_played  \\\n",
       "0  1107.893457      1     0.05   200.000000            800   \n",
       "1  1107.443830      2     0.05   630.031817            560   \n",
       "2  1106.639814      3     0.05  1120.000000           1120   \n",
       "3  1104.676697      4     0.05   640.000000           2560   \n",
       "4  1102.696368      5     0.05  1120.000000           1120   \n",
       "5  1101.804339      6     0.05   618.024463            560   \n",
       "6  1101.214216      7     0.05   582.807592            560   \n",
       "7  1100.628174      8     0.05   560.000000            560   \n",
       "8  1099.922827      9     0.05   800.000000            800   \n",
       "9  1099.141412     10     0.05   720.000000            720   \n",
       "\n",
       "   nr_training_sessions  reward  \n",
       "0                    10    54.3  \n",
       "1                     7    21.8  \n",
       "2                    14    70.4  \n",
       "3                    32    81.3  \n",
       "4                    14    99.5  \n",
       "5                     7    22.3  \n",
       "6                     7    22.0  \n",
       "7                     7    22.4  \n",
       "8                    10    52.2  \n",
       "9                     9    51.3  "
      ]
     },
     "execution_count": 9,
     "metadata": {},
     "output_type": "execute_result"
    }
   ],
   "source": [
    "df.iloc[:10]"
   ]
  },
  {
   "cell_type": "code",
   "execution_count": 10,
   "metadata": {
    "collapsed": false
   },
   "outputs": [
    {
     "data": {
      "text/html": [
       "<div>\n",
       "<table border=\"1\" class=\"dataframe\">\n",
       "  <thead>\n",
       "    <tr style=\"text-align: right;\">\n",
       "      <th></th>\n",
       "      <th>avg_loss</th>\n",
       "      <th>epoch</th>\n",
       "      <th>epsilon</th>\n",
       "      <th>fps</th>\n",
       "      <th>frames_played</th>\n",
       "      <th>nr_training_sessions</th>\n",
       "      <th>reward</th>\n",
       "    </tr>\n",
       "  </thead>\n",
       "  <tbody>\n",
       "    <tr>\n",
       "      <th>226424</th>\n",
       "      <td>518.550999</td>\n",
       "      <td>226425</td>\n",
       "      <td>0.05</td>\n",
       "      <td>560.000000</td>\n",
       "      <td>560</td>\n",
       "      <td>7</td>\n",
       "      <td>21.4</td>\n",
       "    </tr>\n",
       "    <tr>\n",
       "      <th>226425</th>\n",
       "      <td>518.550877</td>\n",
       "      <td>226426</td>\n",
       "      <td>0.05</td>\n",
       "      <td>560.000000</td>\n",
       "      <td>560</td>\n",
       "      <td>7</td>\n",
       "      <td>22.3</td>\n",
       "    </tr>\n",
       "    <tr>\n",
       "      <th>226426</th>\n",
       "      <td>518.551069</td>\n",
       "      <td>226427</td>\n",
       "      <td>0.05</td>\n",
       "      <td>560.000000</td>\n",
       "      <td>560</td>\n",
       "      <td>7</td>\n",
       "      <td>21.4</td>\n",
       "    </tr>\n",
       "    <tr>\n",
       "      <th>226427</th>\n",
       "      <td>518.551223</td>\n",
       "      <td>226428</td>\n",
       "      <td>0.05</td>\n",
       "      <td>1040.000000</td>\n",
       "      <td>1040</td>\n",
       "      <td>13</td>\n",
       "      <td>57.8</td>\n",
       "    </tr>\n",
       "    <tr>\n",
       "      <th>226428</th>\n",
       "      <td>518.550393</td>\n",
       "      <td>226429</td>\n",
       "      <td>0.05</td>\n",
       "      <td>880.000000</td>\n",
       "      <td>880</td>\n",
       "      <td>11</td>\n",
       "      <td>54.3</td>\n",
       "    </tr>\n",
       "    <tr>\n",
       "      <th>226429</th>\n",
       "      <td>518.550947</td>\n",
       "      <td>226430</td>\n",
       "      <td>0.05</td>\n",
       "      <td>587.914165</td>\n",
       "      <td>560</td>\n",
       "      <td>7</td>\n",
       "      <td>21.6</td>\n",
       "    </tr>\n",
       "    <tr>\n",
       "      <th>226430</th>\n",
       "      <td>518.550245</td>\n",
       "      <td>226431</td>\n",
       "      <td>0.05</td>\n",
       "      <td>760.000000</td>\n",
       "      <td>1520</td>\n",
       "      <td>19</td>\n",
       "      <td>70.2</td>\n",
       "    </tr>\n",
       "    <tr>\n",
       "      <th>226431</th>\n",
       "      <td>518.550232</td>\n",
       "      <td>226432</td>\n",
       "      <td>0.05</td>\n",
       "      <td>570.164900</td>\n",
       "      <td>560</td>\n",
       "      <td>7</td>\n",
       "      <td>21.4</td>\n",
       "    </tr>\n",
       "    <tr>\n",
       "      <th>226432</th>\n",
       "      <td>518.550058</td>\n",
       "      <td>226433</td>\n",
       "      <td>0.05</td>\n",
       "      <td>560.000000</td>\n",
       "      <td>560</td>\n",
       "      <td>7</td>\n",
       "      <td>21.4</td>\n",
       "    </tr>\n",
       "    <tr>\n",
       "      <th>226433</th>\n",
       "      <td>518.549840</td>\n",
       "      <td>226434</td>\n",
       "      <td>0.05</td>\n",
       "      <td>560.000000</td>\n",
       "      <td>560</td>\n",
       "      <td>7</td>\n",
       "      <td>21.4</td>\n",
       "    </tr>\n",
       "  </tbody>\n",
       "</table>\n",
       "</div>"
      ],
      "text/plain": [
       "          avg_loss   epoch  epsilon          fps  frames_played  \\\n",
       "226424  518.550999  226425     0.05   560.000000            560   \n",
       "226425  518.550877  226426     0.05   560.000000            560   \n",
       "226426  518.551069  226427     0.05   560.000000            560   \n",
       "226427  518.551223  226428     0.05  1040.000000           1040   \n",
       "226428  518.550393  226429     0.05   880.000000            880   \n",
       "226429  518.550947  226430     0.05   587.914165            560   \n",
       "226430  518.550245  226431     0.05   760.000000           1520   \n",
       "226431  518.550232  226432     0.05   570.164900            560   \n",
       "226432  518.550058  226433     0.05   560.000000            560   \n",
       "226433  518.549840  226434     0.05   560.000000            560   \n",
       "\n",
       "        nr_training_sessions  reward  \n",
       "226424                     7    21.4  \n",
       "226425                     7    22.3  \n",
       "226426                     7    21.4  \n",
       "226427                    13    57.8  \n",
       "226428                    11    54.3  \n",
       "226429                     7    21.6  \n",
       "226430                    19    70.2  \n",
       "226431                     7    21.4  \n",
       "226432                     7    21.4  \n",
       "226433                     7    21.4  "
      ]
     },
     "execution_count": 10,
     "metadata": {},
     "output_type": "execute_result"
    }
   ],
   "source": [
    "df.iloc[-10:]"
   ]
  },
  {
   "cell_type": "code",
   "execution_count": 11,
   "metadata": {
    "collapsed": false
   },
   "outputs": [
    {
     "data": {
      "text/plain": [
       "<matplotlib.axes._subplots.AxesSubplot at 0xd0224e0>"
      ]
     },
     "execution_count": 11,
     "metadata": {},
     "output_type": "execute_result"
    },
    {
     "data": {
      "image/png": "[encoded data removed]",
      "text/plain": [
       "<matplotlib.figure.Figure at 0xcee20f0>"
      ]
     },
     "metadata": {},
     "output_type": "display_data"
    }
   ],
   "source": [
    "df.boxplot(column=\"reward\",by=[lambda line:int(line/25000)])"
   ]
  },
  {
   "cell_type": "code",
   "execution_count": 12,
   "metadata": {
    "collapsed": false
   },
   "outputs": [
    {
     "data": {
      "text/plain": [
       "<matplotlib.axes._subplots.AxesSubplot at 0xdb07b38>"
      ]
     },
     "execution_count": 12,
     "metadata": {},
     "output_type": "execute_result"
    },
    {
     "data": {
      "image/png": "[encoded data removed]",
      "text/plain": [
       "<matplotlib.figure.Figure at 0xdafb5c0>"
      ]
     },
     "metadata": {},
     "output_type": "display_data"
    }
   ],
   "source": [
    "df.boxplot(column=\"reward\",by=[lambda line:int(line/25000)], showfliers=False )"
   ]
  },
  {
   "cell_type": "code",
   "execution_count": 13,
   "metadata": {
    "collapsed": false
   },
   "outputs": [
    {
     "data": {
      "text/plain": [
       "0    Axes(0.125,0.125;0.775x0.775)\n",
       "1    Axes(0.125,0.125;0.775x0.775)\n",
       "2    Axes(0.125,0.125;0.775x0.775)\n",
       "3    Axes(0.125,0.125;0.775x0.775)\n",
       "4    Axes(0.125,0.125;0.775x0.775)\n",
       "5    Axes(0.125,0.125;0.775x0.775)\n",
       "6    Axes(0.125,0.125;0.775x0.775)\n",
       "7    Axes(0.125,0.125;0.775x0.775)\n",
       "8    Axes(0.125,0.125;0.775x0.775)\n",
       "9    Axes(0.125,0.125;0.775x0.775)\n",
       "Name: reward, dtype: object"
      ]
     },
     "execution_count": 13,
     "metadata": {},
     "output_type": "execute_result"
    },
    {
     "data": {
      "image/png": "[encoded data removed]",
      "text/plain": [
       "<matplotlib.figure.Figure at 0xddff550>"
      ]
     },
     "metadata": {},
     "output_type": "display_data"
    }
   ],
   "source": [
    "df[\"reward\"].groupby(by=lambda line:int(line/25000)).plot(kind=\"hist\",subplots =False)"
   ]
  },
  {
   "cell_type": "code",
   "execution_count": 14,
   "metadata": {
    "collapsed": false
   },
   "outputs": [
    {
     "data": {
      "text/plain": [
       "array([[<matplotlib.axes._subplots.AxesSubplot object at 0x000000000DD53860>,\n",
       "        <matplotlib.axes._subplots.AxesSubplot object at 0x000000000DE84D68>,\n",
       "        <matplotlib.axes._subplots.AxesSubplot object at 0x000000000E5E24E0>],\n",
       "       [<matplotlib.axes._subplots.AxesSubplot object at 0x000000000EBF8F98>,\n",
       "        <matplotlib.axes._subplots.AxesSubplot object at 0x000000000EC49080>,\n",
       "        <matplotlib.axes._subplots.AxesSubplot object at 0x000000000FC7F940>],\n",
       "       [<matplotlib.axes._subplots.AxesSubplot object at 0x000000000FCCB6D8>,\n",
       "        <matplotlib.axes._subplots.AxesSubplot object at 0x000000000FCDB9E8>,\n",
       "        <matplotlib.axes._subplots.AxesSubplot object at 0x000000000FD56B70>],\n",
       "       [<matplotlib.axes._subplots.AxesSubplot object at 0x000000000FD9F908>,\n",
       "        <matplotlib.axes._subplots.AxesSubplot object at 0x000000000FDE1470>,\n",
       "        <matplotlib.axes._subplots.AxesSubplot object at 0x000000000FE2AE48>]], dtype=object)"
      ]
     },
     "execution_count": 14,
     "metadata": {},
     "output_type": "execute_result"
    },
    {
     "data": {
      "image/png": "[encoded data removed]",
      "text/plain": [
       "<matplotlib.figure.Figure at 0xd61cd30>"
      ]
     },
     "metadata": {},
     "output_type": "display_data"
    }
   ],
   "source": [
    "df.hist(column=\"reward\",by=[lambda line:int(line/25000)],sharex =True,sharey=True)"
   ]
  },
  {
   "cell_type": "code",
   "execution_count": 17,
   "metadata": {
    "collapsed": false
   },
   "outputs": [],
   "source": [
    "regression = sm.OLS(from_beginning[\"epoch\"],from_beginning[\"reward\"])"
   ]
  },
  {
   "cell_type": "code",
   "execution_count": 18,
   "metadata": {
    "collapsed": false
   },
   "outputs": [],
   "source": [
    "result = regression.fit()"
   ]
  },
  {
   "cell_type": "code",
   "execution_count": 19,
   "metadata": {
    "collapsed": false
   },
   "outputs": [
    {
     "data": {
      "text/html": [
       "<table class=\"simpletable\">\n",
       "<caption>OLS Regression Results</caption>\n",
       "<tr>\n",
       "  <th>Dep. Variable:</th>          <td>epoch</td>      <th>  R-squared:         </th> <td>   0.603</td> \n",
       "</tr>\n",
       "<tr>\n",
       "  <th>Model:</th>                   <td>OLS</td>       <th>  Adj. R-squared:    </th> <td>   0.603</td> \n",
       "</tr>\n",
       "<tr>\n",
       "  <th>Method:</th>             <td>Least Squares</td>  <th>  F-statistic:       </th> <td>1.160e+04</td>\n",
       "</tr>\n",
       "<tr>\n",
       "  <th>Date:</th>             <td>Thu, 10 Nov 2016</td> <th>  Prob (F-statistic):</th>  <td>  0.00</td>  \n",
       "</tr>\n",
       "<tr>\n",
       "  <th>Time:</th>                 <td>00:11:02</td>     <th>  Log-Likelihood:    </th> <td> -71543.</td> \n",
       "</tr>\n",
       "<tr>\n",
       "  <th>No. Observations:</th>      <td>  7651</td>      <th>  AIC:               </th> <td>1.431e+05</td>\n",
       "</tr>\n",
       "<tr>\n",
       "  <th>Df Residuals:</th>          <td>  7650</td>      <th>  BIC:               </th> <td>1.431e+05</td>\n",
       "</tr>\n",
       "<tr>\n",
       "  <th>Df Model:</th>              <td>     1</td>      <th>                     </th>     <td> </td>    \n",
       "</tr>\n",
       "<tr>\n",
       "  <th>Covariance Type:</th>      <td>nonrobust</td>    <th>                     </th>     <td> </td>    \n",
       "</tr>\n",
       "</table>\n",
       "<table class=\"simpletable\">\n",
       "<tr>\n",
       "     <td></td>       <th>coef</th>     <th>std err</th>      <th>t</th>      <th>P>|t|</th>  <th>[0.025</th>    <th>0.975]</th>  \n",
       "</tr>\n",
       "<tr>\n",
       "  <th>reward</th> <td>   69.4341</td> <td>    0.645</td> <td>  107.716</td> <td> 0.000</td> <td>   68.170</td> <td>   70.698</td>\n",
       "</tr>\n",
       "</table>\n",
       "<table class=\"simpletable\">\n",
       "<tr>\n",
       "  <th>Omnibus:</th>       <td>202.486</td> <th>  Durbin-Watson:     </th> <td>   0.776</td>\n",
       "</tr>\n",
       "<tr>\n",
       "  <th>Prob(Omnibus):</th> <td> 0.000</td>  <th>  Jarque-Bera (JB):  </th> <td> 106.317</td>\n",
       "</tr>\n",
       "<tr>\n",
       "  <th>Skew:</th>          <td>-0.083</td>  <th>  Prob(JB):          </th> <td>8.19e-24</td>\n",
       "</tr>\n",
       "<tr>\n",
       "  <th>Kurtosis:</th>      <td> 2.447</td>  <th>  Cond. No.          </th> <td>    1.00</td>\n",
       "</tr>\n",
       "</table>"
      ],
      "text/plain": [
       "<table class=\"simpletable\">\n",
       "<caption>OLS Regression Results</caption>\n",
       "<tr>\n",
       "  <th>Dep. Variable:</th>          <td>epoch</td>      <th>  R-squared:         </th> <td>   0.603</td> \n",
       "</tr>\n",
       "<tr>\n",
       "  <th>Model:</th>                   <td>OLS</td>       <th>  Adj. R-squared:    </th> <td>   0.603</td> \n",
       "</tr>\n",
       "<tr>\n",
       "  <th>Method:</th>             <td>Least Squares</td>  <th>  F-statistic:       </th> <td>1.160e+04</td>\n",
       "</tr>\n",
       "<tr>\n",
       "  <th>Date:</th>             <td>Thu, 10 Nov 2016</td> <th>  Prob (F-statistic):</th>  <td>  0.00</td>  \n",
       "</tr>\n",
       "<tr>\n",
       "  <th>Time:</th>                 <td>00:11:02</td>     <th>  Log-Likelihood:    </th> <td> -71543.</td> \n",
       "</tr>\n",
       "<tr>\n",
       "  <th>No. Observations:</th>      <td>  7651</td>      <th>  AIC:               </th> <td>1.431e+05</td>\n",
       "</tr>\n",
       "<tr>\n",
       "  <th>Df Residuals:</th>          <td>  7650</td>      <th>  BIC:               </th> <td>1.431e+05</td>\n",
       "</tr>\n",
       "<tr>\n",
       "  <th>Df Model:</th>              <td>     1</td>      <th>                     </th>     <td> </td>    \n",
       "</tr>\n",
       "<tr>\n",
       "  <th>Covariance Type:</th>      <td>nonrobust</td>    <th>                     </th>     <td> </td>    \n",
       "</tr>\n",
       "</table>\n",
       "<table class=\"simpletable\">\n",
       "<tr>\n",
       "     <td></td>       <th>coef</th>     <th>std err</th>      <th>t</th>      <th>P>|t|</th>  <th>[0.025</th>    <th>0.975]</th>  \n",
       "</tr>\n",
       "<tr>\n",
       "  <th>reward</th> <td>   69.4341</td> <td>    0.645</td> <td>  107.716</td> <td> 0.000</td> <td>   68.170</td> <td>   70.698</td>\n",
       "</tr>\n",
       "</table>\n",
       "<table class=\"simpletable\">\n",
       "<tr>\n",
       "  <th>Omnibus:</th>       <td>202.486</td> <th>  Durbin-Watson:     </th> <td>   0.776</td>\n",
       "</tr>\n",
       "<tr>\n",
       "  <th>Prob(Omnibus):</th> <td> 0.000</td>  <th>  Jarque-Bera (JB):  </th> <td> 106.317</td>\n",
       "</tr>\n",
       "<tr>\n",
       "  <th>Skew:</th>          <td>-0.083</td>  <th>  Prob(JB):          </th> <td>8.19e-24</td>\n",
       "</tr>\n",
       "<tr>\n",
       "  <th>Kurtosis:</th>      <td> 2.447</td>  <th>  Cond. No.          </th> <td>    1.00</td>\n",
       "</tr>\n",
       "</table>"
      ]
     },
     "execution_count": 19,
     "metadata": {},
     "output_type": "execute_result"
    }
   ],
   "source": [
    "result.summary()"
   ]
  },
  {
   "cell_type": "code",
   "execution_count": 20,
   "metadata": {
    "collapsed": false
   },
   "outputs": [
    {
     "data": {
      "text/plain": [
       "reward    69.434087\n",
       "dtype: float64"
      ]
     },
     "execution_count": 20,
     "metadata": {},
     "output_type": "execute_result"
    }
   ],
   "source": [
    "result.params"
   ]
  },
  {
   "cell_type": "code",
   "execution_count": 21,
   "metadata": {
    "collapsed": false
   },
   "outputs": [
    {
     "data": {
      "image/png": "[encoded data removed]",
      "text/plain": [
       "<matplotlib.figure.Figure at 0xc1b4b38>"
      ]
     },
     "metadata": {},
     "output_type": "display_data"
    }
   ],
   "source": [
    "plotfig= sm.graphics.plot_fit(result,0)"
   ]
  },
  {
   "cell_type": "code",
   "execution_count": 15,
   "metadata": {
    "collapsed": false
   },
   "outputs": [
    {
     "name": "stderr",
     "output_type": "stream",
     "text": [
      "D:\\etc\\WinPython-64bit-3.4.4.3Qt5\\python-3.4.4.amd64\\lib\\site-packages\\IPython\\core\\interactiveshell.py:2869: FutureWarning: The pandas.stats.ols module is deprecated and will be removed in a future version. We refer to external packages like statsmodels, see some examples here: http://statsmodels.sourceforge.net/stable/regression.html\n",
      "  exec(code_obj, self.user_global_ns, self.user_ns)\n"
     ]
    }
   ],
   "source": [
    "model = pandas.ols(y=df['reward'],x=df['epoch'])"
   ]
  },
  {
   "cell_type": "code",
   "execution_count": 16,
   "metadata": {
    "collapsed": true
   },
   "outputs": [],
   "source": [
    "trend = model.predict(x=df['epoch'])"
   ]
  },
  {
   "cell_type": "code",
   "execution_count": 17,
   "metadata": {
    "collapsed": false
   },
   "outputs": [
    {
     "data": {
      "text/plain": [
       "<matplotlib.axes._subplots.AxesSubplot at 0xff036a0>"
      ]
     },
     "execution_count": 17,
     "metadata": {},
     "output_type": "execute_result"
    },
    {
     "data": {
      "image/png": "[encoded data removed]",
      "text/plain": [
       "<matplotlib.figure.Figure at 0xd5e00f0>"
      ]
     },
     "metadata": {},
     "output_type": "display_data"
    }
   ],
   "source": [
    "pandas.DataFrame(index=df['epoch'], data={'reward': df['reward'], 'trend': trend}).plot()"
   ]
  },
  {
   "cell_type": "code",
   "execution_count": null,
   "metadata": {
    "collapsed": true
   },
   "outputs": [],
   "source": []
  }
 ],
 "metadata": {
  "kernelspec": {
   "display_name": "Python 3",
   "language": "python",
   "name": "python3"
  },
  "language_info": {
   "codemirror_mode": {
    "name": "ipython",
    "version": 3
   },
   "file_extension": ".py",
   "mimetype": "text/x-python",
   "name": "python",
   "nbconvert_exporter": "python",
   "pygments_lexer": "ipython3",
   "version": "3.4.4"
  }
 },
 "nbformat": 4,
 "nbformat_minor": 0
}
