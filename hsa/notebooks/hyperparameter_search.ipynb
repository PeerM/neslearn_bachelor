{
 "cells": [
  {
   "cell_type": "code",
   "execution_count": 3,
   "metadata": {
    "collapsed": true
   },
   "outputs": [
    {
     "name": "stdout",
     "output_type": "stream",
     "text": [
      "rates [1e-06]; decays [0]\n"
     ]
    },
    {
     "name": "stdout",
     "output_type": "stream",
     "text": [
      "[1e-06],0\n"
     ]
    }
   ],
   "source": [
    "from itertools import product\n",
    "from random import randrange\n",
    "\n",
    "import pandas\n",
    "from hsa.v_keras.memories import load_memories\n",
    "from hsa.v_keras.model_zoo import make_2_hidden_wide_beginning_stable, first_unstable\n",
    "\n",
    "# parameters\n",
    "from hsa.v_keras.qlearning4k import ExperienceReplay\n",
    "\n",
    "nb_frames = 1\n",
    "ram_size = 2048\n",
    "nr_actions = 36\n",
    "batch_size = 128\n",
    "nr_epoch = 30\n",
    "memories_filename = \"mario_1_1_third.hdf\"\n",
    "\n",
    "memory = ExperienceReplay(memory_size=50000)\n",
    "load_memories(memory, memories_filename)\n",
    "\n",
    "example_model = first_unstable(nb_frames=nb_frames, ram_size=ram_size, nr_actions=nr_actions)\n",
    "batch = memory.get_batch(model=example_model, batch_size=batch_size, gamma=0.9)\n",
    "\n",
    "\n",
    "def test_hyperparameters(learning_rate, learning_rate_decay):\n",
    "    model = first_unstable(learning_rate, learning_rate_decay, nb_frames, ram_size, nr_actions)\n",
    "\n",
    "    inputs, targets = batch\n",
    "    scores = [float(model.train_on_batch(inputs, targets)) for i in range(20)]\n",
    "    print(\"{},{}\".format(learning_rates, learning_rate_decay))\n",
    "    return scores"
   ]
  },
  {
   "cell_type": "code",
   "execution_count": 23,
   "metadata": {},
   "outputs": [],
   "source": [
    "%matplotlib inline"
   ]
  },
  {
   "cell_type": "code",
   "execution_count": 4,
   "metadata": {},
   "outputs": [
    {
     "data": {
      "text/plain": [
       "{(1e-06, 0): [17645.837890625,\n  4666.19580078125,\n  3654.719970703125,\n  3667.091796875,\n  2799.00341796875,\n  2422.2841796875,\n  2322.030029296875,\n  2247.357177734375,\n  2143.97998046875,\n  2019.94140625]}"
      ]
     },
     "execution_count": 4,
     "metadata": {},
     "output_type": "execute_result"
    }
   ],
   "source": [
    "scores"
   ]
  },
  {
   "cell_type": "code",
   "execution_count": null,
   "metadata": {},
   "outputs": [],
   "source": [
    "from itertools import islice\n",
    "\n",
    "learning_rates = (10 ** -random_int for random_int in randrange(-10, 11))\n",
    "decays = (0.1 * random_int for random_int in randrange(0, 11))\n",
    "# learning_rates = [10 ** i for i in range(3, 11)]\n",
    "# decays = [i * 0.1 for i in range(0, 11)]\n",
    "variable_space = islice(zip(learning_rates, decays), 20)\n",
    "print(\"rates {}; decays {}\".format(learning_rates, decays))\n",
    "\n",
    "scores = {(rate, decay): test_hyperparameters(rate, decay) for (rate, decay) in variable_space}"
   ]
  },
  {
   "cell_type": "code",
   "execution_count": 13,
   "metadata": {},
   "outputs": [
    {
     "data": {
      "text/html": [
       "<div>\n",
       "<table border=\"1\" class=\"dataframe\">\n",
       "  <thead>\n",
       "    <tr style=\"text-align: right;\">\n",
       "      <th></th>\n",
       "      <th>0</th>\n",
       "      <th>1</th>\n",
       "      <th>2</th>\n",
       "      <th>3</th>\n",
       "      <th>4</th>\n",
       "      <th>5</th>\n",
       "      <th>6</th>\n",
       "      <th>7</th>\n",
       "      <th>8</th>\n",
       "      <th>9</th>\n",
       "    </tr>\n",
       "  </thead>\n",
       "  <tbody>\n",
       "    <tr>\n",
       "      <th>(1e-06, 0)</th>\n",
       "      <td>17645.837891</td>\n",
       "      <td>4666.195801</td>\n",
       "      <td>3654.719971</td>\n",
       "      <td>3667.091797</td>\n",
       "      <td>2799.003418</td>\n",
       "      <td>2422.28418</td>\n",
       "      <td>2322.030029</td>\n",
       "      <td>2247.357178</td>\n",
       "      <td>2143.97998</td>\n",
       "      <td>2019.941406</td>\n",
       "    </tr>\n",
       "  </tbody>\n",
       "</table>\n",
       "</div>"
      ],
      "text/plain": [
       "<div>\n",
       "<table border=\"1\" class=\"dataframe\">\n",
       "  <thead>\n",
       "    <tr style=\"text-align: right;\">\n",
       "      <th></th>\n",
       "      <th>0</th>\n",
       "      <th>1</th>\n",
       "      <th>2</th>\n",
       "      <th>3</th>\n",
       "      <th>4</th>\n",
       "      <th>5</th>\n",
       "      <th>6</th>\n",
       "      <th>7</th>\n",
       "      <th>8</th>\n",
       "      <th>9</th>\n",
       "    </tr>\n",
       "  </thead>\n",
       "  <tbody>\n",
       "    <tr>\n",
       "      <th>(1e-06, 0)</th>\n",
       "      <td>17645.837891</td>\n",
       "      <td>4666.195801</td>\n",
       "      <td>3654.719971</td>\n",
       "      <td>3667.091797</td>\n",
       "      <td>2799.003418</td>\n",
       "      <td>2422.28418</td>\n",
       "      <td>2322.030029</td>\n",
       "      <td>2247.357178</td>\n",
       "      <td>2143.97998</td>\n",
       "      <td>2019.941406</td>\n",
       "    </tr>\n",
       "  </tbody>\n",
       "</table>\n",
       "</div>"
      ]
     },
     "execution_count": 13,
     "metadata": {},
     "output_type": "execute_result"
    }
   ],
   "source": [
    "score_df = pandas.DataFrame.from_dict(scores,orient='index')\n",
    "score_df"
   ]
  },
  {
   "cell_type": "code",
   "execution_count": 16,
   "metadata": {},
   "outputs": [],
   "source": [
    "score_df.to_csv(\"scores.csv\")"
   ]
  },
  {
   "cell_type": "code",
   "execution_count": null,
   "metadata": {},
   "outputs": [],
   "source": [
    ""
   ]
  },
  {
   "cell_type": "code",
   "execution_count": 17,
   "metadata": {},
   "outputs": [],
   "source": [
    "ran_scores= pandas.DataFrame.from_csv(\"hsa/scores1475846849.081919.csv\")"
   ]
  },
  {
   "cell_type": "code",
   "execution_count": 25,
   "metadata": {},
   "outputs": [
    {
     "data": {
      "text/plain": [
       "<matplotlib.axes._subplots.AxesSubplot at 0xcfa7828>"
      ]
     },
     "execution_count": 25,
     "metadata": {},
     "output_type": "execute_result"
    },
    {
     "data": {
      "image/png": "[encoded data removed]",
      "text/plain": [
       "<matplotlib.figure.Figure at 0xf397f0>"
      ]
     },
     "metadata": {},
     "output_type": "display_data"
    }
   ],
   "source": [
    "ran_scores.plot()"
   ]
  },
  {
   "cell_type": "code",
   "execution_count": null,
   "metadata": {},
   "outputs": [],
   "source": [
    ""
   ]
  }
 ],
 "metadata": {
  "kernelspec": {
   "display_name": "Python 2",
   "language": "python",
   "name": "python2"
  },
  "language_info": {
   "codemirror_mode": {
    "name": "ipython",
    "version": 2.0
   },
   "file_extension": ".py",
   "mimetype": "text/x-python",
   "name": "python",
   "nbconvert_exporter": "python",
   "pygments_lexer": "ipython2",
   "version": "2.7.6"
  }
 },
 "nbformat": 4,
 "nbformat_minor": 0
}