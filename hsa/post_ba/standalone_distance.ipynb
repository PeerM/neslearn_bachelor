{
 "cells": [
  {
   "cell_type": "code",
   "execution_count": 1,
   "metadata": {
    "collapsed": false
   },
   "outputs": [
    {
     "name": "stdout",
     "output_type": "stream",
     "text": [
      "Python 3.4.2 (default, Oct  8 2014, 10:45:20) \n",
      "[GCC 4.9.1] on linux\n"
     ]
    }
   ],
   "source": [
    "import sys\n",
    "print('Python %s on %s' % (sys.version, sys.platform))\n",
    "sys.path.extend([\"/home/mathia/PycharmProjects/neslearn-git/\",\n",
    "                 \"/home/peer/PycharmProjects/neslearng/\",\n",
    "                 \"/home/mathia/PycharmProjects/neslearn-git/extern/nes-async-rl/\"])"
   ]
  },
  {
   "cell_type": "code",
   "execution_count": 2,
   "metadata": {
    "collapsed": true
   },
   "outputs": [],
   "source": [
    "%matplotlib inline"
   ]
  },
  {
   "cell_type": "code",
   "execution_count": 3,
   "metadata": {
    "collapsed": true
   },
   "outputs": [],
   "source": [
    "import dqn_head\n",
    "import nes as nes_ale_interface\n",
    "from dqn_phi import dqn_phi\n",
    "from hsa.machine_constants import mario_rom_location\n",
    "import numpy as np\n",
    "import matplotlib.pyplot as plt\n",
    "import chainer\n",
    "from hsa.visualization.parse_fm2 import parse_fm2\n",
    "from hsa.nes_python_input import py_to_nes_wrapper\n",
    "import scipy.misc\n",
    "from chainer import serializers\n",
    "from a3c_nes import A3CLSTM\n",
    "import imageio\n",
    "import scipy.misc\n",
    "from sklearn.neighbors import KNeighborsClassifier\n",
    "import random\n"
   ]
  },
  {
   "cell_type": "code",
   "execution_count": 4,
   "metadata": {
    "collapsed": true
   },
   "outputs": [],
   "source": [
    "from extern.fceux_learningenv.nes_python_interface.nes_python_interface import NESInterface, nes_lib\n",
    "from hsa.machine_constants import mario_rom_location"
   ]
  },
  {
   "cell_type": "code",
   "execution_count": 5,
   "metadata": {
    "collapsed": true
   },
   "outputs": [],
   "source": [
    "def preprocess_rgb(rgb_img):\n",
    "    assert rgb_img.shape == (224, 256, 3)\n",
    "    # RGB -> Luminance\n",
    "    img = rgb_img[:, :, 0] * 0.2126 + rgb_img[:, :, 1] * \\\n",
    "        0.0722 + rgb_img[:, :, 2] * 0.7152\n",
    "    img = img.astype(np.uint8)\n",
    "    img = scipy.misc.imresize(img, (84, 84))\n",
    "    assert img.shape == (84, 84)\n",
    "    return img"
   ]
  },
  {
   "cell_type": "code",
   "execution_count": 6,
   "metadata": {
    "collapsed": true
   },
   "outputs": [],
   "source": [
    "movie_inputs = []\n",
    "def iterate_movie(movie_path):\n",
    "    nes = NESInterface(mario_rom_location,eb_compatible=True)\n",
    "    with open(movie_path) as movie_file:\n",
    "        for i, combi in enumerate(parse_fm2(movie_file)):\n",
    "            reward = nes.act(py_to_nes_wrapper(combi))\n",
    "            if i % 4 == 0:\n",
    "                movie_inputs.append(py_to_nes_wrapper(combi))\n",
    "                yield preprocess_rgb(nes.getScreenRGB())\n",
    "            nes.render()"
   ]
  },
  {
   "cell_type": "code",
   "execution_count": 7,
   "metadata": {
    "collapsed": false
   },
   "outputs": [],
   "source": [
    "movie_screens_iter= iterate_movie(\"/home/mathia/PycharmProjects/neslearn-git/movies/5_1-1_without-shortcut.fm2\")\n",
    "movie_screens = list(movie_screens_iter)"
   ]
  },
  {
   "cell_type": "code",
   "execution_count": 8,
   "metadata": {
    "collapsed": false
   },
   "outputs": [],
   "source": [
    "# Maybe nesseary to insert prepending frames?\n",
    "movie_screens.insert(0,np.zeros_like(movie_screens[0]))\n",
    "movie_screens.insert(1,np.zeros_like(movie_screens[0]))\n",
    "movie_screens.insert(2,np.zeros_like(movie_screens[0]))"
   ]
  },
  {
   "cell_type": "code",
   "execution_count": 9,
   "metadata": {
    "collapsed": false
   },
   "outputs": [
    {
     "data": {
      "text/plain": [
       "602"
      ]
     },
     "execution_count": 9,
     "metadata": {},
     "output_type": "execute_result"
    }
   ],
   "source": [
    "len(movie_inputs)"
   ]
  },
  {
   "cell_type": "code",
   "execution_count": 10,
   "metadata": {
    "collapsed": false
   },
   "outputs": [
    {
     "data": {
      "text/plain": [
       "605"
      ]
     },
     "execution_count": 10,
     "metadata": {},
     "output_type": "execute_result"
    }
   ],
   "source": [
    "len(movie_screens)"
   ]
  },
  {
   "cell_type": "code",
   "execution_count": 11,
   "metadata": {
    "collapsed": false
   },
   "outputs": [],
   "source": [
    "for i in range(len(movie_screens)-3):\n",
    "     dqn_phi(movie_screens[i:i+4])"
   ]
  },
  {
   "cell_type": "code",
   "execution_count": 12,
   "metadata": {
    "collapsed": false
   },
   "outputs": [],
   "source": [
    "nn = A3CLSTM(n_actions=15)\n",
    "serializers.load_hdf5(\"/home/mathia/checkpoints/nes_a3c_scaled_finer_main_reward_1/16000000_finish.h5\",nn)"
   ]
  },
  {
   "cell_type": "code",
   "execution_count": 13,
   "metadata": {
    "collapsed": false
   },
   "outputs": [],
   "source": [
    "def screens_to_embeding(screens):\n",
    "    \"\"\"screens should be len=4\"\"\"\n",
    "    s = chainer.Variable(np.expand_dims(dqn_phi(screens), 0))\n",
    "    return nn.head(s)"
   ]
  },
  {
   "cell_type": "code",
   "execution_count": 14,
   "metadata": {
    "collapsed": false
   },
   "outputs": [
    {
     "data": {
      "text/plain": [
       "(1, 256)"
      ]
     },
     "execution_count": 14,
     "metadata": {},
     "output_type": "execute_result"
    }
   ],
   "source": [
    "screens_to_embeding(movie_screens[4:8]).data.shape"
   ]
  },
  {
   "cell_type": "code",
   "execution_count": 17,
   "metadata": {
    "collapsed": false
   },
   "outputs": [
    {
     "data": {
      "text/plain": [
       "<matplotlib.image.AxesImage at 0x7fce23a7a7b8>"
      ]
     },
     "execution_count": 17,
     "metadata": {},
     "output_type": "execute_result"
    },
    {
     "data": {
      "image/png": "[encoded data removed]",
      "text/plain": [
       "<matplotlib.figure.Figure at 0x7fce297681d0>"
      ]
     },
     "metadata": {},
     "output_type": "display_data"
    }
   ],
   "source": [
    "plt.imshow(screens_to_embeding(movie_screens[4:8]).data.reshape((16,16)),interpolation=\"none\")"
   ]
  },
  {
   "cell_type": "code",
   "execution_count": 18,
   "metadata": {
    "collapsed": true
   },
   "outputs": [],
   "source": [
    "movie_writer = imageio.get_writer(\"embedding_5_1-1_without-shortcut.mp4\", fps=60/4, quality=9)\n",
    "for i in range(len(movie_screens)-3):\n",
    "    embedding = screens_to_embeding(movie_screens[i:i+4]).data.reshape((16,16))\n",
    "    video_frame = scipy.misc.imresize(embedding, (128,128),interp=\"nearest\")\n",
    "    movie_writer.append_data(video_frame)\n",
    "movie_writer.close()"
   ]
  },
  {
   "cell_type": "code",
   "execution_count": 15,
   "metadata": {
    "collapsed": false
   },
   "outputs": [],
   "source": [
    "movie_embeddings= np.array([screens_to_embeding(movie_screens[i:i+4]).data.reshape(256) for i in range(len(movie_screens)-3)])"
   ]
  },
  {
   "cell_type": "code",
   "execution_count": 16,
   "metadata": {
    "collapsed": false
   },
   "outputs": [
    {
     "data": {
      "text/plain": [
       "(602, 256)"
      ]
     },
     "execution_count": 16,
     "metadata": {},
     "output_type": "execute_result"
    }
   ],
   "source": [
    "movie_embeddings.shape"
   ]
  },
  {
   "cell_type": "code",
   "execution_count": 17,
   "metadata": {
    "collapsed": false
   },
   "outputs": [
    {
     "data": {
      "text/plain": [
       "602"
      ]
     },
     "execution_count": 17,
     "metadata": {},
     "output_type": "execute_result"
    }
   ],
   "source": [
    "len(movie_embeddings)"
   ]
  },
  {
   "cell_type": "code",
   "execution_count": 18,
   "metadata": {
    "collapsed": false
   },
   "outputs": [
    {
     "data": {
      "text/plain": [
       "602"
      ]
     },
     "execution_count": 18,
     "metadata": {},
     "output_type": "execute_result"
    }
   ],
   "source": [
    "len(movie_inputs)"
   ]
  },
  {
   "cell_type": "code",
   "execution_count": 19,
   "metadata": {
    "collapsed": false
   },
   "outputs": [
    {
     "data": {
      "text/plain": [
       "array([  0,   0,   0,   0,   0,   0,   0,   0,   0,   0,   0,   0,   0,\n",
       "         8,   0,   8,   8,   8,   0,   0,   0,   0,   0,   4,   0,   0,\n",
       "         0,   0,   0, 130, 130, 130, 130, 130, 130, 130, 130, 130, 130, 130])"
      ]
     },
     "execution_count": 19,
     "metadata": {},
     "output_type": "execute_result"
    }
   ],
   "source": [
    "np.array(movie_inputs[0:40])"
   ]
  },
  {
   "cell_type": "markdown",
   "metadata": {},
   "source": [
    "## Train KNN form embeding to input"
   ]
  },
  {
   "cell_type": "code",
   "execution_count": 16,
   "metadata": {
    "collapsed": true
   },
   "outputs": [],
   "source": [
    "knn = KNeighborsClassifier(n_neighbors=20)"
   ]
  },
  {
   "cell_type": "code",
   "execution_count": 17,
   "metadata": {
    "collapsed": false
   },
   "outputs": [
    {
     "data": {
      "text/plain": [
       "KNeighborsClassifier(algorithm='auto', leaf_size=30, metric='minkowski',\n",
       "           metric_params=None, n_jobs=1, n_neighbors=20, p=2,\n",
       "           weights='uniform')"
      ]
     },
     "execution_count": 17,
     "metadata": {},
     "output_type": "execute_result"
    }
   ],
   "source": [
    "knn.fit(movie_embeddings,movie_inputs)"
   ]
  },
  {
   "cell_type": "markdown",
   "metadata": {},
   "source": [
    "## other things"
   ]
  },
  {
   "cell_type": "code",
   "execution_count": 20,
   "metadata": {
    "collapsed": false
   },
   "outputs": [],
   "source": [
    "def play_clone_fine(how_long,epsilon_greedy):\n",
    "    nes = NESInterface(mario_rom_location,eb_compatible=True)\n",
    "    nes.reset_game()\n",
    "    action = 0\n",
    "    reward_sum = 0\n",
    "    for i in range(how_long):\n",
    "        screens= []\n",
    "        if nes.lives() < 1:\n",
    "            nes.reset_game()\n",
    "        if random.random()<0.2 and epsilon_greedy:\n",
    "            action = random.choice(nes.getMinimalActionSet())\n",
    "        for i in range(4):\n",
    "            a_reward = nes.act(action)\n",
    "            reward_sum += a_reward\n",
    "            screens.append(preprocess_rgb(nes.getScreenRGB()))\n",
    "        action = knn.predict(screens_to_embeding(screens).data)\n",
    "    return reward_sum\n",
    "        "
   ]
  },
  {
   "cell_type": "code",
   "execution_count": 21,
   "metadata": {
    "collapsed": false
   },
   "outputs": [
    {
     "data": {
      "text/plain": [
       "5935"
      ]
     },
     "execution_count": 21,
     "metadata": {},
     "output_type": "execute_result"
    }
   ],
   "source": [
    "play_clone_fine(1000,True)"
   ]
  },
  {
   "cell_type": "code",
   "execution_count": null,
   "metadata": {
    "collapsed": true
   },
   "outputs": [],
   "source": [
    "nes = NESInterface(mario_rom_location,eb_compatible=True)"
   ]
  },
  {
   "cell_type": "code",
   "execution_count": 1,
   "metadata": {
    "collapsed": false
   },
   "outputs": [
    {
     "ename": "NameError",
     "evalue": "name 'NESInterface' is not defined",
     "output_type": "error",
     "traceback": [
      "\u001b[0;31m---------------------------------------------------------------------------\u001b[0m",
      "\u001b[0;31mNameError\u001b[0m                                 Traceback (most recent call last)",
      "\u001b[0;32m<ipython-input-1-ad52548e83d7>\u001b[0m in \u001b[0;36m<module>\u001b[0;34m()\u001b[0m\n\u001b[0;32m----> 1\u001b[0;31m \u001b[0mnes\u001b[0m \u001b[0;34m=\u001b[0m \u001b[0mNESInterface\u001b[0m\u001b[0;34m(\u001b[0m\u001b[0mmario_rom_location\u001b[0m\u001b[0;34m,\u001b[0m\u001b[0meb_compatible\u001b[0m\u001b[0;34m=\u001b[0m\u001b[0;32mTrue\u001b[0m\u001b[0;34m)\u001b[0m\u001b[0;34m\u001b[0m\u001b[0m\n\u001b[0m\u001b[1;32m      2\u001b[0m \u001b[0mscreens\u001b[0m\u001b[0;34m=\u001b[0m \u001b[0;34m[\u001b[0m\u001b[0;34m]\u001b[0m\u001b[0;34m\u001b[0m\u001b[0m\n\u001b[1;32m      3\u001b[0m \u001b[0mreward_sum\u001b[0m \u001b[0;34m=\u001b[0m \u001b[0;36m0\u001b[0m\u001b[0;34m\u001b[0m\u001b[0m\n\u001b[1;32m      4\u001b[0m \u001b[0;32mfor\u001b[0m \u001b[0mi\u001b[0m \u001b[0;32min\u001b[0m \u001b[0mrange\u001b[0m\u001b[0;34m(\u001b[0m\u001b[0;36m4\u001b[0m\u001b[0;34m)\u001b[0m\u001b[0;34m:\u001b[0m\u001b[0;34m\u001b[0m\u001b[0m\n\u001b[1;32m      5\u001b[0m     \u001b[0ma_reward\u001b[0m \u001b[0;34m=\u001b[0m \u001b[0mnes\u001b[0m\u001b[0;34m.\u001b[0m\u001b[0mact\u001b[0m\u001b[0;34m(\u001b[0m\u001b[0;36m0\u001b[0m\u001b[0;34m)\u001b[0m\u001b[0;34m\u001b[0m\u001b[0m\n",
      "\u001b[0;31mNameError\u001b[0m: name 'NESInterface' is not defined"
     ]
    }
   ],
   "source": [
    "\n",
    "screens= []\n",
    "reward_sum = 0\n",
    "for i in range(4):\n",
    "    a_reward = nes.act(0)\n",
    "    reward_sum += a_reward\n",
    "    screens.append(preprocess_rgb(nes.getScreenRGB()))\n",
    "action = knn.predict(screens_to_embeding(screens))"
   ]
  },
  {
   "cell_type": "code",
   "execution_count": null,
   "metadata": {
    "collapsed": true
   },
   "outputs": [],
   "source": [
    "del nes"
   ]
  },
  {
   "cell_type": "markdown",
   "metadata": {},
   "source": [
    "## using the other interface unsuccessfully "
   ]
  },
  {
   "cell_type": "code",
   "execution_count": null,
   "metadata": {
    "collapsed": true
   },
   "outputs": [],
   "source": []
  },
  {
   "cell_type": "code",
   "execution_count": 22,
   "metadata": {
    "collapsed": false
   },
   "outputs": [],
   "source": [
    "def play_clone(how_long):\n",
    "    # nes = NESInterface(mario_rom_location,eb_compatible=True)\n",
    "    env = nes_ale_interface.NES(mario_rom_location) \n",
    "    for i in range(how_long):\n",
    "        embedding = screens_to_embeding(env.state)\n",
    "        action = knn.predict(embedding.data)\n",
    "        reward = env.receive_action(action)\n",
    "        yield reward\n"
   ]
  },
  {
   "cell_type": "code",
   "execution_count": 23,
   "metadata": {
    "collapsed": false,
    "scrolled": false
   },
   "outputs": [
    {
     "ename": "IndexError",
     "evalue": "index 130 is out of bounds for axis 1 with size 15",
     "output_type": "error",
     "traceback": [
      "\u001b[0;31m---------------------------------------------------------------------------\u001b[0m",
      "\u001b[0;31mIndexError\u001b[0m                                Traceback (most recent call last)",
      "\u001b[0;32m<ipython-input-23-a654c4848736>\u001b[0m in \u001b[0;36m<module>\u001b[0;34m()\u001b[0m\n\u001b[0;32m----> 1\u001b[0;31m \u001b[0msum\u001b[0m\u001b[0;34m(\u001b[0m\u001b[0mplay_clone\u001b[0m\u001b[0;34m(\u001b[0m\u001b[0;36m100\u001b[0m\u001b[0;34m)\u001b[0m\u001b[0;34m)\u001b[0m\u001b[0;34m\u001b[0m\u001b[0m\n\u001b[0m",
      "\u001b[0;32m<ipython-input-22-3207a17ff858>\u001b[0m in \u001b[0;36mplay_clone\u001b[0;34m(how_long)\u001b[0m\n\u001b[1;32m      5\u001b[0m         \u001b[0membedding\u001b[0m \u001b[0;34m=\u001b[0m \u001b[0mscreens_to_embeding\u001b[0m\u001b[0;34m(\u001b[0m\u001b[0menv\u001b[0m\u001b[0;34m.\u001b[0m\u001b[0mstate\u001b[0m\u001b[0;34m)\u001b[0m\u001b[0;34m\u001b[0m\u001b[0m\n\u001b[1;32m      6\u001b[0m         \u001b[0maction\u001b[0m \u001b[0;34m=\u001b[0m \u001b[0mknn\u001b[0m\u001b[0;34m.\u001b[0m\u001b[0mpredict\u001b[0m\u001b[0;34m(\u001b[0m\u001b[0membedding\u001b[0m\u001b[0;34m.\u001b[0m\u001b[0mdata\u001b[0m\u001b[0;34m)\u001b[0m\u001b[0;34m\u001b[0m\u001b[0m\n\u001b[0;32m----> 7\u001b[0;31m         \u001b[0mreward\u001b[0m \u001b[0;34m=\u001b[0m \u001b[0menv\u001b[0m\u001b[0;34m.\u001b[0m\u001b[0mreceive_action\u001b[0m\u001b[0;34m(\u001b[0m\u001b[0maction\u001b[0m\u001b[0;34m)\u001b[0m\u001b[0;34m\u001b[0m\u001b[0m\n\u001b[0m\u001b[1;32m      8\u001b[0m         \u001b[0;32myield\u001b[0m \u001b[0mreward\u001b[0m\u001b[0;34m\u001b[0m\u001b[0m\n",
      "\u001b[0;32m/home/mathia/PycharmProjects/neslearn-git/extern/nes-async-rl/nes.py\u001b[0m in \u001b[0;36mreceive_action\u001b[0;34m(self, action)\u001b[0m\n\u001b[1;32m    102\u001b[0m                 \u001b[0mself\u001b[0m\u001b[0;34m.\u001b[0m\u001b[0mlast_raw_screen\u001b[0m \u001b[0;34m=\u001b[0m \u001b[0mself\u001b[0m\u001b[0;34m.\u001b[0m\u001b[0mnes\u001b[0m\u001b[0;34m.\u001b[0m\u001b[0mgetScreenRGB\u001b[0m\u001b[0;34m(\u001b[0m\u001b[0;34m)\u001b[0m\u001b[0;34m\u001b[0m\u001b[0m\n\u001b[1;32m    103\u001b[0m \u001b[0;34m\u001b[0m\u001b[0m\n\u001b[0;32m--> 104\u001b[0;31m             \u001b[0mrewards\u001b[0m\u001b[0;34m.\u001b[0m\u001b[0mappend\u001b[0m\u001b[0;34m(\u001b[0m\u001b[0mself\u001b[0m\u001b[0;34m.\u001b[0m\u001b[0mnes\u001b[0m\u001b[0;34m.\u001b[0m\u001b[0mact\u001b[0m\u001b[0;34m(\u001b[0m\u001b[0mself\u001b[0m\u001b[0;34m.\u001b[0m\u001b[0mlegal_actions\u001b[0m\u001b[0;34m[\u001b[0m\u001b[0maction\u001b[0m\u001b[0;34m]\u001b[0m\u001b[0;34m)\u001b[0m\u001b[0;34m)\u001b[0m\u001b[0;34m\u001b[0m\u001b[0m\n\u001b[0m\u001b[1;32m    105\u001b[0m             \u001b[0;32mif\u001b[0m \u001b[0mself\u001b[0m\u001b[0;34m.\u001b[0m\u001b[0mevery_action_callback\u001b[0m \u001b[0;32mis\u001b[0m \u001b[0;32mnot\u001b[0m \u001b[0;32mNone\u001b[0m\u001b[0;34m:\u001b[0m\u001b[0;34m\u001b[0m\u001b[0m\n\u001b[1;32m    106\u001b[0m                 \u001b[0mself\u001b[0m\u001b[0;34m.\u001b[0m\u001b[0mevery_action_callback\u001b[0m\u001b[0;34m(\u001b[0m\u001b[0mi\u001b[0m\u001b[0;34m,\u001b[0m\u001b[0mself\u001b[0m\u001b[0;34m.\u001b[0m\u001b[0mnes\u001b[0m\u001b[0;34m.\u001b[0m\u001b[0mgetRAM\u001b[0m\u001b[0;34m(\u001b[0m\u001b[0;34m)\u001b[0m\u001b[0;34m)\u001b[0m\u001b[0;34m\u001b[0m\u001b[0m\n",
      "\u001b[0;31mIndexError\u001b[0m: index 130 is out of bounds for axis 1 with size 15"
     ]
    }
   ],
   "source": [
    "sum(play_clone(100))"
   ]
  },
  {
   "cell_type": "code",
   "execution_count": 41,
   "metadata": {
    "collapsed": true
   },
   "outputs": [],
   "source": [
    "env = nes_ale_interface.NES(mario_rom_location) \n",
    "embedding = screens_to_embeding(env.state)\n"
   ]
  },
  {
   "cell_type": "code",
   "execution_count": 43,
   "metadata": {
    "collapsed": true
   },
   "outputs": [
    {
     "data": {
      "text/plain": [
       "array([[  6.34270430e+00,   0.00000000e+00,   0.00000000e+00,\n",
       "          0.00000000e+00,   0.00000000e+00,   0.00000000e+00,\n",
       "          0.00000000e+00,   0.00000000e+00,   0.00000000e+00,\n",
       "          0.00000000e+00,   0.00000000e+00,   1.49668913e+01,\n",
       "          0.00000000e+00,   0.00000000e+00,   0.00000000e+00,\n",
       "          1.50532722e+00,   0.00000000e+00,   1.97391939e+00,\n",
       "          0.00000000e+00,   3.81560946e+00,   5.94799471e+00,\n",
       "          0.00000000e+00,   0.00000000e+00,   7.26984024e-01,\n",
       "          8.60673666e-01,   0.00000000e+00,   0.00000000e+00,\n",
       "          0.00000000e+00,   4.17941427e+00,   4.30993414e+00,\n",
       "          2.20376626e-03,   0.00000000e+00,   0.00000000e+00,\n",
       "          2.58206520e+01,   0.00000000e+00,   0.00000000e+00,\n",
       "          5.58074284e+00,   5.84123135e+00,   0.00000000e+00,\n",
       "          0.00000000e+00,   0.00000000e+00,   0.00000000e+00,\n",
       "          1.84434903e+00,   0.00000000e+00,   0.00000000e+00,\n",
       "          0.00000000e+00,   0.00000000e+00,   1.80977497e+01,\n",
       "          7.37385452e-01,   1.51655340e+01,   0.00000000e+00,\n",
       "          2.26432490e+00,   1.25895691e+00,   1.08861232e+00,\n",
       "          0.00000000e+00,   8.15103626e+00,   8.20241570e-01,\n",
       "          1.88845425e+01,   0.00000000e+00,   0.00000000e+00,\n",
       "          0.00000000e+00,   0.00000000e+00,   0.00000000e+00,\n",
       "          0.00000000e+00,   0.00000000e+00,   0.00000000e+00,\n",
       "          0.00000000e+00,   0.00000000e+00,   1.63374639e+00,\n",
       "          0.00000000e+00,   0.00000000e+00,   0.00000000e+00,\n",
       "          0.00000000e+00,   8.19153118e+00,   1.60115981e+00,\n",
       "          3.16815972e+00,   0.00000000e+00,   0.00000000e+00,\n",
       "          0.00000000e+00,   0.00000000e+00,   0.00000000e+00,\n",
       "          2.49954641e-01,   0.00000000e+00,   0.00000000e+00,\n",
       "          9.28565860e-02,   0.00000000e+00,   6.83805346e-01,\n",
       "          0.00000000e+00,   0.00000000e+00,   9.47830505e+01,\n",
       "          1.78334534e+00,   0.00000000e+00,   0.00000000e+00,\n",
       "          0.00000000e+00,   0.00000000e+00,   1.59532762e+00,\n",
       "          0.00000000e+00,   0.00000000e+00,   0.00000000e+00,\n",
       "          0.00000000e+00,   0.00000000e+00,   4.77663457e-01,\n",
       "          0.00000000e+00,   0.00000000e+00,   8.16170311e+00,\n",
       "          2.59253979e+01,   0.00000000e+00,   0.00000000e+00,\n",
       "          0.00000000e+00,   0.00000000e+00,   0.00000000e+00,\n",
       "          0.00000000e+00,   0.00000000e+00,   0.00000000e+00,\n",
       "          0.00000000e+00,   0.00000000e+00,   0.00000000e+00,\n",
       "          0.00000000e+00,   4.61236894e-01,   0.00000000e+00,\n",
       "          0.00000000e+00,   1.08907681e+01,   2.13825560e+00,\n",
       "          0.00000000e+00,   0.00000000e+00,   0.00000000e+00,\n",
       "          0.00000000e+00,   1.10506372e+01,   0.00000000e+00,\n",
       "          2.71674681e+00,   0.00000000e+00,   0.00000000e+00,\n",
       "          0.00000000e+00,   0.00000000e+00,   0.00000000e+00,\n",
       "          3.38825488e+00,   3.73287559e-01,   2.85543847e+00,\n",
       "          0.00000000e+00,   0.00000000e+00,   1.34606705e+01,\n",
       "          0.00000000e+00,   0.00000000e+00,   0.00000000e+00,\n",
       "          0.00000000e+00,   6.72734737e+00,   0.00000000e+00,\n",
       "          0.00000000e+00,   0.00000000e+00,   0.00000000e+00,\n",
       "          0.00000000e+00,   0.00000000e+00,   0.00000000e+00,\n",
       "          1.75860047e-01,   0.00000000e+00,   2.65528703e+00,\n",
       "          0.00000000e+00,   0.00000000e+00,   0.00000000e+00,\n",
       "          4.03484964e+00,   8.25393391e+00,   0.00000000e+00,\n",
       "          0.00000000e+00,   0.00000000e+00,   0.00000000e+00,\n",
       "          0.00000000e+00,   3.59741497e+00,   0.00000000e+00,\n",
       "          2.06279449e+01,   0.00000000e+00,   0.00000000e+00,\n",
       "          1.01680017e+00,   3.43570518e+00,   6.70271397e+00,\n",
       "          7.16536617e+00,   0.00000000e+00,   0.00000000e+00,\n",
       "          1.40904465e+01,   1.26889193e+00,   9.16924191e+00,\n",
       "          0.00000000e+00,   0.00000000e+00,   0.00000000e+00,\n",
       "          0.00000000e+00,   1.85697579e+00,   0.00000000e+00,\n",
       "          0.00000000e+00,   0.00000000e+00,   0.00000000e+00,\n",
       "          2.13489032e+00,   0.00000000e+00,   0.00000000e+00,\n",
       "          3.39078009e-01,   0.00000000e+00,   0.00000000e+00,\n",
       "          0.00000000e+00,   1.45780134e+01,   0.00000000e+00,\n",
       "          0.00000000e+00,   0.00000000e+00,   1.94470263e+00,\n",
       "          0.00000000e+00,   0.00000000e+00,   0.00000000e+00,\n",
       "          5.32180119e+00,   5.01157475e+00,   0.00000000e+00,\n",
       "          3.02301121e+00,   1.88440113e+01,   0.00000000e+00,\n",
       "          0.00000000e+00,   1.19589305e+00,   1.97017288e+01,\n",
       "          0.00000000e+00,   0.00000000e+00,   0.00000000e+00,\n",
       "          0.00000000e+00,   0.00000000e+00,   0.00000000e+00,\n",
       "          9.67600524e-01,   0.00000000e+00,   7.60358906e+00,\n",
       "          0.00000000e+00,   3.50812674e+00,   0.00000000e+00,\n",
       "          4.67546558e+00,   3.18200254e+00,   0.00000000e+00,\n",
       "          0.00000000e+00,   0.00000000e+00,   1.83594394e+00,\n",
       "          0.00000000e+00,   0.00000000e+00,   1.44111454e+00,\n",
       "          0.00000000e+00,   1.39062681e+01,   0.00000000e+00,\n",
       "          0.00000000e+00,   2.41773933e-01,   0.00000000e+00,\n",
       "          0.00000000e+00,   1.57778711e+01,   0.00000000e+00,\n",
       "          8.20214176e+00,   1.48575425e+00,   0.00000000e+00,\n",
       "          0.00000000e+00,   0.00000000e+00,   3.15319717e-01,\n",
       "          0.00000000e+00,   0.00000000e+00,   1.22026098e+00,\n",
       "          1.36564560e+01,   0.00000000e+00,   1.02893810e+01,\n",
       "          1.52321529e+00]], dtype=float32)"
      ]
     },
     "execution_count": 43,
     "metadata": {},
     "output_type": "execute_result"
    }
   ],
   "source": [
    "embedding.data"
   ]
  },
  {
   "cell_type": "code",
   "execution_count": null,
   "metadata": {
    "collapsed": true
   },
   "outputs": [],
   "source": [
    "action = knn.predict(embedding)\n",
    "reward = env.receive_action(action)"
   ]
  }
 ],
 "metadata": {
  "kernelspec": {
   "display_name": "Python 3",
   "language": "python",
   "name": "python3"
  },
  "language_info": {
   "codemirror_mode": {
    "name": "ipython",
    "version": 3
   },
   "file_extension": ".py",
   "mimetype": "text/x-python",
   "name": "python",
   "nbconvert_exporter": "python",
   "pygments_lexer": "ipython3",
   "version": "3.4.2"
  }
 },
 "nbformat": 4,
 "nbformat_minor": 0
}
