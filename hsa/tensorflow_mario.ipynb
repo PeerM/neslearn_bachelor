{
 "cells": [
  {
   "cell_type": "code",
   "execution_count": 46,
   "metadata": {
    "collapsed": true
   },
   "outputs": [],
   "source": [
    "import tensorflow as tf\n",
    "import pandas\n",
    "import numpy as np\n",
    "from tensorflow.contrib import skflow\n",
    "from tensorflow.contrib import learn\n",
    "from sklearn import preprocessing\n",
    "import matplotlib.pyplot as plt\n",
    "%matplotlib inline"
   ]
  },
  {
   "cell_type": "code",
   "execution_count": 20,
   "metadata": {},
   "outputs": [
    {
     "name": "stdout",
     "output_type": "stream",
     "text": [
      "(67205, 2048)\n(17869, 2048)\n(18542, 2048)\n"
     ]
    }
   ],
   "source": [
    "warpless = np.fromfile(\"../data/happylee4-smb-warpless.fm2_ram.bin\", dtype=np.uint8, count=-1).reshape((-1, 2048))\n",
    "print(warpless.shape)\n",
    "warped = np.fromfile(\"../data/happylee-supermariobros,warped.fm2_ram.bin\", dtype=np.uint8, count=-1).reshape((-1, 2048))\n",
    "print(warped.shape)\n",
    "glitchless = np.fromfile(\"../data/glitchless_mario_betr_then_adleikat.fm2_ram.bin\", dtype=np.uint8, count=-1).reshape(\n",
    "    (-1, 2048))\n",
    "print(glitchless.shape)\n",
    "warpless_frame = pandas.DataFrame(data=warpless, index=np.arange(start=0, stop=1, step=1 / warpless.shape[0]))\n",
    "warped_frame = pandas.DataFrame(data=warped, index=np.arange(start=0, stop=1, step=1 / warped.shape[0]))\n",
    "glitchless_frame = pandas.DataFrame(data=glitchless, index=np.arange(start=0, stop=1, step=1 / glitchless.shape[0]))"
   ]
  },
  {
   "cell_type": "code",
   "execution_count": 38,
   "metadata": {},
   "outputs": [],
   "source": [
    "# feature_columns = tf.contrib.learn.infer_real_valued_columns_from_input(warped.data)\n",
    "regressor = learn.DNNRegressor(hidden_units=[64, 16])"
   ]
  },
  {
   "cell_type": "code",
   "execution_count": 49,
   "metadata": {},
   "outputs": [],
   "source": [
    "# feature_columns = tf.contrib.learn.infer_real_valued_columns_from_input(warped.data)\n",
    "regressor = learn.LinearRegressor(\n",
    "    optimizer=tf.train.FtrlOptimizer(\n",
    "        learning_rate=0.1,\n",
    "        l1_regularization_strength=1.0,\n",
    "        l2_regularization_strength=1.0))"
   ]
  },
  {
   "cell_type": "code",
   "execution_count": 40,
   "metadata": {},
   "outputs": [
    {
     "data": {
      "text/plain": [
       "DNNRegressor()"
      ]
     },
     "execution_count": 40,
     "metadata": {},
     "output_type": "execute_result"
    }
   ],
   "source": [
    "regressor.fit(warped_frame.values, warped_frame.index, steps=5000, batch_size=50)"
   ]
  },
  {
   "cell_type": "code",
   "execution_count": 51,
   "metadata": {},
   "outputs": [
    {
     "data": {
      "text/plain": [
       "LinearRegressor()"
      ]
     },
     "execution_count": 51,
     "metadata": {},
     "output_type": "execute_result"
    }
   ],
   "source": [
    "regressor.fit(warped_frame.values, warped_frame.index, steps=5000, batch_size=50)"
   ]
  },
  {
   "cell_type": "code",
   "execution_count": 34,
   "metadata": {},
   "outputs": [
    {
     "data": {
      "text/plain": [
       "(17869,)"
      ]
     },
     "execution_count": 34,
     "metadata": {},
     "output_type": "execute_result"
    }
   ],
   "source": [
    "warped_frame.index.shape"
   ]
  },
  {
   "cell_type": "code",
   "execution_count": 52,
   "metadata": {},
   "outputs": [
    {
     "data": {
      "text/plain": [
       "([], <a list of 0 Text yticklabel objects>)"
      ]
     },
     "execution_count": 52,
     "metadata": {},
     "output_type": "execute_result"
    },
    {
     "data": {
      "image/png": "[encoded data removed]",
      "text/plain": [
       "<matplotlib.figure.Figure at 0x7f2b00419a20>"
      ]
     },
     "metadata": {},
     "output_type": "display_data"
    }
   ],
   "source": [
    "test = glitchless\n",
    "test_index = np.arange(start=0, stop=1, step=1 / test.shape[0])\n",
    "# Plot outputs\n",
    "nth_sample = 1\n",
    "plt.plot(test_index[0::nth_sample], regressor.predict(test[0::nth_sample]), color='blue',\n",
    "         linewidth=3)\n",
    "\n",
    "plt.xticks(())\n",
    "plt.yticks(())"
   ]
  },
  {
   "cell_type": "code",
   "execution_count": null,
   "metadata": {},
   "outputs": [],
   "source": [
    ""
   ]
  }
 ],
 "metadata": {
  "kernelspec": {
   "display_name": "Python 2",
   "language": "python",
   "name": "python2"
  },
  "language_info": {
   "codemirror_mode": {
    "name": "ipython",
    "version": 2.0
   },
   "file_extension": ".py",
   "mimetype": "text/x-python",
   "name": "python",
   "nbconvert_exporter": "python",
   "pygments_lexer": "ipython2",
   "version": "2.7.6"
  }
 },
 "nbformat": 4,
 "nbformat_minor": 0
}