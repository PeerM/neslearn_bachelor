{
 "cells": [
  {
   "cell_type": "code",
   "execution_count": null,
   "metadata": {
    "collapsed": true
   },
   "outputs": [],
   "source": [
    "%load_ext autoreload"
   ]
  },
  {
   "cell_type": "code",
   "execution_count": null,
   "metadata": {
    "collapsed": true
   },
   "outputs": [],
   "source": [
    "%autoreload"
   ]
  },
  {
   "cell_type": "code",
   "execution_count": 1,
   "metadata": {
    "collapsed": false
   },
   "outputs": [
    {
     "name": "stdout",
     "output_type": "stream",
     "text": [
      "Python 3.5.2 (default, Nov 17 2016, 17:05:23) \n",
      "[GCC 5.4.0 20160609] on linux\n"
     ]
    }
   ],
   "source": [
    "import sys\n",
    "print('Python %s on %s' % (sys.version, sys.platform))\n",
    "sys.path.extend([\"/home/mathia/PycharmProjects/neslearn-git/\",\"/home/peer/PycharmProjects/neslearng/\"])"
   ]
  },
  {
   "cell_type": "code",
   "execution_count": 19,
   "metadata": {
    "collapsed": false
   },
   "outputs": [],
   "source": [
    "from hsa.tree_search import fceux_a_star\n",
    "from tqdm import tqdm_notebook"
   ]
  },
  {
   "cell_type": "code",
   "execution_count": 3,
   "metadata": {
    "collapsed": true
   },
   "outputs": [],
   "source": [
    "from extern.fceux_learningenv.nes_python_interface.nes_python_interface import NESInterface\n",
    "from hsa.machine_constants import mario_rom_location\n",
    "\n",
    "nes = NESInterface(mario_rom_location,eb_compatible=False)"
   ]
  },
  {
   "cell_type": "code",
   "execution_count": 4,
   "metadata": {
    "collapsed": true
   },
   "outputs": [],
   "source": [
    "config = fceux_a_star.ConfigPack(nes, render_search=False, nr_nodes_to_expand=50)"
   ]
  },
  {
   "cell_type": "code",
   "execution_count": 5,
   "metadata": {
    "collapsed": false
   },
   "outputs": [],
   "source": [
    "start = fceux_a_star.make_start(config, reset=True)"
   ]
  },
  {
   "cell_type": "code",
   "execution_count": 6,
   "metadata": {
    "collapsed": true
   },
   "outputs": [],
   "source": [
    "graph = fceux_a_star.AStarGraph(config)"
   ]
  },
  {
   "cell_type": "code",
   "execution_count": 20,
   "metadata": {
    "collapsed": false
   },
   "outputs": [
    {
     "name": "stdout",
     "output_type": "stream",
     "text": [
      "\n"
     ]
    }
   ],
   "source": [
    "best = None\n",
    "for current_best in tqdm_notebook(fceux_a_star.best_first(start,graph,config),total=config.nr_nodes_to_expand):\n",
    "    best = current_best\n",
    "    nes.render()\n",
    "    #fceux_a_star.render_node(current_best,nes)\n",
    "best"
   ]
  },
  {
   "cell_type": "markdown",
   "metadata": {},
   "source": [
    "## Debug analysis"
   ]
  },
  {
   "cell_type": "code",
   "execution_count": 9,
   "metadata": {
    "collapsed": true
   },
   "outputs": [
    {
     "data": {
      "text/plain": [
       "[MarioNode(id=2149157194268967603, potential=40, recv_reward=0, state=array([70, 67, 83, ...,  0,  0,  0], dtype=uint8)),\n",
       " MarioNode(id=2149157194270050128, potential=40, recv_reward=0, state=array([70, 67, 83, ...,  0,  0,  0], dtype=uint8)),\n",
       " MarioNode(id=2149157194271132653, potential=40, recv_reward=0, state=array([70, 67, 83, ...,  0,  0,  0], dtype=uint8)),\n",
       " MarioNode(id=2149157194251647203, potential=40, recv_reward=0, state=array([70, 67, 83, ...,  0,  0,  0], dtype=uint8)),\n",
       " MarioNode(id=2149157194407530803, potential=70, recv_reward=150, state=array([70, 67, 83, ...,  0,  0,  0], dtype=uint8)),\n",
       " MarioNode(id=2149157194338249203, potential=6, recv_reward=-165, state=array([70, 67, 83, ...,  0,  0,  0], dtype=uint8)),\n",
       " MarioNode(id=2149157194303608403, potential=40, recv_reward=0, state=array([70, 67, 83, ...,  0,  0,  0], dtype=uint8)),\n",
       " MarioNode(id=2149157194252729728, potential=40, recv_reward=0, state=array([70, 67, 83, ...,  0,  0,  0], dtype=uint8)),\n",
       " MarioNode(id=2149157194408613328, potential=70, recv_reward=150, state=array([70, 67, 83, ...,  0,  0,  0], dtype=uint8)),\n",
       " MarioNode(id=2149157194339331728, potential=0, recv_reward=-195, state=array([70, 67, 83, ...,  0,  0,  0], dtype=uint8)),\n",
       " MarioNode(id=2149157194304690928, potential=40, recv_reward=0, state=array([70, 67, 83, ...,  0,  0,  0], dtype=uint8)),\n",
       " MarioNode(id=2149157194253812253, potential=40, recv_reward=0, state=array([70, 67, 83, ...,  0,  0,  0], dtype=uint8)),\n",
       " MarioNode(id=2149157194409695853, potential=85, recv_reward=225, state=array([70, 67, 83, ...,  0,  0,  0], dtype=uint8)),\n",
       " MarioNode(id=2149157194340414253, potential=0, recv_reward=-195, state=array([70, 67, 83, ...,  0,  0,  0], dtype=uint8)),\n",
       " MarioNode(id=2149157194305773453, potential=40, recv_reward=0, state=array([70, 67, 83, ...,  0,  0,  0], dtype=uint8))]"
      ]
     },
     "execution_count": 9,
     "metadata": {},
     "output_type": "execute_result"
    }
   ],
   "source": [
    "graph.get_vertex_neighbours(start)"
   ]
  },
  {
   "cell_type": "code",
   "execution_count": 14,
   "metadata": {
    "collapsed": false
   },
   "outputs": [
    {
     "name": "stdout",
     "output_type": "stream",
     "text": [
      " "
     ]
    }
   ],
   "source": [
    "%prun graph.get_vertex_neighbours(start)"
   ]
  },
  {
   "cell_type": "code",
   "execution_count": 8,
   "metadata": {
    "collapsed": false
   },
   "outputs": [
    {
     "name": "stdout",
     "output_type": "stream",
     "text": [
      "1 loop, best of 3: 859 ms per loop\n"
     ]
    }
   ],
   "source": [
    "it_for_time = fceux_a_star.best_first(start,graph,config)\n",
    "%timeit next(it_for_time)"
   ]
  },
  {
   "cell_type": "code",
   "execution_count": 10,
   "metadata": {
    "collapsed": false
   },
   "outputs": [
    {
     "name": "stdout",
     "output_type": "stream",
     "text": [
      "1 loop, best of 3: 843 ms per loop\n"
     ]
    }
   ],
   "source": [
    "org_render = config.render_search\n",
    "config.render_search = False\n",
    "it_for_time = fceux_a_star.best_first(start,graph,config)\n",
    "%timeit next(it_for_time)\n",
    "config.render_search = org_render"
   ]
  },
  {
   "cell_type": "code",
   "execution_count": 16,
   "metadata": {
    "collapsed": false
   },
   "outputs": [
    {
     "data": {
      "text/plain": [
       "600"
      ]
     },
     "execution_count": 16,
     "metadata": {},
     "output_type": "execute_result"
    }
   ],
   "source": [
    "len(config.actions) * config.action_repeat"
   ]
  },
  {
   "cell_type": "code",
   "execution_count": null,
   "metadata": {
    "collapsed": true
   },
   "outputs": [],
   "source": [
    ""
   ]
  }
 ],
 "metadata": {
  "kernelspec": {
   "display_name": "Python 3",
   "language": "python",
   "name": "python3"
  },
  "language_info": {
   "codemirror_mode": {
    "name": "ipython",
    "version": 3.0
   },
   "file_extension": ".py",
   "mimetype": "text/x-python",
   "name": "python",
   "nbconvert_exporter": "python",
   "pygments_lexer": "ipython3",
   "version": "3.5.2"
  },
  "widgets": {
   "state": {
    "f81254caa0f040b2a956481716c51e4e": {
     "views": [
      {
       "cell_index": 8.0
      }
     ]
    }
   },
   "version": "1.2.0"
  }
 },
 "nbformat": 4,
 "nbformat_minor": 0
}