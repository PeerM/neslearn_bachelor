{
 "cells": [
  {
   "cell_type": "code",
   "execution_count": 10,
   "metadata": {
    "collapsed": true
   },
   "outputs": [],
   "source": [
    "%load_ext autoreload"
   ]
  },
  {
   "cell_type": "code",
   "execution_count": 11,
   "metadata": {
    "collapsed": true
   },
   "outputs": [],
   "source": [
    "%autoreload"
   ]
  },
  {
   "cell_type": "code",
   "execution_count": 1,
   "metadata": {
    "collapsed": false
   },
   "outputs": [
    {
     "name": "stdout",
     "output_type": "stream",
     "text": [
      "Python 3.4.2 (default, Oct  8 2014, 10:45:20) \n",
      "[GCC 4.9.1] on linux\n"
     ]
    }
   ],
   "source": [
    "import sys\n",
    "print('Python %s on %s' % (sys.version, sys.platform))\n",
    "sys.path.extend([\"/home/mathia/PycharmProjects/neslearn-git/\",\"/home/peer/PycharmProjects/neslearng/\"])"
   ]
  },
  {
   "cell_type": "code",
   "execution_count": 2,
   "metadata": {
    "collapsed": false
   },
   "outputs": [],
   "source": [
    "from hsa.tree_search import fceux_a_star\n",
    "from tqdm import tqdm_notebook\n",
    "from functools import partial\n",
    "from hsa.tree_search import heuristics"
   ]
  },
  {
   "cell_type": "code",
   "execution_count": 3,
   "metadata": {
    "collapsed": false
   },
   "outputs": [],
   "source": [
    "from extern.fceux_learningenv.nes_python_interface.nes_python_interface import NESInterface\n",
    "from hsa.machine_constants import mario_rom_location\n",
    "\n",
    "nes = NESInterface(mario_rom_location,eb_compatible=False)"
   ]
  },
  {
   "cell_type": "code",
   "execution_count": 17,
   "metadata": {
    "collapsed": true
   },
   "outputs": [],
   "source": [
    "config = fceux_a_star.ConfigPack(nes, render_search=False, nr_nodes_to_expand=20)"
   ]
  },
  {
   "cell_type": "code",
   "execution_count": 23,
   "metadata": {
    "collapsed": false
   },
   "outputs": [],
   "source": [
    "w = [ 36.0454073 ,   4.36050218,  17.36822846,  -0.58672081,  10.96647671]\n",
    "action_repeat = int(w[0])\n",
    "#ram, x_pos_resolution=1, x_pos_factor=1, shortcut_factor=1, height_factor=0, punishment_death=True,speed_factor=0\n",
    "heuristic_params = {\"x_pos_resolution\": w[1],\n",
    "                    \"x_pos_factor\": w[2],\n",
    "                    \"shortcut_factor\": w[2],\n",
    "                    \"height_factor\": w[3],\n",
    "                    \"speed_factor\": w[4]}\n",
    "heuristic = partial(heuristics.combined, **heuristic_params)\n",
    "config = fceux_a_star.ConfigPack(nes, heuristic=heuristic, action_repeat=action_repeat, nr_nodes_to_expand=200)"
   ]
  },
  {
   "cell_type": "code",
   "execution_count": 24,
   "metadata": {
    "collapsed": false
   },
   "outputs": [],
   "source": [
    "start = fceux_a_star.make_start(nes,config.heuristic, reset=True)"
   ]
  },
  {
   "cell_type": "code",
   "execution_count": 25,
   "metadata": {
    "collapsed": true
   },
   "outputs": [],
   "source": [
    "graph = fceux_a_star.AStarGraph(config)"
   ]
  },
  {
   "cell_type": "code",
   "execution_count": 26,
   "metadata": {
    "collapsed": false
   },
   "outputs": [
    {
     "name": "stdout",
     "output_type": "stream",
     "text": [
      "\n"
     ]
    },
    {
     "data": {
      "text/plain": [
       "MarioNode(potential:6412.85640454, action:0)"
      ]
     },
     "execution_count": 26,
     "metadata": {},
     "output_type": "execute_result"
    }
   ],
   "source": [
    "best = None\n",
    "for current_best in tqdm_notebook(fceux_a_star.best_first(start,graph,config),total=config.nr_nodes_to_expand):\n",
    "    best = current_best\n",
    "    nes.render()\n",
    "    #fceux_a_star.render_node(current_best,nes)\n",
    "best"
   ]
  },
  {
   "cell_type": "code",
   "execution_count": 13,
   "metadata": {
    "collapsed": false
   },
   "outputs": [],
   "source": [
    "nes.restoreState(start.state)\n",
    "for action, repeat in list(reversed(list(fceux_a_star.walk_nodes(best)))):\n",
    "    for i in range(repeat):\n",
    "        nes.act(action)\n",
    "        nes.render()\n"
   ]
  },
  {
   "cell_type": "markdown",
   "metadata": {},
   "source": [
    "## Debug analysis"
   ]
  },
  {
   "cell_type": "code",
   "execution_count": 9,
   "metadata": {
    "collapsed": true
   },
   "outputs": [
    {
     "data": {
      "text/plain": [
       "[MarioNode(id=2149157194268967603, potential=40, recv_reward=0, state=array([70, 67, 83, ...,  0,  0,  0], dtype=uint8)),\n",
       " MarioNode(id=2149157194270050128, potential=40, recv_reward=0, state=array([70, 67, 83, ...,  0,  0,  0], dtype=uint8)),\n",
       " MarioNode(id=2149157194271132653, potential=40, recv_reward=0, state=array([70, 67, 83, ...,  0,  0,  0], dtype=uint8)),\n",
       " MarioNode(id=2149157194251647203, potential=40, recv_reward=0, state=array([70, 67, 83, ...,  0,  0,  0], dtype=uint8)),\n",
       " MarioNode(id=2149157194407530803, potential=70, recv_reward=150, state=array([70, 67, 83, ...,  0,  0,  0], dtype=uint8)),\n",
       " MarioNode(id=2149157194338249203, potential=6, recv_reward=-165, state=array([70, 67, 83, ...,  0,  0,  0], dtype=uint8)),\n",
       " MarioNode(id=2149157194303608403, potential=40, recv_reward=0, state=array([70, 67, 83, ...,  0,  0,  0], dtype=uint8)),\n",
       " MarioNode(id=2149157194252729728, potential=40, recv_reward=0, state=array([70, 67, 83, ...,  0,  0,  0], dtype=uint8)),\n",
       " MarioNode(id=2149157194408613328, potential=70, recv_reward=150, state=array([70, 67, 83, ...,  0,  0,  0], dtype=uint8)),\n",
       " MarioNode(id=2149157194339331728, potential=0, recv_reward=-195, state=array([70, 67, 83, ...,  0,  0,  0], dtype=uint8)),\n",
       " MarioNode(id=2149157194304690928, potential=40, recv_reward=0, state=array([70, 67, 83, ...,  0,  0,  0], dtype=uint8)),\n",
       " MarioNode(id=2149157194253812253, potential=40, recv_reward=0, state=array([70, 67, 83, ...,  0,  0,  0], dtype=uint8)),\n",
       " MarioNode(id=2149157194409695853, potential=85, recv_reward=225, state=array([70, 67, 83, ...,  0,  0,  0], dtype=uint8)),\n",
       " MarioNode(id=2149157194340414253, potential=0, recv_reward=-195, state=array([70, 67, 83, ...,  0,  0,  0], dtype=uint8)),\n",
       " MarioNode(id=2149157194305773453, potential=40, recv_reward=0, state=array([70, 67, 83, ...,  0,  0,  0], dtype=uint8))]"
      ]
     },
     "execution_count": 9,
     "metadata": {},
     "output_type": "execute_result"
    }
   ],
   "source": [
    "graph.get_vertex_neighbours(start)"
   ]
  },
  {
   "cell_type": "code",
   "execution_count": 14,
   "metadata": {
    "collapsed": false
   },
   "outputs": [
    {
     "name": "stdout",
     "output_type": "stream",
     "text": [
      " "
     ]
    }
   ],
   "source": [
    "%prun graph.get_vertex_neighbours(start)"
   ]
  },
  {
   "cell_type": "code",
   "execution_count": 8,
   "metadata": {
    "collapsed": false
   },
   "outputs": [
    {
     "name": "stdout",
     "output_type": "stream",
     "text": [
      "1 loop, best of 3: 859 ms per loop\n"
     ]
    }
   ],
   "source": [
    "it_for_time = fceux_a_star.best_first(start,graph,config)\n",
    "%timeit next(it_for_time)"
   ]
  },
  {
   "cell_type": "code",
   "execution_count": 10,
   "metadata": {
    "collapsed": false
   },
   "outputs": [
    {
     "name": "stdout",
     "output_type": "stream",
     "text": [
      "1 loop, best of 3: 843 ms per loop\n"
     ]
    }
   ],
   "source": [
    "org_render = config.render_search\n",
    "config.render_search = False\n",
    "it_for_time = fceux_a_star.best_first(start,graph,config)\n",
    "%timeit next(it_for_time)\n",
    "config.render_search = org_render"
   ]
  },
  {
   "cell_type": "code",
   "execution_count": 16,
   "metadata": {
    "collapsed": false
   },
   "outputs": [
    {
     "data": {
      "text/plain": [
       "600"
      ]
     },
     "execution_count": 16,
     "metadata": {},
     "output_type": "execute_result"
    }
   ],
   "source": [
    "len(config.actions) * config.action_repeat"
   ]
  },
  {
   "cell_type": "code",
   "execution_count": 13,
   "metadata": {
    "collapsed": false
   },
   "outputs": [
    {
     "ename": "ValueError",
     "evalue": "The truth value of an array with more than one element is ambiguous. Use a.any() or a.all()",
     "output_type": "error",
     "traceback": [
      "\u001b[0;31m---------------------------------------------------------------------------\u001b[0m",
      "\u001b[0;31mValueError\u001b[0m                                Traceback (most recent call last)",
      "\u001b[0;32m<ipython-input-13-6fdc6e206e06>\u001b[0m in \u001b[0;36m<module>\u001b[0;34m()\u001b[0m\n\u001b[0;32m----> 1\u001b[0;31m \u001b[0mfceux_a_star\u001b[0m\u001b[0;34m.\u001b[0m\u001b[0mmake_start\u001b[0m\u001b[0;34m(\u001b[0m\u001b[0mnes\u001b[0m\u001b[0;34m,\u001b[0m\u001b[0mconfig\u001b[0m\u001b[0;34m.\u001b[0m\u001b[0mheuristic\u001b[0m\u001b[0;34m)\u001b[0m\u001b[0;34m>\u001b[0m\u001b[0mfceux_a_star\u001b[0m\u001b[0;34m.\u001b[0m\u001b[0mmake_start\u001b[0m\u001b[0;34m(\u001b[0m\u001b[0mnes\u001b[0m\u001b[0;34m,\u001b[0m\u001b[0mconfig\u001b[0m\u001b[0;34m.\u001b[0m\u001b[0mheuristic\u001b[0m\u001b[0;34m)\u001b[0m\u001b[0;34m\u001b[0m\u001b[0m\n\u001b[0m",
      "\u001b[0;31mValueError\u001b[0m: The truth value of an array with more than one element is ambiguous. Use a.any() or a.all()"
     ]
    }
   ],
   "source": [
    "fceux_a_star.make_start(nes,config.heuristic)>fceux_a_star.make_start(nes,config.heuristic)"
   ]
  },
  {
   "cell_type": "code",
   "execution_count": null,
   "metadata": {
    "collapsed": true
   },
   "outputs": [],
   "source": []
  }
 ],
 "metadata": {
  "kernelspec": {
   "display_name": "Python 3",
   "language": "python",
   "name": "python3"
  },
  "language_info": {
   "codemirror_mode": {
    "name": "ipython",
    "version": 3
   },
   "file_extension": ".py",
   "mimetype": "text/x-python",
   "name": "python",
   "nbconvert_exporter": "python",
   "pygments_lexer": "ipython3",
   "version": "3.4.2"
  },
  "widgets": {
   "state": {
    "40d8c67a487f438bbce13ac71431b493": {
     "views": [
      {
       "cell_index": 9
      }
     ]
    }
   },
   "version": "1.2.0"
  }
 },
 "nbformat": 4,
 "nbformat_minor": 0
}
