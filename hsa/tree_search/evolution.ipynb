{
 "cells": [
  {
   "cell_type": "code",
   "execution_count": 9,
   "metadata": {
    "collapsed": true
   },
   "outputs": [],
   "source": [
    "%load_ext autoreload"
   ]
  },
  {
   "cell_type": "code",
   "execution_count": 10,
   "metadata": {
    "collapsed": true
   },
   "outputs": [],
   "source": [
    "%autoreload"
   ]
  },
  {
   "cell_type": "code",
   "execution_count": 2,
   "metadata": {
    "collapsed": false
   },
   "outputs": [
    {
     "name": "stdout",
     "output_type": "stream",
     "text": [
      "Python 3.5.2 (default, Nov 17 2016, 17:05:23) \n",
      "[GCC 5.4.0 20160609] on linux\n"
     ]
    }
   ],
   "source": [
    "import sys\n",
    "print('Python %s on %s' % (sys.version, sys.platform))\n",
    "sys.path.extend([\"/home/mathia/PycharmProjects/neslearn-git/\",\"/home/peer/PycharmProjects/neslearng/\"])"
   ]
  },
  {
   "cell_type": "code",
   "execution_count": 3,
   "metadata": {
    "collapsed": false
   },
   "outputs": [],
   "source": [
    "import matplotlib.pyplot as plt\n",
    "import numpy as np\n",
    "from hsa.tree_search import fceux_a_star\n",
    "from tqdm import tqdm_notebook\n",
    "from functools import partial\n",
    "%matplotlib inline"
   ]
  },
  {
   "cell_type": "code",
   "execution_count": 4,
   "metadata": {
    "collapsed": true
   },
   "outputs": [],
   "source": [
    "from extern.fceux_learningenv.nes_python_interface.nes_python_interface import NESInterface\n",
    "from hsa.machine_constants import mario_rom_location\n",
    "from hsa.tree_search import heuristics\n",
    "\n",
    "nes = NESInterface(mario_rom_location,eb_compatible=False)"
   ]
  },
  {
   "cell_type": "code",
   "execution_count": 5,
   "metadata": {
    "collapsed": true
   },
   "outputs": [],
   "source": [
    "def w_to_config(w):\n",
    "    action_repeat = w[0]\n",
    "    #ram, x_pos_resolution=1, x_pos_factor=1, shortcut_factor=1, height_factor=0, punishment_death=True,speed_factor=0\n",
    "    heuristic_params = {\"x_pos_resolution\": w[1],\n",
    "                        \"x_pos_factor\": w[2],\n",
    "                        \"shortcut_factor\": w[2],\n",
    "                        \"height_factor\": w[3],\n",
    "                        \"speed_factor\": w[4]}\n",
    "    heuristic = partial(heuristics.combined, **heuristic_params)\n",
    "    return fceux_a_star.ConfigPack(nes, heuristic=heuristic, action_repeat=action_repeat, nr_nodes_to_expand=25)\n",
    "\n",
    "default_w = np.array([40, 5, 1, 0, 0])"
   ]
  },
  {
   "cell_type": "code",
   "execution_count": 13,
   "metadata": {
    "collapsed": true
   },
   "outputs": [],
   "source": [
    "def w_to_r(w):\n",
    "    config = w_to_config(w)\n",
    "    start = fceux_a_star.make_start(nes, config.heuristic, True)\n",
    "    graph = fceux_a_star.AStarGraph(config)\n",
    "    best = fceux_a_star.best_first_full(start, graph, config)\n",
    "    nes.restoreState(best.state)\n",
    "    ram  = nes.getRAM()\n",
    "    nes.render()\n",
    "    progress = heuristics.combined(ram)\n",
    "    return progress"
   ]
  },
  {
   "cell_type": "code",
   "execution_count": 19,
   "metadata": {
    "collapsed": false
   },
   "outputs": [
    {
     "name": "stdout",
     "output_type": "stream",
     "text": [
      "\n"
     ]
    },
    {
     "ename": "TypeError",
     "evalue": "Cannot cast ufunc subtract output from dtype('float64') to dtype('int64') with casting rule 'same_kind'",
     "output_type": "error",
     "traceback": [
      "\u001b[0;31m---------------------------------------------------------------------------\u001b[0m",
      "\u001b[0;31mTypeError\u001b[0m                                 Traceback (most recent call last)",
      "\u001b[0;32m<ipython-input-19-0d9f1125204f>\u001b[0m in \u001b[0;36m<module>\u001b[0;34m()\u001b[0m\n\u001b[1;32m     13\u001b[0m     \u001b[0;31m# draw estimated gradient as white arrow\u001b[0m\u001b[0;34m\u001b[0m\u001b[0;34m\u001b[0m\u001b[0m\n\u001b[1;32m     14\u001b[0m     \u001b[0mR\u001b[0m \u001b[0;34m=\u001b[0m \u001b[0mnp\u001b[0m\u001b[0;34m.\u001b[0m\u001b[0marray\u001b[0m\u001b[0;34m(\u001b[0m\u001b[0;34m[\u001b[0m\u001b[0mw_to_r\u001b[0m\u001b[0;34m(\u001b[0m\u001b[0mw\u001b[0m\u001b[0;34m)\u001b[0m \u001b[0;32mfor\u001b[0m \u001b[0mwi\u001b[0m \u001b[0;32min\u001b[0m \u001b[0mtqdm_notebook\u001b[0m\u001b[0;34m(\u001b[0m\u001b[0mwp\u001b[0m\u001b[0;34m)\u001b[0m\u001b[0;34m]\u001b[0m\u001b[0;34m)\u001b[0m  \u001b[0;31m# do the experiments here\u001b[0m\u001b[0;34m\u001b[0m\u001b[0m\n\u001b[0;32m---> 15\u001b[0;31m     \u001b[0mR\u001b[0m \u001b[0;34m-=\u001b[0m \u001b[0mR\u001b[0m\u001b[0;34m.\u001b[0m\u001b[0mmean\u001b[0m\u001b[0;34m(\u001b[0m\u001b[0;34m)\u001b[0m\u001b[0;34m\u001b[0m\u001b[0m\n\u001b[0m\u001b[1;32m     16\u001b[0m     \u001b[0mR\u001b[0m \u001b[0;34m/=\u001b[0m \u001b[0mR\u001b[0m\u001b[0;34m.\u001b[0m\u001b[0mstd\u001b[0m\u001b[0;34m(\u001b[0m\u001b[0;34m)\u001b[0m  \u001b[0;31m# standardize the rewards to be N(0,1) gaussian\u001b[0m\u001b[0;34m\u001b[0m\u001b[0m\n\u001b[1;32m     17\u001b[0m     \u001b[0mg\u001b[0m \u001b[0;34m=\u001b[0m \u001b[0mnp\u001b[0m\u001b[0;34m.\u001b[0m\u001b[0mdot\u001b[0m\u001b[0;34m(\u001b[0m\u001b[0mR\u001b[0m\u001b[0;34m,\u001b[0m \u001b[0mnoise\u001b[0m\u001b[0;34m)\u001b[0m\u001b[0;34m\u001b[0m\u001b[0m\n",
      "\u001b[0;31mTypeError\u001b[0m: Cannot cast ufunc subtract output from dtype('float64') to dtype('int64') with casting rule 'same_kind'"
     ]
    }
   ],
   "source": [
    "np.random.seed(3)\n",
    "nn = 4  # number of steps to take (and plot horizontally)\n",
    "alpha = 0.03  # learning rate\n",
    "sigma = 6  # standard deviation of the samples around current parameter vector\n",
    "\n",
    "w = np.array(default_w)  # start point\n",
    "\n",
    "for q in range(nn):\n",
    "    # draw a population of samples in black\n",
    "    noise = np.random.randn(20, w.shape[0])  # second value should be w.shape[0]\n",
    "    wp = np.expand_dims(w, 0) + sigma * noise\n",
    "\n",
    "    # draw estimated gradient as white arrow\n",
    "    R = np.array([w_to_r(w) for wi in tqdm_notebook(wp)])  # do the experiments here\n",
    "    R -= R.mean()\n",
    "    R /= R.std()  # standardize the rewards to be N(0,1) gaussian\n",
    "    g = np.dot(R, noise)\n",
    "    u = alpha * g\n",
    "\n",
    "    w += u"
   ]
  },
  {
   "cell_type": "code",
   "execution_count": 12,
   "metadata": {
    "collapsed": false
   },
   "outputs": [
    {
     "name": "stdout",
     "output_type": "stream",
     "text": [
      "\n"
     ]
    },
    {
     "data": {
      "text/plain": [
       "[1925.0, 1925.0]"
      ]
     },
     "execution_count": 12,
     "metadata": {},
     "output_type": "execute_result"
    }
   ],
   "source": [
    "[w_to_r(w) for wi in tqdm_notebook(wp)]"
   ]
  },
  {
   "cell_type": "code",
   "execution_count": 15,
   "metadata": {
    "collapsed": false
   },
   "outputs": [
    {
     "data": {
      "text/plain": [
       "1925.0"
      ]
     },
     "execution_count": 15,
     "metadata": {},
     "output_type": "execute_result"
    }
   ],
   "source": [
    "np.array([1925.0, 1925.0]).mean()"
   ]
  },
  {
   "cell_type": "code",
   "execution_count": 18,
   "metadata": {
    "collapsed": false
   },
   "outputs": [
    {
     "data": {
      "text/plain": [
       "array([[ 45.36588542,   6.30952955,   1.2894924 ,  -5.59047811,\n",
       "         -0.83216461],\n",
       "       [ 38.93572306,   4.75177556,  -0.88100203,  -0.13145451,\n",
       "         -1.43165409]])"
      ]
     },
     "execution_count": 18,
     "metadata": {},
     "output_type": "execute_result"
    }
   ],
   "source": [
    "wp"
   ]
  },
  {
   "cell_type": "code",
   "execution_count": 5,
   "metadata": {
    "collapsed": true
   },
   "outputs": [
    {
     "data": {
      "text/plain": [
       "array([[ -1.35789828e+00,   5.33485331e-01],\n",
       "       [  8.84767191e-01,   7.15462710e-01],\n",
       "       [  1.63159694e-01,   5.48982232e-01],\n",
       "       [ -1.21919001e+00,   3.19453770e-01],\n",
       "       [  1.11802724e+00,   3.24890086e-01],\n",
       "       [ -1.13531043e-01,   4.44032556e-01],\n",
       "       [ -1.11173770e+00,   1.41814082e-01],\n",
       "       [  4.17275560e-01,   1.78576431e+00],\n",
       "       [ -2.29424963e+00,   4.50509031e-01],\n",
       "       [  1.09410286e-02,   1.16640512e-01],\n",
       "       [  1.00663668e+00,   1.33712722e+00],\n",
       "       [ -1.35287760e-02,  -7.84740209e-01],\n",
       "       [ -3.04215495e-01,  -4.44776856e-01],\n",
       "       [  1.83519150e-02,  -4.57325806e-01],\n",
       "       [  1.13967656e+00,   1.48332807e+00],\n",
       "       [  1.09243523e+00,   8.98508432e-01],\n",
       "       [  9.21377681e-01,   8.27451013e-01],\n",
       "       [  3.89413101e-01,   7.36201393e-01],\n",
       "       [  7.98114985e-01,   7.05204460e-01],\n",
       "       [  1.64269758e+00,   1.29333130e+00],\n",
       "       [ -6.27348251e-01,  -6.89519418e-01],\n",
       "       [ -1.81920082e+00,  -1.20001001e-01],\n",
       "       [ -1.19951093e+00,   1.07211643e+00],\n",
       "       [  1.44860533e+00,   6.73108765e-01],\n",
       "       [  5.87424510e-01,   1.38636101e+00],\n",
       "       [  8.92515115e-01,  -5.22254116e-01],\n",
       "       [  1.58645509e+00,  -9.02505552e-01],\n",
       "       [ -1.41367459e+00,   1.22489704e+00],\n",
       "       [ -5.81345033e-01,  -4.87543024e-01],\n",
       "       [ -1.74449561e+00,  -2.54862244e-01],\n",
       "       [  2.18047612e-01,  -9.51206770e-01],\n",
       "       [  3.49262905e-01,   1.00371188e+00],\n",
       "       [ -3.64439793e-01,   6.13547663e-01],\n",
       "       [  1.09163612e+00,  -3.82992966e-01],\n",
       "       [ -5.42540663e-02,   6.08071931e-01],\n",
       "       [ -9.55496466e-01,   5.01778937e-01],\n",
       "       [  2.28361827e+00,  -1.17118890e-01],\n",
       "       [  1.74228687e-01,   8.88120580e-01],\n",
       "       [  1.56381655e+00,  -8.18291351e-01],\n",
       "       [  7.11719253e-01,  -8.50837117e-01],\n",
       "       [ -1.67896165e+00,   1.44379727e+00],\n",
       "       [ -4.64525122e-01,   4.04815417e-01],\n",
       "       [  4.64131479e-01,  -7.33633666e-01],\n",
       "       [  1.18704335e+00,  -1.89772460e-01],\n",
       "       [ -1.47218786e+00,   1.31433443e+00],\n",
       "       [  9.95261210e-01,   1.61426061e-01],\n",
       "       [  5.50330028e-01,  -3.90646080e-03],\n",
       "       [  2.11521931e+00,   8.19001966e-01],\n",
       "       [  3.05936311e-01,   5.04741848e-01],\n",
       "       [  4.02148424e-01,   1.36013310e+00],\n",
       "       [ -5.20655169e-01,  -6.47746630e-01],\n",
       "       [ -6.18440561e-01,  -4.87155315e-01],\n",
       "       [ -3.38196798e-01,  -1.45999394e+00],\n",
       "       [  3.31566099e-01,   9.58169923e-01],\n",
       "       [ -7.66697646e-01,   4.05895027e-01],\n",
       "       [  1.36647033e-01,  -2.32727997e-01],\n",
       "       [  1.42511018e+00,  -9.63880001e-01],\n",
       "       [  7.88415378e-01,   7.03504028e-01],\n",
       "       [  3.85258791e-01,   2.14845335e-01],\n",
       "       [  7.51515350e-01,   4.10737426e-01],\n",
       "       [ -5.42609081e-01,  -1.24815139e-01],\n",
       "       [ -1.79570862e+00,  -3.41036730e-01],\n",
       "       [ -8.10423959e-02,   9.65496061e-01],\n",
       "       [ -5.77000410e-01,   9.10986068e-01],\n",
       "       [ -4.90516189e-02,   1.65599124e-02],\n",
       "       [  1.41633355e+00,   1.55652305e-01],\n",
       "       [ -1.29558272e+00,   2.86643855e-01],\n",
       "       [ -1.29765455e+00,  -1.42186374e+00],\n",
       "       [  9.39861792e-01,   5.55286513e-03],\n",
       "       [  3.58770200e-01,  -1.75691582e-03],\n",
       "       [ -1.24618664e+00,   9.68424409e-01],\n",
       "       [ -7.90493788e-02,   1.53491692e+00],\n",
       "       [ -1.91333897e+00,  -5.42191852e-01],\n",
       "       [ -1.10725592e-03,   2.40636798e-01],\n",
       "       [ -2.18213631e-01,   1.61111550e+00],\n",
       "       [  3.01304682e-01,   1.54397250e-01],\n",
       "       [ -9.66447501e-01,  -1.44629405e+00],\n",
       "       [  1.07751970e+00,   8.02372101e-01],\n",
       "       [  2.55291828e+00,  -1.89962531e-01],\n",
       "       [  8.52677111e-01,   1.18128808e+00],\n",
       "       [  7.39812015e-01,  -6.75220510e-01],\n",
       "       [ -1.14932406e+00,   1.55002250e-01],\n",
       "       [  5.02781320e-01,  -3.67592592e-01],\n",
       "       [ -4.26062962e-01,  -9.99548999e-02],\n",
       "       [  3.52460802e-01,  -1.32119943e+00],\n",
       "       [ -5.59280728e-01,   1.47826376e+00],\n",
       "       [  5.81558476e-01,   1.16546113e+00],\n",
       "       [  4.34700334e-01,  -3.63430450e-01],\n",
       "       [  1.14263389e+00,  -7.19473206e-01],\n",
       "       [ -9.57948248e-01,  -5.16167298e-01],\n",
       "       [  6.94664521e-01,   6.07236157e-01],\n",
       "       [ -2.23227250e-02,  -1.46470151e-01],\n",
       "       [ -3.88763612e-01,  -2.57643840e+00],\n",
       "       [ -4.06399768e-01,  -1.06244517e+00],\n",
       "       [ -5.63052147e-01,  -6.03853388e-01],\n",
       "       [ -4.89910229e-01,   4.37255813e-01],\n",
       "       [ -3.78103274e-02,  -7.45161440e-04],\n",
       "       [ -1.26184709e-01,   5.47861759e-01],\n",
       "       [ -4.72488814e-01,   1.28675062e+00],\n",
       "       [  5.23708824e-01,  -1.71186322e-01],\n",
       "       [ -3.13895629e-01,   1.30688792e+00],\n",
       "       [  3.47998649e-01,  -8.15028011e-01],\n",
       "       [  5.47677179e-01,  -3.97058137e-01],\n",
       "       [  6.45420952e-01,   6.93044340e-01],\n",
       "       [  8.94680019e-02,  -1.14154614e+00],\n",
       "       [ -1.07438448e+00,   1.14742770e+00],\n",
       "       [ -5.11879071e-01,   1.01720617e+00],\n",
       "       [ -1.70475435e+00,   4.49992266e-01],\n",
       "       [ -3.15058950e-01,   1.15921422e+00],\n",
       "       [  2.57662994e+00,  -9.52606657e-01],\n",
       "       [  9.76841531e-01,   1.10429762e+00],\n",
       "       [ -5.80300380e-01,   2.73887120e-01],\n",
       "       [ -1.08910293e-01,  -2.91055668e-01],\n",
       "       [  3.71431933e-01,  -1.09632195e-01],\n",
       "       [ -1.84419750e-01,   7.78525220e-01],\n",
       "       [ -4.73379368e-01,  -1.11317285e+00],\n",
       "       [ -3.65175099e-01,  -3.70208231e-01],\n",
       "       [ -7.18960336e-01,  -1.11298338e+00],\n",
       "       [  1.49223463e+00,   1.93321796e+00],\n",
       "       [  3.78091471e-01,   4.24250125e-01],\n",
       "       [  1.39201944e-01,   2.60240945e-02],\n",
       "       [  5.68918318e-01,  -9.78688179e-01],\n",
       "       [  1.01368487e+00,   2.17853895e-01],\n",
       "       [ -1.51438338e+00,  -3.96768208e-01],\n",
       "       [ -8.45574332e-02,   6.12764989e-01],\n",
       "       [ -2.39465290e-01,   9.96877100e-01],\n",
       "       [ -5.99816431e-01,   1.21156269e+00],\n",
       "       [ -3.89952127e-01,  -7.04992975e-01],\n",
       "       [  2.01871088e+00,  -5.55777844e-01],\n",
       "       [ -1.02352806e+00,  -1.09073920e+00],\n",
       "       [  3.01420674e-01,  -3.22269742e-01],\n",
       "       [  1.43095543e+00,  -8.91071644e-01],\n",
       "       [ -5.30077530e-01,  -7.48771515e-02],\n",
       "       [  1.01780542e+00,  -6.58688390e-01],\n",
       "       [  1.85539173e-01,  -6.85520856e-01],\n",
       "       [ -2.62652020e+00,   2.17993506e-01],\n",
       "       [ -1.24718214e+00,  -9.14351374e-01],\n",
       "       [ -7.21288797e-01,  -2.17235240e+00],\n",
       "       [  3.43438913e-01,   1.39693875e+00],\n",
       "       [  2.34566906e+00,   2.92140933e-01],\n",
       "       [ -1.64366928e+00,  -1.34846735e+00],\n",
       "       [  1.28415622e+00,  -1.22421418e+00],\n",
       "       [ -5.14355964e-01,   2.52610525e-01],\n",
       "       [ -1.19798202e+00,   6.03937685e-01],\n",
       "       [  1.23376281e-01,  -1.28687789e-01],\n",
       "       [ -1.87671461e-01,  -6.66495202e-01],\n",
       "       [  2.53241295e-01,  -1.76407055e+00],\n",
       "       [  1.19343605e+00,  -4.67919154e-01],\n",
       "       [  2.54905659e-01,   1.67154415e+00],\n",
       "       [ -1.70773126e+00,   7.99860021e-02],\n",
       "       [  2.43023072e-01,  -2.09311994e-01],\n",
       "       [  9.29958168e-01,   1.58864374e+00],\n",
       "       [ -6.18564394e-01,  -3.87477379e-01],\n",
       "       [ -1.53939146e+00,  -1.88366905e-01],\n",
       "       [  7.85490275e-03,   6.18710964e-01],\n",
       "       [ -5.17653504e-01,  -8.29481371e-01],\n",
       "       [  1.56648316e-01,  -8.35554109e-01],\n",
       "       [ -5.77301956e-01,   1.47326264e+00],\n",
       "       [ -7.81619990e-02,   4.20378575e-02],\n",
       "       [  8.17184876e-01,   5.70061291e-01],\n",
       "       [ -2.15312642e-01,   1.74790662e-01],\n",
       "       [ -1.16799232e+00,   7.58088801e-01],\n",
       "       [ -8.13976484e-01,   1.12788274e-01],\n",
       "       [ -4.11708775e-01,   1.39830707e+00],\n",
       "       [ -1.69412792e+00,  -1.69699160e-03],\n",
       "       [  8.50254307e-02,  -8.40045353e-01],\n",
       "       [  1.23763202e+00,   2.66830352e-01],\n",
       "       [  1.97120496e-02,  -4.71082954e-01],\n",
       "       [  4.80638789e-01,  -6.91818915e-01],\n",
       "       [  2.05053143e-01,   7.20355721e-01],\n",
       "       [ -3.86962885e-01,  -9.52438678e-01],\n",
       "       [ -1.70373739e-01,  -2.37549371e-01],\n",
       "       [ -2.20812658e-01,  -8.66162625e-01],\n",
       "       [  1.22379376e+00,   1.26028235e+00],\n",
       "       [ -9.02210029e-01,   7.55762218e-01],\n",
       "       [  8.35957593e-02,  -2.16540568e+00],\n",
       "       [  1.05360797e-01,   3.82833879e-02],\n",
       "       [  1.55851082e+00,   3.41420578e-01],\n",
       "       [ -4.97894576e-01,  -2.68061301e-01],\n",
       "       [ -4.46377794e-01,   1.07173389e+00],\n",
       "       [ -9.24764549e-01,   6.02859981e-01],\n",
       "       [  1.98182177e+00,   5.12546966e-01],\n",
       "       [ -6.16787527e-01,   3.28278617e-01],\n",
       "       [  5.24593893e-01,   2.04682169e+00],\n",
       "       [  9.06914686e-01,   1.76117139e+00],\n",
       "       [ -3.20925021e+00,  -2.35192566e-01],\n",
       "       [  3.24106579e-01,   2.79482389e-01],\n",
       "       [ -6.47240212e-02,   4.03994023e-01],\n",
       "       [ -9.06630495e-01,   5.61626807e-01],\n",
       "       [ -6.73392277e-01,   9.44529185e-01],\n",
       "       [ -1.93999109e+00,  -5.55116599e-01],\n",
       "       [ -4.00752769e-01,   5.77209722e-01],\n",
       "       [ -1.14784026e+00,   1.17889344e+00],\n",
       "       [ -8.15574322e-01,  -1.14444969e+00],\n",
       "       [ -7.77755151e-01,  -7.79757944e-01],\n",
       "       [ -1.25735626e+00,  -7.77339685e-01],\n",
       "       [ -6.91571590e-01,  -2.34791426e+00],\n",
       "       [  8.43814771e-01,  -1.40015119e+00],\n",
       "       [ -3.42792109e-01,  -1.81220636e-02],\n",
       "       [  1.18396774e+00,   6.65683667e-01]])"
      ]
     },
     "execution_count": 5,
     "metadata": {},
     "output_type": "execute_result"
    }
   ],
   "source": [
    "np.random.randn(200, 2)"
   ]
  },
  {
   "cell_type": "code",
   "execution_count": 6,
   "metadata": {
    "collapsed": true
   },
   "outputs": [
    {
     "data": {
      "text/plain": [
       "MarioNode(id='astart', potential=8, recv_reward=0, state=array([70, 67, 83, ...,  0,  0,  0], dtype=uint8))"
      ]
     },
     "execution_count": 6,
     "metadata": {},
     "output_type": "execute_result"
    }
   ],
   "source": [
    "fceux_a_star.make_start(nes,w_to_config(default_w).heuristic,True)"
   ]
  },
  {
   "cell_type": "code",
   "execution_count": null,
   "metadata": {
    "collapsed": true
   },
   "outputs": [],
   "source": []
  }
 ],
 "metadata": {
  "anaconda-cloud": {},
  "kernelspec": {
   "display_name": "Python 3",
   "language": "python",
   "name": "python3"
  },
  "language_info": {
   "codemirror_mode": {
    "name": "ipython",
    "version": 3
   },
   "file_extension": ".py",
   "mimetype": "text/x-python",
   "name": "python",
   "nbconvert_exporter": "python",
   "pygments_lexer": "ipython3",
   "version": "3.5.2"
  },
  "widgets": {
   "state": {
    "daa65fac46064519bb21190c77a0b539": {
     "views": [
      {
       "cell_index": 7
      }
     ]
    },
    "e875db58e4034453a8ea75e2ba84175c": {
     "views": [
      {
       "cell_index": 8
      }
     ]
    }
   },
   "version": "1.2.0"
  }
 },
 "nbformat": 4,
 "nbformat_minor": 0
}
