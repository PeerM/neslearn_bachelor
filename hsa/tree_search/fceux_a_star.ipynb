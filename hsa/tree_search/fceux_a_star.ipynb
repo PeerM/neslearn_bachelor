{
 "cells": [
  {
   "cell_type": "code",
   "execution_count": 1,
   "metadata": {
    "collapsed": false
   },
   "outputs": [
    {
     "name": "stdout",
     "output_type": "stream",
     "text": [
      "Python 3.4.2 (default, Oct  8 2014, 10:45:20) \n",
      "[GCC 4.9.1] on linux\n"
     ]
    }
   ],
   "source": [
    "import sys\n",
    "print('Python %s on %s' % (sys.version, sys.platform))\n",
    "sys.path.extend([\"/home/mathia/PycharmProjects/neslearn-git/\"])"
   ]
  },
  {
   "cell_type": "code",
   "execution_count": 2,
   "metadata": {
    "collapsed": true
   },
   "outputs": [],
   "source": [
    "% load_ext autoreload"
   ]
  },
  {
   "cell_type": "code",
   "execution_count": 3,
   "metadata": {
    "collapsed": true
   },
   "outputs": [],
   "source": [
    "%autoreload"
   ]
  },
  {
   "cell_type": "code",
   "execution_count": 5,
   "metadata": {
    "collapsed": false
   },
   "outputs": [
    {
     "name": "stdout",
     "output_type": "stream",
     "text": [
      "/home/mathia/PycharmProjects/neslearn-git/hsa/tree_search/a_star\n"
     ]
    }
   ],
   "source": [
    "# change into a sub dir to make file spam less anoying\n",
    "%cd a_star"
   ]
  },
  {
   "cell_type": "code",
   "execution_count": 4,
   "metadata": {
    "collapsed": false
   },
   "outputs": [],
   "source": [
    "from extern.fceux_learningenv.nes_python_interface.nes_python_interface import NESInterface\n",
    "from hsa.machine_constants import mario_rom_location\n",
    "from hsa.tree_search import heuristics\n",
    "from collections import namedtuple\n",
    "import heapq\n",
    "from hsa.tree_search.heap import Heap\n",
    "import pandas\n",
    "import math"
   ]
  },
  {
   "cell_type": "code",
   "execution_count": 6,
   "metadata": {
    "collapsed": true
   },
   "outputs": [],
   "source": [
    "nes = NESInterface(mario_rom_location,eb_compatible=False)"
   ]
  },
  {
   "cell_type": "code",
   "execution_count": 7,
   "metadata": {
    "collapsed": true
   },
   "outputs": [],
   "source": [
    "# nes.act(0)\n",
    "# nes.render()\n",
    "nes.reset_game()\n",
    "nes.render()"
   ]
  },
  {
   "cell_type": "code",
   "execution_count": 25,
   "metadata": {
    "collapsed": true
   },
   "outputs": [],
   "source": [
    "actions = nes.getMinimalActionSet()\n",
    "breath = len(actions)\n",
    "depth = 32\n",
    "action_repeat = 40\n",
    "master_heuristic = heuristics.dont_die"
   ]
  },
  {
   "cell_type": "code",
   "execution_count": 9,
   "metadata": {
    "collapsed": true
   },
   "outputs": [],
   "source": [
    "MarioNode = namedtuple(\"MarioNode\",[\"id\",\"potential\",\"recv_reward\"])"
   ]
  },
  {
   "cell_type": "code",
   "execution_count": 10,
   "metadata": {
    "collapsed": true
   },
   "outputs": [],
   "source": [
    "def id_to_filename(id):\n",
    "    return \"a{}\".format(id).encode()"
   ]
  },
  {
   "cell_type": "code",
   "execution_count": 11,
   "metadata": {
    "collapsed": true
   },
   "outputs": [],
   "source": [
    "render_search = True\n",
    "class AStarGraph(object):\n",
    "    # Define a class board like grid with two barriers\n",
    "\n",
    "    def __init__(self,max_heurisic = 14):\n",
    "        self.max_heurisic = max_heurisic\n",
    "\n",
    "    def heuristic(self, start):\n",
    "        return max_heurisic - start.potential \n",
    "\n",
    "    def get_vertex_neighbours(self, pos):\n",
    "        n = []\n",
    "        for action in actions:\n",
    "            nes.restoreShapshot(id_to_filename(pos.id))\n",
    "            reward_for_action = sum([nes.act(action) for i in range(action_repeat)])\n",
    "            if render_search:\n",
    "                nes.render()\n",
    "            new_id = hash((pos.id,action))\n",
    "            new_potential = master_heuristic(nes.getRAM())\n",
    "            nes.getSnapshot(id_to_filename(new_id))\n",
    "            n.append(MarioNode(id=new_id,potential=new_potential,recv_reward=reward_for_action))\n",
    "        return n\n",
    "\n",
    "    # should this be the reward?\n",
    "    def move_cost(self, a, b):\n",
    "        for barrier in self.barriers:\n",
    "            if b in barrier:\n",
    "                return 100  # Extremely high cost to enter barrier squares\n",
    "        return 1  # Normal movement cost"
   ]
  },
  {
   "cell_type": "markdown",
   "metadata": {},
   "source": [
    "Look at the AStarGraph"
   ]
  },
  {
   "cell_type": "code",
   "execution_count": 12,
   "metadata": {
    "collapsed": false
   },
   "outputs": [],
   "source": [
    "def make_start(reset = False):\n",
    "    if reset:\n",
    "        nes.reset_game()\n",
    "        for i in range(160):\n",
    "            nes.act(0)\n",
    "    reward = nes.act(0)\n",
    "    nes.getSnapshot(id_to_filename(\"astart\"))\n",
    "    potential = master_heuristic(nes.getRAM())\n",
    "    return MarioNode(id=\"astart\",potential=potential,recv_reward=reward)"
   ]
  },
  {
   "cell_type": "code",
   "execution_count": 13,
   "metadata": {
    "collapsed": false
   },
   "outputs": [
    {
     "data": {
      "text/plain": [
       "MarioNode(id='astart', potential=40, recv_reward=0)"
      ]
     },
     "execution_count": 13,
     "metadata": {},
     "output_type": "execute_result"
    }
   ],
   "source": [
    "start_node = make_start(True)\n",
    "nes.render()\n",
    "start_node"
   ]
  },
  {
   "cell_type": "code",
   "execution_count": 14,
   "metadata": {
    "collapsed": true
   },
   "outputs": [],
   "source": [
    "graph = AStarGraph()"
   ]
  },
  {
   "cell_type": "code",
   "execution_count": 127,
   "metadata": {
    "collapsed": true
   },
   "outputs": [
    {
     "data": {
      "text/plain": [
       "[MarioNode(id=-4600203454125191374, potential=40, recv_reward=0),\n",
       " MarioNode(id=-4600203454126273899, potential=40, recv_reward=0),\n",
       " MarioNode(id=-4600203454127356424, potential=40, recv_reward=0),\n",
       " MarioNode(id=-4600203454107870974, potential=40, recv_reward=0),\n",
       " MarioNode(id=-4600203454263754574, potential=42, recv_reward=10),\n",
       " MarioNode(id=-4600203454194472974, potential=37, recv_reward=-25),\n",
       " MarioNode(id=-4600203454159832174, potential=40, recv_reward=15),\n",
       " MarioNode(id=-4600203454108953499, potential=40, recv_reward=0),\n",
       " MarioNode(id=-4600203454264837099, potential=42, recv_reward=10),\n",
       " MarioNode(id=-4600203454195555499, potential=35, recv_reward=-35),\n",
       " MarioNode(id=-4600203454160914699, potential=40, recv_reward=25),\n",
       " MarioNode(id=-4600203454110036024, potential=40, recv_reward=0),\n",
       " MarioNode(id=-4600203454265919624, potential=42, recv_reward=10),\n",
       " MarioNode(id=-4600203454196638024, potential=36, recv_reward=-30),\n",
       " MarioNode(id=-4600203454161997224, potential=40, recv_reward=20)]"
      ]
     },
     "execution_count": 127,
     "metadata": {},
     "output_type": "execute_result"
    }
   ],
   "source": [
    "graph.get_vertex_neighbours(start_node)"
   ]
  },
  {
   "cell_type": "code",
   "execution_count": 30,
   "metadata": {
    "collapsed": false
   },
   "outputs": [
    {
     "name": "stdout",
     "output_type": "stream",
     "text": [
      "10 loops, best of 3: 92.6 ms per loop\n"
     ]
    }
   ],
   "source": [
    "%timeit graph.get_vertex_neighbours(start_node)"
   ]
  },
  {
   "cell_type": "code",
   "execution_count": 38,
   "metadata": {
    "collapsed": false
   },
   "outputs": [
    {
     "name": "stdout",
     "output_type": "stream",
     "text": [
      "mkdir: das Verzeichnis „/tmp/mathia_treesearch/“ kann nicht angelegt werden: Die Datei existiert bereits\n",
      "/tmp/mathia_treesearch\n",
      "10 loops, best of 3: 98.4 ms per loop\n",
      "[Errno 2] No such file or directory: 'here'\n",
      "/tmp/mathia_treesearch\n"
     ]
    }
   ],
   "source": [
    "# is it faster in the temp dir\n",
    "here = !pwd\n",
    "%mkdir /tmp/mathia_treesearch/\n",
    "%cd /tmp/mathia_treesearch/\n",
    "%timeit graph.get_vertex_neighbours(start_node)\n",
    "%cd {here[0]}\n",
    "# doesn't seem like it"
   ]
  },
  {
   "cell_type": "code",
   "execution_count": 15,
   "metadata": {
    "collapsed": true
   },
   "outputs": [],
   "source": [
    "def render_node(node):\n",
    "    nes.restoreShapshot(id_to_filename(node.id))\n",
    "    nes.render()"
   ]
  },
  {
   "cell_type": "markdown",
   "metadata": {},
   "source": [
    "## More Primitiv Best First Search"
   ]
  },
  {
   "cell_type": "code",
   "execution_count": 16,
   "metadata": {
    "collapsed": false
   },
   "outputs": [],
   "source": [
    "nr_nodes_to_search = 100\n",
    "seen_nodes = []\n",
    "def best_first(start, graph):\n",
    "    # this potential transformation should probably be some where else\n",
    "    candidates = Heap([start],lambda node: -math.floor(node.potential/25))\n",
    "    best_seen = MarioNode(id=None,potential=0,recv_reward=0)\n",
    "    for i in range(nr_nodes_to_search):\n",
    "        best_candidate = candidates.pop()\n",
    "        for child in graph.get_vertex_neighbours(best_candidate):\n",
    "            candidates.push(child)\n",
    "            seen_nodes.append(child)\n",
    "            if child.potential > best_seen.potential:\n",
    "                best_seen = child\n",
    "    return best_seen\n",
    "            "
   ]
  },
  {
   "cell_type": "code",
   "execution_count": 26,
   "metadata": {
    "collapsed": false
   },
   "outputs": [
    {
     "data": {
      "text/plain": [
       "MarioNode(id=4745316327722219435, potential=2593, recv_reward=60)"
      ]
     },
     "execution_count": 26,
     "metadata": {},
     "output_type": "execute_result"
    }
   ],
   "source": [
    "search_result = best_first(start_node,graph)\n",
    "search_result"
   ]
  },
  {
   "cell_type": "code",
   "execution_count": 31,
   "metadata": {
    "collapsed": true
   },
   "outputs": [],
   "source": [
    "render_node(search_result)\n",
    "for i in range(30):\n",
    "    nes.act(0)\n",
    "    nes.render()"
   ]
  },
  {
   "cell_type": "code",
   "execution_count": 19,
   "metadata": {
    "collapsed": false
   },
   "outputs": [
    {
     "data": {
      "text/plain": [
       "False    1500\n",
       "Name: id, dtype: int64"
      ]
     },
     "execution_count": 19,
     "metadata": {},
     "output_type": "execute_result"
    }
   ],
   "source": [
    "pandas.DataFrame(seen_nodes)[\"id\"].duplicated().value_counts()"
   ]
  },
  {
   "cell_type": "markdown",
   "metadata": {},
   "source": [
    "## A Star Search"
   ]
  },
  {
   "cell_type": "code",
   "execution_count": null,
   "metadata": {
    "collapsed": true
   },
   "outputs": [],
   "source": [
    "def a_star_search(start, graph):\n",
    "    G = {}  # Actual movement cost to each position from the start position\n",
    "    F = {}  # Estimated movement cost of start to end going via this position\n",
    "\n",
    "    # Initialize starting values\n",
    "    G[start] = 0\n",
    "    F[start] = graph.heuristic(start)\n",
    "\n",
    "    closedVertices = set()\n",
    "    openVertices = set([start])\n",
    "    cameFrom = {}\n",
    "\n",
    "    while len(openVertices) > 0:\n",
    "        # Get the vertex in the open list with the lowest F score\n",
    "        current = None\n",
    "        currentFscore = None\n",
    "        for pos in openVertices:\n",
    "            if current is None or F[pos] < currentFscore:\n",
    "                currentFscore = F[pos]\n",
    "                current = pos\n",
    "\n",
    "                # Check if we have reached the goal\n",
    "        if current == end:\n",
    "            # Retrace our route backward\n",
    "            path = [current]\n",
    "            while current in cameFrom:\n",
    "                current = cameFrom[current]\n",
    "                path.append(current)\n",
    "            path.reverse()\n",
    "            return path, F[end]  # Done!\n",
    "\n",
    "            # Mark the current vertex as closed\n",
    "        openVertices.remove(current)\n",
    "        closedVertices.add(current)\n",
    "\n",
    "        # Update scores for vertices near the current position\n",
    "        for neighbour in graph.get_vertex_neighbours(current):\n",
    "            if neighbour in closedVertices:\n",
    "                continue  # We have already processed this node exhaustively\n",
    "            candidateG = G[current] + graph.move_cost(current, neighbour)\n",
    "\n",
    "            if neighbour not in openVertices:\n",
    "                openVertices.add(neighbour)  # Discovered a new vertex\n",
    "            elif candidateG >= G[neighbour]:\n",
    "                continue  # This G score is worse than previously found\n",
    "\n",
    "                # Adopt this G score\n",
    "            cameFrom[neighbour] = current\n",
    "            G[neighbour] = candidateG\n",
    "            H = graph.heuristic(neighbour, end)\n",
    "            F[neighbour] = G[neighbour] + H\n",
    "\n",
    "    raise RuntimeError(\"A* failed to find a solution\")"
   ]
  },
  {
   "cell_type": "markdown",
   "metadata": {},
   "source": [
    "### Old code for refrence"
   ]
  },
  {
   "cell_type": "code",
   "execution_count": 23,
   "metadata": {
    "collapsed": true
   },
   "outputs": [],
   "source": [
    "def search():\n",
    "    best_action = 0\n",
    "    best_reward = 0\n",
    "    reward_sum = 0\n",
    "    for itteration in range(depth):\n",
    "        nes.getSnapshot(b\"search\")\n",
    "        for action in actions:\n",
    "            nes.restoreShapshot(b\"search\")\n",
    "            current_reward = sum([nes.act(action) for i in range(action_repeat)])\n",
    "            if current_reward > best_reward:\n",
    "                best_action = action\n",
    "                best_reward = current_reward\n",
    "        nes.restoreShapshot(b\"search\")\n",
    "        #print(\"Action: {}, Reward: {}\".format(best_action,best_reward))\n",
    "        for i in range(action_repeat):\n",
    "            reward_sum += nes.act(best_action)\n",
    "            nes.render()\n",
    "        best_action = 0\n",
    "        best_reward = 0\n",
    "    return reward_sum"
   ]
  },
  {
   "cell_type": "code",
   "execution_count": 24,
   "metadata": {
    "collapsed": false
   },
   "outputs": [
    {
     "data": {
      "text/plain": [
       "1950"
      ]
     },
     "execution_count": 24,
     "metadata": {},
     "output_type": "execute_result"
    }
   ],
   "source": [
    "nes.reset_game()\n",
    "search()"
   ]
  },
  {
   "cell_type": "code",
   "execution_count": 16,
   "metadata": {
    "collapsed": false
   },
   "outputs": [
    {
     "data": {
      "text/plain": [
       "0"
      ]
     },
     "execution_count": 16,
     "metadata": {},
     "output_type": "execute_result"
    }
   ],
   "source": [
    "search()"
   ]
  },
  {
   "cell_type": "markdown",
   "metadata": {},
   "source": [
    "### TODO"
   ]
  },
  {
   "cell_type": "markdown",
   "metadata": {
    "collapsed": true
   },
   "source": [
    "- consider makeing the actions stocastic\n",
    "- fix value while dying"
   ]
  },
  {
   "cell_type": "code",
   "execution_count": null,
   "metadata": {
    "collapsed": true
   },
   "outputs": [],
   "source": []
  }
 ],
 "metadata": {
  "kernelspec": {
   "display_name": "Python 3",
   "language": "python",
   "name": "python3"
  },
  "language_info": {
   "codemirror_mode": {
    "name": "ipython",
    "version": 3
   },
   "file_extension": ".py",
   "mimetype": "text/x-python",
   "name": "python",
   "nbconvert_exporter": "python",
   "pygments_lexer": "ipython3",
   "version": "3.4.2"
  }
 },
 "nbformat": 4,
 "nbformat_minor": 0
}
