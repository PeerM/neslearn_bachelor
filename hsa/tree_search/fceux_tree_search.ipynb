{
 "cells": [
  {
   "cell_type": "code",
   "execution_count": 4,
   "metadata": {
    "collapsed": true
   },
   "outputs": [],
   "source": [
    "from extern.fceux_learningenv.nes_python_interface.\\\n",
    "    nes_python_interface import NESInterface\n",
    "from hsa.machine_constants import mario_rom_location"
   ]
  },
  {
   "cell_type": "code",
   "execution_count": 5,
   "metadata": {},
   "outputs": [],
   "source": [
    "nes = NESInterface(mario_rom_location,eb_compatible=False)"
   ]
  },
  {
   "cell_type": "code",
   "execution_count": 6,
   "metadata": {},
   "outputs": [],
   "source": [
    "# nes.act(0)\n",
    "# nes.render()\n",
    "nes.reset_game()\n",
    "nes.render()"
   ]
  },
  {
   "cell_type": "code",
   "execution_count": 34,
   "metadata": {},
   "outputs": [],
   "source": [
    "actions = nes.getMinimalActionSet()\n",
    "breath = len(actions)\n",
    "depth = 32\n",
    "resolution = 16"
   ]
  },
  {
   "cell_type": "code",
   "execution_count": 39,
   "metadata": {},
   "outputs": [],
   "source": [
    "def search():\n",
    "    best_action = 0\n",
    "    best_reward = 0\n",
    "    reward_sum = 0\n",
    "    for itteration in range(depth):\n",
    "        nes.getSnapshot(b\"search\")\n",
    "        for action in actions:\n",
    "            nes.restoreShapshot(b\"search\")\n",
    "            current_reward = sum([nes.act(action) for i in range(resolution)])\n",
    "            if current_reward > best_reward:\n",
    "                best_action = action\n",
    "                best_reward = current_reward\n",
    "        nes.restoreShapshot(b\"search\")\n",
    "        #print(\"Action: {}, Reward: {}\".format(best_action,best_reward))\n",
    "        for i in range(resolution):\n",
    "            reward_sum += nes.act(best_action)\n",
    "            nes.render()\n",
    "        best_action = 0\n",
    "        best_reward = 0\n",
    "    return reward_sum"
   ]
  },
  {
   "cell_type": "code",
   "execution_count": 40,
   "metadata": {},
   "outputs": [
    {
     "data": {
      "text/plain": [
       "1950"
      ]
     },
     "execution_count": 40,
     "metadata": {},
     "output_type": "execute_result"
    }
   ],
   "source": [
    "nes.reset_game()\n",
    "search()"
   ]
  },
  {
   "cell_type": "code",
   "execution_count": 23,
   "metadata": {},
   "outputs": [
    {
     "data": {
      "text/plain": [
       "0"
      ]
     },
     "execution_count": 23,
     "metadata": {},
     "output_type": "execute_result"
    }
   ],
   "source": [
    "search()"
   ]
  },
  {
   "cell_type": "markdown",
   "metadata": {},
   "source": [
    "## deeper search"
   ]
  },
  {
   "cell_type": "code",
   "execution_count": null,
   "metadata": {},
   "outputs": [],
   "source": [
    "def search_treelevel(snapshot_name, depth):\n",
    "    best_actions = None\n",
    "    best_reward = 0\n",
    "    reward_sum = 0\n",
    "    nes.getSnapshot(snapshot_name)\n",
    "    for action in actions:\n",
    "        nes.restoreShapshot(snapshot_name)\n",
    "        if depth != 0:\n",
    "            sub_actions, sub_reward = search_treelevel(snapshot_name + \"-1\", depth=depth - 1)\n",
    "        if depth == 0:\n",
    "            current_reward = sum([nes.act(action) for i in range(resolution)])\n",
    "            if current_reward > best_reward:\n",
    "                best_actions = [action]\n",
    "                best_reward = current_reward\n",
    "        else:\n",
    "            sub_actions, sub_reward = search_treelevel(snapshot_name + \"-1\", depth=depth - 1)\n",
    "            if sub_reward\n",
    "    return (best_actions, best_reward)"
   ]
  },
  {
   "cell_type": "code",
   "execution_count": null,
   "metadata": {},
   "outputs": [],
   "source": [
    "def astar():\n",
    "    \n",
    "    return"
   ]
  }
 ],
 "metadata": {
  "kernelspec": {
   "display_name": "Python 2",
   "language": "python",
   "name": "python2"
  },
  "language_info": {
   "codemirror_mode": {
    "name": "ipython",
    "version": 2.0
   },
   "file_extension": ".py",
   "mimetype": "text/x-python",
   "name": "python",
   "nbconvert_exporter": "python",
   "pygments_lexer": "ipython2",
   "version": "2.7.6"
  }
 },
 "nbformat": 4,
 "nbformat_minor": 0
}